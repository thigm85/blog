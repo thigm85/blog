{
 "cells": [
  {
   "cell_type": "markdown",
   "id": "d88733ee-3b4d-48dc-a468-0e0a406e4d83",
   "metadata": {},
   "source": [
    "# YouTube 8M video-level dataset\n",
    "> Prototyping with video-level features\n",
    "\n",
    "- toc: true \n",
    "- badges: true\n",
    "- comments: true\n",
    "- categories: [youtube 8m, video data, tensorflow]"
   ]
  },
  {
   "cell_type": "markdown",
   "id": "9013d247-cf93-4d58-822e-37cd9b5f61f6",
   "metadata": {},
   "source": [
    "Play around with [Youtube 8M](https://research.google.com/youtube8m/index.html) video-level dataset."
   ]
  },
  {
   "cell_type": "markdown",
   "id": "a8f16ca2-cc80-4949-a003-580e96ec4046",
   "metadata": {
    "tags": []
   },
   "source": [
    "## Requirements"
   ]
  },
  {
   "cell_type": "markdown",
   "id": "3fd8440a-b070-4f6d-8fdb-0a2e62e07870",
   "metadata": {},
   "source": [
    "Use tensorflow 2.6.0 or higher"
   ]
  },
  {
   "cell_type": "code",
   "execution_count": 1,
   "id": "7f8947bf-8951-4fb2-b99e-e2de5b169a50",
   "metadata": {},
   "outputs": [],
   "source": [
    "import tensorflow as tf"
   ]
  },
  {
   "cell_type": "code",
   "execution_count": 2,
   "id": "d8c1a08f-3ef8-4d55-83c0-9ac62d17787a",
   "metadata": {},
   "outputs": [
    {
     "name": "stdout",
     "output_type": "stream",
     "text": [
      "2.6.0\n"
     ]
    }
   ],
   "source": [
    "print(tf.__version__)"
   ]
  },
  {
   "cell_type": "markdown",
   "id": "9b1ffb08-8851-46f4-a97a-1c8f81397372",
   "metadata": {
    "tags": []
   },
   "source": [
    "## Load data"
   ]
  },
  {
   "cell_type": "markdown",
   "id": "fe476bcf-fd70-4f1d-a008-d1032f77f07c",
   "metadata": {},
   "source": [
    "The goal of this section is to create a tf.data.Dataset from a set of `.tfrecords` file. The sample data were downloaded with "
   ]
  },
  {
   "cell_type": "markdown",
   "id": "7ecdd50d-fa03-433a-8206-1ac0c305d2f7",
   "metadata": {},
   "source": [
    "```\n",
    "curl data.yt8m.org/download.py | shard=1,100 partition=2/video/train mirror=us python\n",
    "```"
   ]
  },
  {
   "cell_type": "markdown",
   "id": "1444c4ae-9e38-4bb6-9d33-3155dcaba8b5",
   "metadata": {},
   "source": [
    "per instruction available on the YouTube 8M dataset [download page](https://research.google.com/youtube8m/download.html)."
   ]
  },
  {
   "cell_type": "markdown",
   "id": "8636269d-ed20-40bd-8051-06ea5adc2a69",
   "metadata": {
    "tags": []
   },
   "source": [
    "### Load raw dataset"
   ]
  },
  {
   "cell_type": "markdown",
   "id": "9fdd8061-07bc-4326-b815-c3c3bcd9489a",
   "metadata": {},
   "source": [
    "Import libraries and specify `data_folder`."
   ]
  },
  {
   "cell_type": "code",
   "execution_count": 4,
   "id": "d32ff1f0-728a-4100-ad74-e0cf26169af9",
   "metadata": {},
   "outputs": [],
   "source": [
    "import os\n",
    "import glob\n",
    "from tensorflow.data import TFRecordDataset"
   ]
  },
  {
   "cell_type": "code",
   "execution_count": 12,
   "id": "5117e8ce-20df-4ff8-8e69-f860b4a558e6",
   "metadata": {},
   "outputs": [],
   "source": [
    "data_folder = \"/home/default/video\""
   ]
  },
  {
   "cell_type": "markdown",
   "id": "0e46531a-b1d4-40dc-b699-540fb9cd5878",
   "metadata": {},
   "source": [
    "List `.tfrecord` files to be loaded."
   ]
  },
  {
   "cell_type": "code",
   "execution_count": 14,
   "id": "da3a297b-82f3-4413-b424-6feaf17fed5d",
   "metadata": {},
   "outputs": [
    {
     "name": "stdout",
     "output_type": "stream",
     "text": [
      "/home/default/video/train0093.tfrecord\n",
      "/home/default/video/train3749.tfrecord\n"
     ]
    }
   ],
   "source": [
    "filenames = glob.glob(os.path.join(data_folder, \"*.tfrecord\"))\n",
    "print(filenames[0]); print(filenames[-1])"
   ]
  },
  {
   "cell_type": "markdown",
   "id": "18e7b554-283b-43ab-a7eb-a09b7e526bb3",
   "metadata": {},
   "source": [
    "Load `.tfrecord` files into a raw (not parsed) dataset."
   ]
  },
  {
   "cell_type": "code",
   "execution_count": 15,
   "id": "de00e616-55f0-4a1b-bcec-72e4dda86977",
   "metadata": {},
   "outputs": [],
   "source": [
    "raw_dataset = tf.data.TFRecordDataset(filenames)"
   ]
  },
  {
   "cell_type": "markdown",
   "id": "5dcb7bdf-83f9-469e-81c1-dd923a3af9d0",
   "metadata": {
    "tags": []
   },
   "source": [
    "### Parse raw dataset"
   ]
  },
  {
   "cell_type": "markdown",
   "id": "68523605-a760-4ffc-b08d-160c2630054d",
   "metadata": {},
   "source": [
    "Create a funtion to parse the raw data. According to YouTube 8M dataset [download section](https://research.google.com/youtube8m/download.html), the video-level data are stored as tensorflow.Example protocol buffers with the following text format:"
   ]
  },
  {
   "cell_type": "markdown",
   "id": "6ddbe23b-9327-4f62-aa3f-a8f6267d5a65",
   "metadata": {},
   "source": [
    "```\n",
    "features: {\n",
    "  feature: {\n",
    "    key  : \"id\"\n",
    "    value: {\n",
    "      bytes_list: {\n",
    "        value: (Video id)\n",
    "      }\n",
    "    }\n",
    "  }\n",
    "  feature: {\n",
    "    key  : \"labels\"\n",
    "    value: {\n",
    "      int64_list: {\n",
    "        value: [1, 522, 11, 172]  # label list\n",
    "      }\n",
    "    }\n",
    "  }\n",
    "  feature: {\n",
    "    # Average of all 'rgb' features for the video\n",
    "    key  : \"mean_rgb\"\n",
    "    value: {\n",
    "      float_list: {\n",
    "        value: [1024 float features]\n",
    "      }\n",
    "    }\n",
    "  }\n",
    "  feature: {\n",
    "    # Average of all 'audio' features for the video\n",
    "    key  : \"mean_audio\"\n",
    "    value: {\n",
    "      float_list: {\n",
    "        value: [128 float features]\n",
    "      }\n",
    "    }\n",
    "  }\n",
    "}\n",
    "```"
   ]
  },
  {
   "cell_type": "code",
   "execution_count": 56,
   "id": "0592dc8f-0c80-41b7-ba2d-646a2a8eece9",
   "metadata": {},
   "outputs": [],
   "source": [
    "# Create a description of the features.\n",
    "feature_description = {\n",
    "    'id': tf.io.FixedLenFeature([1], tf.string, default_value=''),\n",
    "    'labels': tf.io.FixedLenSequenceFeature([], tf.int64, default_value=0, allow_missing=True),\n",
    "    'mean_audio': tf.io.FixedLenFeature([128], tf.float32, default_value=[0.0] * 128),    \n",
    "    'mean_rgb': tf.io.FixedLenFeature([1024], tf.float32, default_value=[0.0] * 1024),\n",
    "}\n",
    "\n",
    "def _parse_function(example_proto):\n",
    "  # Parse the input `tf.train.Example` proto using the dictionary above.\n",
    "  return tf.io.parse_single_example(example_proto, feature_description)"
   ]
  },
  {
   "cell_type": "code",
   "execution_count": 57,
   "id": "e8c6f1f0-c2b4-4adc-be68-b7d1a4d62560",
   "metadata": {},
   "outputs": [
    {
     "data": {
      "text/plain": [
       "<MapDataset shapes: {id: (1,), labels: (None,), mean_audio: (128,), mean_rgb: (1024,)}, types: {id: tf.string, labels: tf.int64, mean_audio: tf.float32, mean_rgb: tf.float32}>"
      ]
     },
     "execution_count": 57,
     "metadata": {},
     "output_type": "execute_result"
    }
   ],
   "source": [
    "parsed_dataset = raw_dataset.map(_parse_function)\n",
    "parsed_dataset"
   ]
  },
  {
   "cell_type": "markdown",
   "id": "5ec7d994-c36b-4942-8081-a18b19547832",
   "metadata": {},
   "source": [
    "### Check parsed dataset"
   ]
  },
  {
   "cell_type": "code",
   "execution_count": 59,
   "id": "da101f57-974a-4a35-bbc2-0eb6c8cc324d",
   "metadata": {},
   "outputs": [
    {
     "name": "stdout",
     "output_type": "stream",
     "text": [
      "{'id': <tf.Tensor: shape=(1,), dtype=string, numpy=array([b'eXbF'], dtype=object)>, 'labels': <tf.Tensor: shape=(2,), dtype=int64, numpy=array([ 0, 12])>, 'mean_audio': <tf.Tensor: shape=(128,), dtype=float32, numpy=\n",
      "array([-1.2556146 ,  0.17297305,  0.53898615,  1.5446128 ,  1.4344678 ,\n",
      "        0.41190457,  1.2042887 ,  0.9899097 , -0.28567997,  1.1892846 ,\n",
      "        0.6182132 , -0.54916394, -0.02003632,  0.7124445 , -1.275734  ,\n",
      "       -1.0121363 ,  0.8652152 ,  0.45430297, -0.5905393 , -0.8244694 ,\n",
      "        0.95853716,  0.379509  , -1.1317158 ,  0.46737486,  1.3991169 ,\n",
      "       -0.4367456 , -0.287044  , -0.7412639 ,  0.5608105 ,  0.9686536 ,\n",
      "        0.36370906,  0.15887815,  1.1279035 , -0.08369077, -0.20577091,\n",
      "       -1.467152  , -0.9784904 ,  0.44680086,  1.1796227 ,  0.14648826,\n",
      "        1.3656982 ,  0.12989263, -0.9865609 , -1.2897152 ,  0.6123024 ,\n",
      "        0.1184121 ,  0.49931577, -1.1900278 ,  0.0516886 ,  0.16899465,\n",
      "       -1.0225939 , -0.6807922 , -1.1495618 ,  0.5336437 , -0.10267343,\n",
      "       -0.14041142, -0.20417954,  0.37166587,  0.56979036,  0.7668918 ,\n",
      "        0.17683779, -0.4835771 ,  0.188432  ,  0.948989  ,  0.59286505,\n",
      "        0.7839421 , -0.29659215,  0.06305546,  0.13159767,  1.1180142 ,\n",
      "        0.85737205,  1.5399523 , -0.28511164, -0.49676266,  0.21741751,\n",
      "       -0.85834265,  0.88090146, -0.7543358 ,  0.4161103 , -0.19713208,\n",
      "       -0.13404599,  0.9562638 ,  0.3493868 ,  0.9435329 , -0.8736879 ,\n",
      "       -0.2188428 , -0.2544211 ,  0.24140158,  0.31994662,  0.69403017,\n",
      "       -1.1273963 , -0.801281  ,  0.04793753, -0.69943386,  0.8120182 ,\n",
      "       -0.28852168, -0.16166747,  0.94978464, -1.2834635 ,  0.32062864,\n",
      "       -0.66567427,  1.2626008 , -1.583094  , -0.97621703,  1.3589919 ,\n",
      "        0.43338794, -0.5152907 , -1.63595   , -0.4190133 , -0.16496386,\n",
      "       -0.81412554, -0.22532192, -0.28386128, -0.4277658 , -0.7794566 ,\n",
      "        0.16581193, -1.0593089 , -0.03117585,  0.0952237 ,  1.1476818 ,\n",
      "       -0.28931737, -0.7578596 , -0.48096272,  0.36552775,  0.35063717,\n",
      "        0.5677443 ,  1.4371959 ,  0.81667864], dtype=float32)>, 'mean_rgb': <tf.Tensor: shape=(1024,), dtype=float32, numpy=\n",
      "array([ 0.5198898 ,  0.30175963, -0.5135856 , ...,  0.44089007,\n",
      "        0.398037  , -0.48050806], dtype=float32)>}\n"
     ]
    }
   ],
   "source": [
    "for parsed_record in parsed_dataset.take(1):\n",
    "  print(repr(parsed_record))"
   ]
  }
 ],
 "metadata": {
  "kernelspec": {
   "display_name": "Python 3",
   "language": "python",
   "name": "python3"
  },
  "language_info": {
   "codemirror_mode": {
    "name": "ipython",
    "version": 3
   },
   "file_extension": ".py",
   "mimetype": "text/x-python",
   "name": "python",
   "nbconvert_exporter": "python",
   "pygments_lexer": "ipython3",
   "version": "3.6.8"
  }
 },
 "nbformat": 4,
 "nbformat_minor": 5
}
