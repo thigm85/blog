{
 "cells": [
  {
   "cell_type": "markdown",
   "metadata": {},
   "source": [
    "## Connect to Vespa instance"
   ]
  },
  {
   "cell_type": "markdown",
   "metadata": {},
   "source": [
    "Connect to a running Vespa instance:"
   ]
  },
  {
   "cell_type": "code",
   "execution_count": null,
   "metadata": {},
   "outputs": [],
   "source": [
    "app = Vespa(url = \"http://localhost\", port = 8080)"
   ]
  },
  {
   "cell_type": "markdown",
   "metadata": {},
   "source": [
    "Assume the Vespa instance has a Schema called `msmarco` with the following fields:"
   ]
  },
  {
   "cell_type": "code",
   "execution_count": null,
   "metadata": {},
   "outputs": [],
   "source": [
    "document = Document(\n",
    "    fields=[\n",
    "        Field(name=\"id\", type=\"string\", indexing=[\"attribute\", \"summary\"]),\n",
    "        Field(\n",
    "            name=\"title\",\n",
    "            type=\"string\",\n",
    "            indexing=[\"index\", \"summary\"],\n",
    "            index=\"enable-bm25\",\n",
    "        ),\n",
    "        Field(\n",
    "            name=\"body\",\n",
    "            type=\"string\",\n",
    "            indexing=[\"index\", \"summary\"],\n",
    "            index=\"enable-bm25\",\n",
    "        ),\n",
    "    ]\n",
    ")"
   ]
  },
  {
   "cell_type": "markdown",
   "metadata": {},
   "source": [
    "## Data operations"
   ]
  },
  {
   "cell_type": "markdown",
   "metadata": {},
   "source": [
    "### Feed data"
   ]
  },
  {
   "cell_type": "code",
   "execution_count": null,
   "metadata": {},
   "outputs": [],
   "source": [
    "response = app.feed_data_point(\n",
    "    schema=\"msmarco\",\n",
    "    data_id=\"1\",\n",
    "    fields={\n",
    "        \"id\": \"1\",\n",
    "        \"title\": \"this is my first title\",\n",
    "        \"body\": \"this is my first body\",\n",
    "    },\n",
    ")\n",
    "assert response.json()[\"id\"] == \"id:msmarco:msmarco::1\""
   ]
  },
  {
   "cell_type": "markdown",
   "metadata": {},
   "source": [
    "### Get data"
   ]
  },
  {
   "cell_type": "code",
   "execution_count": null,
   "metadata": {},
   "outputs": [],
   "source": [
    "response = app.get_data(schema=\"msmarco\", data_id=\"1\")\n",
    "\n",
    "expected_data = {\n",
    "    \"fields\": {\n",
    "        \"id\": \"1\",\n",
    "        \"title\": \"this is my first title\",\n",
    "        \"body\": \"this is my first body\",\n",
    "    },\n",
    "    \"id\": \"id:msmarco:msmarco::1\",\n",
    "    \"pathId\": \"/document/v1/msmarco/msmarco/docid/1\"\n",
    "}\n",
    "\n",
    "assert response.status_code == 200\n",
    "assert response.json() == expected_data"
   ]
  },
  {
   "cell_type": "markdown",
   "metadata": {},
   "source": [
    "### Update data"
   ]
  },
  {
   "cell_type": "code",
   "execution_count": null,
   "metadata": {},
   "outputs": [],
   "source": [
    "response = app.update_data(\n",
    "    schema=\"msmarco\", data_id=\"1\", fields={\"title\": \"this is my updated title\"}\n",
    ")\n",
    "\n",
    "assert response.json()[\"id\"] == \"id:msmarco:msmarco::1\""
   ]
  },
  {
   "cell_type": "markdown",
   "metadata": {},
   "source": [
    "### Delete data"
   ]
  },
  {
   "cell_type": "code",
   "execution_count": null,
   "metadata": {},
   "outputs": [],
   "source": [
    "response = app.delete_data(schema=\"msmarco\", data_id=\"1\")\n",
    "\n",
    "assert response.json()[\"id\"] == \"id:msmarco:msmarco::1\""
   ]
  }
 ],
 "metadata": {
  "kernelspec": {
   "display_name": "Python 3",
   "language": "python",
   "name": "python3"
  },
  "language_info": {
   "codemirror_mode": {
    "name": "ipython",
    "version": 3
   },
   "file_extension": ".py",
   "mimetype": "text/x-python",
   "name": "python",
   "nbconvert_exporter": "python",
   "pygments_lexer": "ipython3",
   "version": "3.8.5"
  }
 },
 "nbformat": 4,
 "nbformat_minor": 4
}
