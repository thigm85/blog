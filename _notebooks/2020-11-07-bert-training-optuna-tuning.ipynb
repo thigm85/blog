{
 "cells": [
  {
   "cell_type": "markdown",
   "metadata": {
    "id": "53QAC3kAkbUk"
   },
   "source": [
    "# Fine-tuning a BERT model for search applications with Optuna tuning\n",
    "\n",
    "> Fine-tune BERT models using Optuna for hyperparameter tuning \n",
    "\n",
    "- toc: true \n",
    "- badges: true\n",
    "- comments: true\n",
    "- categories: [search, cord19, BERT, transformers, optuna]"
   ]
  },
  {
   "cell_type": "markdown",
   "metadata": {},
   "source": [
    "## In case running on Google Colab "
   ]
  },
  {
   "cell_type": "markdown",
   "metadata": {},
   "source": [
    "Mount your Google Drive to be able to load and save data to it."
   ]
  },
  {
   "cell_type": "code",
   "execution_count": null,
   "metadata": {
    "colab": {
     "base_uri": "https://localhost:8080/"
    },
    "id": "bt1kD_mYkluR",
    "outputId": "0271362d-eb2a-4eb1-e24c-6fac11299ac8"
   },
   "outputs": [
    {
     "name": "stdout",
     "output_type": "stream",
     "text": [
      "Mounted at /content/drive\n"
     ]
    }
   ],
   "source": [
    "from google.colab import drive\n",
    "drive.mount('/content/drive')"
   ]
  },
  {
   "cell_type": "markdown",
   "metadata": {},
   "source": [
    "Install libraries used in this post."
   ]
  },
  {
   "cell_type": "code",
   "execution_count": null,
   "metadata": {
    "colab": {
     "base_uri": "https://localhost:8080/"
    },
    "id": "yPxh69AUkod3",
    "outputId": "27a6d0bb-5be4-4a76-ff90-197a7e26d36e"
   },
   "outputs": [],
   "source": [
    "!pip install transformers torch onnxruntime optuna"
   ]
  },
  {
   "cell_type": "markdown",
   "metadata": {
    "id": "KD-2DkgpkbUk"
   },
   "source": [
    "## Prepare the dataset"
   ]
  },
  {
   "cell_type": "markdown",
   "metadata": {},
   "source": [
    "### Load the data"
   ]
  },
  {
   "cell_type": "markdown",
   "metadata": {
    "id": "YXo_qfOZkbUl"
   },
   "source": [
    "In order to fine-tune the BERT models for the cord19 application we need to generate a set of query-document features as well as labels that indicate which documents are relevant for the specific queries. For this exercise we will use the `query` string to represent the query and the `title` string to represent the documents."
   ]
  },
  {
   "cell_type": "markdown",
   "metadata": {
    "id": "_AWZYDO_kbUl"
   },
   "source": [
    "The file `labelled_data.json` contains information about the `query` string and the file `training_all_judgement_data.csv` contain information about labels and `title` string. Those files were created and covered elsewhere but you can download them [here](https://drive.google.com/file/d/1R2hZTF6QBKPMaiuS4Du6aXQlBVnfZOAA/view?usp=sharing) and [here](https://drive.google.com/file/d/18jNRM7G7agbO1Mg9t0l1pvqsz-qwEXpz/view?usp=sharing)."
   ]
  },
  {
   "cell_type": "code",
   "execution_count": null,
   "metadata": {
    "id": "QbyYdnf2kbUm"
   },
   "outputs": [],
   "source": [
    "import json\n",
    "from pandas import read_csv\n",
    "\n",
    "labelled_data = json.load(open(\"/content/drive/My Drive/cord19/labelled_data_all.json\", \"r\"))\n",
    "training_data = read_csv(\"/content/drive/My Drive/cord19/training_all_jugdments_data.csv\")"
   ]
  },
  {
   "cell_type": "markdown",
   "metadata": {
    "id": "KaZiEl5JkbUp"
   },
   "source": [
    "`training_data` has almost everything we need, except the `query` string."
   ]
  },
  {
   "cell_type": "code",
   "execution_count": null,
   "metadata": {
    "colab": {
     "base_uri": "https://localhost:8080/",
     "height": 204
    },
    "id": "GPZ2eKcckbUp",
    "outputId": "9704f25c-5cf6-4dbc-dd8b-1f493ccd9ee7"
   },
   "outputs": [
    {
     "data": {
      "text/html": [
       "<div>\n",
       "<style scoped>\n",
       "    .dataframe tbody tr th:only-of-type {\n",
       "        vertical-align: middle;\n",
       "    }\n",
       "\n",
       "    .dataframe tbody tr th {\n",
       "        vertical-align: top;\n",
       "    }\n",
       "\n",
       "    .dataframe thead th {\n",
       "        text-align: right;\n",
       "    }\n",
       "</style>\n",
       "<table border=\"1\" class=\"dataframe\">\n",
       "  <thead>\n",
       "    <tr style=\"text-align: right;\">\n",
       "      <th></th>\n",
       "      <th>document_id</th>\n",
       "      <th>query_id</th>\n",
       "      <th>label</th>\n",
       "      <th>title-full</th>\n",
       "    </tr>\n",
       "  </thead>\n",
       "  <tbody>\n",
       "    <tr>\n",
       "      <th>0</th>\n",
       "      <td>005b2j4b</td>\n",
       "      <td>1</td>\n",
       "      <td>2</td>\n",
       "      <td>Monophyletic Relationship between Severe Acute...</td>\n",
       "    </tr>\n",
       "    <tr>\n",
       "      <th>1</th>\n",
       "      <td>00fmeepz</td>\n",
       "      <td>1</td>\n",
       "      <td>1</td>\n",
       "      <td>Comprehensive overview of COVID-19 based on cu...</td>\n",
       "    </tr>\n",
       "    <tr>\n",
       "      <th>2</th>\n",
       "      <td>010vptx3</td>\n",
       "      <td>1</td>\n",
       "      <td>2</td>\n",
       "      <td>The SARS, MERS and novel coronavirus (COVID-19...</td>\n",
       "    </tr>\n",
       "    <tr>\n",
       "      <th>3</th>\n",
       "      <td>0194oljo</td>\n",
       "      <td>1</td>\n",
       "      <td>1</td>\n",
       "      <td>Evidence for zoonotic origins of Middle East r...</td>\n",
       "    </tr>\n",
       "    <tr>\n",
       "      <th>4</th>\n",
       "      <td>021q9884</td>\n",
       "      <td>1</td>\n",
       "      <td>1</td>\n",
       "      <td>Deadly virus effortlessly hops species</td>\n",
       "    </tr>\n",
       "  </tbody>\n",
       "</table>\n",
       "</div>"
      ],
      "text/plain": [
       "  document_id  ...                                         title-full\n",
       "0    005b2j4b  ...  Monophyletic Relationship between Severe Acute...\n",
       "1    00fmeepz  ...  Comprehensive overview of COVID-19 based on cu...\n",
       "2    010vptx3  ...  The SARS, MERS and novel coronavirus (COVID-19...\n",
       "3    0194oljo  ...  Evidence for zoonotic origins of Middle East r...\n",
       "4    021q9884  ...             Deadly virus effortlessly hops species\n",
       "\n",
       "[5 rows x 4 columns]"
      ]
     },
     "execution_count": 5,
     "metadata": {
      "tags": []
     },
     "output_type": "execute_result"
    }
   ],
   "source": [
    "training_data.head()"
   ]
  },
  {
   "cell_type": "markdown",
   "metadata": {
    "id": "kbgKd9A-kbUs"
   },
   "source": [
    "The query string can be obtained from the `labelled_data`."
   ]
  },
  {
   "cell_type": "code",
   "execution_count": null,
   "metadata": {
    "colab": {
     "base_uri": "https://localhost:8080/"
    },
    "id": "h0YFN8eUkbUs",
    "outputId": "8bd51d50-291c-4e34-f5d7-ef4788ef91f5"
   },
   "outputs": [
    {
     "name": "stdout",
     "output_type": "stream",
     "text": [
      "1 coronavirus origin\n"
     ]
    }
   ],
   "source": [
    "print(labelled_data[0][\"query_id\"], labelled_data[0][\"query\"])"
   ]
  },
  {
   "cell_type": "markdown",
   "metadata": {
    "id": "r9t-74y-kbUv"
   },
   "source": [
    "### Compatible BERT encodings"
   ]
  },
  {
   "cell_type": "markdown",
   "metadata": {
    "id": "jQ-q2Fc4kbUv"
   },
   "source": [
    "Since we are training a model that will be deployed in a search application, we need to ensure that the training encodings are compatible with encodings used at serving time. At serving time, document encodings will be applied offline when feeding the documents to the search engine while the query encoding will be applied at run-time upon arrival of the query. In addition, it might be relevant to use different maximum length for queries and documents."
   ]
  },
  {
   "cell_type": "code",
   "execution_count": null,
   "metadata": {
    "id": "2F_OLj-8kbUv"
   },
   "outputs": [],
   "source": [
    "def create_bert_encodings(queries, docs, tokenizer, query_input_size, doc_input_size):\n",
    "    queries_encodings = tokenizer(\n",
    "        queries, truncation=True, max_length=query_input_size-2, add_special_tokens=False\n",
    "    )\n",
    "    docs_encodings = tokenizer(\n",
    "        docs, truncation=True, max_length=doc_input_size-1, add_special_tokens=False\n",
    "    )\n",
    "    \n",
    "    TOKEN_NONE=0\n",
    "    TOKEN_CLS=101\n",
    "    TOKEN_SEP=102\n",
    "\n",
    "    input_ids = []\n",
    "    token_type_ids = []\n",
    "    attention_mask = []\n",
    "    for query_input_ids, doc_input_ids in zip(queries_encodings[\"input_ids\"], docs_encodings[\"input_ids\"]):\n",
    "        # create input id\n",
    "        input_id = [TOKEN_CLS] + query_input_ids + [TOKEN_SEP] + doc_input_ids + [TOKEN_SEP]\n",
    "        number_tokens = len(input_id)\n",
    "        padding_length = max(128 - number_tokens, 0)\n",
    "        input_id = input_id + [TOKEN_NONE] * padding_length\n",
    "        input_ids.append(input_id)\n",
    "        # create token id\n",
    "        token_type_id = [0] * len([TOKEN_CLS] + query_input_ids + [TOKEN_SEP]) + [1] * len(doc_input_ids + [TOKEN_SEP]) + [TOKEN_NONE] * padding_length\n",
    "        token_type_ids.append(token_type_id)\n",
    "        # create attention_mask\n",
    "        attention_mask.append([1] * number_tokens + [TOKEN_NONE] * padding_length)\n",
    "\n",
    "    encodings = {\n",
    "        \"input_ids\": input_ids,\n",
    "        \"token_type_ids\": token_type_ids,\n",
    "        \"attention_mask\": attention_mask\n",
    "    }\n",
    "    return encodings"
   ]
  },
  {
   "cell_type": "markdown",
   "metadata": {
    "id": "4Y8MzA_lkbUx"
   },
   "source": [
    "### Create Datasets"
   ]
  },
  {
   "cell_type": "markdown",
   "metadata": {
    "id": "UkFHm14vkbUy"
   },
   "source": [
    "Create a list for queries (represented by the query string), docs (represented by the doc titles) and labels from the `labelled_data` and `training_data` that we loaded earlier."
   ]
  },
  {
   "cell_type": "code",
   "execution_count": null,
   "metadata": {
    "id": "Yg6rCjSikbUy"
   },
   "outputs": [],
   "source": [
    "train_queries = []\n",
    "train_docs = []\n",
    "train_labels = []\n",
    "for data_point in labelled_data:\n",
    "    query_id = data_point[\"query_id\"]\n",
    "    titles = training_data[training_data[\"query_id\"] == query_id][\"title-full\"].tolist()\n",
    "    train_docs.extend(titles)\n",
    "    train_labels.extend([1 if x > 0 else 0 for x in training_data[training_data[\"query_id\"] == query_id][\"label\"].tolist()])\n",
    "    query = data_point[\"query\"]\n",
    "    train_queries.extend([query] * len(titles))"
   ]
  },
  {
   "cell_type": "markdown",
   "metadata": {
    "id": "aaXZYxfikbU1"
   },
   "source": [
    "We are going to use a simple data split into train and validation sets for illustration purposes. The cord19 use case probably needs cross-validation to be used since it has only 50 queries containing relevance judgement."
   ]
  },
  {
   "cell_type": "code",
   "execution_count": null,
   "metadata": {
    "id": "C-2ylx6WkbU1"
   },
   "outputs": [],
   "source": [
    "from sklearn.model_selection import train_test_split\n",
    "train_queries, val_queries, train_docs, val_docs, train_labels, val_labels = train_test_split(\n",
    "    train_queries, train_docs, train_labels, test_size=.2\n",
    ")"
   ]
  },
  {
   "cell_type": "markdown",
   "metadata": {
    "id": "T3ny1qimkbU3"
   },
   "source": [
    "Create train and validation encodings. In order to do that we need to chose which BERT model to use, and the maximum size used for the resulting query and document vector."
   ]
  },
  {
   "cell_type": "code",
   "execution_count": null,
   "metadata": {
    "id": "fnroQupakbU3"
   },
   "outputs": [],
   "source": [
    "model_name = \"google/bert_uncased_L-4_H-512_A-8\"\n",
    "query_input_size=24\n",
    "doc_input_size=64"
   ]
  },
  {
   "cell_type": "code",
   "execution_count": null,
   "metadata": {
    "colab": {
     "base_uri": "https://localhost:8080/",
     "height": 66,
     "referenced_widgets": [
      "47f36ef2ccc4478a992dfec402b31f26",
      "c8a1744c21884bd79f9417e2b4975ee1",
      "16fe92ebfdbd4dcbb21a854c9dbf23b2",
      "59f8f75ad4af48aea7f4beae50f747b1",
      "a6e07f456d934b95af3d47a6ec727139",
      "e78d46e114d5488da8bb7da99ad30667",
      "720306211d054294b654aa8641011c0a",
      "e5d90277ef0944818b3966a78e209fab"
     ]
    },
    "id": "tixgo8UjkbU5",
    "outputId": "a74b190c-340e-4451-9a7a-da4aa9c30746"
   },
   "outputs": [],
   "source": [
    "from transformers import BertTokenizerFast\n",
    "tokenizer = BertTokenizerFast.from_pretrained(model_name)\n",
    "\n",
    "train_encodings = create_bert_encodings(\n",
    "    queries=train_queries, \n",
    "    docs=train_docs, \n",
    "    tokenizer=tokenizer, \n",
    "    query_input_size=query_input_size, \n",
    "    doc_input_size=doc_input_size\n",
    ")\n",
    "\n",
    "val_encodings = create_bert_encodings(\n",
    "    queries=val_queries, \n",
    "    docs=val_docs, \n",
    "    tokenizer=tokenizer, \n",
    "    query_input_size=query_input_size, \n",
    "    doc_input_size=doc_input_size\n",
    ")"
   ]
  },
  {
   "cell_type": "markdown",
   "metadata": {
    "id": "N1EZOABNkbU-"
   },
   "source": [
    "Now that we have the encodings and the labels we can create a `Dataset` object as described in the transformers webpage about [custom datasets](https://huggingface.co/transformers/custom_datasets.html)."
   ]
  },
  {
   "cell_type": "code",
   "execution_count": null,
   "metadata": {
    "id": "jGmtZavykbU-"
   },
   "outputs": [],
   "source": [
    "import torch\n",
    "\n",
    "class Cord19Dataset(torch.utils.data.Dataset):\n",
    "    def __init__(self, encodings, labels):\n",
    "        self.encodings = encodings\n",
    "        self.labels = labels\n",
    "\n",
    "    def __getitem__(self, idx):\n",
    "        item = {key: torch.tensor(val[idx]) for key, val in self.encodings.items()}\n",
    "        item['labels'] = torch.tensor(self.labels[idx])\n",
    "        return item\n",
    "\n",
    "    def __len__(self):\n",
    "        return len(self.labels)\n",
    "\n",
    "train_dataset = Cord19Dataset(train_encodings, train_labels)\n",
    "val_dataset = Cord19Dataset(val_encodings, val_labels)"
   ]
  },
  {
   "cell_type": "markdown",
   "metadata": {
    "id": "RHNlTilokbVA"
   },
   "source": [
    "### Fine-tune the BERT model"
   ]
  },
  {
   "cell_type": "markdown",
   "metadata": {
    "id": "YbubqI8EkbVA"
   },
   "source": [
    "We can then fine-tune the model (only task specific weights). \n"
   ]
  },
  {
   "cell_type": "markdown",
   "metadata": {
    "id": "xIojfUjkdkV-"
   },
   "source": [
    "Define accuracy metric."
   ]
  },
  {
   "cell_type": "code",
   "execution_count": null,
   "metadata": {
    "id": "GkU3-ky1m4Pm"
   },
   "outputs": [],
   "source": [
    "from transformers import EvalPrediction\n",
    "import numpy as np\n",
    "\n",
    "def compute_metrics(p: EvalPrediction):\n",
    "    preds = p.predictions[0] if isinstance(p.predictions, tuple) else p.predictions\n",
    "    preds = np.argmax(preds, axis=1)\n",
    "    return {\"accuracy\": (preds == p.label_ids).astype(np.float32).mean().item()}"
   ]
  },
  {
   "cell_type": "markdown",
   "metadata": {
    "id": "RRNfIIYcdzJ4"
   },
   "source": [
    "Hyperparameter tunning with Optuna."
   ]
  },
  {
   "cell_type": "code",
   "execution_count": null,
   "metadata": {
    "colab": {
     "base_uri": "https://localhost:8080/",
     "height": 368
    },
    "id": "CxJ6OzCqkbVB",
    "outputId": "d2e1665d-a377-4ddf-bcba-64ce53909c2c"
   },
   "outputs": [],
   "source": [
    "from transformers import BertForSequenceClassification, Trainer, TrainingArguments\n",
    "\n",
    "training_args = TrainingArguments(\n",
    "    output_dir='/content/results',    # output directory\n",
    "    #evaluation_strategy=\"epoch\",     # Evaluation is done at the end of each epoch.\n",
    "    evaluation_strategy=\"steps\",      # Evaluation is done (and logged) every eval_steps.\n",
    "    eval_steps=1000,                  # Number of update steps between two evaluations \n",
    "    per_device_eval_batch_size=64,    # batch size for evaluation\n",
    "    save_total_limit=1,               # limit the total amount of checkpoints. Deletes the older checkpoints.\n",
    ")\n",
    "\n",
    "def model_init():\n",
    "    model = BertForSequenceClassification.from_pretrained(model_name)\n",
    "    for param in model.base_model.parameters():\n",
    "        param.requires_grad = False\n",
    "    return model\n",
    "\n",
    "trainer = Trainer(\n",
    "    args=training_args,                  # training arguments, defined above\n",
    "    train_dataset=train_dataset,         # training dataset\n",
    "    eval_dataset=val_dataset,            # evaluation dataset\n",
    "    compute_metrics=compute_metrics,     # metrics to be computed\n",
    "    model_init=model_init                # Instantiate model before training starts\n",
    ")\n",
    "\n",
    "def my_hp_space(trial):\n",
    "    return {\n",
    "        \"learning_rate\": trial.suggest_float(\"learning_rate\", 1e-4, 1e-2, log=True),\n",
    "        \"num_train_epochs\": trial.suggest_int(\"num_train_epochs\", 1, 20),\n",
    "        \"seed\": trial.suggest_int(\"seed\", 1, 40),\n",
    "        \"per_device_train_batch_size\": trial.suggest_categorical(\"per_device_train_batch_size\", [4, 8, 16, 32, 64]),\n",
    "    }\n",
    "def my_objective(metrics):\n",
    "    return metrics[\"eval_loss\"]\n",
    "\n",
    "best_run = trainer.hyperparameter_search(direction=\"minimize\", hp_space=my_hp_space, compute_objective=my_objective, n_trials=100)\n",
    "\n",
    "with open(\"/content/drive/My Drive/cord19/best_run.json\", \"w+\") as f:\n",
    "  f.write(json.dumps(best_run.hyperparameters))"
   ]
  },
  {
   "cell_type": "markdown",
   "metadata": {},
   "source": [
    "Inspect best parameters"
   ]
  },
  {
   "cell_type": "code",
   "execution_count": null,
   "metadata": {
    "id": "VXV67Z0YTTr2"
   },
   "outputs": [],
   "source": [
    "best_run.hyperparameters"
   ]
  },
  {
   "cell_type": "markdown",
   "metadata": {},
   "source": [
    "Retrain using the best parameters and the entire dataset (need to create `complete_dataset`)"
   ]
  },
  {
   "cell_type": "code",
   "execution_count": null,
   "metadata": {
    "id": "3ESccrhRWW4q"
   },
   "outputs": [],
   "source": [
    "training_args = TrainingArguments(\n",
    "    output_dir='/content/results',   # output directory\n",
    "    evaluation_strategy=\"epoch\",     # Evaluation is done at the end of each epoch.\n",
    "    per_device_eval_batch_size=64,   # batch size for evaluation\n",
    "    save_total_limit=2,              # limit the total amount of checkpoints. Deletes the older checkpoints.\n",
    "    **best_run.hyperparameters    \n",
    ")\n",
    "\n",
    "trainer = Trainer(\n",
    "    args=training_args,                  # training arguments, defined above\n",
    "    train_dataset=complte_dataset,       # training dataset\n",
    "    compute_metrics=compute_metrics,     # metrics to be computed\n",
    "    model_init=model_init                # Instantiate model before training starts\n",
    ")\n",
    "\n",
    "trainer.train()"
   ]
  }
 ],
 "metadata": {
  "accelerator": "GPU",
  "colab": {
   "name": "cord19_bert_training_training_args.ipynb",
   "provenance": []
  },
  "kernelspec": {
   "display_name": "Python 3",
   "language": "python",
   "name": "python3"
  },
  "language_info": {
   "codemirror_mode": {
    "name": "ipython",
    "version": 3
   },
   "file_extension": ".py",
   "mimetype": "text/x-python",
   "name": "python",
   "nbconvert_exporter": "python",
   "pygments_lexer": "ipython3",
   "version": "3.8.5"
  },
  "widgets": {
   "application/vnd.jupyter.widget-state+json": {
    "16fe92ebfdbd4dcbb21a854c9dbf23b2": {
     "model_module": "@jupyter-widgets/controls",
     "model_name": "FloatProgressModel",
     "state": {
      "_dom_classes": [],
      "_model_module": "@jupyter-widgets/controls",
      "_model_module_version": "1.5.0",
      "_model_name": "FloatProgressModel",
      "_view_count": null,
      "_view_module": "@jupyter-widgets/controls",
      "_view_module_version": "1.5.0",
      "_view_name": "ProgressView",
      "bar_style": "success",
      "description": "Downloading: 100%",
      "description_tooltip": null,
      "layout": "IPY_MODEL_e78d46e114d5488da8bb7da99ad30667",
      "max": 231508,
      "min": 0,
      "orientation": "horizontal",
      "style": "IPY_MODEL_a6e07f456d934b95af3d47a6ec727139",
      "value": 231508
     }
    },
    "47f36ef2ccc4478a992dfec402b31f26": {
     "model_module": "@jupyter-widgets/controls",
     "model_name": "HBoxModel",
     "state": {
      "_dom_classes": [],
      "_model_module": "@jupyter-widgets/controls",
      "_model_module_version": "1.5.0",
      "_model_name": "HBoxModel",
      "_view_count": null,
      "_view_module": "@jupyter-widgets/controls",
      "_view_module_version": "1.5.0",
      "_view_name": "HBoxView",
      "box_style": "",
      "children": [
       "IPY_MODEL_16fe92ebfdbd4dcbb21a854c9dbf23b2",
       "IPY_MODEL_59f8f75ad4af48aea7f4beae50f747b1"
      ],
      "layout": "IPY_MODEL_c8a1744c21884bd79f9417e2b4975ee1"
     }
    },
    "59f8f75ad4af48aea7f4beae50f747b1": {
     "model_module": "@jupyter-widgets/controls",
     "model_name": "HTMLModel",
     "state": {
      "_dom_classes": [],
      "_model_module": "@jupyter-widgets/controls",
      "_model_module_version": "1.5.0",
      "_model_name": "HTMLModel",
      "_view_count": null,
      "_view_module": "@jupyter-widgets/controls",
      "_view_module_version": "1.5.0",
      "_view_name": "HTMLView",
      "description": "",
      "description_tooltip": null,
      "layout": "IPY_MODEL_e5d90277ef0944818b3966a78e209fab",
      "placeholder": "​",
      "style": "IPY_MODEL_720306211d054294b654aa8641011c0a",
      "value": " 232k/232k [00:01&lt;00:00, 152kB/s]"
     }
    },
    "720306211d054294b654aa8641011c0a": {
     "model_module": "@jupyter-widgets/controls",
     "model_name": "DescriptionStyleModel",
     "state": {
      "_model_module": "@jupyter-widgets/controls",
      "_model_module_version": "1.5.0",
      "_model_name": "DescriptionStyleModel",
      "_view_count": null,
      "_view_module": "@jupyter-widgets/base",
      "_view_module_version": "1.2.0",
      "_view_name": "StyleView",
      "description_width": ""
     }
    },
    "a6e07f456d934b95af3d47a6ec727139": {
     "model_module": "@jupyter-widgets/controls",
     "model_name": "ProgressStyleModel",
     "state": {
      "_model_module": "@jupyter-widgets/controls",
      "_model_module_version": "1.5.0",
      "_model_name": "ProgressStyleModel",
      "_view_count": null,
      "_view_module": "@jupyter-widgets/base",
      "_view_module_version": "1.2.0",
      "_view_name": "StyleView",
      "bar_color": null,
      "description_width": "initial"
     }
    },
    "c8a1744c21884bd79f9417e2b4975ee1": {
     "model_module": "@jupyter-widgets/base",
     "model_name": "LayoutModel",
     "state": {
      "_model_module": "@jupyter-widgets/base",
      "_model_module_version": "1.2.0",
      "_model_name": "LayoutModel",
      "_view_count": null,
      "_view_module": "@jupyter-widgets/base",
      "_view_module_version": "1.2.0",
      "_view_name": "LayoutView",
      "align_content": null,
      "align_items": null,
      "align_self": null,
      "border": null,
      "bottom": null,
      "display": null,
      "flex": null,
      "flex_flow": null,
      "grid_area": null,
      "grid_auto_columns": null,
      "grid_auto_flow": null,
      "grid_auto_rows": null,
      "grid_column": null,
      "grid_gap": null,
      "grid_row": null,
      "grid_template_areas": null,
      "grid_template_columns": null,
      "grid_template_rows": null,
      "height": null,
      "justify_content": null,
      "justify_items": null,
      "left": null,
      "margin": null,
      "max_height": null,
      "max_width": null,
      "min_height": null,
      "min_width": null,
      "object_fit": null,
      "object_position": null,
      "order": null,
      "overflow": null,
      "overflow_x": null,
      "overflow_y": null,
      "padding": null,
      "right": null,
      "top": null,
      "visibility": null,
      "width": null
     }
    },
    "e5d90277ef0944818b3966a78e209fab": {
     "model_module": "@jupyter-widgets/base",
     "model_name": "LayoutModel",
     "state": {
      "_model_module": "@jupyter-widgets/base",
      "_model_module_version": "1.2.0",
      "_model_name": "LayoutModel",
      "_view_count": null,
      "_view_module": "@jupyter-widgets/base",
      "_view_module_version": "1.2.0",
      "_view_name": "LayoutView",
      "align_content": null,
      "align_items": null,
      "align_self": null,
      "border": null,
      "bottom": null,
      "display": null,
      "flex": null,
      "flex_flow": null,
      "grid_area": null,
      "grid_auto_columns": null,
      "grid_auto_flow": null,
      "grid_auto_rows": null,
      "grid_column": null,
      "grid_gap": null,
      "grid_row": null,
      "grid_template_areas": null,
      "grid_template_columns": null,
      "grid_template_rows": null,
      "height": null,
      "justify_content": null,
      "justify_items": null,
      "left": null,
      "margin": null,
      "max_height": null,
      "max_width": null,
      "min_height": null,
      "min_width": null,
      "object_fit": null,
      "object_position": null,
      "order": null,
      "overflow": null,
      "overflow_x": null,
      "overflow_y": null,
      "padding": null,
      "right": null,
      "top": null,
      "visibility": null,
      "width": null
     }
    },
    "e78d46e114d5488da8bb7da99ad30667": {
     "model_module": "@jupyter-widgets/base",
     "model_name": "LayoutModel",
     "state": {
      "_model_module": "@jupyter-widgets/base",
      "_model_module_version": "1.2.0",
      "_model_name": "LayoutModel",
      "_view_count": null,
      "_view_module": "@jupyter-widgets/base",
      "_view_module_version": "1.2.0",
      "_view_name": "LayoutView",
      "align_content": null,
      "align_items": null,
      "align_self": null,
      "border": null,
      "bottom": null,
      "display": null,
      "flex": null,
      "flex_flow": null,
      "grid_area": null,
      "grid_auto_columns": null,
      "grid_auto_flow": null,
      "grid_auto_rows": null,
      "grid_column": null,
      "grid_gap": null,
      "grid_row": null,
      "grid_template_areas": null,
      "grid_template_columns": null,
      "grid_template_rows": null,
      "height": null,
      "justify_content": null,
      "justify_items": null,
      "left": null,
      "margin": null,
      "max_height": null,
      "max_width": null,
      "min_height": null,
      "min_width": null,
      "object_fit": null,
      "object_position": null,
      "order": null,
      "overflow": null,
      "overflow_x": null,
      "overflow_y": null,
      "padding": null,
      "right": null,
      "top": null,
      "visibility": null,
      "width": null
     }
    }
   }
  }
 },
 "nbformat": 4,
 "nbformat_minor": 1
}
