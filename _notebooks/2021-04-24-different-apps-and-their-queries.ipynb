{
 "cells": [
  {
   "cell_type": "markdown",
   "id": "broken-junction",
   "metadata": {},
   "source": [
    "## Full text ranking - ms marco"
   ]
  },
  {
   "cell_type": "markdown",
   "id": "sufficient-berlin",
   "metadata": {},
   "source": [
    "Query terms with AND operator"
   ]
  },
  {
   "cell_type": "code",
   "execution_count": null,
   "id": "indonesian-destination",
   "metadata": {},
   "outputs": [],
   "source": [
    "{\n",
    "\t\"yql\":\"select * from sources * where (userInput(@userQuery));\"\n",
    "\t\"userQuery\":\"what types of plate boundaries cause deep sea trenches\"\n",
    "\t\"ranking\":{\n",
    "\t\t\"profile\":\"bm25\"\n",
    "\t\t\"listFeatures\":\"true\"\n",
    "\t}\n",
    "\t...\n",
    "}"
   ]
  },
  {
   "cell_type": "markdown",
   "id": "rental-biotechnology",
   "metadata": {},
   "source": [
    "Query terms with OR operator"
   ]
  },
  {
   "cell_type": "code",
   "execution_count": null,
   "id": "outstanding-grade",
   "metadata": {},
   "outputs": [],
   "source": [
    "{\n",
    "\t\"yql\":\"select * from sources * where ([{\"grammar\": \"any\"}]userInput(@userQuery));\"\n",
    "\t...\n",
    "}"
   ]
  },
  {
   "cell_type": "markdown",
   "id": "julian-mortgage",
   "metadata": {},
   "source": [
    "ANN with query vector"
   ]
  },
  {
   "cell_type": "code",
   "execution_count": null,
   "id": "portuguese-cruise",
   "metadata": {},
   "outputs": [],
   "source": [
    "{\n",
    "\t\"yql\":\"select * from sources * where ([{\"targetHits\": 1000, \"label\": \"nns\"}]nearestNeighbor(title_bert, tensor_bert));\"\n",
    "\t\"userQuery\":\"what types of plate boundaries cause deep sea trenches\"\n",
    "\t\"ranking\":{\n",
    "\t\t\"profile\":\"bert_title_body_all\"\n",
    "\t\t\"listFeatures\":\"true\"\n",
    "\t}\n",
    "\t\"ranking.features.query(tensor_bert)\":\"[0.05121087115032622, -0.0035218095295999675, ..., 0.05303904445092506]\"\n",
    "\t...\n",
    "} "
   ]
  },
  {
   "cell_type": "markdown",
   "id": "composite-illinois",
   "metadata": {},
   "source": [
    "## Cord19 app"
   ]
  },
  {
   "cell_type": "markdown",
   "id": "impressed-bleeding",
   "metadata": {},
   "source": [
    "Query terms + filters"
   ]
  },
  {
   "cell_type": "code",
   "execution_count": null,
   "id": "tested-sharp",
   "metadata": {},
   "outputs": [],
   "source": [
    "body = {\n",
    "  'yql'    : 'select title, abstract from sources * where userQuery() and has_full_text=true and timestamp > 1577836800;',\n",
    "  'hits'   : 5,\n",
    "  'query'  : 'coronavirus temperature sensitivity',\n",
    "  'type'   : 'any',\n",
    "  'ranking': 'bm25'\n",
    "}"
   ]
  },
  {
   "cell_type": "markdown",
   "id": "extended-feature",
   "metadata": {},
   "source": [
    "ANN with query vector"
   ]
  },
  {
   "cell_type": "code",
   "execution_count": null,
   "id": "medieval-reservoir",
   "metadata": {},
   "outputs": [],
   "source": [
    "body = {\n",
    "    'yql': 'select * from sources * where  ([{\"targetNumHits\":100}]nearestNeighbor(title_embedding, vector));',\n",
    "    'hits': 5,\n",
    "    'ranking.features.query(vector)': embedding.tolist(),\n",
    "    'ranking.profile': 'semantic-search-title',\n",
    "}"
   ]
  },
  {
   "cell_type": "markdown",
   "id": "selected-platinum",
   "metadata": {},
   "source": [
    "## Amazon product app"
   ]
  },
  {
   "cell_type": "markdown",
   "id": "smaller-vocabulary",
   "metadata": {},
   "source": [
    "query terms"
   ]
  },
  {
   "cell_type": "code",
   "execution_count": null,
   "id": "curious-korean",
   "metadata": {},
   "outputs": [],
   "source": [
    "query = {\n",
    "    'yql': 'select documentid, asin,title,imUrl,price from sources * where userQuery();',\n",
    "    'query': 'mens wrist watch',\n",
    "    'ranking': 'bm25',\n",
    "    'type': 'any',\n",
    "    'presentation.timing': True,\n",
    "    'hits': 2\n",
    "}\n",
    "display_hits(app.query(body=query).json, \"bm25\")"
   ]
  },
  {
   "cell_type": "markdown",
   "id": "existing-emission",
   "metadata": {},
   "source": [
    "Retrieve a query vector based on an id and then do NN (Brute force) with retrieved query vector"
   ]
  },
  {
   "cell_type": "code",
   "execution_count": null,
   "id": "integrated-fifth",
   "metadata": {},
   "outputs": [],
   "source": [
    "query = {\n",
    "    'yql': 'select documentid, asin,title,imUrl,description,price from sources * where \\\n",
    "    ([{\"targetHits\":3,\"approximate\":false}]nearestNeighbor(image_vector,query_image_vector));',\n",
    "    'ranking': 'vector_similarity',\n",
    "    'hits': 3, \n",
    "    'presentation.timing': True,\n",
    "    'ranking.features.query(query_image_vector)': get_vector('B00GLP1GTW')\n",
    "}\n",
    "display_hits(app.query(body=query).json, \"vector_similarity\")"
   ]
  },
  {
   "cell_type": "markdown",
   "id": "infectious-floating",
   "metadata": {},
   "source": [
    "Retrieve a query vector based on an id and then do ANN with retrieved query vector"
   ]
  },
  {
   "cell_type": "code",
   "execution_count": null,
   "id": "configured-journalist",
   "metadata": {},
   "outputs": [],
   "source": [
    "query = {\n",
    "    'yql': 'select documentid, asin,title,imUrl,description,price from sources * where \\\n",
    "    ([{\"targetHits\":3}]nearestNeighbor(image_vector,query_image_vector));',\n",
    "    'ranking': 'vector_similarity',\n",
    "    'hits': 3, \n",
    "    'presentation.timing': True,\n",
    "    'ranking.features.query(query_image_vector)': get_vector('B00GLP1GTW')\n",
    "}\n",
    "display_hits(app.query(body=query).json, \"vector_similarity\")"
   ]
  },
  {
   "cell_type": "markdown",
   "id": "unavailable-topic",
   "metadata": {},
   "source": [
    "ANN + filter to remove product being searched"
   ]
  },
  {
   "cell_type": "code",
   "execution_count": null,
   "id": "double-scout",
   "metadata": {},
   "outputs": [],
   "source": [
    "query = {\n",
    "    'yql': 'select documentid, asin,title,imUrl,description,price from sources * where \\\n",
    "    ([{\"targetHits\":3}]nearestNeighbor(image_vector,query_image_vector)) and \\\n",
    "    !(asin contains \"B00GLP1GTW\");',\n",
    "    'ranking': 'vector_similarity',\n",
    "    'hits': 3, \n",
    "    'presentation.timing': True,\n",
    "    'ranking.features.query(query_image_vector)': get_vector('B00GLP1GTW')\n",
    "}\n",
    "display_hits(app.query(body=query).json, \"vector_similarity\")"
   ]
  },
  {
   "cell_type": "markdown",
   "id": "emerging-living",
   "metadata": {},
   "source": [
    "ANN + multiple filters"
   ]
  },
  {
   "cell_type": "code",
   "execution_count": null,
   "id": "accredited-tenant",
   "metadata": {},
   "outputs": [],
   "source": [
    "query = {\n",
    "    'yql': 'select documentid, asin,title,imUrl,description,price from sources * where \\\n",
    "    ([{\"targetHits\":3}]nearestNeighbor(image_vector,query_image_vector)) and \\\n",
    "    !(asin contains \"B00GLP1GTW\") and \\\n",
    "    price > 100;',\n",
    "    'ranking': 'vector_similarity',\n",
    "    'hits': 3, \n",
    "    'presentation.timing': True,\n",
    "    'ranking.features.query(query_image_vector)': get_vector('B00GLP1GTW')\n",
    "}\n",
    "display_hits(app.query(body=query).json, \"vector_similarity\")"
   ]
  },
  {
   "cell_type": "markdown",
   "id": "beautiful-imagination",
   "metadata": {},
   "source": [
    "## News search"
   ]
  },
  {
   "cell_type": "markdown",
   "id": "sorted-broad",
   "metadata": {},
   "source": [
    "Search over indexed fields using keywords"
   ]
  },
  {
   "cell_type": "code",
   "execution_count": null,
   "id": "elementary-playlist",
   "metadata": {},
   "outputs": [],
   "source": [
    "res = app.query(body={\"yql\" : \"select * from sources * where default contains 'music';\"})"
   ]
  },
  {
   "cell_type": "code",
   "execution_count": null,
   "id": "professional-backup",
   "metadata": {},
   "outputs": [],
   "source": [
    "res = app.query(body = {\"yql\" : \"select title, abstract from sources * where title contains 'music' AND default contains 'festival';\"})"
   ]
  },
  {
   "cell_type": "markdown",
   "id": "intelligent-kelly",
   "metadata": {},
   "source": [
    "Search by document type"
   ]
  },
  {
   "cell_type": "code",
   "execution_count": null,
   "id": "outside-speaker",
   "metadata": {},
   "outputs": [],
   "source": [
    "res = app.query(body = {\"yql\" : \"select title from sources * where sddocname contains 'news';\"})"
   ]
  },
  {
   "cell_type": "markdown",
   "id": "rising-roommate",
   "metadata": {},
   "source": [
    "Search over attribute fields such as date"
   ]
  },
  {
   "cell_type": "code",
   "execution_count": null,
   "id": "weird-royalty",
   "metadata": {},
   "outputs": [],
   "source": [
    "# linear scan since fast-search not enabled\n",
    "res = app.query(body={\"yql\" : \"select title, date from sources * where date contains '20191110';\"})"
   ]
  },
  {
   "cell_type": "code",
   "execution_count": null,
   "id": "occupational-progress",
   "metadata": {},
   "outputs": [],
   "source": [
    "# optimized to filter first over default fields that are indexed\n",
    "res = app.query(body={\"yql\" : \"select title, abstract, date from sources * where default contains 'weather' AND date contains '20191110';\"})"
   ]
  },
  {
   "cell_type": "code",
   "execution_count": null,
   "id": "breathing-spyware",
   "metadata": {},
   "outputs": [],
   "source": [
    "# range search\n",
    "res = app.query({\"yql\" : \"select date from sources * where date <= 20191110 AND date >= 20191108;\"})"
   ]
  },
  {
   "cell_type": "markdown",
   "id": "pleased-alcohol",
   "metadata": {},
   "source": [
    "Sorting"
   ]
  },
  {
   "cell_type": "code",
   "execution_count": null,
   "id": "greek-chart",
   "metadata": {},
   "outputs": [],
   "source": [
    "# ascending by default\n",
    "res = app.query(body={\"yql\" : \"select title, date from sources * where default contains 'music' order by date;\"})"
   ]
  },
  {
   "cell_type": "code",
   "execution_count": null,
   "id": "altered-conference",
   "metadata": {},
   "outputs": [],
   "source": [
    "# descending\n",
    "res = app.query(body={\"yql\" : \"select title, date from sources * where default contains 'music' order by date desc;\"})"
   ]
  },
  {
   "cell_type": "markdown",
   "id": "alpine-brave",
   "metadata": {},
   "source": [
    "Grouping"
   ]
  },
  {
   "cell_type": "code",
   "execution_count": null,
   "id": "sustainable-intensity",
   "metadata": {},
   "outputs": [],
   "source": [
    "res = app.query(body={\"yql\" : \"select * from sources * where sddocname contains 'news' limit 0 | all(group(category) max(3) order(-count())each(output(count())));\"})"
   ]
  },
  {
   "cell_type": "markdown",
   "id": "continuing-birth",
   "metadata": {},
   "source": [
    "## News recommendation"
   ]
  },
  {
   "cell_type": "markdown",
   "id": "numerous-correlation",
   "metadata": {},
   "source": [
    "Retrieve a query vector based on an id and then do ANN with retrieved query vector"
   ]
  },
  {
   "cell_type": "code",
   "execution_count": null,
   "id": "secret-thing",
   "metadata": {},
   "outputs": [],
   "source": [
    "yql = \"select title, category from sources news where ([{'targetHits': 10}]nearestNeighbor(embedding, user_embedding));\"\n",
    "result = app.query(\n",
    "    body={\n",
    "        \"yql\": yql,        \n",
    "        \"hits\": 10,\n",
    "        \"ranking.features.query(user_embedding)\": str(query_user_embedding(user_id=\"U63195\")),\n",
    "        \"ranking.profile\": \"recommendation\"\n",
    "    }\n",
    ")"
   ]
  },
  {
   "cell_type": "markdown",
   "id": "blank-myanmar",
   "metadata": {},
   "source": [
    "Retrieve a query vector based on an id and then do ANN with retrieved query vector + filters"
   ]
  },
  {
   "cell_type": "code",
   "execution_count": null,
   "id": "declared-conviction",
   "metadata": {},
   "outputs": [],
   "source": [
    "yql = \"select title, category from sources news where \" \\\n",
    "      \"([{'targetHits': 10}]nearestNeighbor(embedding, user_embedding)) AND \" \\\n",
    "      \"category contains 'sports';\" \n",
    "result = app.query(\n",
    "    body={\n",
    "        \"yql\": yql,        \n",
    "        \"hits\": 10,\n",
    "        \"ranking.features.query(user_embedding)\": str(query_user_embedding(user_id=\"U63195\")),\n",
    "        \"ranking.profile\": \"recommendation\"\n",
    "    }\n",
    ")"
   ]
  },
  {
   "cell_type": "markdown",
   "id": "generic-nepal",
   "metadata": {},
   "source": [
    "## QA application"
   ]
  },
  {
   "cell_type": "markdown",
   "id": "black-attempt",
   "metadata": {},
   "source": [
    "Sentence level retrieval"
   ]
  },
  {
   "cell_type": "code",
   "execution_count": null,
   "id": "joined-subscription",
   "metadata": {},
   "outputs": [],
   "source": [
    "result = app.query(body={\n",
    "  'yql': 'select * from sources sentence where ([{\"targetNumHits\":100}]nearestNeighbor(sentence_embedding,query_embedding));',\n",
    "  'hits': 100,\n",
    "  'ranking.features.query(query_embedding)': questions.loc[0, \"embedding\"],\n",
    "  'ranking.profile': 'semantic-similarity' \n",
    "})"
   ]
  },
  {
   "cell_type": "markdown",
   "id": "applicable-evaluation",
   "metadata": {},
   "source": [
    "Sentence level hybrid retrieval"
   ]
  },
  {
   "cell_type": "code",
   "execution_count": null,
   "id": "necessary-jackson",
   "metadata": {},
   "outputs": [],
   "source": [
    "result = app.query(body={\n",
    "  'yql': 'select * from sources sentence  where ([{\"targetNumHits\":100}]nearestNeighbor(sentence_embedding,query_embedding)) or userQuery();',\n",
    "  'query': questions.loc[0, \"question\"],\n",
    "  'type': 'any',\n",
    "  'hits': 100,\n",
    "  'ranking.features.query(query_embedding)': questions.loc[0, \"embedding\"],\n",
    "  'ranking.profile': 'bm25-semantic-similarity' \n",
    "})"
   ]
  },
  {
   "cell_type": "markdown",
   "id": "thrown-elements",
   "metadata": {},
   "source": [
    "Paragraph level retrieval"
   ]
  },
  {
   "cell_type": "code",
   "execution_count": null,
   "id": "governing-signal",
   "metadata": {},
   "outputs": [],
   "source": [
    "result = app.query(body={\n",
    "  'yql': ('select * from sources sentence where ([{\"targetNumHits\":10000}]nearestNeighbor(sentence_embedding,query_embedding)) |' \n",
    "          'all(group(context_id) max(3) order(-max(relevance())) each( max(2) each(output(summary())) as(sentences)) as(paragraphs));'),\n",
    "  'hits': 0,\n",
    "  'ranking.features.query(query_embedding)': questions.loc[0, \"embedding\"],\n",
    "  'ranking.profile': 'sentence-semantic-similarity' \n",
    "})"
   ]
  }
 ],
 "metadata": {
  "kernelspec": {
   "display_name": "Python 3",
   "language": "python",
   "name": "python3"
  },
  "language_info": {
   "codemirror_mode": {
    "name": "ipython",
    "version": 3
   },
   "file_extension": ".py",
   "mimetype": "text/x-python",
   "name": "python",
   "nbconvert_exporter": "python",
   "pygments_lexer": "ipython3",
   "version": "3.9.1"
  }
 },
 "nbformat": 4,
 "nbformat_minor": 5
}
