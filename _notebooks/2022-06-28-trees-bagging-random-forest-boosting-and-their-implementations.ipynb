{
 "cells": [
  {
   "cell_type": "markdown",
   "id": "90d394cd",
   "metadata": {},
   "source": [
    "# Trees, bagging, random forest, boosting and their implementations\n",
    "\n",
    "- toc: true \n",
    "- badges: true\n",
    "- comments: true\n",
    "- categories: [decision trees, bagging, random forest, boosting]"
   ]
  },
  {
   "cell_type": "markdown",
   "id": "fc2d4d5d",
   "metadata": {},
   "source": [
    "## The basics of decision trees"
   ]
  },
  {
   "cell_type": "markdown",
   "id": "9f1e0f0c",
   "metadata": {},
   "source": [
    "### Tree-based model in the light of a linear model"
   ]
  },
  {
   "cell_type": "markdown",
   "id": "d9271c9e",
   "metadata": {},
   "source": [
    "A tree based model can be written as $f(x) = \\sum_{m=1}^M c_m 1_{(x \\in R_m)}$, where $c_m$ is the leaf node value of the region $R_m$."
   ]
  },
  {
   "cell_type": "markdown",
   "id": "f09d8235",
   "metadata": {},
   "source": [
    "Figure below show two cases, one where a linear model is better than a tree-based model (top row) and one where a tree-based model is better than a linear model (botton row)."
   ]
  },
  {
   "cell_type": "markdown",
   "id": "a6cc561b",
   "metadata": {},
   "source": [
    "<img src=\"images/tree_vs_linear.png\" width=\"500\">"
   ]
  },
  {
   "cell_type": "markdown",
   "id": "1c4db281",
   "metadata": {},
   "source": [
    "### Regression trees"
   ]
  },
  {
   "cell_type": "markdown",
   "id": "d08ed134",
   "metadata": {},
   "source": [
    "<img src=\"images/regression_tree_algo.png\" width=\"500\">"
   ]
  },
  {
   "cell_type": "markdown",
   "id": "6ede146e",
   "metadata": {},
   "source": [
    "* Step 1\n",
    "    * The goal is to find boxes $R_1, ... R_j$ that minimizes the $RSS=\\sum_{j=1}^J \\sum_{i \\in R_j} (y_i - \\hat{y}_{R_j})$, where $\\hat{y}_{R_j}$ is the mean response for the training observations within $R_j$.\n",
    "    * It is computationally infeasible to consider every possible partition of the feature space into $J$ boxes.\n",
    "    * For this reason, we take a top-down, greedy approach that is known as recursive binary splitting.\n",
    "        * The approach is top-down because it begins at the top of the tree (at which point all observations belong to a single region) and then successively splits the predictor space.\n",
    "        * It is greedy because at each step of the tree-building process, the best split is made at that particular step, rather than looking ahead and picking a split that will lead to a better tree in some future step.\n",
    "        * In greater detail, for any $j$ and $s$, we define the pair of half-planes $R_1(j, s) = \\{X|X_j < s\\}$ and $R_2(j, s) = \\{X|Xj ≥ s\\}$, and we seek the value of $j$ and $s$ that minimize the equation \n",
    "        $$\\sum_{i: x_i \\in R_1(j,s)}(y_i − \\hat{y}_{R_1})^2 + \\sum_{i: x_i \\in R_2(j,s)}(y_i − \\hat{y}_{R_2})^2$$"
   ]
  },
  {
   "cell_type": "markdown",
   "id": "1df72736",
   "metadata": {},
   "source": [
    "* Step 2\n",
    "    * Step 1 tends to overfit the training data.\n",
    "    * Computing the test error at each partition on step 1 is expensive. We use cost complexity pruning instead.\n",
    "    * For each value of $\\alpha$ there corresponds a subtree $T \\subset T_0$ such that \n",
    "    $$ \\sum_{m=1}^{|T|} \\sum_{i: x_i \\in R_m} (y_i − \\hat{y}_{R_m})^2 + \\alpha |T|$$\n",
    "        is as small as possible, where $|T|$ is the number of terminal nodes of the tree $T$ and $\\alpha$ is a tunning parameter.\n",
    "    * It turns out that as we increase $\\alpha$ from zero, branches get pruned from the tree in a nested and predictable fashion, so obtaining the whole sequence of subtrees as a function of $\\alpha$ is easy."
   ]
  },
  {
   "cell_type": "markdown",
   "id": "4ddd67a8",
   "metadata": {},
   "source": [
    "### Classification trees"
   ]
  },
  {
   "cell_type": "markdown",
   "id": "ba466fa3",
   "metadata": {},
   "source": [
    "* Uses recursive binary splitting to build the tree.\n",
    "* Task can be to either return the most common class or to return the proportion of each class.\n",
    "* There are a few possibilities to use instead of the RSS:\n",
    "    * classification error rate: $E = 1 - max_k(\\hat{p}_{mk})$, where $\\hat{p}_{mk}$ is the proportion that the $m$-th region are of class $k$.\n",
    "    * Gini index: $G = \\sum_{k=1}^{K} \\hat{p}_{mk} (1-\\hat{p}_{mk})$\n",
    "    * Cross-entropy: $D = -\\sum_{k=1}^{K} \\hat{p}_{mk} \\log \\hat{p}_{mk}$\n",
    "* When building a classification tree, either the Gini index or the crossentropy are typically used to evaluate the quality of a particular split, since these two approaches are more sensitive to node purity than is the classification error rate. Any of these three approaches might be used when pruning the tree, but the classification error rate is preferable if prediction accuracy of the final pruned tree is the goal.\n",
    "        "
   ]
  },
  {
   "cell_type": "markdown",
   "id": "7fba1443",
   "metadata": {},
   "source": [
    "### Advantages and disadvantages"
   ]
  },
  {
   "cell_type": "markdown",
   "id": "6c594460",
   "metadata": {},
   "source": [
    "* Advantages\n",
    "    * Tree-based methods are more interpretable\n",
    "    * Can handle qualitative predictors without the need to create dummy variables\n",
    "* Disadvantages\n",
    "    * Decision trees by itself are in general not as accurate as other linear models\n",
    "    * Decision trees are not robust in the sense that an small change in the data can lead to a very different estimated tree. That is, decision trees have high variance."
   ]
  },
  {
   "cell_type": "markdown",
   "id": "8f3cf35a",
   "metadata": {},
   "source": [
    "## Bagging, Random Forests, Boosting"
   ]
  },
  {
   "cell_type": "markdown",
   "id": "0908f76c",
   "metadata": {},
   "source": [
    "Those are generic approaches that can be applied to many statistical learning methods."
   ]
  },
  {
   "cell_type": "markdown",
   "id": "3d9afe9e",
   "metadata": {},
   "source": [
    "### Bootstrapping"
   ]
  },
  {
   "cell_type": "markdown",
   "id": "d4c31d7f",
   "metadata": {},
   "source": [
    "Assume we have $n$ observations of training data, $Z$. Bootstrapping works by sampling with replacement B datasets with $n$ observations each $Z^{*1}$, ..., $Z^{*B}$. Those sampled datasets can then be used either to compate uncertainty measures or by averaging different model estimates to reduce the variance of the original model. "
   ]
  },
  {
   "cell_type": "markdown",
   "id": "ffa3fad0",
   "metadata": {},
   "source": [
    "Ideally we would like to have B independent datasets, but when collecting independent datasets are not possible, bootstrapping can be used. "
   ]
  },
  {
   "cell_type": "markdown",
   "id": "1ecf1cd3",
   "metadata": {},
   "source": [
    "What are the bias introduced by bootstraping instead of using independent datasets?"
   ]
  },
  {
   "cell_type": "markdown",
   "id": "4a100246",
   "metadata": {},
   "source": [
    "### Bagging"
   ]
  },
  {
   "cell_type": "markdown",
   "id": "4e8a76cc",
   "metadata": {},
   "source": [
    "* For regression, fit tree-based models on B bootstraped datasets and average the results. "
   ]
  },
  {
   "cell_type": "markdown",
   "id": "121533b7",
   "metadata": {},
   "source": [
    "$$\\hat{f}_{\\text{avg}}(x) = \\frac{1}{B}\\sum_{b=1}^{B} \\hat{f}^b (x)$$"
   ]
  },
  {
   "cell_type": "markdown",
   "id": "0aae5722",
   "metadata": {},
   "source": [
    "* For a classification tree we can predict the class of a data point by taking the majority vote between the B predictions. "
   ]
  },
  {
   "cell_type": "markdown",
   "id": "0a3a5208",
   "metadata": {},
   "source": [
    "* Each tree is grown deep, and are not pruned. Hence, each individual tree has high variance but low bias. The boostrap technique helps by reducing the variance.  "
   ]
  },
  {
   "cell_type": "markdown",
   "id": "dfc45436",
   "metadata": {},
   "source": [
    "* Out-of-bag test error estimation: \n",
    "    * On average, each bagged tree uses 2/3 of the original data. \n",
    "    * For each observation there are on average B/3 model that were not trained on it. \n",
    "    * If we average for regression and take the majority for classification of the predictions of those B/3 models, we have an out-of-bag (OOB) prediction for the i-th observation.\n",
    "    * If we do the above for all the observation we have the overall OOB MSE for regression or classification error for classification.\n",
    "    * The resulting OOB error is a valid estimate of the test error for the bagged model.\n",
    "    * It can be shown that with B sufficiently large, OOB error is virtually equivalent to leave-one-out CV error."
   ]
  },
  {
   "cell_type": "markdown",
   "id": "9e631fd6",
   "metadata": {},
   "source": [
    "* Interpretability and variable importance\n",
    "    * We lose the easy of interpretation when bagging tree-based models\n",
    "    * We can compute feature importance by computing the average decrease in the error metric obtained by splits of the feature."
   ]
  },
  {
   "cell_type": "markdown",
   "id": "705eea85",
   "metadata": {},
   "source": [
    "### Random Forests"
   ]
  },
  {
   "cell_type": "markdown",
   "id": "a87b1497",
   "metadata": {},
   "source": [
    "* Similar to bagging, except that when choosing which feature to split we randomly select $m$ out of the $p$ predictor to be considered.\n",
    "* Usual choice $m = \\sqrt p$\n",
    "* $m = p$ means that random forest equal to bagging.\n",
    "* The logic behind chosing a subset of the predictors before each split is to create more uncorrelated trees. Say there is a strong predictor that will be picked for all the trees when bagging, randomly selecting m predictor will give a change for other predictors to be considered, leading to more uncorrelated trees."
   ]
  },
  {
   "cell_type": "markdown",
   "id": "4a344635",
   "metadata": {},
   "source": [
    "### Boosting"
   ]
  },
  {
   "cell_type": "markdown",
   "id": "856c1f9b",
   "metadata": {},
   "source": [
    "* Unlike bagging, boosting does not involve bootstrap sampling, instead the trees grows sequentially, where each tree is fit on a modified version of the original data set."
   ]
  },
  {
   "cell_type": "markdown",
   "id": "802d1587",
   "metadata": {},
   "source": [
    "<img src=\"images/boosting_regression_trees.png\" width=\"500\">"
   ]
  },
  {
   "cell_type": "markdown",
   "id": "5a6fb8a0",
   "metadata": {},
   "source": [
    "Boosting has three tuning parameters:\n",
    "\n",
    "1. The number of trees $B$. Unlike boosting and random forest we can overfit the data with high $B$, although it happens slowly if at all. We use CV to select $B$.\n",
    "2. The shrinkage parameter $\\lambda$, a small positive number that controls the rate at which boosting learns. Typical values are $0.01$ or $0.001$ but the value is problem dependent. Smaller $\\lambda$ can require larger $B$.\n",
    "3. The number $d$ of splits in each tree, which controls the complexity of the boosted ensemble. $d=1$ often works well and means that we are fitting an additive model since each tree involves only one predictor. More generally, $d$ is the interaction depth and controls the interaction order of the boosted model, since $d$ splits can involve at most $d$ variables."
   ]
  },
  {
   "cell_type": "markdown",
   "id": "35e57185",
   "metadata": {},
   "source": [
    "## LightGBM"
   ]
  },
  {
   "cell_type": "markdown",
   "id": "fa721168",
   "metadata": {},
   "source": [
    "* [Kaggle lightGBM notebooks](https://www.kaggle.com/code?searchQuery=lightgbm)\n",
    "    * [Home Credit Default Risk dataset](https://www.kaggle.com/competitions/home-credit-default-risk)\n",
    "        * [LightGBM with Simple Features](https://www.kaggle.com/code/jsaguiar/lightgbm-with-simple-features/script)\n",
    "            * Most of the script is feature pre-processing\n",
    "            * Uses LGBMClassifier with hyperparameter already tuned \n",
    "            * Uses sklearn CV\n",
    "            * Display feature importance"
   ]
  },
  {
   "cell_type": "markdown",
   "id": "5677f81e",
   "metadata": {},
   "source": [
    "* LightGBM\n",
    "    * [LightGBM Home page](https://lightgbm.readthedocs.io/en/latest/index.html) homepage\n",
    "    * [Understanding LightGBM Parameters (and How to Tune Them)](https://neptune.ai/blog/lightgbm-parameters-guide)   \n",
    "    * Optune LightGBM tuner\n",
    "        * [Blog post](https://medium.com/optuna/lightgbm-tuner-new-optuna-integration-for-hyperparameter-optimization-8b7095e99258)\n",
    "        * [Code](https://github.com/optuna/optuna-examples/blob/main/lightgbm/lightgbm_tuner_simple.py)\n",
    "    * [Kaggler’s Guide to LightGBM Hyperparameter Tuning with Optuna in 2021](https://towardsdatascience.com/kagglers-guide-to-lightgbm-hyperparameter-tuning-with-optuna-in-2021-ed048d9838b5)\n",
    "    * [LightGBM stackoverflow example](https://stackoverflow.com/a/67627169)\n",
    "* XGBoost\n",
    "    * [XGBoost Home page](https://xgboost.readthedocs.io/en/latest/index.html)\n",
    "* LightGBM/XGBoost comparison\n",
    "    * [XGBoost vs LightGBM: How Are They Different](https://neptune.ai/blog/xgboost-vs-lightgbm)\n",
    "    * Set of [LTR notebooks](https://github.com/sophwats/learning-to-rank) involving boosting from sophwatts    "
   ]
  },
  {
   "cell_type": "markdown",
   "id": "58a4a109",
   "metadata": {},
   "source": [
    "## References"
   ]
  },
  {
   "cell_type": "markdown",
   "id": "3674f512",
   "metadata": {},
   "source": [
    "* Chapter 8 of Introduction to Statistical Learning\n",
    "    * Covered section 8.1 and 8.2\n",
    "    * Need to cover section 8.3"
   ]
  }
 ],
 "metadata": {
  "kernelspec": {
   "display_name": "R",
   "language": "R",
   "name": "ir"
  },
  "language_info": {
   "codemirror_mode": "r",
   "file_extension": ".r",
   "mimetype": "text/x-r-source",
   "name": "R",
   "pygments_lexer": "r",
   "version": "4.2.1"
  }
 },
 "nbformat": 4,
 "nbformat_minor": 5
}
