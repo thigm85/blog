{
 "cells": [
  {
   "cell_type": "markdown",
   "id": "informational-institute",
   "metadata": {},
   "source": [
    "# Faster document operations with pyvespa\n",
    "\n",
    "> Document operations such as feed, get, update and delete now use async implementation by default\n",
    "\n",
    "- toc: true \n",
    "- badges: false\n",
    "- comments: true\n",
    "- categories: [vespa, pyvespa, speed, async]"
   ]
  },
  {
   "cell_type": "markdown",
   "id": "dependent-forty",
   "metadata": {},
   "source": [
    "We will demonstrate that the new default implementation for document operations in pyvespa are now much faster due to async mode."
   ]
  },
  {
   "cell_type": "markdown",
   "id": "light-miami",
   "metadata": {},
   "source": [
    "## Define Question Answering app"
   ]
  },
  {
   "cell_type": "code",
   "execution_count": null,
   "id": "upset-memphis",
   "metadata": {},
   "outputs": [],
   "source": [
    "from vespa.gallery import QuestionAnswering\n",
    "\n",
    "app_package = QuestionAnswering()"
   ]
  },
  {
   "cell_type": "markdown",
   "id": "advisory-extension",
   "metadata": {},
   "source": [
    "## Deploy to Vespa Cloud"
   ]
  },
  {
   "cell_type": "code",
   "execution_count": 1,
   "id": "raising-spice",
   "metadata": {},
   "outputs": [
    {
     "name": "stdout",
     "output_type": "stream",
     "text": [
      "Deployment started in run 243 of dev-aws-us-east-1c for vespa-team.pyvespa-integration.msmarco. This may take about 15 minutes the first time.\n",
      "INFO    [20:02:15]  Deploying platform version 7.452.11 and application version unknown ...\n",
      "INFO    [20:02:17]  Deployment successful.\n",
      "INFO    [20:02:17]  Session 43999 for tenant 'vespa-team' prepared and activated.\n",
      "INFO    [20:02:17]  ######## Details for all nodes ########\n",
      "INFO    [20:02:17]  h5591e.dev.aws-us-east-1c.vespa-external.aws.oath.cloud: expected to be UP\n",
      "INFO    [20:02:17]  --- platform vespa/cloud-tenant-rhel8:7.452.11\n",
      "INFO    [20:02:17]  --- container-clustercontroller on port 19050 has config generation 43999, wanted is 43999\n",
      "INFO    [20:02:17]  h5580f.dev.aws-us-east-1c.vespa-external.aws.oath.cloud: expected to be UP\n",
      "INFO    [20:02:17]  --- platform vespa/cloud-tenant-rhel8:7.452.11\n",
      "INFO    [20:02:17]  --- distributor on port 19111 has config generation 43997, wanted is 43999\n",
      "INFO    [20:02:17]  --- searchnode on port 19107 has config generation 43999, wanted is 43999\n",
      "INFO    [20:02:17]  --- storagenode on port 19102 has config generation 43997, wanted is 43999\n",
      "INFO    [20:02:17]  h5577a.dev.aws-us-east-1c.vespa-external.aws.oath.cloud: expected to be UP\n",
      "INFO    [20:02:17]  --- platform vespa/cloud-tenant-rhel8:7.452.11\n",
      "INFO    [20:02:17]  --- logserver-container on port 4080 has config generation 43999, wanted is 43999\n",
      "INFO    [20:02:17]  h5592d.dev.aws-us-east-1c.vespa-external.aws.oath.cloud: expected to be UP\n",
      "INFO    [20:02:17]  --- platform vespa/cloud-tenant-rhel8:7.452.11\n",
      "INFO    [20:02:17]  --- container on port 4080 has config generation 43999, wanted is 43999\n",
      "INFO    [20:02:31]  Found endpoints:\n",
      "INFO    [20:02:31]  - dev.aws-us-east-1c\n",
      "INFO    [20:02:31]   |-- https://qa-container.msmarco.pyvespa-integration.vespa-team.aws-us-east-1c.dev.z.vespa-app.cloud/ (cluster 'qa_container')\n",
      "INFO    [20:02:32]  Installation succeeded!\n",
      "Finished deployment.\n"
     ]
    }
   ],
   "source": [
    "import os\n",
    "from vespa.package import VespaCloud\n",
    "\n",
    "# define your own WORK_DIR and VESPA_CLOUD_USER_KEY env variables\n",
    "\n",
    "disk_folder = os.path.join(os.getenv(\"WORK_DIR\"), \"sample_application\")\n",
    "vespa_cloud = VespaCloud(\n",
    "    tenant=\"vespa-team\",\n",
    "    application=\"pyvespa-integration\",\n",
    "    key_content=os.getenv(\"VESPA_CLOUD_USER_KEY\").replace(r\"\\n\", \"\\n\"),\n",
    "    application_package=app_package,\n",
    ")\n",
    "app = vespa_cloud.deploy(\n",
    "    instance=\"msmarco\", \n",
    "    disk_folder=os.path.join(os.getenv(\"WORK_DIR\"), \"sample_application\")\n",
    ")"
   ]
  },
  {
   "cell_type": "markdown",
   "id": "private-thumb",
   "metadata": {},
   "source": [
    "## Load sample data"
   ]
  },
  {
   "cell_type": "code",
   "execution_count": 2,
   "id": "strong-cooperation",
   "metadata": {},
   "outputs": [],
   "source": [
    "import json, requests\n",
    "\n",
    "sentence_data = json.loads(\n",
    "    requests.get(\"https://data.vespa.oath.cloud/blog/qa/sample_sentence_data_100.json\").text\n",
    ")\n"
   ]
  },
  {
   "cell_type": "code",
   "execution_count": 3,
   "id": "under-bicycle",
   "metadata": {},
   "outputs": [],
   "source": [
    "batch_feed = [\n",
    "    {\n",
    "        \"id\": idx, \n",
    "        \"fields\": sentence\n",
    "    }\n",
    "    for idx, sentence in enumerate(sentence_data)\n",
    "]"
   ]
  },
  {
   "cell_type": "markdown",
   "id": "precious-parts",
   "metadata": {},
   "source": [
    "## Feed data"
   ]
  },
  {
   "cell_type": "markdown",
   "id": "naked-words",
   "metadata": {},
   "source": [
    "### Asynchronous feeding - new default"
   ]
  },
  {
   "cell_type": "code",
   "execution_count": 7,
   "id": "norwegian-registration",
   "metadata": {},
   "outputs": [
    {
     "name": "stdout",
     "output_type": "stream",
     "text": [
      "1.146148920059204 seconds\n"
     ]
    }
   ],
   "source": [
    "import time\n",
    "\n",
    "start = time.time()\n",
    "response = app.feed_batch(schema=\"sentence\", batch=batch_feed)\n",
    "print(\"{} seconds\".format(time.time() - start))"
   ]
  },
  {
   "cell_type": "markdown",
   "id": "harmful-consumer",
   "metadata": {},
   "source": [
    "### Syncronous feeding - old default"
   ]
  },
  {
   "cell_type": "code",
   "execution_count": 8,
   "id": "italic-impossible",
   "metadata": {},
   "outputs": [
    {
     "name": "stdout",
     "output_type": "stream",
     "text": [
      "68.66188383102417 seconds\n"
     ]
    }
   ],
   "source": [
    "start = time.time()\n",
    "response = app.feed_batch(schema=\"sentence\", batch=batch_feed, asynchronous=False)\n",
    "print(\"{} seconds\".format(time.time() - start))"
   ]
  },
  {
   "cell_type": "markdown",
   "id": "minus-consideration",
   "metadata": {},
   "source": [
    "## Conclusion"
   ]
  },
  {
   "cell_type": "markdown",
   "id": "composite-ghost",
   "metadata": {},
   "source": [
    "Basic document operations are now much faster in pyvespa due to the new async implementation. This includes feed, get, update and delete operations."
   ]
  }
 ],
 "metadata": {
  "kernelspec": {
   "display_name": "Python 3",
   "language": "python",
   "name": "python3"
  },
  "language_info": {
   "codemirror_mode": {
    "name": "ipython",
    "version": 3
   },
   "file_extension": ".py",
   "mimetype": "text/x-python",
   "name": "python",
   "nbconvert_exporter": "python",
   "pygments_lexer": "ipython3",
   "version": "3.9.1"
  }
 },
 "nbformat": 4,
 "nbformat_minor": 5
}
