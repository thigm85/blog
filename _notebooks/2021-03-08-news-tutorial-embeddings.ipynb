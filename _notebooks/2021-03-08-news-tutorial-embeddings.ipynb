{
 "cells": [
  {
   "cell_type": "markdown",
   "id": "accurate-advertiser",
   "metadata": {},
   "source": [
    "# Build a News recommendation app from python with Vespa\n",
    "\n",
    "> Part 2 - From news search to news recommendation with embeddings\n",
    "\n",
    "- toc: true \n",
    "- badges: false\n",
    "- comments: true\n",
    "- categories: [vespa, pyvespa, news recommendation, MIND]"
   ]
  },
  {
   "cell_type": "markdown",
   "id": "infrared-regulation",
   "metadata": {},
   "source": [
    "In this part, we'll start transforming our application from news search to news recommendation using the embeddings created in [this tutorial](https://docs.vespa.ai/en/tutorials/news-4-embeddings.html). An embedding vector will represent each user and news article. We will make the embeddings used available for download to make it easier to follow this post along. When a user comes, we retrieve his embedding and use it to retrieve the closest news articles via an approximate nearest neighbor (ANN) search. We also show that Vespa can jointly apply general filtering and ANN search, unlike competing alternatives available in the market."
   ]
  },
  {
   "cell_type": "markdown",
   "id": "cross-arabic",
   "metadata": {},
   "source": [
    "We assume that you have followed [the news search tutorial](https://blog.vespa.ai/build-news-search-app-from-python-with-vespa/). Therefore, you should have an `app_package` variable holding the news search app definition and a Docker container named `news` running a search application fed with news articles from the demo version of the MIND dataset."
   ]
  },
  {
   "cell_type": "markdown",
   "id": "burning-portal",
   "metadata": {},
   "source": [
    "## Add a user schema"
   ]
  },
  {
   "cell_type": "markdown",
   "id": "approved-citation",
   "metadata": {},
   "source": [
    "We need to add another document type to represent a user. We set up the schema to search for a `user_id` and retrieve the user’s embedding vector."
   ]
  },
  {
   "cell_type": "code",
   "execution_count": 3,
   "id": "growing-saint",
   "metadata": {},
   "outputs": [],
   "source": [
    "from vespa.package import Schema, Document, Field\n",
    "\n",
    "app_package.add_schema(\n",
    "    Schema(\n",
    "        name=\"user\", \n",
    "        document=Document(\n",
    "            fields=[\n",
    "                Field(\n",
    "                    name=\"user_id\", \n",
    "                    type=\"string\", \n",
    "                    indexing=[\"summary\", \"attribute\"], \n",
    "                    attribute=[\"fast-search\"]\n",
    "                ), \n",
    "                Field(\n",
    "                    name=\"embedding\", \n",
    "                    type=\"tensor<float>(d0[51])\", \n",
    "                    indexing=[\"summary\", \"attribute\"]\n",
    "                )\n",
    "            ]\n",
    "        )\n",
    "    )\n",
    ")"
   ]
  },
  {
   "cell_type": "markdown",
   "id": "physical-mathematics",
   "metadata": {},
   "source": [
    "We build an index for the attribute field `user_id` by specifying the `fast-search` attribute. Remember that attribute fields are held in memory and are not indexed by default."
   ]
  },
  {
   "cell_type": "markdown",
   "id": "controlling-vancouver",
   "metadata": {},
   "source": [
    "The embedding field is a tensor field. Tensors in Vespa are flexible multi-dimensional data structures and, as first-class citizens, can be used in queries, document fields, and constants in ranking. Tensors can be either dense or sparse or both and can contain any number of dimensions. Please see the [tensor user guide](https://docs.vespa.ai/en/tensor-user-guide.html) for more information. Here we have defined a dense tensor with a single dimension (`d0` - dimension 0), representing a vector. 51 is the size of the embeddings used in this post."
   ]
  },
  {
   "cell_type": "markdown",
   "id": "worldwide-retreat",
   "metadata": {},
   "source": [
    "We now have one schema for the `news` and one schema for the `user`."
   ]
  },
  {
   "cell_type": "code",
   "execution_count": 4,
   "id": "alive-zoning",
   "metadata": {},
   "outputs": [
    {
     "data": {
      "text/plain": [
       "['news', 'user']"
      ]
     },
     "execution_count": 4,
     "metadata": {},
     "output_type": "execute_result"
    }
   ],
   "source": [
    "[schema.name for schema in app_package.schemas]"
   ]
  },
  {
   "cell_type": "markdown",
   "id": "outside-beauty",
   "metadata": {},
   "source": [
    "### Index news embeddings"
   ]
  },
  {
   "cell_type": "markdown",
   "id": "oriental-administration",
   "metadata": {},
   "source": [
    "Similarly to the user schema, we will use a dense tensor to represent the news embeddings. But unlike the user embedding field, we will index the news embedding by including `index` in the `indexing` argument and specify that we want to build the index using the HNSW (hierarchical navigable small world) algorithm. The distance metric used is euclidean. Read [this blog post](https://blog.vespa.ai/approximate-nearest-neighbor-search-in-vespa-part-1/) to know more about Vespa’s journey to implement ANN search."
   ]
  },
  {
   "cell_type": "code",
   "execution_count": 5,
   "id": "portable-yugoslavia",
   "metadata": {},
   "outputs": [],
   "source": [
    "from vespa.package import Field, HNSW\n",
    "\n",
    "app_package.get_schema(name=\"news\").add_fields(\n",
    "    Field(\n",
    "        name=\"embedding\", \n",
    "        type=\"tensor<float>(d0[51])\", \n",
    "        indexing=[\"attribute\", \"index\"],\n",
    "        ann=HNSW(distance_metric=\"euclidean\")\n",
    "    )\n",
    ")"
   ]
  },
  {
   "cell_type": "markdown",
   "id": "developing-distribution",
   "metadata": {},
   "source": [
    "## Recommendation using embeddings"
   ]
  },
  {
   "cell_type": "markdown",
   "id": "corporate-contest",
   "metadata": {},
   "source": [
    "Here, we’ve added a ranking expression using the closeness ranking feature, which calculates the euclidean distance and uses that to rank the news articles. This rank-profile depends on using the nearestNeighbor search operator, which we’ll get back to below when searching. But for now, this expects a tensor in the query to use as the initial search point."
   ]
  },
  {
   "cell_type": "code",
   "execution_count": 6,
   "id": "loved-career",
   "metadata": {},
   "outputs": [],
   "source": [
    "from vespa.package import RankProfile\n",
    "\n",
    "app_package.get_schema(name=\"news\").add_rank_profile(\n",
    "    RankProfile(\n",
    "        name=\"recommendation\", \n",
    "        inherits=\"default\", \n",
    "        first_phase=\"closeness(field, embedding)\"\n",
    "    )\n",
    ")"
   ]
  },
  {
   "cell_type": "markdown",
   "id": "adjacent-nickname",
   "metadata": {},
   "source": [
    "## Query Profile Type"
   ]
  },
  {
   "cell_type": "markdown",
   "id": "professional-trader",
   "metadata": {},
   "source": [
    "The recommendation rank profile above requires that we send a tensor along with the query. For Vespa to bind the correct types, it needs to know the expected type of this query parameter."
   ]
  },
  {
   "cell_type": "code",
   "execution_count": 7,
   "id": "committed-theta",
   "metadata": {},
   "outputs": [],
   "source": [
    "from vespa.package import QueryTypeField\n",
    "\n",
    "app_package.query_profile_type.add_fields(\n",
    "    QueryTypeField(\n",
    "        name=\"ranking.features.query(user_embedding)\", \n",
    "        type=\"tensor<float>(d0[51])\"\n",
    "    )\n",
    ")"
   ]
  },
  {
   "cell_type": "markdown",
   "id": "geographic-business",
   "metadata": {},
   "source": [
    "This query profile type instructs Vespa to expect a float tensor with dimension `d0[51]` when the query parameter ranking.features.query(user_embedding) is passed. We’ll see how this works together with the nearestNeighbor search operator below."
   ]
  },
  {
   "cell_type": "markdown",
   "id": "sweet-bottle",
   "metadata": {},
   "source": [
    "## Redeploy the application"
   ]
  },
  {
   "cell_type": "markdown",
   "id": "effective-mistake",
   "metadata": {},
   "source": [
    "We made all the required changes to turn our news search app into a news recommendation app. We can now redeploy the `app_package` to our running container named `news`."
   ]
  },
  {
   "cell_type": "code",
   "execution_count": 10,
   "id": "recreational-exception",
   "metadata": {},
   "outputs": [
    {
     "name": "stdout",
     "output_type": "stream",
     "text": [
      "Waiting for configuration server.\n",
      "Waiting for configuration server.\n",
      "Waiting for configuration server.\n",
      "Waiting for configuration server.\n",
      "Waiting for configuration server.\n",
      "Finished deployment.\n"
     ]
    }
   ],
   "source": [
    "from vespa.package import VespaDocker\n",
    "\n",
    "vespa_docker = VespaDocker.from_container_name_or_id(\"news\")\n",
    "app = vespa_docker.deploy(application_package=app_package)"
   ]
  },
  {
   "cell_type": "code",
   "execution_count": 11,
   "id": "primary-norfolk",
   "metadata": {},
   "outputs": [
    {
     "data": {
      "text/plain": [
       "[\"Uploading application '/app/application' using http://localhost:19071/application/v2/tenant/default/session\",\n",
       " \"Session 7 for tenant 'default' created.\",\n",
       " 'Preparing session 7 using http://localhost:19071/application/v2/tenant/default/session/7/prepared',\n",
       " \"WARNING: Host named 'news' may not receive any config since it is not a canonical hostname. Disregard this warning when testing in a Docker container.\",\n",
       " \"Session 7 for tenant 'default' prepared.\",\n",
       " 'Activating session 7 using http://localhost:19071/application/v2/tenant/default/session/7/active',\n",
       " \"Session 7 for tenant 'default' activated.\",\n",
       " 'Checksum:   62d964000c4ff4a5280b342cd8d95c80',\n",
       " 'Timestamp:  1616671116728',\n",
       " 'Generation: 7',\n",
       " '']"
      ]
     },
     "execution_count": 11,
     "metadata": {},
     "output_type": "execute_result"
    }
   ],
   "source": [
    "app.deployment_message"
   ]
  },
  {
   "cell_type": "markdown",
   "id": "funded-holly",
   "metadata": {},
   "source": [
    "## Feeding and partial updates: news and user embeddings"
   ]
  },
  {
   "cell_type": "markdown",
   "id": "offshore-thumb",
   "metadata": {},
   "source": [
    "To keep this tutorial easy to follow, we make the parsed embeddings available for download. To build them yourself, please follow [this tutorial](https://docs.vespa.ai/en/tutorials/news-4-embeddings.html)."
   ]
  },
  {
   "cell_type": "code",
   "execution_count": 13,
   "id": "organic-premium",
   "metadata": {},
   "outputs": [],
   "source": [
    "import requests, json\n",
    "\n",
    "user_embeddings = json.loads(\n",
    "    requests.get(\"https://thigm85.github.io/data/mind/mind_demo_user_embeddings_parsed.json\").text\n",
    ")\n",
    "news_embeddings = json.loads(\n",
    "    requests.get(\"https://thigm85.github.io/data/mind/mind_demo_news_embeddings_parsed.json\").text\n",
    ")"
   ]
  },
  {
   "cell_type": "markdown",
   "id": "independent-couple",
   "metadata": {},
   "source": [
    "We just created the `user` schema, so we need to feed user data for the first time."
   ]
  },
  {
   "cell_type": "code",
   "execution_count": null,
   "id": "correct-fraud",
   "metadata": {},
   "outputs": [],
   "source": [
    "for user_embedding in user_embeddings:\n",
    "    response = app.feed_data_point(\n",
    "        schema=\"user\", \n",
    "        data_id=user_embedding[\"user_id\"], \n",
    "        fields=user_embedding\n",
    "    )"
   ]
  },
  {
   "cell_type": "markdown",
   "id": "cardiovascular-maple",
   "metadata": {},
   "source": [
    "For the news documents, we just need to update the `embedding` field added to the `news` schema."
   ]
  },
  {
   "cell_type": "code",
   "execution_count": null,
   "id": "reduced-rochester",
   "metadata": {},
   "outputs": [],
   "source": [
    "for news_embedding in news_embeddings:\n",
    "    response = app.update_data(\n",
    "        schema=\"news\", \n",
    "        data_id=news_embedding[\"news_id\"], \n",
    "        fields={\"embedding\": news_embedding[\"embedding\"]}\n",
    "    )"
   ]
  },
  {
   "cell_type": "markdown",
   "id": "accomplished-pollution",
   "metadata": {},
   "source": [
    "## Fetch the user embedding"
   ]
  },
  {
   "cell_type": "markdown",
   "id": "tropical-toddler",
   "metadata": {},
   "source": [
    "Next, we create a `query_user_embedding` function to retrieve the user `embedding` by the `user_id`. Of course, you could do this more efficiently using a Vespa Searcher as described [here](https://docs.vespa.ai/en/tutorials/news-6-recommendation-with-searchers.html), but keeping everything in python at this point makes learning easier."
   ]
  },
  {
   "cell_type": "code",
   "execution_count": 31,
   "id": "atmospheric-vampire",
   "metadata": {},
   "outputs": [],
   "source": [
    "def parse_embedding(hit_json):\n",
    "    embedding_json = hit_json[\"fields\"][\"embedding\"][\"cells\"]\n",
    "    embedding_vector = [0.0] * len(embedding_json)\n",
    "    for val in embedding_json:\n",
    "        embedding_vector[int(val[\"address\"][\"d0\"])] = val[\"value\"]\n",
    "    return embedding_vector\n",
    "\n",
    "def query_user_embedding(user_id):\n",
    "    result = app.query(body={\"yql\": \"select * from sources user where user_id contains '{}';\".format(user_id)})\n",
    "    embedding = parse_embedding(result.hits[0])\n",
    "    return embedding"
   ]
  },
  {
   "cell_type": "markdown",
   "id": "elementary-frank",
   "metadata": {},
   "source": [
    "The function will query Vespa, retrieve the embedding and parse it into a list of floats. Here are the first five elements of the user `U63195`'s embedding."
   ]
  },
  {
   "cell_type": "code",
   "execution_count": 30,
   "id": "absent-penguin",
   "metadata": {},
   "outputs": [
    {
     "data": {
      "text/plain": [
       "[0.0,\n",
       " -0.1694680005311966,\n",
       " -0.0703359991312027,\n",
       " -0.03539799898862839,\n",
       " 0.14579899609088898]"
      ]
     },
     "execution_count": 30,
     "metadata": {},
     "output_type": "execute_result"
    }
   ],
   "source": [
    "query_user_embedding(user_id=\"U63195\")[:5]"
   ]
  },
  {
   "cell_type": "markdown",
   "id": "human-squad",
   "metadata": {},
   "source": [
    "## Get recommendations"
   ]
  },
  {
   "cell_type": "markdown",
   "id": "dominican-response",
   "metadata": {},
   "source": [
    "### ANN search"
   ]
  },
  {
   "cell_type": "markdown",
   "id": "alone-barcelona",
   "metadata": {},
   "source": [
    "The following `yql` instructs Vespa to select the `title` and the `category` from the ten news documents closest to the user embedding."
   ]
  },
  {
   "cell_type": "code",
   "execution_count": 50,
   "id": "powered-london",
   "metadata": {},
   "outputs": [],
   "source": [
    "yql = \"select title, category from sources news where ([{'targetHits': 10}]nearestNeighbor(embedding, user_embedding));\" "
   ]
  },
  {
   "cell_type": "markdown",
   "id": "suspended-trick",
   "metadata": {},
   "source": [
    "We also specify that we want to rank those documents by the `recommendation` rank-profile that we defined earlier and send the user embedding via the query profile type `ranking.features.query(user_embedding)` that we also defined in our `app_package`.  "
   ]
  },
  {
   "cell_type": "code",
   "execution_count": 51,
   "id": "statutory-photography",
   "metadata": {},
   "outputs": [],
   "source": [
    "result = app.query(\n",
    "    body={\n",
    "        \"yql\": yql,        \n",
    "        \"hits\": 10,\n",
    "        \"ranking.features.query(user_embedding)\": str(query_user_embedding(user_id=\"U63195\")),\n",
    "        \"ranking.profile\": \"recommendation\"\n",
    "    }\n",
    ")"
   ]
  },
  {
   "cell_type": "markdown",
   "id": "descending-railway",
   "metadata": {},
   "source": [
    "Here are the first two hits out of the ten returned."
   ]
  },
  {
   "cell_type": "code",
   "execution_count": 52,
   "id": "dynamic-projector",
   "metadata": {},
   "outputs": [
    {
     "data": {
      "text/plain": [
       "[{'id': 'index:news_content/0/aca03f4ba2274dd95b58db9a',\n",
       "  'relevance': 0.1460561756063909,\n",
       "  'source': 'news_content',\n",
       "  'fields': {'category': 'music',\n",
       "   'title': 'Broadway Star Laurel Griggs Suffered Asthma Attack Before She Died at Age 13'}},\n",
       " {'id': 'index:news_content/0/bd02238644c604f3a2d53364',\n",
       "  'relevance': 0.14591827245062294,\n",
       "  'source': 'news_content',\n",
       "  'fields': {'category': 'tv',\n",
       "   'title': \"Rip Taylor's Cause of Death Revealed, Memorial Service Scheduled for Later This Month\"}}]"
      ]
     },
     "execution_count": 52,
     "metadata": {},
     "output_type": "execute_result"
    }
   ],
   "source": [
    "result.hits[0:2]"
   ]
  },
  {
   "cell_type": "markdown",
   "id": "medical-dutch",
   "metadata": {},
   "source": [
    "### Combine ANN search with query filters"
   ]
  },
  {
   "cell_type": "markdown",
   "id": "right-fusion",
   "metadata": {},
   "source": [
    "Vespa ANN search is fully integrated into the Vespa query tree. This integration means that we can include query filters and the ANN search will be applied only to documents that satisfy the filters. No need to do pre- or post-processing involving filters."
   ]
  },
  {
   "cell_type": "markdown",
   "id": "strong-contamination",
   "metadata": {},
   "source": [
    "The following `yql`  search over news documents that have `sports` as their category."
   ]
  },
  {
   "cell_type": "code",
   "execution_count": 47,
   "id": "thrown-undergraduate",
   "metadata": {},
   "outputs": [],
   "source": [
    "yql = \"select title, category from sources news where \" \\\n",
    "      \"([{'targetHits': 10}]nearestNeighbor(embedding, user_embedding)) AND \" \\\n",
    "      \"category contains 'sports';\" "
   ]
  },
  {
   "cell_type": "code",
   "execution_count": 48,
   "id": "independent-certificate",
   "metadata": {},
   "outputs": [],
   "source": [
    "result = app.query(\n",
    "    body={\n",
    "        \"yql\": yql,        \n",
    "        \"hits\": 10,\n",
    "        \"ranking.features.query(user_embedding)\": str(query_user_embedding(user_id=\"U63195\")),\n",
    "        \"ranking.profile\": \"recommendation\"\n",
    "    }\n",
    ")"
   ]
  },
  {
   "cell_type": "markdown",
   "id": "superb-bradford",
   "metadata": {},
   "source": [
    "Here are the first two hits out of the ten returned. Notice the `category` field."
   ]
  },
  {
   "cell_type": "code",
   "execution_count": 49,
   "id": "statistical-factor",
   "metadata": {},
   "outputs": [
    {
     "data": {
      "text/plain": [
       "[{'id': 'index:news_content/0/375ea340c21b3138fae1a05c',\n",
       "  'relevance': 0.14417346200569972,\n",
       "  'source': 'news_content',\n",
       "  'fields': {'category': 'sports',\n",
       "   'title': 'Charles Rogers, former Michigan State football, Detroit Lions star, dead at 38'}},\n",
       " {'id': 'index:news_content/0/2b892989020ddf7796dae435',\n",
       "  'relevance': 0.14404365847394848,\n",
       "  'source': 'news_content',\n",
       "  'fields': {'category': 'sports',\n",
       "   'title': \"'Monday Night Football' commentator under fire after belittling criticism of 49ers kicker for missed field goal\"}}]"
      ]
     },
     "execution_count": 49,
     "metadata": {},
     "output_type": "execute_result"
    }
   ],
   "source": [
    "result.hits[0:2]"
   ]
  }
 ],
 "metadata": {
  "kernelspec": {
   "display_name": "Python 3",
   "language": "python",
   "name": "python3"
  },
  "language_info": {
   "codemirror_mode": {
    "name": "ipython",
    "version": 3
   },
   "file_extension": ".py",
   "mimetype": "text/x-python",
   "name": "python",
   "nbconvert_exporter": "python",
   "pygments_lexer": "ipython3",
   "version": "3.9.1"
  }
 },
 "nbformat": 4,
 "nbformat_minor": 5
}
