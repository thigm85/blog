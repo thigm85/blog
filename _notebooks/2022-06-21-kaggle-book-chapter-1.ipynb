{
 "cells": [
  {
   "cell_type": "markdown",
   "id": "sorted-subscriber",
   "metadata": {},
   "source": [
    "# Chapter 1 - Introducing Kaggle and other data science competition\n",
    "> Notes about the book The Kaggle book\n",
    "\n",
    "- toc: true \n",
    "- badges: true\n",
    "- comments: true\n",
    "- categories: [book, kaggle, data science]"
   ]
  },
  {
   "cell_type": "markdown",
   "id": "banned-announcement",
   "metadata": {},
   "source": [
    "* [Kaggle public API docs](https://www.kaggle.com/docs/api).\n",
    "* [Kaggle API Github repo](https://github.com/Kaggle/kaggle-api).\n",
    "* Tip: Interact with others on the discussion forum when enrolled on a competition to share and learn.\n",
    "* Common Task Framework (CTF): Great for advancing state of the art solutions.\n",
    "    * Well defined metrics and quality data\n",
    "    * Competition\n",
    "    * Sharing between competitors\n",
    "    * Compute-resource availability\n",
    "* What can go wrong in a competition:\n",
    "    * Leakeage from the data: data contain informatio of the target not available in real-time.\n",
    "    * Probing from the leaderboard: Use the leaderboard to metric to tune your solution.\n",
    "        * Example: https://www.kaggle.com/c/dont-overfit-ii/discussion/91766\n",
    "    * Overfitting and consequent leaderboard shake-up: cases with huge gap between the training set and the public test set\n",
    "        * Technique to measure discrepancies between training set and test set: https://www.kaggle.com/code/tunguz/adversarial-ieee/notebook\n",
    "    * Private sharing\n",
    "* Jeremy Howard on how to set you up for success on Kaggle: https://www.kaggle.com/code/jhoward/first-steps-road-to-the-top-part-1"
   ]
  }
 ],
 "metadata": {
  "kernelspec": {
   "display_name": "Python 3",
   "language": "python",
   "name": "python3"
  },
  "language_info": {
   "codemirror_mode": {
    "name": "ipython",
    "version": 3
   },
   "file_extension": ".py",
   "mimetype": "text/x-python",
   "name": "python",
   "nbconvert_exporter": "python",
   "pygments_lexer": "ipython3",
   "version": "3.9.7"
  }
 },
 "nbformat": 4,
 "nbformat_minor": 5
}
