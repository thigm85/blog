{
 "cells": [
  {
   "cell_type": "markdown",
   "id": "minimal-rouge",
   "metadata": {},
   "source": [
    "# Chapter 1 - Introducing Kaggle and other data science competition\n",
    "> Notes about the book The Kaggle book\n",
    "\n",
    "- toc: true \n",
    "- badges: true\n",
    "- comments: true\n",
    "- categories: [book, kaggle, data science]"
   ]
  },
  {
   "cell_type": "markdown",
   "id": "comparable-webmaster",
   "metadata": {},
   "source": [
    "* [Kaggle public API docs](https://www.kaggle.com/docs/api).\n",
    "* [Kaggle API Github repo](https://github.com/Kaggle/kaggle-api).\n",
    "* Interact with others on the discussion forum when enrolled on a competition to share and learn."
   ]
  }
 ],
 "metadata": {
  "kernelspec": {
   "display_name": "Python 3",
   "language": "python",
   "name": "python3"
  },
  "language_info": {
   "codemirror_mode": {
    "name": "ipython",
    "version": 3
   },
   "file_extension": ".py",
   "mimetype": "text/x-python",
   "name": "python",
   "nbconvert_exporter": "python",
   "pygments_lexer": "ipython3",
   "version": "3.9.7"
  }
 },
 "nbformat": 4,
 "nbformat_minor": 5
}
