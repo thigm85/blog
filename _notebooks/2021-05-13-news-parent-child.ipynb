{
 "cells": [
  {
   "cell_type": "markdown",
   "id": "amended-engineering",
   "metadata": {},
   "source": [
    "# Build a News recommendation app from python with Vespa\n",
    "\n",
    "> Part 3 - Efficient use of click-through rate via parent-child relationship\n",
    "\n",
    "- toc: true \n",
    "- badges: false\n",
    "- comments: true\n",
    "- categories: [vespa, pyvespa, news recommendation, MIND]"
   ]
  },
  {
   "cell_type": "markdown",
   "id": "creative-capacity",
   "metadata": {},
   "source": [
    "This part of the series introduces a new ranking signal: category click-through rate (CTR). The idea is that we can recommend popular content for users that don’t have a click history yet. Rather than just recommending based on articles, we recommend based on categories. However, these global CTR values can often change continuously, so we need an efficient way to update this value for all documents. We’ll do that by introducing parent-child relationships between documents in Vespa. We will also use sparse tensors directly in ranking. This post replicates [this more detailed Vespa tutorial](https://docs.vespa.ai/en/tutorials/news-7-recommendation-with-parent-child.html)."
   ]
  },
  {
   "cell_type": "markdown",
   "id": "lonely-probability",
   "metadata": {},
   "source": [
    "We assume that you have followed the [part2 of the news recommendation tutorial](https://blog.vespa.ai/build-news-recommendation-app-from-python-with-vespa/). Therefore, you should have an `app_package` variable holding the news app definition and a Docker container named `news` running the application fed with data from the demo version of the MIND dataset."
   ]
  },
  {
   "cell_type": "markdown",
   "id": "healthy-flight",
   "metadata": {},
   "source": [
    "## Setting up a global category CTR document"
   ]
  },
  {
   "cell_type": "markdown",
   "id": "unnecessary-choir",
   "metadata": {},
   "source": [
    "If we add a `category_ctr` field in the `news` document, we would have to update all the sport's documents every time there is a change in the sport's CTR statistic. If we assume that the category CTR will change often, this turns out to be inefficient."
   ]
  },
  {
   "cell_type": "markdown",
   "id": "combined-triangle",
   "metadata": {},
   "source": [
    "For these cases, Vespa introduced the [parent-child relationship](https://docs.vespa.ai/en/parent-child.html). Parents are global documents, which are automatically distributed to all content nodes. Other documents can reference these parents and “import” values for use in ranking. The benefit is that the global category CTR values only need to be written to one place: the global document."
   ]
  },
  {
   "cell_type": "code",
   "execution_count": 10,
   "id": "heated-import",
   "metadata": {},
   "outputs": [],
   "source": [
    "from vespa.package import Schema, Document, Field\n",
    "\n",
    "app_package.add_schema(\n",
    "    Schema(\n",
    "        name=\"category_ctr\",\n",
    "        global_document=True,\n",
    "        document=Document(\n",
    "            fields=[\n",
    "                Field(\n",
    "                    name=\"ctrs\", \n",
    "                    type=\"tensor<float>(category{})\", \n",
    "                    indexing=[\"attribute\"], \n",
    "                    attribute=[\"fast-search\"]\n",
    "                ), \n",
    "            ]\n",
    "        )\n",
    "    )\n",
    ")"
   ]
  },
  {
   "cell_type": "markdown",
   "id": "native-broadcasting",
   "metadata": {},
   "source": [
    "We implement that by creating a new `category_ctr` schema and setting `global_document=True` to indicate that we want Vespa to keep a copy of these documents on all content nodes. Setting a document to be global is required for using it in a parent-child relationship. Note that we use a tensor with a single sparse dimension to hold the `ctrs` data."
   ]
  },
  {
   "cell_type": "markdown",
   "id": "varying-venice",
   "metadata": {},
   "source": [
    "Sparse tensors have strings as dimension addresses rather than a numeric index. More concretely, an example of such a tensor is (using the [tensor literal form](https://docs.vespa.ai/en/reference/tensor.html#tensor-literal-form)):"
   ]
  },
  {
   "cell_type": "code",
   "execution_count": null,
   "id": "isolated-sudan",
   "metadata": {},
   "outputs": [],
   "source": [
    "{\n",
    "    {category: entertainment}: 0.2 }, \n",
    "    {category: news}: 0.3 },\n",
    "    {category: sports}: 0.5 },\n",
    "    {category: travel}: 0.4 },\n",
    "    {category: finance}: 0.1 },\n",
    "    ...\n",
    "}"
   ]
  },
  {
   "cell_type": "markdown",
   "id": "derived-design",
   "metadata": {},
   "source": [
    "This tensor holds all the CTR scores for all the categories. When updating this tensor, we can update individual cells, and we don’t need to update the whole tensor. This operation is called [tensor modify](https://docs.vespa.ai/en/reference/document-json-format.html#tensor-modify) and can be helpful when you have large tensors."
   ]
  },
  {
   "cell_type": "markdown",
   "id": "revised-domestic",
   "metadata": {},
   "source": [
    "## Importing parent values in child documents"
   ]
  },
  {
   "cell_type": "markdown",
   "id": "spiritual-doctrine",
   "metadata": {},
   "source": [
    "We need to set up two things to use the `category_ctr` tensor for ranking `news` documents. We need to reference the parent document (`category_ctr` in this case) and import the `ctrs` from the referenced parent document."
   ]
  },
  {
   "cell_type": "code",
   "execution_count": 11,
   "id": "naked-wheel",
   "metadata": {},
   "outputs": [],
   "source": [
    "app_package.get_schema(\"news\").add_fields(\n",
    "    Field(\n",
    "        name=\"category_ctr_ref\",\n",
    "        type=\"reference<category_ctr>\",\n",
    "        indexing=[\"attribute\"],\n",
    "    )\n",
    ")"
   ]
  },
  {
   "cell_type": "markdown",
   "id": "comic-brunei",
   "metadata": {},
   "source": [
    "The field `category_ctr_ref` is a field of type reference of the `category_ctr` document type. When feeding this field, Vespa expects the fully qualified document id. For instance, if our global CTR document has the id `id:category_ctr:category_ctr::global`, that is the value that we need to feed to the `category_ctr_ref` field. A document can reference many parent documents."
   ]
  },
  {
   "cell_type": "code",
   "execution_count": 12,
   "id": "quality-passion",
   "metadata": {},
   "outputs": [],
   "source": [
    "from vespa.package import ImportedField\n",
    "\n",
    "app_package.get_schema(\"news\").add_imported_field(\n",
    "    ImportedField(\n",
    "        name=\"global_category_ctrs\",\n",
    "        reference_field=\"category_ctr_ref\",\n",
    "        field_to_import=\"ctrs\",\n",
    "    )\n",
    ")"
   ]
  },
  {
   "cell_type": "markdown",
   "id": "collected-breakdown",
   "metadata": {},
   "source": [
    "The imported field defines that we should import the `ctrs` field from the document referenced in the `category_ctr_ref` field. We name this as `global_category_ctrs`, and we can reference this as `attribute(global_category_ctrs)` during ranking."
   ]
  },
  {
   "cell_type": "markdown",
   "id": "binding-reproduction",
   "metadata": {},
   "source": [
    "## Tensor expressions in ranking"
   ]
  },
  {
   "cell_type": "markdown",
   "id": "elegant-project",
   "metadata": {},
   "source": [
    "Each `news` document has a `category` field of type `string` indicating which category the document belongs to. We want to use this information to select the correct CTR score stored in the `global_category_ctrs`. Unfortunately, tensor expressions only work on tensors, so we need to add a new field of type `tensor` called `category_tensor` to hold category information in a way that can be used in a tensor expression:"
   ]
  },
  {
   "cell_type": "code",
   "execution_count": 13,
   "id": "prime-still",
   "metadata": {},
   "outputs": [],
   "source": [
    "app_package.get_schema(\"news\").add_fields(\n",
    "    Field(\n",
    "        name=\"category_tensor\",\n",
    "        type=\"tensor<float>(category{})\",\n",
    "        indexing=[\"attribute\"],\n",
    "    )\n",
    ")"
   ]
  },
  {
   "cell_type": "markdown",
   "id": "optimum-aberdeen",
   "metadata": {},
   "source": [
    "With the `category_tensor` field as defined above, we can use the tensor expression `sum(attribute(category_tensor) * attribute(global_category_ctrs))` to select the specific CTR related to the category of the document being ranked. We implement this expression as a `Function` in the rank-profile below:"
   ]
  },
  {
   "cell_type": "code",
   "execution_count": 14,
   "id": "flush-illustration",
   "metadata": {},
   "outputs": [],
   "source": [
    "app_package.get_schema(\"news\").add_rank_profile(\n",
    "    RankProfile(\n",
    "        name=\"recommendation_with_global_category_ctr\", \n",
    "        inherits=\"recommendation\",\n",
    "        functions=[\n",
    "            Function(\n",
    "                name=\"category_ctr\", \n",
    "                expression=\"sum(attribute(category_tensor) * attribute(global_category_ctrs))\"\n",
    "            ),\n",
    "            Function(\n",
    "                name=\"nearest_neighbor\", \n",
    "                expression=\"closeness(field, embedding)\"\n",
    "            )\n",
    "            \n",
    "        ],\n",
    "        first_phase=\"nearest_neighbor * category_ctr\",\n",
    "        summary_features=[\n",
    "            \"attribute(category_tensor)\", \n",
    "            \"attribute(global_category_ctrs)\", \n",
    "            \"category_ctr\", \n",
    "            \"nearest_neighbor\"\n",
    "        ]\n",
    "    )\n",
    ")"
   ]
  },
  {
   "cell_type": "markdown",
   "id": "upset-screw",
   "metadata": {},
   "source": [
    "In the new rank-profile, we have added a first phase ranking expression that multiplies the nearest-neighbor score with the category CTR score, implemented with the functions `nearest_neighbor` and `category_ctr`, respectively. As a first attempt, we just multiply the nearest-neighbor with the category CTR score, which might not be the best way to combine those two values."
   ]
  },
  {
   "cell_type": "markdown",
   "id": "patent-spiritual",
   "metadata": {},
   "source": [
    "## Deploy"
   ]
  },
  {
   "cell_type": "markdown",
   "id": "unable-municipality",
   "metadata": {},
   "source": [
    "We can reuse the same container named `news` created in the first part of this tutorial."
   ]
  },
  {
   "cell_type": "code",
   "execution_count": 15,
   "id": "preceding-narrow",
   "metadata": {},
   "outputs": [
    {
     "name": "stdout",
     "output_type": "stream",
     "text": [
      "Waiting for configuration server.\n",
      "Waiting for configuration server.\n",
      "Waiting for configuration server.\n",
      "Waiting for configuration server.\n",
      "Waiting for configuration server.\n",
      "Waiting for configuration server.\n",
      "Waiting for application status.\n",
      "Waiting for application status.\n",
      "Finished deployment.\n"
     ]
    }
   ],
   "source": [
    "from vespa.package import VespaDocker\n",
    "\n",
    "vespa_docker = VespaDocker.from_container_name_or_id(\"news\")\n",
    "app = vespa_docker.deploy(application_package=app_package)"
   ]
  },
  {
   "cell_type": "markdown",
   "id": "upset-replacement",
   "metadata": {},
   "source": [
    "## Feed"
   ]
  },
  {
   "cell_type": "markdown",
   "id": "secondary-portfolio",
   "metadata": {},
   "source": [
    "Next, we will download the global category CTR data, already parsed in the format that is expected by a sparse tensor with the category dimension."
   ]
  },
  {
   "cell_type": "code",
   "execution_count": 17,
   "id": "empirical-marketplace",
   "metadata": {},
   "outputs": [
    {
     "data": {
      "text/plain": [
       "{'ctrs': {'cells': [{'address': {'category': 'entertainment'},\n",
       "    'value': 0.029266420380943244},\n",
       "   {'address': {'category': 'autos'}, 'value': 0.028475809103747123},\n",
       "   {'address': {'category': 'tv'}, 'value': 0.05374837981352176},\n",
       "   {'address': {'category': 'health'}, 'value': 0.03531784305129329},\n",
       "   {'address': {'category': 'sports'}, 'value': 0.05611187986670051},\n",
       "   {'address': {'category': 'music'}, 'value': 0.05471192953054426},\n",
       "   {'address': {'category': 'news'}, 'value': 0.04420778372641991},\n",
       "   {'address': {'category': 'foodanddrink'}, 'value': 0.029256852366228187},\n",
       "   {'address': {'category': 'travel'}, 'value': 0.025144552013730358},\n",
       "   {'address': {'category': 'finance'}, 'value': 0.03231013195899643},\n",
       "   {'address': {'category': 'lifestyle'}, 'value': 0.04423279317474416},\n",
       "   {'address': {'category': 'video'}, 'value': 0.04006693315980292},\n",
       "   {'address': {'category': 'movies'}, 'value': 0.03335647459420146},\n",
       "   {'address': {'category': 'weather'}, 'value': 0.04532171803495617},\n",
       "   {'address': {'category': 'northamerica'}, 'value': 0.0},\n",
       "   {'address': {'category': 'kids'}, 'value': 0.043478260869565216}]}}"
      ]
     },
     "execution_count": 17,
     "metadata": {},
     "output_type": "execute_result"
    }
   ],
   "source": [
    "import requests, json\n",
    "\n",
    "global_category_ctr = json.loads(\n",
    "    requests.get(\"https://data.vespa.oath.cloud/blog/news/global_category_ctr_parsed.json\").text\n",
    ")\n",
    "global_category_ctr"
   ]
  },
  {
   "cell_type": "markdown",
   "id": "threaded-budapest",
   "metadata": {},
   "source": [
    "We can feed this data point to the document defined in the `category_ctr`. We will assign the `global` id to this document. Reference to this document can be done by using the Vespa id `id:category_ctr:category_ctr::global`."
   ]
  },
  {
   "cell_type": "code",
   "execution_count": 18,
   "id": "multiple-territory",
   "metadata": {},
   "outputs": [],
   "source": [
    "response = app.feed_data_point(schema=\"category_ctr\", data_id=\"global\", fields=global_category_ctr)"
   ]
  },
  {
   "cell_type": "markdown",
   "id": "protective-latitude",
   "metadata": {},
   "source": [
    "We need to perform a partial update on the `news` documents to include information about the reference field `category_ctr_ref` and the new `category_tensor` that will have the value `1.0` for the specific category associated with each document."
   ]
  },
  {
   "cell_type": "code",
   "execution_count": 19,
   "id": "coastal-mobile",
   "metadata": {},
   "outputs": [
    {
     "data": {
      "text/plain": [
       "{'id': 'N3112',\n",
       " 'fields': {'category_ctr_ref': 'id:category_ctr:category_ctr::global',\n",
       "  'category_tensor': {'cells': [{'address': {'category': 'lifestyle'},\n",
       "     'value': 1.0}]}}}"
      ]
     },
     "execution_count": 19,
     "metadata": {},
     "output_type": "execute_result"
    }
   ],
   "source": [
    "news_category_ctr = json.loads(\n",
    "    requests.get(\"https://data.vespa.oath.cloud/blog/news/news_category_ctr_update_parsed.json\").text\n",
    ")\n",
    "news_category_ctr[0]"
   ]
  },
  {
   "cell_type": "code",
   "execution_count": 20,
   "id": "passing-london",
   "metadata": {},
   "outputs": [],
   "source": [
    "for data_point in news_category_ctr:\n",
    "    app.update_data(schema=\"news\", data_id=data_point[\"id\"], fields=data_point[\"fields\"])"
   ]
  },
  {
   "cell_type": "markdown",
   "id": "greenhouse-donna",
   "metadata": {},
   "source": [
    "## Testing the new rank-profile"
   ]
  },
  {
   "cell_type": "markdown",
   "id": "joined-wells",
   "metadata": {},
   "source": [
    "We will redefine the `query_user_embedding` function defined in the second part of this tutorial and use it to make a query involving the user `U33527` and the `recommendation_with_global_category_ctr` rank-profile."
   ]
  },
  {
   "cell_type": "code",
   "execution_count": 24,
   "id": "recorded-chair",
   "metadata": {},
   "outputs": [],
   "source": [
    "def parse_embedding(hit_json):\n",
    "    embedding_json = hit_json[\"fields\"][\"embedding\"][\"cells\"]\n",
    "    embedding_vector = [0.0] * len(embedding_json)\n",
    "    for val in embedding_json:\n",
    "        embedding_vector[int(val[\"address\"][\"d0\"])] = val[\"value\"]\n",
    "    return embedding_vector\n",
    "\n",
    "def query_user_embedding(user_id):\n",
    "    result = app.query(body={\"yql\": \"select * from sources user where user_id contains '{}';\".format(user_id)})\n",
    "    embedding = parse_embedding(result.hits[0])\n",
    "    return embedding"
   ]
  },
  {
   "cell_type": "code",
   "execution_count": 25,
   "id": "conscious-color",
   "metadata": {},
   "outputs": [],
   "source": [
    "yql = \"select * from sources news where \" \\\n",
    "      \"([{'targetHits': 10}]nearestNeighbor(embedding, user_embedding));\"\n",
    "result = app.query(\n",
    "    body={\n",
    "        \"yql\": yql,        \n",
    "        \"hits\": 10,\n",
    "        \"ranking.features.query(user_embedding)\": str(query_user_embedding(user_id=\"U33527\")),\n",
    "        \"ranking.profile\": \"recommendation_with_global_category_ctr\"\n",
    "    }\n",
    ")"
   ]
  },
  {
   "cell_type": "markdown",
   "id": "instrumental-sunset",
   "metadata": {},
   "source": [
    "The first hit below is a sports article. The global CTR document is also listed here, and the CTR score for the sports category is `0.0561`. Thus, the result of the category_ctr function is `0.0561` as intended. The nearest_neighbor score is `0.149`, and the resulting relevance score is `0.00836`. So, this worked as expected."
   ]
  },
  {
   "cell_type": "code",
   "execution_count": 27,
   "id": "posted-president",
   "metadata": {},
   "outputs": [
    {
     "data": {
      "text/plain": [
       "{'id': 'id:news:news::N5316',\n",
       " 'relevance': 0.008369192847921151,\n",
       " 'source': 'news_content',\n",
       " 'fields': {'sddocname': 'news',\n",
       "  'documentid': 'id:news:news::N5316',\n",
       "  'news_id': 'N5316',\n",
       "  'category': 'sports',\n",
       "  'subcategory': 'football_nfl',\n",
       "  'title': \"Matthew Stafford's status vs. Bears uncertain, Sam Martin will play\",\n",
       "  'abstract': \"Stafford's start streak could be in jeopardy, according to Ian Rapoport.\",\n",
       "  'url': \"https://www.msn.com/en-us/sports/football_nfl/matthew-stafford's-status-vs.-bears-uncertain,-sam-martin-will-play/ar-BBWwcVN?ocid=chopendata\",\n",
       "  'date': 20191112,\n",
       "  'clicks': 0,\n",
       "  'impressions': 1,\n",
       "  'summaryfeatures': {'attribute(category_tensor)': {'type': 'tensor<float>(category{})',\n",
       "    'cells': [{'address': {'category': 'sports'}, 'value': 1.0}]},\n",
       "   'attribute(global_category_ctrs)': {'type': 'tensor<float>(category{})',\n",
       "    'cells': [{'address': {'category': 'entertainment'},\n",
       "      'value': 0.029266420751810074},\n",
       "     {'address': {'category': 'autos'}, 'value': 0.0284758098423481},\n",
       "     {'address': {'category': 'tv'}, 'value': 0.05374838039278984},\n",
       "     {'address': {'category': 'health'}, 'value': 0.03531784191727638},\n",
       "     {'address': {'category': 'sports'}, 'value': 0.05611187964677811},\n",
       "     {'address': {'category': 'music'}, 'value': 0.05471193045377731},\n",
       "     {'address': {'category': 'news'}, 'value': 0.04420778527855873},\n",
       "     {'address': {'category': 'foodanddrink'}, 'value': 0.029256852343678474},\n",
       "     {'address': {'category': 'travel'}, 'value': 0.025144552811980247},\n",
       "     {'address': {'category': 'finance'}, 'value': 0.032310131937265396},\n",
       "     {'address': {'category': 'lifestyle'}, 'value': 0.044232793152332306},\n",
       "     {'address': {'category': 'video'}, 'value': 0.040066931396722794},\n",
       "     {'address': {'category': 'movies'}, 'value': 0.033356472849845886},\n",
       "     {'address': {'category': 'weather'}, 'value': 0.045321717858314514},\n",
       "     {'address': {'category': 'northamerica'}, 'value': 0.0},\n",
       "     {'address': {'category': 'kids'}, 'value': 0.043478261679410934}]},\n",
       "   'rankingExpression(category_ctr)': 0.05611187964677811,\n",
       "   'rankingExpression(nearest_neighbor)': 0.14915188666574342,\n",
       "   'vespa.summaryFeatures.cached': 0.0}}}"
      ]
     },
     "execution_count": 27,
     "metadata": {},
     "output_type": "execute_result"
    }
   ],
   "source": [
    "result.hits[0]"
   ]
  },
  {
   "cell_type": "markdown",
   "id": "smaller-functionality",
   "metadata": {},
   "source": [
    "## Conclusion"
   ]
  },
  {
   "cell_type": "markdown",
   "id": "mysterious-blink",
   "metadata": {},
   "source": [
    "This tutorial introduced parent-child relationships and demonstrated it through a global CTR feature we used in ranking. We also introduced ranking with (sparse) tensor expressions."
   ]
  }
 ],
 "metadata": {
  "kernelspec": {
   "display_name": "Python 3",
   "language": "python",
   "name": "python3"
  },
  "language_info": {
   "codemirror_mode": {
    "name": "ipython",
    "version": 3
   },
   "file_extension": ".py",
   "mimetype": "text/x-python",
   "name": "python",
   "nbconvert_exporter": "python",
   "pygments_lexer": "ipython3",
   "version": "3.9.1"
  }
 },
 "nbformat": 4,
 "nbformat_minor": 5
}
