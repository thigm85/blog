{
 "cells": [
  {
   "cell_type": "code",
   "execution_count": 9,
   "id": "modified-picnic",
   "metadata": {},
   "outputs": [],
   "source": [
    "%config Completer.use_jedi = False"
   ]
  },
  {
   "cell_type": "markdown",
   "id": "first-separation",
   "metadata": {},
   "source": [
    "## Previous app package"
   ]
  },
  {
   "cell_type": "code",
   "execution_count": 1,
   "id": "false-franklin",
   "metadata": {},
   "outputs": [],
   "source": [
    "from vespa.package import ApplicationPackage\n",
    "\n",
    "app_package = ApplicationPackage(name=\"news\")"
   ]
  },
  {
   "cell_type": "code",
   "execution_count": 2,
   "id": "reliable-stupid",
   "metadata": {},
   "outputs": [],
   "source": [
    "from vespa.package import Field\n",
    "\n",
    "app_package.schema.add_fields(\n",
    "    Field(name=\"news_id\", type=\"string\", indexing=[\"summary\", \"attribute\"], attribute=[\"fast-search\"]),\n",
    "    Field(name=\"category\", type=\"string\", indexing=[\"summary\", \"attribute\"]),\n",
    "    Field(name=\"subcategory\", type=\"string\", indexing=[\"summary\", \"attribute\"]),\n",
    "    Field(name=\"title\", type=\"string\", indexing=[\"index\", \"summary\"], index=\"enable-bm25\"),\n",
    "    Field(name=\"abstract\", type=\"string\", indexing=[\"index\", \"summary\"], index=\"enable-bm25\"),\n",
    "    Field(name=\"url\", type=\"string\", indexing=[\"index\", \"summary\"]),        \n",
    "    Field(name=\"date\", type=\"int\", indexing=[\"summary\", \"attribute\"]),            \n",
    "    Field(name=\"clicks\", type=\"int\", indexing=[\"summary\", \"attribute\"]),            \n",
    "    Field(name=\"impressions\", type=\"int\", indexing=[\"summary\", \"attribute\"]),                \n",
    ")"
   ]
  },
  {
   "cell_type": "code",
   "execution_count": 3,
   "id": "cross-commitment",
   "metadata": {},
   "outputs": [],
   "source": [
    "from vespa.package import FieldSet\n",
    "\n",
    "app_package.schema.add_field_set(\n",
    "    FieldSet(name=\"default\", fields=[\"title\", \"abstract\"])\n",
    ")"
   ]
  },
  {
   "cell_type": "code",
   "execution_count": 4,
   "id": "sharp-administrator",
   "metadata": {},
   "outputs": [],
   "source": [
    "from vespa.package import RankProfile, Function\n",
    "\n",
    "app_package.schema.add_rank_profile(\n",
    "    RankProfile(\n",
    "        name=\"popularity\",\n",
    "        inherits=\"default\",\n",
    "        functions=[\n",
    "            Function(\n",
    "                name=\"popularity\", \n",
    "                expression=\"if (attribute(impressions) > 0, attribute(clicks) / attribute(impressions), 0)\"\n",
    "            )\n",
    "        ], \n",
    "        first_phase=\"nativeRank(title, abstract) + 10 * popularity\"\n",
    "    )\n",
    ")"
   ]
  },
  {
   "cell_type": "code",
   "execution_count": 5,
   "id": "differential-monitoring",
   "metadata": {},
   "outputs": [],
   "source": [
    "from vespa.package import Schema, Document, Field\n",
    "\n",
    "app_package.add_schema(\n",
    "    Schema(\n",
    "        name=\"user\", \n",
    "        document=Document(\n",
    "            fields=[\n",
    "                Field(\n",
    "                    name=\"user_id\", \n",
    "                    type=\"string\", \n",
    "                    indexing=[\"summary\", \"attribute\"], \n",
    "                    attribute=[\"fast-search\"]\n",
    "                ), \n",
    "                Field(\n",
    "                    name=\"embedding\", \n",
    "                    type=\"tensor<float>(d0[51])\", \n",
    "                    indexing=[\"summary\", \"attribute\"]\n",
    "                )\n",
    "            ]\n",
    "        )\n",
    "    )\n",
    ")"
   ]
  },
  {
   "cell_type": "code",
   "execution_count": 6,
   "id": "grave-canvas",
   "metadata": {},
   "outputs": [],
   "source": [
    "from vespa.package import Field, HNSW\n",
    "\n",
    "app_package.get_schema(name=\"news\").add_fields(\n",
    "    Field(\n",
    "        name=\"embedding\", \n",
    "        type=\"tensor<float>(d0[51])\", \n",
    "        indexing=[\"attribute\", \"index\"],\n",
    "        ann=HNSW(distance_metric=\"euclidean\")\n",
    "    )\n",
    ")"
   ]
  },
  {
   "cell_type": "code",
   "execution_count": 7,
   "id": "amino-array",
   "metadata": {},
   "outputs": [],
   "source": [
    "from vespa.package import RankProfile\n",
    "\n",
    "app_package.get_schema(name=\"news\").add_rank_profile(\n",
    "    RankProfile(\n",
    "        name=\"recommendation\", \n",
    "        inherits=\"default\", \n",
    "        first_phase=\"closeness(field, embedding)\"\n",
    "    )\n",
    ")"
   ]
  },
  {
   "cell_type": "code",
   "execution_count": 8,
   "id": "twenty-visit",
   "metadata": {},
   "outputs": [],
   "source": [
    "from vespa.package import QueryTypeField\n",
    "\n",
    "app_package.query_profile_type.add_fields(\n",
    "    QueryTypeField(\n",
    "        name=\"ranking.features.query(user_embedding)\", \n",
    "        type=\"tensor<float>(d0[51])\"\n",
    "    )\n",
    ")"
   ]
  },
  {
   "cell_type": "markdown",
   "id": "coupled-comparative",
   "metadata": {},
   "source": [
    "--------"
   ]
  },
  {
   "cell_type": "markdown",
   "id": "amended-engineering",
   "metadata": {},
   "source": [
    "# Build a News recommendation app from python with Vespa\n",
    "\n",
    "> Part 3 - Efficient use of click-through rate via parent-child relationship\n",
    "\n",
    "- toc: true \n",
    "- badges: false\n",
    "- comments: true\n",
    "- categories: [vespa, pyvespa, news recommendation, MIND]"
   ]
  },
  {
   "cell_type": "markdown",
   "id": "creative-capacity",
   "metadata": {},
   "source": [
    "In this part of the series, we’ll introduce a new ranking signal: category click-through rate (CTR). The idea is that we can recommend popular content for users that don’t have a click history yet. Rather than just recommending based on articles, we recommend based on categories. However, these global CTR values can often change continuously, so we need an efficient way to update this value for all documents. We’ll do that by introducing parent-child relationships between documents in Vespa. We will also use sparse tensors directly in ranking."
   ]
  },
  {
   "cell_type": "markdown",
   "id": "lonely-probability",
   "metadata": {},
   "source": [
    "We assume that you have followed the [news recommendation tutorial](https://blog.vespa.ai/build-news-recommendation-app-from-python-with-vespa/). Therefore, you should have an `app_package` variable holding the news app definition and a Docker container named `news` running the application fed with data from the demo version of the MIND dataset."
   ]
  },
  {
   "cell_type": "markdown",
   "id": "healthy-flight",
   "metadata": {},
   "source": [
    "## Setting up a global category CTR document"
   ]
  },
  {
   "cell_type": "markdown",
   "id": "unnecessary-choir",
   "metadata": {},
   "source": [
    "If we add a `category_ctr` field in the `news` document, we would have to update all the sport's document every time there is a change in the sport's CTR statistic. If we assume that the category CTR will change often, this turns out to be inneficient."
   ]
  },
  {
   "cell_type": "markdown",
   "id": "combined-triangle",
   "metadata": {},
   "source": [
    "For these cases, Vespa introduced the parent-child relationship. Parents are global documents, which are automatically distributed to all content nodes. Other documents can reference these parents and “import” values for use in ranking. The benefit is that the global category CTR values only need to be written to one place: the global document."
   ]
  },
  {
   "cell_type": "code",
   "execution_count": null,
   "id": "heated-import",
   "metadata": {},
   "outputs": [],
   "source": [
    "from vespa.package import Schema, Document, Field\n",
    "\n",
    "app_package.add_schema(\n",
    "    Schema(\n",
    "        name=\"category_ctr\",\n",
    "        global_document=True,\n",
    "        document=Document(\n",
    "            fields=[\n",
    "                Field(\n",
    "                    name=\"ctrs\", \n",
    "                    type=\"tensor<float>(category{})\", \n",
    "                    indexing=[\"attribute\"], \n",
    "                    attribute=[\"fast-search\"]\n",
    "                ), \n",
    "            ]\n",
    "        )\n",
    "    )\n",
    ")"
   ]
  },
  {
   "cell_type": "markdown",
   "id": "native-broadcasting",
   "metadata": {},
   "source": [
    "We implement that by creating a new `category_ctr` schema and setting `global_document=True` to indicate that we want Vespa to keep a copy of these documents on all content nodes. This is required for using it in a parent-child relationship. Note that we use a tensor with a single sparse dimension to hold the `ctrs` data."
   ]
  },
  {
   "cell_type": "markdown",
   "id": "varying-venice",
   "metadata": {},
   "source": [
    "Sparse tensors have strings as dimension addresses rather than a numeric index. More concretely, an example of such a tensor is (using the [tensor literal form](https://docs.vespa.ai/en/reference/tensor.html#tensor-literal-form)):"
   ]
  },
  {
   "cell_type": "markdown",
   "id": "wicked-baseline",
   "metadata": {},
   "source": [
    "{\n",
    "    {category: entertainment}: 0.2 }, \n",
    "    {category: news}: 0.3 },\n",
    "    {category: sports}: 0.5 },\n",
    "    {category: travel}: 0.4 },\n",
    "    {category: finance}: 0.1 },\n",
    "    ...\n",
    "}"
   ]
  },
  {
   "cell_type": "markdown",
   "id": "derived-design",
   "metadata": {},
   "source": [
    "This tensor holds all the CTR scores for all the categories. When updating this tensor, we can update individual cells if we don’t need to update the whole tensor. This is called [tensor modify](https://docs.vespa.ai/en/reference/document-json-format.html#tensor-modify) and can be helpful when you have large tensors."
   ]
  },
  {
   "cell_type": "markdown",
   "id": "revised-domestic",
   "metadata": {},
   "source": [
    "## Importing parent values in child documents"
   ]
  },
  {
   "cell_type": "markdown",
   "id": "spiritual-doctrine",
   "metadata": {},
   "source": [
    "There are two things to setup to use the `category_ctr` tensor when ranking `news` documents. We need to create a reference to the parent document (`category_ctr` in this case) and import the `ctrs` from the referenced parent document."
   ]
  },
  {
   "cell_type": "code",
   "execution_count": null,
   "id": "naked-wheel",
   "metadata": {},
   "outputs": [],
   "source": [
    "app_package.get_schema(\"news\").add_fields(\n",
    "    Field(\n",
    "        name=\"category_ctr_ref\",\n",
    "        type=\"reference<category_ctr>\",\n",
    "        indexing=[\"attribute\"],\n",
    "    )\n",
    ")"
   ]
  },
  {
   "cell_type": "markdown",
   "id": "comic-brunei",
   "metadata": {},
   "source": [
    "The field `category_ctr_ref` is a field of type reference of the `category_ctr` document type. When feeding this field, Vespa expects the fully qualified document id. For instance, if our global CTR document has the id `id:category_ctr:category_ctr::global`, that is what this field must be set to. Usually, there are many parent documents that children can reference, but our application will only hold one."
   ]
  },
  {
   "cell_type": "code",
   "execution_count": null,
   "id": "quality-passion",
   "metadata": {},
   "outputs": [],
   "source": [
    "app_package.get_schema(\"news\").add_imported_field(\n",
    "    ImportedField(\n",
    "        name=\"global_category_ctrs\",\n",
    "        reference_field=\"category_ctr_ref\",\n",
    "        field_to_import=\"ctrs\",\n",
    "    )\n",
    ")"
   ]
  },
  {
   "cell_type": "markdown",
   "id": "collected-breakdown",
   "metadata": {},
   "source": [
    "The imported field defines that we should import the `ctrs` field from the document referenced in the `category_ctr_ref` field. We name this as `global_category_ctrs`, and we can reference this as `attribute(global_category_ctrs)` during ranking."
   ]
  },
  {
   "cell_type": "markdown",
   "id": "binding-reproduction",
   "metadata": {},
   "source": [
    "## Tensor expressions in ranking"
   ]
  },
  {
   "cell_type": "code",
   "execution_count": null,
   "id": "usual-consideration",
   "metadata": {},
   "outputs": [],
   "source": []
  },
  {
   "cell_type": "code",
   "execution_count": null,
   "id": "prime-still",
   "metadata": {},
   "outputs": [],
   "source": []
  },
  {
   "cell_type": "code",
   "execution_count": null,
   "id": "alpine-stroke",
   "metadata": {},
   "outputs": [],
   "source": []
  },
  {
   "cell_type": "code",
   "execution_count": null,
   "id": "flush-illustration",
   "metadata": {},
   "outputs": [],
   "source": []
  },
  {
   "cell_type": "code",
   "execution_count": null,
   "id": "catholic-heritage",
   "metadata": {},
   "outputs": [],
   "source": []
  },
  {
   "cell_type": "code",
   "execution_count": null,
   "id": "preceding-narrow",
   "metadata": {},
   "outputs": [],
   "source": [
    "from vespa.package import VespaDocker\n",
    "\n",
    "vespa_docker = VespaDocker.from_container_name_or_id(\"news\")\n",
    "app = vespa_docker.deploy(application_package=app_package)"
   ]
  }
 ],
 "metadata": {
  "kernelspec": {
   "display_name": "Python 3",
   "language": "python",
   "name": "python3"
  },
  "language_info": {
   "codemirror_mode": {
    "name": "ipython",
    "version": 3
   },
   "file_extension": ".py",
   "mimetype": "text/x-python",
   "name": "python",
   "nbconvert_exporter": "python",
   "pygments_lexer": "ipython3",
   "version": "3.9.1"
  }
 },
 "nbformat": 4,
 "nbformat_minor": 5
}
