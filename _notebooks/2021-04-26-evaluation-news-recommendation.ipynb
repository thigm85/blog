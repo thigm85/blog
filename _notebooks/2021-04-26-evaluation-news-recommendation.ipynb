{
 "cells": [
  {
   "cell_type": "markdown",
   "id": "exposed-remainder",
   "metadata": {},
   "source": [
    "We built and deployed a news recommendation system based on user and news embeddings in [part 2](https://blog.vespa.ai/build-news-recommendation-app-from-python-with-vespa/) of this tutorial series. The embeddings were trained using the model depicted in the figure below and described in detail [here](https://docs.vespa.ai/en/tutorials/news-4-embeddings.html). In this tutorial we show how to check if the embeddings deployed in the recommendation system are working as expected. Checking evaluation metrics of the final search application is at least as important as cheking evaluation metrics when training a model. We want `pyvespa` to make this process as easy as possible."
   ]
  },
  {
   "cell_type": "markdown",
   "id": "cathedral-index",
   "metadata": {},
   "source": [
    "![Embedding's model](data/2021-04-26-evaluation-news-recommendation/embeddings.png)"
   ]
  },
  {
   "cell_type": "markdown",
   "id": "linear-liquid",
   "metadata": {},
   "source": [
    "When training the model we observed the following training and evaluation metrics over the course of 10 epochs."
   ]
  },
  {
   "cell_type": "code",
   "execution_count": null,
   "id": "neither-breed",
   "metadata": {},
   "outputs": [],
   "source": [
    "$ python3 src/python/train_cold_start.py mind 10\n",
    "Total loss after epoch 1: 920.5855102539062 (0.703811526298523 avg)\n",
    "{'auc': 0.5391, 'mrr': 0.2367, 'ndcg@5': 0.2464, 'ndcg@10': 0.3059}\n",
    "{'auc': 0.5131, 'mrr': 0.2239, 'ndcg@5': 0.2296, 'ndcg@10': 0.2933}\n",
    "Total loss after epoch 2: 761.7719116210938 (0.5823944211006165 avg)\n",
    "{'auc': 0.647, 'mrr': 0.2992, 'ndcg@5': 0.3246, 'ndcg@10': 0.3829}\n",
    "{'auc': 0.5656, 'mrr': 0.2447, 'ndcg@5': 0.2604, 'ndcg@10': 0.3255}\n",
    "...\n",
    "Total loss after epoch 10: 517.16748046875 (0.3953879773616791 avg)\n",
    "{'auc': 0.8758, 'mrr': 0.5074, 'ndcg@5': 0.5818, 'ndcg@10': 0.6316}\n",
    "{'auc': 0.6249, 'mrr': 0.2842, 'ndcg@5': 0.3114, 'ndcg@10': 0.3733}"
   ]
  },
  {
   "cell_type": "markdown",
   "id": "returning-ordinance",
   "metadata": {},
   "source": [
    "Once we have deployed the embeddings in our recommendation system, we should check if we can recover similar evaluation metrics when sending the appropriate queries to the application."
   ]
  },
  {
   "cell_type": "code",
   "execution_count": 21,
   "id": "funny-isolation",
   "metadata": {},
   "outputs": [],
   "source": [
    "import requests, json\n",
    "\n",
    "validation_impressions = json.loads(\n",
    "    requests.get(\"https://data.vespa.oath.cloud/blog/news/valid_impressions_parsed.json\").text\n",
    ")\n",
    "validation_impressions[11]"
   ]
  },
  {
   "cell_type": "code",
   "execution_count": 36,
   "id": "voluntary-diagram",
   "metadata": {},
   "outputs": [
    {
     "data": {
      "text/plain": [
       "{'query_id': 11,\n",
       " 'query': 'U2505',\n",
       " 'relevant_docs': [{'id': 'N26508', 'score': 0}, {'id': 'N20150', 'score': 1}]}"
      ]
     },
     "execution_count": 36,
     "metadata": {},
     "output_type": "execute_result"
    }
   ],
   "source": [
    "validation_impressions[11]"
   ]
  },
  {
   "cell_type": "code",
   "execution_count": 31,
   "id": "varying-museum",
   "metadata": {},
   "outputs": [
    {
     "data": {
      "text/plain": [
       "295"
      ]
     },
     "execution_count": 31,
     "metadata": {},
     "output_type": "execute_result"
    }
   ],
   "source": [
    "max([len(d[\"relevant_docs\"]) for idx, d in enumerate(validation_impressions)])"
   ]
  },
  {
   "cell_type": "code",
   "execution_count": 52,
   "id": "editorial-treasury",
   "metadata": {},
   "outputs": [],
   "source": [
    "from vespa.application import Vespa\n",
    "\n",
    "app = Vespa(url = \"http://localhost\", port = 8080)"
   ]
  },
  {
   "cell_type": "code",
   "execution_count": 57,
   "id": "international-oxygen",
   "metadata": {},
   "outputs": [],
   "source": [
    "def parse_embedding(hit_json):\n",
    "    embedding_json = hit_json[\"fields\"][\"embedding\"][\"cells\"]\n",
    "    embedding_vector = [0.0] * len(embedding_json)\n",
    "    for val in embedding_json:\n",
    "        embedding_vector[int(val[\"address\"][\"d0\"])] = val[\"value\"]\n",
    "    return embedding_vector\n",
    "\n",
    "def query_user_embedding(query):\n",
    "    result = app.query(body={\"yql\": \"select * from sources user where user_id contains '{}';\".format(query)})\n",
    "    embedding = parse_embedding(result.hits[0])\n",
    "    return embedding\n",
    "\n",
    "def create_relevant_docs_per_query(data):\n",
    "    return {x[\"query\"]:x[\"relevant_docs\"] for x in data}"
   ]
  },
  {
   "cell_type": "code",
   "execution_count": 61,
   "id": "affiliated-particular",
   "metadata": {},
   "outputs": [],
   "source": [
    "def body_function(query, relevant_docs_per_query):\n",
    "    relevant_docs = relevant_docs_per_query[query]\n",
    "    user_embedding = query_user_embedding(query) \n",
    "    hits = len(relevant_docs)\n",
    "    nn_annotations = [\n",
    "        '\"targetHits\":{}'.format(hits)\n",
    "    ]\n",
    "    nn_annotations = \"{\" + \",\".join(nn_annotations) + \"}\"\n",
    "    nn_search = \"([{}]nearestNeighbor(embedding, user_embedding))\".format(nn_annotations)\n",
    "\n",
    "    news_id_filter = [ 'news_id contains \"{}\"'.format(i[\"id\"]) for i in relevant_docs ]\n",
    "    news_id_filter = \" OR \".join(news_id_filter)\n",
    "\n",
    "    data = {\n",
    "        \"hits\": hits,\n",
    "        \"yql\": 'select * from sources news where {} AND ({});'.format(nn_search, news_id_filter),\n",
    "        \"ranking.features.query(user_embedding)\": str(user_embedding),\n",
    "        \"ranking.profile\": \"recommendation\",\n",
    "        \"timeout\": 10\n",
    "    }\n",
    "    return data"
   ]
  },
  {
   "cell_type": "code",
   "execution_count": null,
   "id": "coordinate-writer",
   "metadata": {},
   "outputs": [],
   "source": []
  },
  {
   "cell_type": "code",
   "execution_count": 59,
   "id": "liquid-tennessee",
   "metadata": {},
   "outputs": [],
   "source": [
    "from vespa.evaluation import ReciprocalRank, NormalizedDiscountedCumulativeGain\n",
    "\n",
    "eval_metrics = [NormalizedDiscountedCumulativeGain(at=5), NormalizedDiscountedCumulativeGain(at=10)]"
   ]
  },
  {
   "cell_type": "code",
   "execution_count": 63,
   "id": "portuguese-running",
   "metadata": {},
   "outputs": [],
   "source": [
    "from vespa.query import QueryModel\n",
    "\n",
    "evaluation = app.evaluate(\n",
    "    labeled_data=validation_impressions, \n",
    "    eval_metrics=eval_metrics, \n",
    "    query_model=QueryModel(\n",
    "        body_function = lambda query: body_function(query, create_relevant_docs_per_query(validation_impressions))\n",
    "    ), \n",
    "    id_field=\"news_id\"\n",
    ")"
   ]
  },
  {
   "cell_type": "code",
   "execution_count": 64,
   "id": "accessible-humidity",
   "metadata": {},
   "outputs": [
    {
     "data": {
      "text/html": [
       "<div>\n",
       "<style scoped>\n",
       "    .dataframe tbody tr th:only-of-type {\n",
       "        vertical-align: middle;\n",
       "    }\n",
       "\n",
       "    .dataframe tbody tr th {\n",
       "        vertical-align: top;\n",
       "    }\n",
       "\n",
       "    .dataframe thead th {\n",
       "        text-align: right;\n",
       "    }\n",
       "</style>\n",
       "<table border=\"1\" class=\"dataframe\">\n",
       "  <thead>\n",
       "    <tr style=\"text-align: right;\">\n",
       "      <th></th>\n",
       "      <th>model</th>\n",
       "      <th>default_name</th>\n",
       "    </tr>\n",
       "  </thead>\n",
       "  <tbody>\n",
       "    <tr>\n",
       "      <th rowspan=\"3\" valign=\"top\">ndcg_5</th>\n",
       "      <th>mean</th>\n",
       "      <td>0.250714</td>\n",
       "    </tr>\n",
       "    <tr>\n",
       "      <th>median</th>\n",
       "      <td>0.000000</td>\n",
       "    </tr>\n",
       "    <tr>\n",
       "      <th>std</th>\n",
       "      <td>0.348415</td>\n",
       "    </tr>\n",
       "    <tr>\n",
       "      <th rowspan=\"3\" valign=\"top\">ndcg_10</th>\n",
       "      <th>mean</th>\n",
       "      <td>0.293698</td>\n",
       "    </tr>\n",
       "    <tr>\n",
       "      <th>median</th>\n",
       "      <td>0.295047</td>\n",
       "    </tr>\n",
       "    <tr>\n",
       "      <th>std</th>\n",
       "      <td>0.331311</td>\n",
       "    </tr>\n",
       "  </tbody>\n",
       "</table>\n",
       "</div>"
      ],
      "text/plain": [
       "model           default_name\n",
       "ndcg_5  mean        0.250714\n",
       "        median      0.000000\n",
       "        std         0.348415\n",
       "ndcg_10 mean        0.293698\n",
       "        median      0.295047\n",
       "        std         0.331311"
      ]
     },
     "execution_count": 64,
     "metadata": {},
     "output_type": "execute_result"
    }
   ],
   "source": [
    "evaluation"
   ]
  },
  {
   "cell_type": "code",
   "execution_count": 68,
   "id": "amended-diary",
   "metadata": {},
   "outputs": [
    {
     "name": "stdout",
     "output_type": "stream",
     "text": [
      "Reading impressions data from data/2021-03-02-news/mind/train/behaviors.tsv\n",
      "Completed 100 / 22034\n",
      "Completed 200 / 22034\n",
      "Completed 300 / 22034\n",
      "Completed 400 / 22034\n",
      "Completed 500 / 22034\n",
      "Completed 600 / 22034\n",
      "Completed 700 / 22034\n",
      "Completed 800 / 22034\n",
      "Completed 900 / 22034\n",
      "Completed 1000 / 22034\n",
      "Completed 1100 / 22034\n",
      "Completed 1200 / 22034\n",
      "Completed 1300 / 22034\n",
      "Completed 1400 / 22034\n",
      "Completed 1500 / 22034\n",
      "Completed 1600 / 22034\n",
      "Completed 1700 / 22034\n",
      "Completed 1800 / 22034\n",
      "Completed 1900 / 22034\n",
      "Completed 2000 / 22034\n",
      "Completed 2100 / 22034\n",
      "Completed 2200 / 22034\n",
      "Completed 2300 / 22034\n",
      "Completed 2400 / 22034\n",
      "Completed 2500 / 22034\n",
      "Completed 2600 / 22034\n",
      "Completed 2700 / 22034\n",
      "Completed 2800 / 22034\n",
      "Completed 2900 / 22034\n",
      "Completed 3000 / 22034\n",
      "Completed 3100 / 22034\n",
      "Completed 3200 / 22034\n",
      "Completed 3300 / 22034\n",
      "Completed 3400 / 22034\n",
      "Completed 3500 / 22034\n",
      "Completed 3600 / 22034\n",
      "Completed 3700 / 22034\n",
      "Completed 3800 / 22034\n",
      "Completed 3900 / 22034\n",
      "Completed 4000 / 22034\n",
      "Completed 4100 / 22034\n",
      "Completed 4200 / 22034\n",
      "Completed 4300 / 22034\n",
      "Completed 4400 / 22034\n",
      "Completed 4500 / 22034\n",
      "Completed 4600 / 22034\n",
      "Completed 4700 / 22034\n",
      "Completed 4800 / 22034\n",
      "Completed 4900 / 22034\n",
      "Completed 5000 / 22034\n",
      "Completed 5100 / 22034\n",
      "Completed 5200 / 22034\n",
      "Completed 5300 / 22034\n",
      "Completed 5400 / 22034\n",
      "Completed 5500 / 22034\n",
      "Completed 5600 / 22034\n",
      "Completed 5700 / 22034\n",
      "Completed 5800 / 22034\n",
      "Completed 5900 / 22034\n",
      "Completed 6000 / 22034\n",
      "Completed 6100 / 22034\n",
      "Completed 6200 / 22034\n",
      "Completed 6300 / 22034\n",
      "Completed 6400 / 22034\n",
      "Completed 6500 / 22034\n",
      "Completed 6600 / 22034\n",
      "Completed 6700 / 22034\n",
      "Completed 6800 / 22034\n",
      "Completed 6900 / 22034\n",
      "Completed 7000 / 22034\n",
      "Completed 7100 / 22034\n",
      "Completed 7200 / 22034\n",
      "Completed 7300 / 22034\n",
      "Completed 7400 / 22034\n",
      "Completed 7500 / 22034\n",
      "Completed 7600 / 22034\n",
      "Completed 7700 / 22034\n",
      "Completed 7800 / 22034\n",
      "Completed 7900 / 22034\n",
      "Completed 8000 / 22034\n",
      "Completed 8100 / 22034\n",
      "Completed 8200 / 22034\n",
      "Completed 8300 / 22034\n",
      "Completed 8400 / 22034\n",
      "Completed 8500 / 22034\n",
      "Completed 8600 / 22034\n",
      "Completed 8700 / 22034\n",
      "Completed 8800 / 22034\n",
      "Completed 8900 / 22034\n",
      "Completed 9000 / 22034\n",
      "Completed 9100 / 22034\n",
      "Completed 9200 / 22034\n",
      "Completed 9300 / 22034\n",
      "Completed 9400 / 22034\n",
      "Completed 9500 / 22034\n",
      "Completed 9600 / 22034\n",
      "Completed 9700 / 22034\n",
      "Completed 9800 / 22034\n",
      "Completed 9900 / 22034\n",
      "Completed 10000 / 22034\n",
      "Completed 10100 / 22034\n",
      "Completed 10200 / 22034\n",
      "Completed 10300 / 22034\n",
      "Completed 10400 / 22034\n",
      "Completed 10500 / 22034\n",
      "Completed 10600 / 22034\n",
      "Completed 10700 / 22034\n",
      "Completed 10800 / 22034\n",
      "Completed 10900 / 22034\n",
      "Completed 11000 / 22034\n",
      "Completed 11100 / 22034\n",
      "Completed 11200 / 22034\n",
      "Completed 11300 / 22034\n",
      "Completed 11400 / 22034\n",
      "Completed 11500 / 22034\n",
      "Completed 11600 / 22034\n",
      "Completed 11700 / 22034\n",
      "Completed 11800 / 22034\n",
      "Completed 11900 / 22034\n",
      "Completed 12000 / 22034\n",
      "Completed 12100 / 22034\n",
      "Completed 12200 / 22034\n",
      "Completed 12300 / 22034\n",
      "Completed 12400 / 22034\n",
      "Completed 12500 / 22034\n",
      "Completed 12600 / 22034\n",
      "Completed 12700 / 22034\n",
      "Completed 12800 / 22034\n",
      "Completed 12900 / 22034\n",
      "Completed 13000 / 22034\n",
      "Completed 13100 / 22034\n",
      "Completed 13200 / 22034\n",
      "Completed 13300 / 22034\n",
      "Completed 13400 / 22034\n",
      "Completed 13500 / 22034\n",
      "Completed 13600 / 22034\n",
      "Completed 13700 / 22034\n",
      "Completed 13800 / 22034\n",
      "Completed 13900 / 22034\n",
      "Completed 14000 / 22034\n",
      "Completed 14100 / 22034\n",
      "Completed 14200 / 22034\n",
      "Completed 14300 / 22034\n",
      "Completed 14400 / 22034\n",
      "Completed 14500 / 22034\n",
      "Completed 14600 / 22034\n",
      "Completed 14700 / 22034\n",
      "Completed 14800 / 22034\n",
      "Completed 14900 / 22034\n",
      "Completed 15000 / 22034\n",
      "Completed 15100 / 22034\n",
      "Completed 15200 / 22034\n",
      "Completed 15300 / 22034\n",
      "Completed 15400 / 22034\n",
      "Completed 15500 / 22034\n",
      "Completed 15600 / 22034\n",
      "Completed 15700 / 22034\n",
      "Completed 15800 / 22034\n",
      "Completed 15900 / 22034\n",
      "Completed 16000 / 22034\n",
      "Completed 16100 / 22034\n",
      "Completed 16200 / 22034\n",
      "Completed 16300 / 22034\n",
      "Completed 16400 / 22034\n",
      "Completed 16500 / 22034\n",
      "Completed 16600 / 22034\n",
      "Completed 16700 / 22034\n",
      "Completed 16800 / 22034\n",
      "Completed 16900 / 22034\n",
      "Completed 17000 / 22034\n",
      "Completed 17100 / 22034\n",
      "Completed 17200 / 22034\n",
      "Completed 17300 / 22034\n",
      "Completed 17400 / 22034\n",
      "Completed 17500 / 22034\n",
      "Completed 17600 / 22034\n",
      "Completed 17700 / 22034\n",
      "Completed 17800 / 22034\n",
      "Completed 17900 / 22034\n",
      "Completed 18000 / 22034\n",
      "Completed 18100 / 22034\n",
      "Completed 18200 / 22034\n",
      "Completed 18300 / 22034\n",
      "Completed 18400 / 22034\n",
      "Completed 18500 / 22034\n",
      "Completed 18600 / 22034\n",
      "Completed 18700 / 22034\n",
      "Completed 18800 / 22034\n",
      "Completed 18900 / 22034\n",
      "Completed 19000 / 22034\n",
      "Completed 19100 / 22034\n",
      "Completed 19200 / 22034\n",
      "Completed 19300 / 22034\n",
      "Completed 19400 / 22034\n",
      "Completed 19500 / 22034\n",
      "Completed 19600 / 22034\n",
      "Completed 19700 / 22034\n",
      "Completed 19800 / 22034\n",
      "Completed 19900 / 22034\n",
      "Completed 20000 / 22034\n",
      "Completed 20100 / 22034\n",
      "Completed 20200 / 22034\n",
      "Completed 20300 / 22034\n",
      "Completed 20400 / 22034\n",
      "Completed 20500 / 22034\n",
      "Completed 20600 / 22034\n",
      "Completed 20700 / 22034\n",
      "Completed 20800 / 22034\n",
      "Completed 20900 / 22034\n",
      "Completed 21000 / 22034\n",
      "Completed 21100 / 22034\n",
      "Completed 21200 / 22034\n",
      "Completed 21300 / 22034\n",
      "Completed 21400 / 22034\n",
      "Completed 21500 / 22034\n",
      "Completed 21600 / 22034\n",
      "Completed 21700 / 22034\n",
      "Completed 21800 / 22034\n",
      "Completed 21900 / 22034\n",
      "Completed 22000 / 22034\n",
      "Reading impressions data from data/2021-03-02-news/mind/dev/behaviors.tsv\n",
      "Completed 100 / 7538\n",
      "Completed 200 / 7538\n",
      "Completed 300 / 7538\n",
      "Completed 400 / 7538\n",
      "Completed 500 / 7538\n",
      "Completed 600 / 7538\n",
      "Completed 700 / 7538\n",
      "Completed 800 / 7538\n",
      "Completed 900 / 7538\n",
      "Completed 1000 / 7538\n",
      "Completed 1100 / 7538\n",
      "Completed 1200 / 7538\n",
      "Completed 1300 / 7538\n",
      "Completed 1400 / 7538\n",
      "Completed 1500 / 7538\n",
      "Completed 1600 / 7538\n",
      "Completed 1700 / 7538\n",
      "Completed 1800 / 7538\n",
      "Completed 1900 / 7538\n",
      "Completed 2000 / 7538\n",
      "Completed 2100 / 7538\n",
      "Completed 2200 / 7538\n",
      "Completed 2300 / 7538\n",
      "Completed 2400 / 7538\n",
      "Completed 2500 / 7538\n",
      "Completed 2600 / 7538\n",
      "Completed 2700 / 7538\n",
      "Completed 2800 / 7538\n",
      "Completed 2900 / 7538\n",
      "Completed 3000 / 7538\n",
      "Completed 3100 / 7538\n",
      "Completed 3200 / 7538\n",
      "Completed 3300 / 7538\n",
      "Completed 3400 / 7538\n",
      "Completed 3500 / 7538\n",
      "Completed 3600 / 7538\n",
      "Completed 3700 / 7538\n",
      "Completed 3800 / 7538\n",
      "Completed 3900 / 7538\n",
      "Completed 4000 / 7538\n",
      "Completed 4100 / 7538\n",
      "Completed 4200 / 7538\n",
      "Completed 4300 / 7538\n",
      "Completed 4400 / 7538\n",
      "Completed 4500 / 7538\n",
      "Completed 4600 / 7538\n",
      "Completed 4700 / 7538\n",
      "Completed 4800 / 7538\n",
      "Completed 4900 / 7538\n",
      "Completed 5000 / 7538\n",
      "Completed 5100 / 7538\n",
      "Completed 5200 / 7538\n",
      "Completed 5300 / 7538\n",
      "Completed 5400 / 7538\n",
      "Completed 5500 / 7538\n",
      "Completed 5600 / 7538\n",
      "Completed 5700 / 7538\n",
      "Completed 5800 / 7538\n",
      "Completed 5900 / 7538\n",
      "Completed 6000 / 7538\n",
      "Completed 6100 / 7538\n",
      "Completed 6200 / 7538\n",
      "Completed 6300 / 7538\n",
      "Completed 6400 / 7538\n",
      "Completed 6500 / 7538\n",
      "Completed 6600 / 7538\n",
      "Completed 6700 / 7538\n",
      "Completed 6800 / 7538\n",
      "Completed 6900 / 7538\n",
      "Completed 7000 / 7538\n",
      "Completed 7100 / 7538\n",
      "Completed 7200 / 7538\n",
      "Completed 7300 / 7538\n",
      "Completed 7400 / 7538\n",
      "Completed 7500 / 7538\n",
      "Train: {'auc': 0.8745, 'mrr': 0.5052, 'ndcg@5': 0.5793, 'ndcg@10': 0.6293}\n",
      "Valid: {'auc': 0.6246, 'mrr': 0.2842, 'ndcg@5': 0.3112, 'ndcg@10': 0.3731}\n"
     ]
    }
   ],
   "source": [
    "!sample-apps/news/src/python/evaluate.py data/2021-03-02-news/mind 0"
   ]
  },
  {
   "cell_type": "code",
   "execution_count": null,
   "id": "beneficial-color",
   "metadata": {},
   "outputs": [],
   "source": []
  },
  {
   "cell_type": "code",
   "execution_count": null,
   "id": "incorporated-enzyme",
   "metadata": {},
   "outputs": [],
   "source": []
  },
  {
   "cell_type": "code",
   "execution_count": null,
   "id": "amino-yellow",
   "metadata": {},
   "outputs": [],
   "source": []
  },
  {
   "cell_type": "code",
   "execution_count": 32,
   "id": "viral-passing",
   "metadata": {},
   "outputs": [],
   "source": [
    "%config Completer.use_jedi = False"
   ]
  },
  {
   "cell_type": "code",
   "execution_count": 2,
   "id": "streaming-backup",
   "metadata": {},
   "outputs": [],
   "source": [
    "import io, csv\n",
    "\n",
    "def read_impressions_file(file_name):\n",
    "    impressions = []\n",
    "    if not os.path.exists(file_name):\n",
    "        print(\"{} not found.\".format(file_name))\n",
    "        sys.exit(1)\n",
    "    print(\"Reading impressions data from \" + file_name)\n",
    "\n",
    "    with io.open(file_name, \"r\", encoding=\"utf-8\") as f:\n",
    "        field_list = [\"id\", \"user_id\", \"timestamp\", \"history\", \"impressions\"]\n",
    "        reader = csv.DictReader(f, delimiter=\"\\t\", fieldnames=field_list)\n",
    "        for line in reader:\n",
    "            user_id = line[\"user_id\"]\n",
    "            impression = {\n",
    "                \"user_id\": user_id,\n",
    "                \"news_ids\": [],\n",
    "                \"labels\": []\n",
    "            }\n",
    "            for i in line[\"impressions\"].split(\" \"):\n",
    "                news_id, label = i.split(\"-\")\n",
    "                impression[\"news_ids\"].append(news_id)\n",
    "                impression[\"labels\"].append(int(label))\n",
    "            impressions.append(impression)\n",
    "    return impressions"
   ]
  },
  {
   "cell_type": "code",
   "execution_count": 3,
   "id": "cheap-provincial",
   "metadata": {},
   "outputs": [],
   "source": [
    "import os\n",
    "\n",
    "data_dir = \"data/2021-03-02-news/mind/\"\n",
    "train_impressions_file = os.path.join(data_dir, \"train\", \"behaviors.tsv\")\n",
    "valid_impressions_file = os.path.join(data_dir, \"dev\", \"behaviors.tsv\")"
   ]
  },
  {
   "cell_type": "code",
   "execution_count": 4,
   "id": "mathematical-settlement",
   "metadata": {},
   "outputs": [
    {
     "name": "stdout",
     "output_type": "stream",
     "text": [
      "Reading impressions data from data/2021-03-02-news/mind/train/behaviors.tsv\n",
      "Reading impressions data from data/2021-03-02-news/mind/dev/behaviors.tsv\n"
     ]
    }
   ],
   "source": [
    "train_impressions = read_impressions_file(train_impressions_file)\n",
    "valid_impressions = read_impressions_file(valid_impressions_file)"
   ]
  },
  {
   "cell_type": "code",
   "execution_count": 7,
   "id": "regulated-jenny",
   "metadata": {},
   "outputs": [],
   "source": [
    "parsed_train_impressions = [{\"query_id\": idx, \"query\": d[\"user_id\"], \"relevant_docs\": [{\"id\": news_id, \"score\": label} for news_id, label in zip(d[\"news_ids\"], d[\"labels\"])]} for idx, d in enumerate(train_impressions)]"
   ]
  },
  {
   "cell_type": "code",
   "execution_count": 9,
   "id": "controlling-monte",
   "metadata": {},
   "outputs": [],
   "source": [
    "parsed_valid_impressions = [{\"query_id\": idx, \"query\": d[\"user_id\"], \"relevant_docs\": [{\"id\": news_id, \"score\": label} for news_id, label in zip(d[\"news_ids\"], d[\"labels\"])]} for idx, d in enumerate(valid_impressions)]"
   ]
  },
  {
   "cell_type": "code",
   "execution_count": 10,
   "id": "written-friendship",
   "metadata": {},
   "outputs": [
    {
     "data": {
      "text/plain": [
       "22034"
      ]
     },
     "execution_count": 10,
     "metadata": {},
     "output_type": "execute_result"
    }
   ],
   "source": [
    "len(parsed_train_impressions)"
   ]
  },
  {
   "cell_type": "code",
   "execution_count": 11,
   "id": "charitable-resort",
   "metadata": {},
   "outputs": [
    {
     "data": {
      "text/plain": [
       "7538"
      ]
     },
     "execution_count": 11,
     "metadata": {},
     "output_type": "execute_result"
    }
   ],
   "source": [
    "len(parsed_valid_impressions)"
   ]
  },
  {
   "cell_type": "code",
   "execution_count": 13,
   "id": "earned-inside",
   "metadata": {},
   "outputs": [],
   "source": [
    "import json\n",
    "\n",
    "with open(\"./data/2021-04-26-evaluation-news-recommendation/train_impressions_parsed.json\", \"w\") as f:\n",
    "    f.write(json.dumps(parsed_train_impressions))"
   ]
  },
  {
   "cell_type": "code",
   "execution_count": 14,
   "id": "funky-romantic",
   "metadata": {},
   "outputs": [],
   "source": [
    "import json\n",
    "\n",
    "with open(\"./data/2021-04-26-evaluation-news-recommendation/valid_impressions_parsed.json\", \"w\") as f:\n",
    "    f.write(json.dumps(parsed_valid_impressions))"
   ]
  },
  {
   "cell_type": "code",
   "execution_count": 19,
   "id": "environmental-creator",
   "metadata": {},
   "outputs": [
    {
     "data": {
      "text/plain": [
       "22034"
      ]
     },
     "execution_count": 19,
     "metadata": {},
     "output_type": "execute_result"
    }
   ],
   "source": [
    "with open(\"./data/2021-04-26-evaluation-news-recommendation/train_impressions_parsed.json\", \"r\") as f:\n",
    "    x = json.load(f)\n",
    "len(x)"
   ]
  },
  {
   "cell_type": "code",
   "execution_count": 20,
   "id": "caroline-tunnel",
   "metadata": {},
   "outputs": [
    {
     "data": {
      "text/plain": [
       "7538"
      ]
     },
     "execution_count": 20,
     "metadata": {},
     "output_type": "execute_result"
    }
   ],
   "source": [
    "with open(\"./data/2021-04-26-evaluation-news-recommendation/valid_impressions_parsed.json\", \"r\") as f:\n",
    "    x = json.load(f)\n",
    "len(x)"
   ]
  }
 ],
 "metadata": {
  "kernelspec": {
   "display_name": "Python 3",
   "language": "python",
   "name": "python3"
  },
  "language_info": {
   "codemirror_mode": {
    "name": "ipython",
    "version": 3
   },
   "file_extension": ".py",
   "mimetype": "text/x-python",
   "name": "python",
   "nbconvert_exporter": "python",
   "pygments_lexer": "ipython3",
   "version": "3.9.1"
  }
 },
 "nbformat": 4,
 "nbformat_minor": 5
}
