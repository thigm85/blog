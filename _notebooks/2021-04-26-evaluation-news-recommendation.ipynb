{
 "cells": [
  {
   "cell_type": "markdown",
   "id": "exposed-remainder",
   "metadata": {},
   "source": [
    "We built and deployed a news recommendation system based on user and news embeddings in [part 2](https://blog.vespa.ai/build-news-recommendation-app-from-python-with-vespa/) of this tutorial series. The embeddings were trained using the model depicted in the figure below and described in detail [here](https://docs.vespa.ai/en/tutorials/news-4-embeddings.html). In this tutorial we show how to check if the embeddings deployed in the recommendation system are working as expected. Checking evaluation metrics of the final search application is at least as important as cheking evaluation metrics when training a model. We want `pyvespa` to make this process as easy as possible."
   ]
  },
  {
   "cell_type": "markdown",
   "id": "cathedral-index",
   "metadata": {},
   "source": [
    "![Embedding's model](data/2021-04-26-evaluation-news-recommendation/embeddings.png)"
   ]
  },
  {
   "cell_type": "markdown",
   "id": "linear-liquid",
   "metadata": {},
   "source": [
    "When training the model we observed the following training and evaluation metrics over the course of 10 epochs."
   ]
  },
  {
   "cell_type": "code",
   "execution_count": null,
   "id": "neither-breed",
   "metadata": {},
   "outputs": [],
   "source": [
    "$ python3 src/python/train_cold_start.py mind 10\n",
    "Total loss after epoch 1: 920.5855102539062 (0.703811526298523 avg)\n",
    "{'auc': 0.5391, 'mrr': 0.2367, 'ndcg@5': 0.2464, 'ndcg@10': 0.3059}\n",
    "{'auc': 0.5131, 'mrr': 0.2239, 'ndcg@5': 0.2296, 'ndcg@10': 0.2933}\n",
    "Total loss after epoch 2: 761.7719116210938 (0.5823944211006165 avg)\n",
    "{'auc': 0.647, 'mrr': 0.2992, 'ndcg@5': 0.3246, 'ndcg@10': 0.3829}\n",
    "{'auc': 0.5656, 'mrr': 0.2447, 'ndcg@5': 0.2604, 'ndcg@10': 0.3255}\n",
    "...\n",
    "Total loss after epoch 10: 517.16748046875 (0.3953879773616791 avg)\n",
    "{'auc': 0.8758, 'mrr': 0.5074, 'ndcg@5': 0.5818, 'ndcg@10': 0.6316}\n",
    "{'auc': 0.6249, 'mrr': 0.2842, 'ndcg@5': 0.3114, 'ndcg@10': 0.3733}"
   ]
  },
  {
   "cell_type": "markdown",
   "id": "returning-ordinance",
   "metadata": {},
   "source": [
    "Once we have deployed the embeddings in our recommendation system, we should check if we can recover similar evaluation metrics when sending the appropriate queries to the application."
   ]
  },
  {
   "cell_type": "code",
   "execution_count": 1,
   "id": "funny-isolation",
   "metadata": {},
   "outputs": [
    {
     "data": {
      "text/plain": [
       "{'query_id': 11,\n",
       " 'query': 'U2505',\n",
       " 'relevant_docs': [{'id': 'N26508', 'score': 0}, {'id': 'N20150', 'score': 1}]}"
      ]
     },
     "execution_count": 1,
     "metadata": {},
     "output_type": "execute_result"
    }
   ],
   "source": [
    "import requests, json\n",
    "\n",
    "validation_impressions = json.loads(\n",
    "    requests.get(\"https://data.vespa.oath.cloud/blog/news/valid_impressions_parsed.json\").text\n",
    ")\n",
    "validation_impressions[11]"
   ]
  },
  {
   "cell_type": "code",
   "execution_count": 2,
   "id": "latin-abuse",
   "metadata": {},
   "outputs": [
    {
     "data": {
      "text/plain": [
       "{'query_id': 11,\n",
       " 'query': 'U2505',\n",
       " 'relevant_docs': [{'id': 'N26508', 'score': 0}, {'id': 'N20150', 'score': 1}]}"
      ]
     },
     "execution_count": 2,
     "metadata": {},
     "output_type": "execute_result"
    }
   ],
   "source": [
    "validation_impressions[11]"
   ]
  },
  {
   "cell_type": "code",
   "execution_count": null,
   "id": "ecological-array",
   "metadata": {},
   "outputs": [],
   "source": [
    "max([len(d[\"relevant_docs\"]) for idx, d in enumerate(validation_impressions)])"
   ]
  },
  {
   "cell_type": "code",
   "execution_count": 3,
   "id": "grand-florist",
   "metadata": {},
   "outputs": [],
   "source": [
    "from vespa.application import Vespa\n",
    "\n",
    "app = Vespa(url = \"http://localhost\", port = 8080)"
   ]
  },
  {
   "cell_type": "code",
   "execution_count": 4,
   "id": "technological-omega",
   "metadata": {},
   "outputs": [],
   "source": [
    "def parse_embedding(hit_json):\n",
    "    embedding_json = hit_json[\"fields\"][\"embedding\"][\"cells\"]\n",
    "    embedding_vector = [0.0] * len(embedding_json)\n",
    "    for val in embedding_json:\n",
    "        embedding_vector[int(val[\"address\"][\"d0\"])] = val[\"value\"]\n",
    "    return embedding_vector\n",
    "\n",
    "def query_user_embedding(query):\n",
    "    result = app.query(body={\"yql\": \"select * from sources user where user_id contains '{}';\".format(query)})\n",
    "    embedding = parse_embedding(result.hits[0])\n",
    "    return embedding\n",
    "\n",
    "def create_relevant_docs_per_query(data):\n",
    "    return {(x[\"query\"][\"query_id\"], x[\"query\"][\"user_id\"]):x[\"relevant_docs\"] for x in data}"
   ]
  },
  {
   "cell_type": "code",
   "execution_count": 5,
   "id": "soviet-seller",
   "metadata": {},
   "outputs": [],
   "source": [
    "def body_function(query, relevant_docs_per_query):\n",
    "    relevant_docs = relevant_docs_per_query[(query[\"query_id\"], query[\"user_id\"])]\n",
    "    user_embedding = query_user_embedding(query[\"user_id\"]) \n",
    "    hits = len(relevant_docs)\n",
    "    nn_annotations = [\n",
    "        '\"targetHits\":{}'.format(hits)\n",
    "    ]\n",
    "    nn_annotations = \"{\" + \",\".join(nn_annotations) + \"}\"\n",
    "    nn_search = \"([{}]nearestNeighbor(embedding, user_embedding))\".format(nn_annotations)\n",
    "\n",
    "    news_id_filter = [ 'news_id contains \"{}\"'.format(i[\"id\"]) for i in relevant_docs ]\n",
    "    news_id_filter = \" OR \".join(news_id_filter)\n",
    "\n",
    "    data = {\n",
    "        \"hits\": hits,\n",
    "        \"yql\": 'select * from sources news where {} AND ({});'.format(nn_search, news_id_filter),\n",
    "        \"ranking.features.query(user_embedding)\": str(user_embedding),\n",
    "        \"ranking.profile\": \"recommendation\",\n",
    "        \"timeout\": 10\n",
    "    }\n",
    "    return data"
   ]
  },
  {
   "cell_type": "code",
   "execution_count": null,
   "id": "apart-brown",
   "metadata": {},
   "outputs": [],
   "source": []
  },
  {
   "cell_type": "code",
   "execution_count": 6,
   "id": "preceding-shower",
   "metadata": {},
   "outputs": [],
   "source": [
    "from vespa.evaluation import ReciprocalRank, NormalizedDiscountedCumulativeGain\n",
    "\n",
    "eval_metrics = [NormalizedDiscountedCumulativeGain(at=5), NormalizedDiscountedCumulativeGain(at=10)]"
   ]
  },
  {
   "cell_type": "code",
   "execution_count": 7,
   "id": "fundamental-twist",
   "metadata": {},
   "outputs": [],
   "source": [
    "validation_impressions2 = [{\"query_id\": d[\"query_id\"], \"query\": {\"query_id\": d[\"query_id\"], \"user_id\": d[\"query\"]}, \"relevant_docs\": d[\"relevant_docs\"]} for d in validation_impressions]"
   ]
  },
  {
   "cell_type": "code",
   "execution_count": null,
   "id": "frequent-there",
   "metadata": {},
   "outputs": [],
   "source": [
    "validation_impressions2[:2]"
   ]
  },
  {
   "cell_type": "code",
   "execution_count": 8,
   "id": "standing-german",
   "metadata": {},
   "outputs": [],
   "source": [
    "from vespa.query import QueryModel\n",
    "\n",
    "evaluation = app.evaluate(\n",
    "    labeled_data=validation_impressions2, \n",
    "    eval_metrics=eval_metrics, \n",
    "    query_model=QueryModel(\n",
    "        body_function = lambda query: body_function(query, create_relevant_docs_per_query(validation_impressions2))\n",
    "    ), \n",
    "    id_field=\"news_id\",\n",
    "    per_query=False\n",
    ")"
   ]
  },
  {
   "cell_type": "code",
   "execution_count": 9,
   "id": "radical-encounter",
   "metadata": {},
   "outputs": [
    {
     "data": {
      "text/html": [
       "<div>\n",
       "<style scoped>\n",
       "    .dataframe tbody tr th:only-of-type {\n",
       "        vertical-align: middle;\n",
       "    }\n",
       "\n",
       "    .dataframe tbody tr th {\n",
       "        vertical-align: top;\n",
       "    }\n",
       "\n",
       "    .dataframe thead th {\n",
       "        text-align: right;\n",
       "    }\n",
       "</style>\n",
       "<table border=\"1\" class=\"dataframe\">\n",
       "  <thead>\n",
       "    <tr style=\"text-align: right;\">\n",
       "      <th></th>\n",
       "      <th>model</th>\n",
       "      <th>default_name</th>\n",
       "    </tr>\n",
       "  </thead>\n",
       "  <tbody>\n",
       "    <tr>\n",
       "      <th rowspan=\"3\" valign=\"top\">ndcg_5</th>\n",
       "      <th>mean</th>\n",
       "      <td>0.311162</td>\n",
       "    </tr>\n",
       "    <tr>\n",
       "      <th>median</th>\n",
       "      <td>0.237198</td>\n",
       "    </tr>\n",
       "    <tr>\n",
       "      <th>std</th>\n",
       "      <td>0.347625</td>\n",
       "    </tr>\n",
       "    <tr>\n",
       "      <th rowspan=\"3\" valign=\"top\">ndcg_10</th>\n",
       "      <th>mean</th>\n",
       "      <td>0.373119</td>\n",
       "    </tr>\n",
       "    <tr>\n",
       "      <th>median</th>\n",
       "      <td>0.356207</td>\n",
       "    </tr>\n",
       "    <tr>\n",
       "      <th>std</th>\n",
       "      <td>0.320826</td>\n",
       "    </tr>\n",
       "  </tbody>\n",
       "</table>\n",
       "</div>"
      ],
      "text/plain": [
       "model           default_name\n",
       "ndcg_5  mean        0.311162\n",
       "        median      0.237198\n",
       "        std         0.347625\n",
       "ndcg_10 mean        0.373119\n",
       "        median      0.356207\n",
       "        std         0.320826"
      ]
     },
     "execution_count": 9,
     "metadata": {},
     "output_type": "execute_result"
    }
   ],
   "source": [
    "evaluation"
   ]
  },
  {
   "cell_type": "code",
   "execution_count": null,
   "id": "central-powder",
   "metadata": {},
   "outputs": [],
   "source": [
    "evaluation[evaluation.ndcg_5 > 0]"
   ]
  },
  {
   "cell_type": "code",
   "execution_count": null,
   "id": "vietnamese-concord",
   "metadata": {},
   "outputs": [],
   "source": [
    "query_data = validation_impressions[2]\n",
    "evaluation_query = app.evaluate_query(\n",
    "    eval_metrics=eval_metrics,\n",
    "    query_model=QueryModel(\n",
    "        body_function = lambda query: body_function(query, create_relevant_docs_per_query(validation_impressions))\n",
    "    ),\n",
    "    query_id=query_data[\"query_id\"],\n",
    "    query=query_data[\"query\"],\n",
    "    id_field=\"news_id\",\n",
    "    relevant_docs=query_data[\"relevant_docs\"],\n",
    "    default_score=0,\n",
    "    detailed_metrics=False,\n",
    ")\n"
   ]
  },
  {
   "cell_type": "code",
   "execution_count": null,
   "id": "duplicate-commons",
   "metadata": {},
   "outputs": [],
   "source": [
    "evaluation_query"
   ]
  },
  {
   "cell_type": "code",
   "execution_count": null,
   "id": "expressed-hearing",
   "metadata": {},
   "outputs": [],
   "source": [
    "validation_impressions[2]"
   ]
  },
  {
   "cell_type": "code",
   "execution_count": null,
   "id": "middle-marina",
   "metadata": {},
   "outputs": [],
   "source": [
    "for d in validation_impressions:\n",
    "    if d[\"query\"] == \"U28498\":\n",
    "        print(d)\n",
    "        print(\"\\n\")"
   ]
  },
  {
   "cell_type": "code",
   "execution_count": null,
   "id": "musical-liver",
   "metadata": {},
   "outputs": [],
   "source": [
    "!sample-apps/news/src/python/evaluate.py data/2021-03-02-news/mind 0"
   ]
  },
  {
   "cell_type": "code",
   "execution_count": null,
   "id": "flush-content",
   "metadata": {},
   "outputs": [],
   "source": [
    "from pandas import read_csv\n",
    "\n",
    "lesters_ndcg = read_csv(\"data/2021-03-02-news/mind/lesters_ndcg.txt\", names=[\"query_id\", \"query\", \"ndcg5\"])"
   ]
  },
  {
   "cell_type": "code",
   "execution_count": null,
   "id": "editorial-trick",
   "metadata": {},
   "outputs": [],
   "source": [
    "lesters_ndcg.head()"
   ]
  },
  {
   "cell_type": "code",
   "execution_count": null,
   "id": "laden-packaging",
   "metadata": {},
   "outputs": [],
   "source": [
    "validation_impressions[:3]"
   ]
  },
  {
   "cell_type": "code",
   "execution_count": null,
   "id": "violent-apparatus",
   "metadata": {},
   "outputs": [],
   "source": [
    "evaluation[:3]"
   ]
  },
  {
   "cell_type": "code",
   "execution_count": null,
   "id": "brutal-behavior",
   "metadata": {},
   "outputs": [],
   "source": [
    "validation_impressions2[14]"
   ]
  },
  {
   "cell_type": "code",
   "execution_count": null,
   "id": "centered-drawing",
   "metadata": {},
   "outputs": [],
   "source": [
    "from pandas import merge\n",
    "\n",
    "test = merge(left=lesters_ndcg, right=evaluation, how=\"left\", on=[\"query_id\"])\n",
    "test[test.ndcg5 != test.ndcg_5]"
   ]
  },
  {
   "cell_type": "code",
   "execution_count": null,
   "id": "viral-passing",
   "metadata": {},
   "outputs": [],
   "source": [
    "%config Completer.use_jedi = False"
   ]
  },
  {
   "cell_type": "code",
   "execution_count": null,
   "id": "streaming-backup",
   "metadata": {},
   "outputs": [],
   "source": [
    "import io, csv\n",
    "\n",
    "def read_impressions_file(file_name):\n",
    "    impressions = []\n",
    "    if not os.path.exists(file_name):\n",
    "        print(\"{} not found.\".format(file_name))\n",
    "        sys.exit(1)\n",
    "    print(\"Reading impressions data from \" + file_name)\n",
    "\n",
    "    with io.open(file_name, \"r\", encoding=\"utf-8\") as f:\n",
    "        field_list = [\"id\", \"user_id\", \"timestamp\", \"history\", \"impressions\"]\n",
    "        reader = csv.DictReader(f, delimiter=\"\\t\", fieldnames=field_list)\n",
    "        for line in reader:\n",
    "            user_id = line[\"user_id\"]\n",
    "            impression = {\n",
    "                \"user_id\": user_id,\n",
    "                \"news_ids\": [],\n",
    "                \"labels\": []\n",
    "            }\n",
    "            for i in line[\"impressions\"].split(\" \"):\n",
    "                news_id, label = i.split(\"-\")\n",
    "                impression[\"news_ids\"].append(news_id)\n",
    "                impression[\"labels\"].append(int(label))\n",
    "            impressions.append(impression)\n",
    "    return impressions"
   ]
  },
  {
   "cell_type": "code",
   "execution_count": null,
   "id": "cheap-provincial",
   "metadata": {},
   "outputs": [],
   "source": [
    "import os\n",
    "\n",
    "data_dir = \"data/2021-03-02-news/mind/\"\n",
    "train_impressions_file = os.path.join(data_dir, \"train\", \"behaviors.tsv\")\n",
    "valid_impressions_file = os.path.join(data_dir, \"dev\", \"behaviors.tsv\")"
   ]
  },
  {
   "cell_type": "code",
   "execution_count": null,
   "id": "mathematical-settlement",
   "metadata": {},
   "outputs": [],
   "source": [
    "train_impressions = read_impressions_file(train_impressions_file)\n",
    "valid_impressions = read_impressions_file(valid_impressions_file)"
   ]
  },
  {
   "cell_type": "code",
   "execution_count": null,
   "id": "roman-curve",
   "metadata": {},
   "outputs": [],
   "source": [
    "for d in valid_impressions:\n",
    "    if d[\"user_id\"] == \"U28498\":\n",
    "        print(d)"
   ]
  },
  {
   "cell_type": "code",
   "execution_count": null,
   "id": "regulated-jenny",
   "metadata": {},
   "outputs": [],
   "source": [
    "parsed_train_impressions = [{\"query_id\": idx, \"query\": d[\"user_id\"], \"relevant_docs\": [{\"id\": news_id, \"score\": label} for news_id, label in zip(d[\"news_ids\"], d[\"labels\"])]} for idx, d in enumerate(train_impressions)]"
   ]
  },
  {
   "cell_type": "code",
   "execution_count": null,
   "id": "cubic-transition",
   "metadata": {},
   "outputs": [],
   "source": [
    "parsed_valid_impressions = [{\"query_id\": idx, \"query\": d[\"user_id\"], \"relevant_docs\": [{\"id\": news_id, \"score\": label} for news_id, label in zip(d[\"news_ids\"], d[\"labels\"])]} for idx, d in enumerate(valid_impressions)]"
   ]
  },
  {
   "cell_type": "code",
   "execution_count": null,
   "id": "instrumental-attempt",
   "metadata": {},
   "outputs": [],
   "source": [
    "len(parsed_train_impressions)"
   ]
  },
  {
   "cell_type": "code",
   "execution_count": null,
   "id": "turned-bunch",
   "metadata": {},
   "outputs": [],
   "source": [
    "len(parsed_valid_impressions)"
   ]
  },
  {
   "cell_type": "code",
   "execution_count": null,
   "id": "institutional-consent",
   "metadata": {},
   "outputs": [],
   "source": [
    "import json\n",
    "\n",
    "with open(\"./data/2021-04-26-evaluation-news-recommendation/train_impressions_parsed.json\", \"w\") as f:\n",
    "    f.write(json.dumps(parsed_train_impressions))"
   ]
  },
  {
   "cell_type": "code",
   "execution_count": null,
   "id": "specified-translator",
   "metadata": {},
   "outputs": [],
   "source": [
    "import json\n",
    "\n",
    "with open(\"./data/2021-04-26-evaluation-news-recommendation/valid_impressions_parsed.json\", \"w\") as f:\n",
    "    f.write(json.dumps(parsed_valid_impressions))"
   ]
  },
  {
   "cell_type": "code",
   "execution_count": null,
   "id": "weighted-fishing",
   "metadata": {},
   "outputs": [],
   "source": [
    "with open(\"./data/2021-04-26-evaluation-news-recommendation/train_impressions_parsed.json\", \"r\") as f:\n",
    "    x = json.load(f)\n",
    "len(x)"
   ]
  },
  {
   "cell_type": "code",
   "execution_count": null,
   "id": "english-preparation",
   "metadata": {},
   "outputs": [],
   "source": [
    "with open(\"./data/2021-04-26-evaluation-news-recommendation/valid_impressions_parsed.json\", \"r\") as f:\n",
    "    x = json.load(f)\n",
    "len(x)"
   ]
  }
 ],
 "metadata": {
  "kernelspec": {
   "display_name": "Python 3",
   "language": "python",
   "name": "python3"
  },
  "language_info": {
   "codemirror_mode": {
    "name": "ipython",
    "version": 3
   },
   "file_extension": ".py",
   "mimetype": "text/x-python",
   "name": "python",
   "nbconvert_exporter": "python",
   "pygments_lexer": "ipython3",
   "version": "3.9.1"
  }
 },
 "nbformat": 4,
 "nbformat_minor": 5
}
