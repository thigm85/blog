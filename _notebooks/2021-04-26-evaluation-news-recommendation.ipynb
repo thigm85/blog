{
 "cells": [
  {
   "cell_type": "markdown",
   "id": "exposed-remainder",
   "metadata": {},
   "source": [
    "We built and deployed a news recommendation system based on user and news embeddings in [part 2](https://blog.vespa.ai/build-news-recommendation-app-from-python-with-vespa/) of this tutorial series. The embeddings were trained using the model depicted in the figure below and described in detail [here](https://docs.vespa.ai/en/tutorials/news-4-embeddings.html). In this tutorial we show how to check if the embeddings deployed in the recommendation system are working as expected. Checking evaluation metrics of the final search application is at least as important as cheking evaluation metrics when training a model. We want `pyvespa` to make this process as easy as possible."
   ]
  },
  {
   "cell_type": "markdown",
   "id": "cathedral-index",
   "metadata": {},
   "source": [
    "![Embedding's model](data/2021-04-26-evaluation-news-recommendation/embeddings.png)"
   ]
  },
  {
   "cell_type": "markdown",
   "id": "linear-liquid",
   "metadata": {},
   "source": [
    "When training the model we observed the following training and evaluation metrics over the course of 10 epochs."
   ]
  },
  {
   "cell_type": "code",
   "execution_count": null,
   "id": "neither-breed",
   "metadata": {},
   "outputs": [],
   "source": [
    "$ python3 src/python/train_cold_start.py mind 10\n",
    "Total loss after epoch 1: 920.5855102539062 (0.703811526298523 avg)\n",
    "{'auc': 0.5391, 'mrr': 0.2367, 'ndcg@5': 0.2464, 'ndcg@10': 0.3059}\n",
    "{'auc': 0.5131, 'mrr': 0.2239, 'ndcg@5': 0.2296, 'ndcg@10': 0.2933}\n",
    "Total loss after epoch 2: 761.7719116210938 (0.5823944211006165 avg)\n",
    "{'auc': 0.647, 'mrr': 0.2992, 'ndcg@5': 0.3246, 'ndcg@10': 0.3829}\n",
    "{'auc': 0.5656, 'mrr': 0.2447, 'ndcg@5': 0.2604, 'ndcg@10': 0.3255}\n",
    "...\n",
    "Total loss after epoch 10: 517.16748046875 (0.3953879773616791 avg)\n",
    "{'auc': 0.8758, 'mrr': 0.5074, 'ndcg@5': 0.5818, 'ndcg@10': 0.6316}\n",
    "{'auc': 0.6249, 'mrr': 0.2842, 'ndcg@5': 0.3114, 'ndcg@10': 0.3733}"
   ]
  },
  {
   "cell_type": "markdown",
   "id": "returning-ordinance",
   "metadata": {},
   "source": [
    "Once we have deployed the embeddings in our recommendation system, we should check if we can recover similar evaluation metrics when sending the appropriate queries to the application."
   ]
  },
  {
   "cell_type": "code",
   "execution_count": null,
   "id": "funny-isolation",
   "metadata": {},
   "outputs": [],
   "source": []
  },
  {
   "cell_type": "code",
   "execution_count": 2,
   "id": "viral-passing",
   "metadata": {},
   "outputs": [],
   "source": [
    "%config Completer.use_jedi = False"
   ]
  },
  {
   "cell_type": "code",
   "execution_count": 10,
   "id": "streaming-backup",
   "metadata": {},
   "outputs": [],
   "source": [
    "import io, csv\n",
    "\n",
    "def read_impressions_file(file_name):\n",
    "    impressions = []\n",
    "    if not os.path.exists(file_name):\n",
    "        print(\"{} not found.\".format(file_name))\n",
    "        sys.exit(1)\n",
    "    print(\"Reading impressions data from \" + file_name)\n",
    "\n",
    "    with io.open(file_name, \"r\", encoding=\"utf-8\") as f:\n",
    "        field_list = [\"id\", \"user_id\", \"timestamp\", \"history\", \"impressions\"]\n",
    "        reader = csv.DictReader(f, delimiter=\"\\t\", fieldnames=field_list)\n",
    "        for line in reader:\n",
    "            user_id = line[\"user_id\"]\n",
    "            impression = {\n",
    "                \"user_id\": user_id,\n",
    "                \"news_ids\": [],\n",
    "                \"labels\": []\n",
    "            }\n",
    "            for i in line[\"impressions\"].split(\" \"):\n",
    "                news_id, label = i.split(\"-\")\n",
    "                impression[\"news_ids\"].append(news_id)\n",
    "                impression[\"labels\"].append(int(label))\n",
    "            impressions.append(impression)\n",
    "    return impressions"
   ]
  },
  {
   "cell_type": "code",
   "execution_count": 6,
   "id": "cheap-provincial",
   "metadata": {},
   "outputs": [],
   "source": [
    "import os\n",
    "\n",
    "data_dir = \"data/2021-03-02-news/mind/\"\n",
    "train_impressions_file = os.path.join(data_dir, \"train\", \"behaviors.tsv\")\n",
    "valid_impressions_file = os.path.join(data_dir, \"dev\", \"behaviors.tsv\")"
   ]
  },
  {
   "cell_type": "code",
   "execution_count": 15,
   "id": "mathematical-settlement",
   "metadata": {},
   "outputs": [
    {
     "name": "stdout",
     "output_type": "stream",
     "text": [
      "Reading impressions data from data/2021-03-02-news/mind/train/behaviors.tsv\n",
      "Reading impressions data from data/2021-03-02-news/mind/dev/behaviors.tsv\n"
     ]
    }
   ],
   "source": [
    "train_impressions = read_impressions_file(train_impressions_file)\n",
    "valid_impressions = read_impressions_file(valid_impressions_file)"
   ]
  },
  {
   "cell_type": "code",
   "execution_count": 14,
   "id": "regulated-jenny",
   "metadata": {},
   "outputs": [
    {
     "data": {
      "text/plain": [
       "{'user_id': 'U84185',\n",
       " 'news_ids': ['N13089',\n",
       "  'N18101',\n",
       "  'N1248',\n",
       "  'N26273',\n",
       "  'N12770',\n",
       "  'N1132',\n",
       "  'N13649'],\n",
       " 'labels': [0, 0, 0, 0, 1, 0, 0]}"
      ]
     },
     "execution_count": 14,
     "metadata": {},
     "output_type": "execute_result"
    }
   ],
   "source": [
    "train_impressions[1]"
   ]
  }
 ],
 "metadata": {
  "kernelspec": {
   "display_name": "Python 3",
   "language": "python",
   "name": "python3"
  },
  "language_info": {
   "codemirror_mode": {
    "name": "ipython",
    "version": 3
   },
   "file_extension": ".py",
   "mimetype": "text/x-python",
   "name": "python",
   "nbconvert_exporter": "python",
   "pygments_lexer": "ipython3",
   "version": "3.9.1"
  }
 },
 "nbformat": 4,
 "nbformat_minor": 5
}
