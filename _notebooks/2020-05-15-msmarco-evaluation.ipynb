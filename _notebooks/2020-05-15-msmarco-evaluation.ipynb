{
 "cells": [
  {
   "cell_type": "code",
   "execution_count": 5,
   "metadata": {},
   "outputs": [],
   "source": [
    "from vespa.application import Vespa\n",
    "\n",
    "app = Vespa(url=\"http://localhost\", port=8080)"
   ]
  },
  {
   "cell_type": "code",
   "execution_count": 6,
   "metadata": {},
   "outputs": [],
   "source": [
    "from vespa.query import Query, OR, RankProfile\n",
    "\n",
    "query_model = Query(\n",
    "    match_phase=OR(),\n",
    "    rank_profile=RankProfile(name=\"bm25\")\n",
    ")"
   ]
  },
  {
   "cell_type": "code",
   "execution_count": 7,
   "metadata": {},
   "outputs": [
    {
     "data": {
      "text/plain": [
       "{'root': {'id': 'toplevel',\n",
       "  'relevance': 1.0,\n",
       "  'fields': {'totalCount': 95823},\n",
       "  'coverage': {'coverage': 100,\n",
       "   'documents': 99577,\n",
       "   'full': True,\n",
       "   'nodes': 1,\n",
       "   'results': 1,\n",
       "   'resultsFull': 1},\n",
       "  'children': [{'id': 'id:msmarco:msmarco::D360527',\n",
       "    'relevance': 7.878633429381933,\n",
       "    'source': 'msmarco',\n",
       "    'fields': {'sddocname': 'msmarco',\n",
       "     'body': '... than in those with remaining symptoms   5 However  the immunology of Lyme disease <strong>is</strong> complex and not yet fully understood  It <strong>is</strong> not yet known whether continuing symptoms are due to active disease  tissue damage or an auto immune response and there <strong>is</strong> no <strong>test</strong> to determine <strong>this</strong>  relapse may be <strong>a</strong> more clear cut sign of continuing disease  Other types of <strong>test</strong> Culture  <strong>This</strong> <strong>is</strong> the growing of bacteria in <strong>a</strong> laboratory from <strong>a</strong> sample of blood  cerebrospinal fluid or tissue  Borrelia are slow growing  fastidious bacteria which are very difficult to culture  <strong>This</strong>...',\n",
       "     'documentid': 'id:msmarco:msmarco::D360527',\n",
       "     'id': 'D360527',\n",
       "     'title': 'Tests',\n",
       "     'url': 'http://www.lymediseaseaction.org.uk/about-lyme/tests/'}},\n",
       "   {'id': 'id:msmarco:msmarco::D916537',\n",
       "    'relevance': 7.745558835690449,\n",
       "    'source': 'msmarco',\n",
       "    'fields': {'sddocname': 'msmarco',\n",
       "     'body': '... on French irregular verbs  quiztest   undergo <strong>a</strong> <strong>test</strong>    She doesn t <strong>test</strong> well  examine   question closely4  <strong>test</strong>   show <strong>a</strong> certain characteristic when tested    He tested positive for HIV  be   have the quality of being   copula  used with an adjective or <strong>a</strong> predicate noun    John <strong>is</strong> rich      <strong>This</strong> <strong>is</strong> not <strong>a</strong> good answer  5  <strong>test</strong>   achieve <strong>a</strong> certain score or rating on <strong>a</strong> <strong>test</strong>    She tested high on the LSAT and wasadmitted to all the good law schools  <strong>test</strong>   undergo <strong>a</strong> <strong>test</strong>    She doesn t <strong>test</strong> well  score   get <strong>a</strong> certain number or letter indicating quality or performance    She scoredhigh on the SAT      ...',\n",
       "     'documentid': 'id:msmarco:msmarco::D916537',\n",
       "     'id': 'D916537',\n",
       "     'title': 'test',\n",
       "     'url': 'http://www.thefreedictionary.com/psychomotor+test'}},\n",
       "   {'id': 'id:msmarco:msmarco::D2499010',\n",
       "    'relevance': 7.70805830551677,\n",
       "    'source': 'msmarco',\n",
       "    'fields': {'sddocname': 'msmarco',\n",
       "     'body': '... passive intermodulation <strong>is</strong> <strong>a</strong> parameter that <strong>is</strong> key to the operation of many systems including cellular base stations  satellite systems and many other radio systems were duplex operation <strong>is</strong> required  passive intermodulation  PIM <strong>testing</strong> <strong>is</strong> required  PIM <strong>testing</strong> <strong>is</strong> <strong>a</strong> relatively specialised form of <strong>testing</strong> and therefore special PIM testers are often used  <strong>This</strong> PIM <strong>test</strong> equipment will be able to provide <strong>a</strong> variety of results including the level of any passive intermodulation products and sometimes the distance of the PIM generation from the PIM tester  <strong>This</strong> <strong>is</strong> very useful in locating the position of faults in <strong>a</strong> feeder system where there may be <strong>a</strong>...',\n",
       "     'documentid': 'id:msmarco:msmarco::D2499010',\n",
       "     'id': 'D2499010',\n",
       "     'title': 'PIM Test   Test Equipment   Testers',\n",
       "     'url': 'http://www.radio-electronics.com/info/rf-technology-design/passive-intermodulation-pim/testing-equipment.php'}},\n",
       "   {'id': 'id:msmarco:msmarco::D2545516',\n",
       "    'relevance': 7.63617685663719,\n",
       "    'source': 'msmarco',\n",
       "    'fields': {'sddocname': 'msmarco',\n",
       "     'body': '...  Finally  he was the first psychometrical researcher to propose that social and ethical implications of <strong>a</strong> <strong>test</strong> were an inherent part of the process  <strong>a</strong> huge paradigm shift from the accepted practices  Considering that educational <strong>tests</strong> can have <strong>a</strong> long lasting effect on an individual  then <strong>this</strong> <strong>is</strong> <strong>a</strong> very important implication  whatever your view on the competing theories behind <strong>test</strong> validity  <strong>This</strong> new approach does have some basis  for many years  IQ <strong>tests</strong> were regarded as practically infallible  However  they have been used...',\n",
       "     'documentid': 'id:msmarco:msmarco::D2545516',\n",
       "     'id': 'D2545516',\n",
       "     'title': 'Test Validity',\n",
       "     'url': 'https://explorable.com/test-validity'}},\n",
       "   {'id': 'id:msmarco:msmarco::D941735',\n",
       "    'relevance': 7.62513538976431,\n",
       "    'source': 'msmarco',\n",
       "    'fields': {'sddocname': 'msmarco',\n",
       "     'body': '...diagnostic <strong>test</strong> for mono  short for infectious mononucleosis   The monospot <strong>test</strong> <strong>is</strong> <strong>a</strong> rapid heterophile antibody <strong>test</strong> that typically has results within 72 hours  Your doctor will generally have <strong>this</strong> <strong>test</strong> done along with <strong>a</strong> CBC  complete blood count  which requires your blood to be drawn from your vein  However <strong>this</strong> <strong>test</strong> can also be done as <strong>a</strong> finger poke  Mono <strong>is</strong> generally caused by the Epstein Barr virus  EBV   however cytomegalovirus  CMV  can cause <strong>a</strong> CMV mononucleosis  which has similar symptoms  While the CDC no longer recommends the monospot <strong>test</strong>  many guidelines still encourage the <strong>test</strong> to help identify...',\n",
       "     'documentid': 'id:msmarco:msmarco::D941735',\n",
       "     'id': 'D941735',\n",
       "     'title': 'Mononucleosis Spot Test  Monospot Test ',\n",
       "     'url': 'https://www.verywell.com/how-is-mono-diagnosed-1191844'}},\n",
       "   {'id': 'id:msmarco:msmarco::D1863044',\n",
       "    'relevance': 7.62502610747849,\n",
       "    'source': 'msmarco',\n",
       "    'fields': {'sddocname': 'msmarco',\n",
       "     'body': '...application server <strong>testing</strong>    clarification needed Distributed <strong>testing</strong>  allows distribution of <strong>tests</strong> on slave machines  Data Provider   edit <strong>A</strong> data provider in <strong>Test</strong> NG <strong>is</strong> <strong>a</strong> method in <strong>a</strong> <strong>test</strong> class  which provides an array of varied actual values to dependent <strong>test</strong> methods  Example   <strong>This</strong> method will provide data to any <strong>test</strong> method that declares that its Data Provider <strong>is</strong> named   provider1     Data Provider   name     provider1   public Object       create Data1     return new Object...',\n",
       "     'documentid': 'id:msmarco:msmarco::D1863044',\n",
       "     'id': 'D1863044',\n",
       "     'title': 'Test NG',\n",
       "     'url': 'https://en.wikipedia.org/wiki/TestNG'}},\n",
       "   {'id': 'id:msmarco:msmarco::D366221',\n",
       "    'relevance': 7.573454930493764,\n",
       "    'source': 'msmarco',\n",
       "    'fields': {'sddocname': 'msmarco',\n",
       "     'body': '...<strong>a</strong> CF Foundation accredited care center can help provide <strong>a</strong> CF diagnosis by measuring the concentration of salt in <strong>a</strong> person s sweat  <strong>This</strong> simple  painless <strong>test</strong> <strong>is</strong> the most reliable way to diagnose CF  Share Print Share Facebook Twitter Email Print... to the skin 24 hours before the <strong>test</strong>  You can continue all regular medications  These will have no effect on the <strong>test</strong> results  Babies should be fed their usual amount at their usual times  Read the CF Foundation s guidelines for sweat...',\n",
       "     'documentid': 'id:msmarco:msmarco::D366221',\n",
       "     'id': 'D366221',\n",
       "     'title': 'Sweat Test',\n",
       "     'url': 'https://www.cff.org/What-is-CF/Testing/Sweat-Test/'}},\n",
       "   {'id': 'id:msmarco:msmarco::D2058391',\n",
       "    'relevance': 7.573366473023455,\n",
       "    'source': 'msmarco',\n",
       "    'fields': {'sddocname': 'msmarco',\n",
       "     'body': '...<strong>testing</strong> site  Ready  Set  <strong>Test</strong>  Poster   HTML Version  Spanish Version <strong>This</strong> poster can readily be displayed in <strong>a</strong> <strong>testing</strong> area to remind testers of 10 important practices to follow for accurate and reliable <strong>testing</strong>  <strong>A</strong> postcard sized version of the poster <strong>is</strong> also available Ready  Set  <strong>Test</strong>  Booklet Spanish Version <strong>This</strong> booklet describes...',\n",
       "     'documentid': 'id:msmarco:msmarco::D2058391',\n",
       "     'id': 'D2058391',\n",
       "     'title': 'Waived Tests',\n",
       "     'url': 'http://wwwn.cdc.gov/clia/Resources/WaivedTests/default.aspx'}},\n",
       "   {'id': 'id:msmarco:msmarco::D1287816',\n",
       "    'relevance': 7.545605071230906,\n",
       "    'source': 'msmarco',\n",
       "    'fields': {'sddocname': 'msmarco',\n",
       "     'body': '...conduction hearing <strong>is</strong> being <strong>tested</strong>  <strong>This</strong> <strong>tests</strong> your outer hearing pathway as well as your inner ear  If you listen to the sounds through <strong>a</strong> bone conductor   <strong>a</strong> vibrator held against the mastoid bone  located behind the ear    the sounds your inner hearing pathways can hear are measuredspeech discrimination <strong>tests</strong>   <strong>this</strong> <strong>is</strong> <strong>a</strong> <strong>test</strong> of how clearly you hear speech  Speech discrimination <strong>tests</strong> require you to repeat words said to you  Age related hearing loss  presbycusis  typically begins with the loss of higher frequencies  so that certain speech sounds  such as  p    f  and  t   end up sounding very similaronline...',\n",
       "     'documentid': 'id:msmarco:msmarco::D1287816',\n",
       "     'id': 'D1287816',\n",
       "     'title': 'Hearing tests',\n",
       "     'url': 'https://www.betterhealth.vic.gov.au/health/conditionsandtreatments/hearing-tests'}},\n",
       "   {'id': 'id:msmarco:msmarco::D365374',\n",
       "    'relevance': 7.516088242981526,\n",
       "    'source': 'msmarco',\n",
       "    'fields': {'sddocname': 'msmarco',\n",
       "     'body': '...stores  How accurate are pregnancy <strong>tests</strong>  Pregnancy <strong>tests</strong> are super accurate when you use them correctly  The pregnancy <strong>tests</strong> you get at the drugstore work 99 out of 100 times  They re just as accurate as <strong>a</strong> urine pregnancy <strong>test</strong> that you d get at <strong>a</strong> doctor s office  Pregnancy <strong>tests</strong> work by checking your urine  pee  for <strong>a</strong> hormone called human chorionic gonadotropin  HCG   Your body only makes <strong>this</strong> hormone if you re pregnant  HCG <strong>is</strong> released when <strong>a</strong> fertilized egg attaches to the lining of your uterus   when pregnancy begins  If your pregnancy <strong>test</strong> results are positive  it means you re pregnant  If they re negative  it means you re not pregnant  Pregnancy <strong>tests</strong> are most accurate when you take them after...',\n",
       "     'documentid': 'id:msmarco:msmarco::D365374',\n",
       "     'id': 'D365374',\n",
       "     'title': 'Pregnancy Test',\n",
       "     'url': 'https://www.plannedparenthood.org/learn/pregnancy/pregnancy-test'}}]}}"
      ]
     },
     "execution_count": 7,
     "metadata": {},
     "output_type": "execute_result"
    }
   ],
   "source": [
    "app.query(query=\"this is a test\", query_model=query_model)"
   ]
  }
 ],
 "metadata": {
  "kernelspec": {
   "display_name": "vespa",
   "language": "python",
   "name": "vespa"
  },
  "language_info": {
   "codemirror_mode": {
    "name": "ipython",
    "version": 3
   },
   "file_extension": ".py",
   "mimetype": "text/x-python",
   "name": "python",
   "nbconvert_exporter": "python",
   "pygments_lexer": "ipython3",
   "version": "3.7.7"
  }
 },
 "nbformat": 4,
 "nbformat_minor": 2
}
