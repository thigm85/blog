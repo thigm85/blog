{
 "cells": [
  {
   "cell_type": "markdown",
   "id": "processed-jewel",
   "metadata": {},
   "source": [
    "# Multi-label classification encoding with TensorFlow\n",
    "> From integers to multi-hot encoding\n",
    "\n",
    "- toc: true \n",
    "- badges: true\n",
    "- comments: true\n",
    "- categories: [tensorflow, multi-label classification]"
   ]
  },
  {
   "cell_type": "markdown",
   "id": "crazy-hammer",
   "metadata": {},
   "source": [
    "Multi-label classication problems happen when an observation can belong to more than one class. They happen quite often in practice, one example being [video classification](https://thigm85.github.io/blog/youtube%208m/video%20data/tensorflow/2021/10/08/youtube-8m-video-level.html). In order to solve multi-label classification problems with TensorFlow, we need to be able to express the label variable using multi-hot encoding. For the sake of this post, assume our classification has 5 classes and that each observation can belong to one or more classes."
   ]
  },
  {
   "cell_type": "markdown",
   "id": "ordinary-painting",
   "metadata": {},
   "source": [
    "## Requirement"
   ]
  },
  {
   "cell_type": "code",
   "execution_count": 1,
   "id": "public-safety",
   "metadata": {},
   "outputs": [],
   "source": [
    "import tensorflow as tf"
   ]
  },
  {
   "cell_type": "markdown",
   "id": "express-arabic",
   "metadata": {},
   "source": [
    "Tensorflow version used:"
   ]
  },
  {
   "cell_type": "code",
   "execution_count": 2,
   "id": "graphic-guarantee",
   "metadata": {},
   "outputs": [
    {
     "name": "stdout",
     "output_type": "stream",
     "text": [
      "2.6.0\n"
     ]
    }
   ],
   "source": [
    "print(tf.__version__)"
   ]
  },
  {
   "cell_type": "markdown",
   "id": "literary-money",
   "metadata": {},
   "source": [
    "## Single observation"
   ]
  },
  {
   "cell_type": "markdown",
   "id": "dietary-saturday",
   "metadata": {},
   "source": [
    "Here is a single observation that belong to the second and third class. "
   ]
  },
  {
   "cell_type": "code",
   "execution_count": 3,
   "id": "first-extension",
   "metadata": {},
   "outputs": [],
   "source": [
    "indice = tf.constant([1, 2]) # We want to generate [0, 1, 1, 0, 0]"
   ]
  },
  {
   "cell_type": "code",
   "execution_count": 4,
   "id": "textile-ridge",
   "metadata": {},
   "outputs": [],
   "source": [
    "one_hot = tf.one_hot(indices=indice, depth=5)\n",
    "multi_hot = tf.reduce_max(one_hot, axis = 0) # reduce across axis = 0"
   ]
  },
  {
   "cell_type": "code",
   "execution_count": 5,
   "id": "expensive-federation",
   "metadata": {},
   "outputs": [
    {
     "data": {
      "text/plain": [
       "TensorShape([2, 5])"
      ]
     },
     "execution_count": 5,
     "metadata": {},
     "output_type": "execute_result"
    }
   ],
   "source": [
    "one_hot.shape"
   ]
  },
  {
   "cell_type": "code",
   "execution_count": 6,
   "id": "upper-malta",
   "metadata": {},
   "outputs": [
    {
     "data": {
      "text/plain": [
       "<tf.Tensor: shape=(5,), dtype=float32, numpy=array([0., 1., 1., 0., 0.], dtype=float32)>"
      ]
     },
     "execution_count": 6,
     "metadata": {},
     "output_type": "execute_result"
    }
   ],
   "source": [
    "multi_hot"
   ]
  },
  {
   "cell_type": "markdown",
   "id": "silent-springer",
   "metadata": {},
   "source": [
    "## Batch of observation"
   ]
  },
  {
   "cell_type": "code",
   "execution_count": 7,
   "id": "knowing-riverside",
   "metadata": {},
   "outputs": [],
   "source": [
    "indices = tf.ragged.constant([[1, 2], [1], [3, 2]]) # We want [\n",
    "                                                    # [0, 1, 1, 0, 0],\n",
    "                                                    # [0, 1, 0, 0, 0],\n",
    "                                                    # [0, 0, 1, 1, 0]\n",
    "                                                    # ]"
   ]
  },
  {
   "cell_type": "code",
   "execution_count": 8,
   "id": "valuable-breakfast",
   "metadata": {},
   "outputs": [],
   "source": [
    "one_hot = tf.one_hot(indices=indices, depth=5)\n",
    "multi_hot = tf.reduce_max(one_hot, axis = 1) # reduce across axis = 1"
   ]
  },
  {
   "cell_type": "code",
   "execution_count": 9,
   "id": "premium-restriction",
   "metadata": {},
   "outputs": [
    {
     "data": {
      "text/plain": [
       "TensorShape([3, None, 5])"
      ]
     },
     "execution_count": 9,
     "metadata": {},
     "output_type": "execute_result"
    }
   ],
   "source": [
    "one_hot.shape"
   ]
  },
  {
   "cell_type": "code",
   "execution_count": 10,
   "id": "substantial-citizen",
   "metadata": {},
   "outputs": [
    {
     "data": {
      "text/plain": [
       "<tf.Tensor: shape=(3, 5), dtype=float32, numpy=\n",
       "array([[0., 1., 1., 0., 0.],\n",
       "       [0., 1., 0., 0., 0.],\n",
       "       [0., 0., 1., 1., 0.]], dtype=float32)>"
      ]
     },
     "execution_count": 10,
     "metadata": {},
     "output_type": "execute_result"
    }
   ],
   "source": [
    "multi_hot"
   ]
  }
 ],
 "metadata": {
  "kernelspec": {
   "display_name": "Python 3",
   "language": "python",
   "name": "python3"
  },
  "language_info": {
   "codemirror_mode": {
    "name": "ipython",
    "version": 3
   },
   "file_extension": ".py",
   "mimetype": "text/x-python",
   "name": "python",
   "nbconvert_exporter": "python",
   "pygments_lexer": "ipython3",
   "version": "3.9.7"
  }
 },
 "nbformat": 4,
 "nbformat_minor": 5
}
