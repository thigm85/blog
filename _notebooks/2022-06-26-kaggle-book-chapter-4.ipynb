{
 "cells": [
  {
   "cell_type": "markdown",
   "id": "sorted-subscriber",
   "metadata": {},
   "source": [
    "# Chapter 4 - Leveraging Discussion Foruns\n",
    "> Notes about the book The Kaggle book\n",
    "\n",
    "- toc: true \n",
    "- badges: true\n",
    "- comments: true\n",
    "- categories: [book, kaggle, data science]"
   ]
  },
  {
   "cell_type": "markdown",
   "id": "34efa2f8",
   "metadata": {},
   "source": [
    "* Not really noteworthy in the chapter. Just use the discussion forum to share and learn from other Kagglers."
   ]
  }
 ],
 "metadata": {
  "kernelspec": {
   "display_name": "Python 3",
   "language": "python",
   "name": "python3"
  },
  "language_info": {
   "codemirror_mode": {
    "name": "ipython",
    "version": 3
   },
   "file_extension": ".py",
   "mimetype": "text/x-python",
   "name": "python",
   "nbconvert_exporter": "python",
   "pygments_lexer": "ipython3",
   "version": "3.9.7"
  }
 },
 "nbformat": 4,
 "nbformat_minor": 5
}
