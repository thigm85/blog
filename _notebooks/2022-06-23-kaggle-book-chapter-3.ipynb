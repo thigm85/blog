{
 "cells": [
  {
   "cell_type": "markdown",
   "id": "sorted-subscriber",
   "metadata": {},
   "source": [
    "# Chapter 3 - Working and Learning with Kaggle Notebooks\n",
    "> Notes about the book The Kaggle book\n",
    "\n",
    "- toc: true \n",
    "- badges: true\n",
    "- comments: true\n",
    "- categories: [book, kaggle, data science]"
   ]
  },
  {
   "cell_type": "markdown",
   "id": "fluid-faculty",
   "metadata": {},
   "source": [
    "## Setting up a notebook"
   ]
  },
  {
   "cell_type": "markdown",
   "id": "mineral-summary",
   "metadata": {},
   "source": [
    "* Create from scratch\n",
    "* Create from a dataset\n",
    "* Fork from a notebook.\n",
    "    * Good manner to upvote the original notebook and give credit if building solution on top."
   ]
  },
  {
   "cell_type": "markdown",
   "id": "perfect-slovak",
   "metadata": {},
   "source": [
    "## Running your notebook"
   ]
  },
  {
   "cell_type": "markdown",
   "id": "absolute-campus",
   "metadata": {},
   "source": [
    "* You can either run the notebook interactvely or save and run specific versions."
   ]
  },
  {
   "cell_type": "markdown",
   "id": "changed-tumor",
   "metadata": {},
   "source": [
    "## Saving notebooks to GitHub"
   ]
  },
  {
   "cell_type": "markdown",
   "id": "macro-terry",
   "metadata": {},
   "source": [
    "* It is possible to enable automatic sync between Kaggle Notebooks and Github.\n",
    "    * File -> Link to Github"
   ]
  },
  {
   "cell_type": "markdown",
   "id": "miniature-mustang",
   "metadata": {},
   "source": [
    "## Getting the most out of notebooks"
   ]
  },
  {
   "cell_type": "markdown",
   "id": "dirty-danger",
   "metadata": {},
   "source": [
    "* Use your free GPU/TPU wisely\n",
    "    * The hours start counting as soon as you start your notebook.\n",
    "    * Disable GPU until you write your code, check for syntax and run on small subset of data to check for errors.\n",
    "    * Once it is ready to run change the run-time accelerator.\n",
    "* Sometimes Kaggle notebooks are not enough. Example data > 100GB.\n",
    "    * Downsample data -> affect performance.\n",
    "    * Use Kaggle datasets on Google Colab as shown in chapter 2.\n",
    "    * Upgrade your Kaggle notebook to use the Google Cloud AI Notebooks. It is not free. \n",
    "* Nice interview from [heads or tails](https://www.kaggle.com/headsortails), who specializes onn EDA."
   ]
  },
  {
   "cell_type": "markdown",
   "id": "fixed-detail",
   "metadata": {},
   "source": [
    "## Kaggle Learn courses"
   ]
  },
  {
   "cell_type": "markdown",
   "id": "infinite-gospel",
   "metadata": {},
   "source": [
    "* Kaggle has a list of courses to learn about specific topics.\n",
    "* Nice interview [Andrada Olteanu](https://www.kaggle.com/andradaolteanu) about how to use notebooks to learn."
   ]
  }
 ],
 "metadata": {
  "kernelspec": {
   "display_name": "Python 3",
   "language": "python",
   "name": "python3"
  },
  "language_info": {
   "codemirror_mode": {
    "name": "ipython",
    "version": 3
   },
   "file_extension": ".py",
   "mimetype": "text/x-python",
   "name": "python",
   "nbconvert_exporter": "python",
   "pygments_lexer": "ipython3",
   "version": "3.9.7"
  }
 },
 "nbformat": 4,
 "nbformat_minor": 5
}
