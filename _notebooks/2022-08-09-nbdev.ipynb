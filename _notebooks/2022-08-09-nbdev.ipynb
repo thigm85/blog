{
 "cells": [
  {
   "cell_type": "markdown",
   "id": "edf26c25-4d75-4297-a887-6e0a3fc28cff",
   "metadata": {},
   "source": [
    "# Notes about nbdev\n",
    "\n",
    "- toc: true \n",
    "- badges: true\n",
    "- comments: true\n",
    "- categories: [python, nbdev]"
   ]
  },
  {
   "cell_type": "markdown",
   "id": "866483a1-34e6-49c7-b8d4-8c04599e0bf6",
   "metadata": {},
   "source": [
    "* Based on this [YouTube tutorial](https://www.youtube.com/watch?v=l7zS8Ld4_iA&ab_channel=JeremyHoward)\n",
    "    * Create a Github repo\n",
    "    * Terminal: `nbdev_help` to list help\n",
    "    * Terminal: `nbdev_new` from git folder\n",
    "    * Open Jupyter lab and edit files `settings.ini` and `.ipynb` about module and index page\n",
    "    * `nbdev_export` to export notebooks to python modules\n",
    "    * `pip install -e .` to install package in development mode\n",
    "    * `nbdev_preview` to preview package documentation\n",
    "    * use anottations such as `#| hide` and `#| export`to control behavior\n",
    "    * use `@patch` to add methods to previously defined classes. Good for sequentially testing and documenting the code\n",
    "        * When the method is defined directly in the class we can add documentation by using `show_doc(<class_name>.<method_name>)`\n",
    "    * `nbdev_test`: run test locally. We can use `assert`, `test_eq`, `test_ne` and the like to write the tests\n",
    "    * Use `%debug` to debug your code\n",
    "    * Golden rule when developing with nbdev: cells should either contain import general code to be exported, but not a mixture of the two\n",
    "    * `nbdev_clean`: clean notebook metadata. Suggested before sending to GitHub.\n",
    "        * There are hooks that can do that automatically. Look at the docs.\n",
    "    * `nbdev_prepare`: run export, clean and test\n",
    "    * `nbdev_pypi`: upload to pypi\n",
    "    * Nice GitHub action to review notebooks in PR: https://github.com/marketplace/review-notebook-app"
   ]
  },
  {
   "cell_type": "markdown",
   "id": "d6942f87-f4fa-43e7-a0a3-1f41825625a0",
   "metadata": {},
   "source": []
  }
 ],
 "metadata": {
  "kernelspec": {
   "display_name": "blog",
   "language": "python",
   "name": "blog"
  },
  "language_info": {
   "codemirror_mode": {
    "name": "ipython",
    "version": 3
   },
   "file_extension": ".py",
   "mimetype": "text/x-python",
   "name": "python",
   "nbconvert_exporter": "python",
   "pygments_lexer": "ipython3",
   "version": "3.8.13"
  }
 },
 "nbformat": 4,
 "nbformat_minor": 5
}
