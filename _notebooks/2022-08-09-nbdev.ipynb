{
 "cells": [
  {
   "cell_type": "markdown",
   "id": "edf26c25-4d75-4297-a887-6e0a3fc28cff",
   "metadata": {},
   "source": [
    "# Notes about nbdev\n",
    "\n",
    "- toc: true \n",
    "- badges: true\n",
    "- comments: true\n",
    "- categories: [python, nbdev]"
   ]
  },
  {
   "cell_type": "markdown",
   "id": "e12b9cdf-f9df-453b-a75a-293f31904f2b",
   "metadata": {},
   "source": [
    "## Notes based on the nbdev2 introductory video tutorial"
   ]
  },
  {
   "cell_type": "markdown",
   "id": "866483a1-34e6-49c7-b8d4-8c04599e0bf6",
   "metadata": {},
   "source": [
    "* [YouTube tutorial](https://www.youtube.com/watch?v=l7zS8Ld4_iA&ab_channel=JeremyHoward)\n",
    "    * Create a Github repo\n",
    "    * Terminal: `nbdev_help` to list help\n",
    "    * Terminal: `nbdev_new` from git folder\n",
    "    * Open Jupyter lab and edit files `settings.ini` and `.ipynb` about module and index page\n",
    "    * `nbdev_export` to export notebooks to python modules\n",
    "    * `pip install -e .` to install package in development mode\n",
    "    * `nbdev_preview` to preview package documentation\n",
    "    * use anottations such as `#| hide` and `#| export`to control behavior\n",
    "    * use `@patch` to add methods to previously defined classes. Good for sequentially testing and documenting the code\n",
    "        * When the method is defined directly in the class we can add documentation by using `show_doc(<class_name>.<method_name>)`\n",
    "    * `nbdev_test`: run test locally. We can use `assert`, `test_eq`, `test_ne` and the like to write the tests\n",
    "        * We can add `#!notest` at the beginning of the cell to skip the cell during test.\n",
    "    * Use `%debug` to debug your code\n",
    "    * Golden rule when developing with nbdev: cells should either contain import general code to be exported, but not a mixture of the two\n",
    "    * `nbdev_clean`: clean notebook metadata. Suggested before sending to GitHub.\n",
    "        * There are hooks that can do that automatically. Look at the docs.\n",
    "    * `nbdev_prepare`: run export, clean and test\n",
    "    * `nbdev_pypi`: upload to pypi\n",
    "    * Nice GitHub action to review notebooks in PR: https://github.com/marketplace/review-notebook-app"
   ]
  },
  {
   "cell_type": "markdown",
   "id": "9f75887e-1c5c-45a0-a998-7538f7dd1ae7",
   "metadata": {},
   "source": [
    "## Notes based on How nbdev helps us structure our data science workflow in Jupyter Notebooks"
   ]
  },
  {
   "cell_type": "markdown",
   "id": "7c50d7f6-a025-4e66-8621-c7e3a13e1b8b",
   "metadata": {},
   "source": [
    "* [Post link](https://www.overstory.com/blog/how-nbdev-helps-us-structure-our-data-science-workflow-in-jupyter-notebooks)"
   ]
  }
 ],
 "metadata": {
  "kernelspec": {
   "display_name": "blog",
   "language": "python",
   "name": "blog"
  },
  "language_info": {
   "codemirror_mode": {
    "name": "ipython",
    "version": 3
   },
   "file_extension": ".py",
   "mimetype": "text/x-python",
   "name": "python",
   "nbconvert_exporter": "python",
   "pygments_lexer": "ipython3",
   "version": "3.8.13"
  }
 },
 "nbformat": 4,
 "nbformat_minor": 5
}
