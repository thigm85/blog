{
 "cells": [
  {
   "cell_type": "markdown",
   "id": "decent-textbook",
   "metadata": {},
   "source": [
    "# Build a News recommendation app from python with Vespa\n",
    "\n",
    "> Part 1 - News search functionality\n",
    "\n",
    "- toc: true \n",
    "- badges: false\n",
    "- comments: true\n",
    "- categories: [vespa, pyvespa, news recommendation, MIND]"
   ]
  },
  {
   "cell_type": "markdown",
   "id": "static-wyoming",
   "metadata": {},
   "source": [
    "We will build a news recommendation app in Vespa without leaving a python environment. In this first part of the series, we want to develop an application with basic search functionality. Future posts will add recommendation capabilities based on embeddings and other ML models. This series is a simplified version of Vespa's [News search and recommendation tutorial](https://docs.vespa.ai/en/tutorials/news-2-basic-feeding-and-query.html). We will also use the demo version of the [Microsoft News Dataset (MIND)](https://msnews.github.io/) so that anyone can follow along on their laptops."
   ]
  },
  {
   "cell_type": "markdown",
   "id": "hourly-deposit",
   "metadata": {},
   "source": [
    "## Dataset"
   ]
  },
  {
   "cell_type": "markdown",
   "id": "public-puzzle",
   "metadata": {},
   "source": [
    "The original Vespa news search tutorial provides a script to download, parse and convert the MIND dataset to Vespa  format. To make things easier for you, we made the final parsed data required for this tutorial available for download:"
   ]
  },
  {
   "cell_type": "code",
   "execution_count": 1,
   "id": "raising-friend",
   "metadata": {},
   "outputs": [
    {
     "data": {
      "text/plain": [
       "{'abstract': \"Shop the notebooks, jackets, and more that the royals can't live without.\",\n",
       " 'title': 'The Brands Queen Elizabeth, Prince Charles, and Prince Philip Swear By',\n",
       " 'subcategory': 'lifestyleroyals',\n",
       " 'news_id': 'N3112',\n",
       " 'category': 'lifestyle',\n",
       " 'url': 'https://www.msn.com/en-us/lifestyle/lifestyleroyals/the-brands-queen-elizabeth,-prince-charles,-and-prince-philip-swear-by/ss-AAGH0ET?ocid=chopendata',\n",
       " 'date': 20191103,\n",
       " 'clicks': 0,\n",
       " 'impressions': 0}"
      ]
     },
     "execution_count": 1,
     "metadata": {},
     "output_type": "execute_result"
    }
   ],
   "source": [
    "import requests, json\n",
    "\n",
    "data = json.loads(\n",
    "    requests.get(\"https://thigm85.github.io/data/mind/mind_demo_fields_parsed.json\").text\n",
    ")\n",
    "data[0]"
   ]
  },
  {
   "cell_type": "markdown",
   "id": "serious-trauma",
   "metadata": {},
   "source": [
    "The final parsed data used here is a list where each element is a dictionary containing relevant fields about a news article such as `title` and `category`. We also have information about the number of `impressions` and `clicks` the article has received. The demo version of the mind dataset has 28.603 news articles included."
   ]
  },
  {
   "cell_type": "code",
   "execution_count": 2,
   "id": "realistic-estimate",
   "metadata": {},
   "outputs": [
    {
     "data": {
      "text/plain": [
       "28603"
      ]
     },
     "execution_count": 2,
     "metadata": {},
     "output_type": "execute_result"
    }
   ],
   "source": [
    "len(data)"
   ]
  },
  {
   "cell_type": "markdown",
   "id": "automated-portfolio",
   "metadata": {},
   "source": [
    "## Install pyvespa"
   ]
  },
  {
   "cell_type": "code",
   "execution_count": null,
   "id": "dominant-durham",
   "metadata": {},
   "outputs": [],
   "source": [
    "!pip install pyvespa"
   ]
  },
  {
   "cell_type": "markdown",
   "id": "romantic-inside",
   "metadata": {},
   "source": [
    "## Create the search app"
   ]
  },
  {
   "cell_type": "markdown",
   "id": "relative-chinese",
   "metadata": {},
   "source": [
    "Create the application package. `app_package` will hold all the relevant data related to your application's specification. "
   ]
  },
  {
   "cell_type": "code",
   "execution_count": 3,
   "id": "after-target",
   "metadata": {},
   "outputs": [],
   "source": [
    "from vespa.package import ApplicationPackage\n",
    "\n",
    "app_package = ApplicationPackage(name=\"news\")"
   ]
  },
  {
   "cell_type": "markdown",
   "id": "voluntary-century",
   "metadata": {},
   "source": [
    "Add fields to the schema. Here is a short description of the non-obvious arguments used below:\n",
    "\n",
    "* indexing argument: configures the [indexing pipeline](https://docs.vespa.ai/en/reference/advanced-indexing-language.html) for a field, which defines how Vespa will treat input during indexing.\n",
    "\n",
    "  * \"index\": Create a search index for this field.\n",
    "\n",
    "  * \"summary\": Lets this field be part of the [document summary](https://docs.vespa.ai/en/document-summaries.html) in the result set.\n",
    "  \n",
    "  * \"attribute\": Store this field in memory as an [attribute](https://docs.vespa.ai/en/attributes.html) — for [sorting](https://docs.vespa.ai/en/reference/sorting.html), [querying](https://docs.vespa.ai/en/query-api.html) and [grouping](https://docs.vespa.ai/en/grouping.html).\n",
    "\n",
    "* index argument: [configure](https://docs.vespa.ai/en/reference/schema-reference.html#index) how Vespa should create the search index.\n",
    "\n",
    "  * \"enable-bm25\": set up an index compatible with [bm25 ranking](https://docs.vespa.ai/en/reference/rank-features.html#bm25) for text search.\n",
    "  \n",
    "* attribute argument: [configure](https://docs.vespa.ai/en/attributes.html) how Vespa should treat an attribute field.\n",
    "\n",
    "  * \"fast-search\": Build an index for an attribute field. By default, no index is generated for attributes, and search over these defaults to a linear scan.\n",
    "\n",
    "\n",
    "  "
   ]
  },
  {
   "cell_type": "code",
   "execution_count": 4,
   "id": "altered-harbor",
   "metadata": {},
   "outputs": [],
   "source": [
    "from vespa.package import Field\n",
    "\n",
    "app_package.schema.add_fields(\n",
    "    Field(name=\"news_id\", type=\"string\", indexing=[\"summary\", \"attribute\"], attribute=[\"fast-search\"]),\n",
    "    Field(name=\"category\", type=\"string\", indexing=[\"summary\", \"attribute\"]),\n",
    "    Field(name=\"subcategory\", type=\"string\", indexing=[\"summary\", \"attribute\"]),\n",
    "    Field(name=\"title\", type=\"string\", indexing=[\"index\", \"summary\"], index=\"enable-bm25\"),\n",
    "    Field(name=\"abstract\", type=\"string\", indexing=[\"index\", \"summary\"], index=\"enable-bm25\"),\n",
    "    Field(name=\"url\", type=\"string\", indexing=[\"index\", \"summary\"]),        \n",
    "    Field(name=\"date\", type=\"int\", indexing=[\"summary\", \"attribute\"]),            \n",
    "    Field(name=\"clicks\", type=\"int\", indexing=[\"summary\", \"attribute\"]),            \n",
    "    Field(name=\"impressions\", type=\"int\", indexing=[\"summary\", \"attribute\"]),                \n",
    ")"
   ]
  },
  {
   "cell_type": "markdown",
   "id": "thick-threat",
   "metadata": {},
   "source": [
    "Add a fieldset to the schema. Fieldset allows us to search over multiple fields easily. In this case, searching over the `default` fieldset is equivalent to searching over `title` and `abstract`."
   ]
  },
  {
   "cell_type": "code",
   "execution_count": 5,
   "id": "chronic-facing",
   "metadata": {},
   "outputs": [],
   "source": [
    "from vespa.package import FieldSet\n",
    "\n",
    "app_package.schema.add_field_set(\n",
    "    FieldSet(name=\"default\", fields=[\"title\", \"abstract\"])\n",
    ")"
   ]
  },
  {
   "cell_type": "markdown",
   "id": "distant-former",
   "metadata": {},
   "source": [
    "We have enough to deploy the first version of our application. Later in this tutorial, we will include an article’s popularity into the relevance score used to rank the news that matches our queries."
   ]
  },
  {
   "cell_type": "markdown",
   "id": "italic-strap",
   "metadata": {},
   "source": [
    "## Deploy the app on Docker"
   ]
  },
  {
   "cell_type": "markdown",
   "id": "differential-brief",
   "metadata": {},
   "source": [
    "If you have Docker installed on your machine, you can deploy the `app_package` in a local Docker container:   "
   ]
  },
  {
   "cell_type": "code",
   "execution_count": 6,
   "id": "comic-repair",
   "metadata": {},
   "outputs": [
    {
     "name": "stdout",
     "output_type": "stream",
     "text": [
      "Waiting for configuration server.\n",
      "Waiting for configuration server.\n",
      "Waiting for configuration server.\n",
      "Waiting for configuration server.\n",
      "Waiting for configuration server.\n",
      "Waiting for configuration server.\n",
      "Waiting for configuration server.\n",
      "Waiting for configuration server.\n",
      "Waiting for application status.\n",
      "Waiting for application status.\n",
      "Finished deployment.\n"
     ]
    }
   ],
   "source": [
    "from vespa.package import VespaDocker\n",
    "\n",
    "vespa_docker = VespaDocker(\n",
    "    port=8080,\n",
    "    container_memory=\"8G\", \n",
    "    disk_folder=\"/Users/tmartins/news\" # change for your desired absolute folder    \n",
    ")\n",
    "app = vespa_docker.deploy(\n",
    "    application_package=app_package, \n",
    ")"
   ]
  },
  {
   "cell_type": "markdown",
   "id": "personalized-round",
   "metadata": {},
   "source": [
    "`vespa_docker` will parse the `app_package` and write all the necessary Vespa config files to the `disk_folder`. It will then create the docker containers and use the Vespa config files to deploy the Vespa application. We can then use the `app` instance to interact with the deployed application, such as for feeding and querying. If you want to know more about what happens behind the scenes, we suggest you go through [this getting started with Docker tutorial](https://docs.vespa.ai/en/tutorials/news-1-getting-started.html). "
   ]
  },
  {
   "cell_type": "markdown",
   "id": "disturbed-transparency",
   "metadata": {},
   "source": [
    "## Feed data to the app"
   ]
  },
  {
   "cell_type": "markdown",
   "id": "postal-crest",
   "metadata": {},
   "source": [
    "We can use the `feed_data_point` method. We need to specify:\n",
    "\n",
    "* `data_id`: unique id to identify the data point\n",
    "\n",
    "* `fields`: dictionary with keys matching the field names defined in our application package schema.\n",
    "\n",
    "* `schema`: name of the schema we want to feed data to. When we created an application package, we created a schema by default with the same name as the application name, `news` in our case."
   ]
  },
  {
   "cell_type": "code",
   "execution_count": 7,
   "id": "mineral-german",
   "metadata": {},
   "outputs": [],
   "source": [
    "for article in data:\n",
    "    res = app.feed_data_point(\n",
    "        data_id=article[\"news_id\"], \n",
    "        fields=article, \n",
    "        schema=\"news\"\n",
    "    )"
   ]
  },
  {
   "cell_type": "markdown",
   "id": "dimensional-grill",
   "metadata": {},
   "source": [
    "## Query the app"
   ]
  },
  {
   "cell_type": "markdown",
   "id": "hidden-coordinator",
   "metadata": {},
   "source": [
    "We can use the [Vespa Query API](https://docs.vespa.ai/en/query-api.html) through `app.query` to unlock the full query flexibility Vespa can offer."
   ]
  },
  {
   "cell_type": "markdown",
   "id": "central-robert",
   "metadata": {},
   "source": [
    "### Search over indexed  fields using keywords"
   ]
  },
  {
   "cell_type": "markdown",
   "id": "front-woman",
   "metadata": {},
   "source": [
    "Select all the fields from documents where `default` (title or abstract) contains the keyword 'music'."
   ]
  },
  {
   "cell_type": "code",
   "execution_count": 8,
   "id": "accompanied-spread",
   "metadata": {},
   "outputs": [
    {
     "data": {
      "text/plain": [
       "{'id': 'index:news_content/0/5f1b30d14d4a15050dae9f7f',\n",
       " 'relevance': 0.25641557752127125,\n",
       " 'source': 'news_content'}"
      ]
     },
     "execution_count": 8,
     "metadata": {},
     "output_type": "execute_result"
    }
   ],
   "source": [
    "res = app.query(body={\"yql\" : \"select * from sources * where default contains 'music';\"})\n",
    "res.hits[0]"
   ]
  },
  {
   "cell_type": "markdown",
   "id": "fresh-remark",
   "metadata": {},
   "source": [
    "Select `title` and `abstract` where `title` contains 'music' and `default` contains 'festival'."
   ]
  },
  {
   "cell_type": "code",
   "execution_count": 9,
   "id": "fatty-driving",
   "metadata": {},
   "outputs": [
    {
     "data": {
      "text/plain": [
       "{'id': 'index:news_content/0/988f76793a855e48b16dc5d3',\n",
       " 'relevance': 0.19587240022210403,\n",
       " 'source': 'news_content',\n",
       " 'fields': {'title': \"At Least 3 Injured In Stampede At Travis Scott's Astroworld Music Festival\",\n",
       "  'abstract': \"A stampede Saturday outside rapper Travis Scott's Astroworld musical festival in Houston, left three people injured. Minutes before the gates were scheduled to open at noon, fans began climbing over metal barricades and surged toward the entrance, according to local news reports.\"}}"
      ]
     },
     "execution_count": 9,
     "metadata": {},
     "output_type": "execute_result"
    }
   ],
   "source": [
    "res = app.query(body = {\"yql\" : \"select title, abstract from sources * where title contains 'music' AND default contains 'festival';\"})\n",
    "res.hits[0]"
   ]
  },
  {
   "cell_type": "markdown",
   "id": "prompt-workshop",
   "metadata": {},
   "source": [
    "### Search by document type"
   ]
  },
  {
   "cell_type": "markdown",
   "id": "inappropriate-authentication",
   "metadata": {},
   "source": [
    "Select the title of all the documents with document type equal to `news`. Our application has only one document type, so the query below retrieves all our documents."
   ]
  },
  {
   "cell_type": "code",
   "execution_count": 10,
   "id": "dirty-snapshot",
   "metadata": {},
   "outputs": [
    {
     "data": {
      "text/plain": [
       "{'id': 'index:news_content/0/698f73a87a936f1c773f2161',\n",
       " 'relevance': 0.0,\n",
       " 'source': 'news_content',\n",
       " 'fields': {'title': 'The Brands Queen Elizabeth, Prince Charles, and Prince Philip Swear By'}}"
      ]
     },
     "execution_count": 10,
     "metadata": {},
     "output_type": "execute_result"
    }
   ],
   "source": [
    "res = app.query(body = {\"yql\" : \"select title from sources * where sddocname contains 'news';\"})\n",
    "res.hits[0]"
   ]
  },
  {
   "cell_type": "markdown",
   "id": "lovely-inclusion",
   "metadata": {},
   "source": [
    "### Search over attribute fields such as date"
   ]
  },
  {
   "cell_type": "markdown",
   "id": "optional-citizenship",
   "metadata": {},
   "source": [
    "Since `date` is not specified with `attribute=[\"fast-search\"]` there is no index built for it. Therefore, search over it is equivalent to doing a linear scan over the values of the field."
   ]
  },
  {
   "cell_type": "code",
   "execution_count": 11,
   "id": "educational-daisy",
   "metadata": {},
   "outputs": [
    {
     "data": {
      "text/plain": [
       "{'id': 'index:news_content/0/debbdfe653c6d11f71cc2353',\n",
       " 'relevance': 0.0017429193899782135,\n",
       " 'source': 'news_content',\n",
       " 'fields': {'title': 'These Cranberry Sauce Recipes Are Perfect for Thanksgiving Dinner',\n",
       "  'date': 20191110}}"
      ]
     },
     "execution_count": 11,
     "metadata": {},
     "output_type": "execute_result"
    }
   ],
   "source": [
    "res = app.query(body={\"yql\" : \"select title, date from sources * where date contains '20191110';\"})\n",
    "res.hits[0]"
   ]
  },
  {
   "cell_type": "markdown",
   "id": "enhanced-bryan",
   "metadata": {},
   "source": [
    "Since the `default` fieldset is formed by indexed fields, Vespa will first filter by all the documents that contain the keyword 'weather' within `title` or `abstract`, before scanning the `date` field for '20191110'."
   ]
  },
  {
   "cell_type": "code",
   "execution_count": 12,
   "id": "chronic-carroll",
   "metadata": {},
   "outputs": [
    {
     "data": {
      "text/plain": [
       "{'id': 'index:news_content/0/bb88325ae94d888c46538d0b',\n",
       " 'relevance': 0.27025156546141466,\n",
       " 'source': 'news_content',\n",
       " 'fields': {'title': 'Weather forecast in St. Louis',\n",
       "  'abstract': \"What's the weather today? What's the weather for the week? Here's your forecast.\",\n",
       "  'date': 20191110}}"
      ]
     },
     "execution_count": 12,
     "metadata": {},
     "output_type": "execute_result"
    }
   ],
   "source": [
    "res = app.query(body={\"yql\" : \"select title, abstract, date from sources * where default contains 'weather' AND date contains '20191110';\"})\n",
    "res.hits[0]"
   ]
  },
  {
   "cell_type": "markdown",
   "id": "forward-network",
   "metadata": {},
   "source": [
    "We can also perform range searches:"
   ]
  },
  {
   "cell_type": "code",
   "execution_count": 13,
   "id": "underlying-retirement",
   "metadata": {},
   "outputs": [
    {
     "data": {
      "text/plain": [
       "{'id': 'index:news_content/0/c41a873213fdcffbb74987c0',\n",
       " 'relevance': 0.0017429193899782135,\n",
       " 'source': 'news_content',\n",
       " 'fields': {'date': 20191109}}"
      ]
     },
     "execution_count": 13,
     "metadata": {},
     "output_type": "execute_result"
    }
   ],
   "source": [
    "res = app.query({\"yql\" : \"select date from sources * where date <= 20191110 AND date >= 20191108;\"})\n",
    "res.hits[0]"
   ]
  },
  {
   "cell_type": "markdown",
   "id": "particular-relations",
   "metadata": {},
   "source": [
    "### Sorting"
   ]
  },
  {
   "cell_type": "markdown",
   "id": "convenient-movement",
   "metadata": {},
   "source": [
    "By default, Vespa sorts the hits by descending relevance score. The relevance score is given by the [nativeRank](https://docs.vespa.ai/en/nativerank.html) unless something else is specified, as we will do later in this post."
   ]
  },
  {
   "cell_type": "code",
   "execution_count": 14,
   "id": "combined-death",
   "metadata": {},
   "outputs": [
    {
     "data": {
      "text/plain": [
       "[{'id': 'index:news_content/0/5f1b30d14d4a15050dae9f7f',\n",
       "  'relevance': 0.25641557752127125,\n",
       "  'source': 'news_content',\n",
       "  'fields': {'title': 'Music is hot in Nashville this week',\n",
       "   'date': 20191101}},\n",
       " {'id': 'index:news_content/0/6a031d5eff95264c54daf56d',\n",
       "  'relevance': 0.23351089409559303,\n",
       "  'source': 'news_content',\n",
       "  'fields': {'title': 'Apple Music Replay highlights your favorite tunes of the year',\n",
       "   'date': 20191105}}]"
      ]
     },
     "execution_count": 14,
     "metadata": {},
     "output_type": "execute_result"
    }
   ],
   "source": [
    "res = app.query(body={\"yql\" : \"select title, date from sources * where default contains 'music';\"})\n",
    "res.hits[:2]"
   ]
  },
  {
   "cell_type": "markdown",
   "id": "finnish-gospel",
   "metadata": {},
   "source": [
    "However, we can explicitly order by a given field with the `order` keyword. "
   ]
  },
  {
   "cell_type": "code",
   "execution_count": 15,
   "id": "critical-mechanics",
   "metadata": {},
   "outputs": [
    {
     "data": {
      "text/plain": [
       "[{'id': 'index:news_content/0/d0d7e1c080f0faf5989046d8',\n",
       "  'relevance': 0.0,\n",
       "  'source': 'news_content',\n",
       "  'fields': {'title': \"Elton John's second farewell tour stop in Cleveland shows why he's still standing after all these years\",\n",
       "   'date': 20191031}},\n",
       " {'id': 'index:news_content/0/abf7f6f46ff2a96862075155',\n",
       "  'relevance': 0.0,\n",
       "  'source': 'news_content',\n",
       "  'fields': {'title': 'The best hair metal bands', 'date': 20191101}}]"
      ]
     },
     "execution_count": 15,
     "metadata": {},
     "output_type": "execute_result"
    }
   ],
   "source": [
    "res = app.query(body={\"yql\" : \"select title, date from sources * where default contains 'music' order by date;\"})\n",
    "res.hits[:2]"
   ]
  },
  {
   "cell_type": "markdown",
   "id": "resident-position",
   "metadata": {},
   "source": [
    "`order` sorts in ascending order by default, we can override that with the `desc` keyword:"
   ]
  },
  {
   "cell_type": "code",
   "execution_count": 16,
   "id": "detailed-supplier",
   "metadata": {},
   "outputs": [
    {
     "data": {
      "text/plain": [
       "[{'id': 'index:news_content/0/934a8d976ff8694772009362',\n",
       "  'relevance': 0.0,\n",
       "  'source': 'news_content',\n",
       "  'fields': {'title': 'Korg Minilogue XD update adds key triggers for synth sequences',\n",
       "   'date': 20191113}},\n",
       " {'id': 'index:news_content/0/4feca287fdfa1d027f61e7bf',\n",
       "  'relevance': 0.0,\n",
       "  'source': 'news_content',\n",
       "  'fields': {'title': 'Tom Draper, Black Music Industry Pioneer, Dies at 79',\n",
       "   'date': 20191113}}]"
      ]
     },
     "execution_count": 16,
     "metadata": {},
     "output_type": "execute_result"
    }
   ],
   "source": [
    "res = app.query(body={\"yql\" : \"select title, date from sources * where default contains 'music' order by date desc;\"})\n",
    "res.hits[:2]"
   ]
  },
  {
   "cell_type": "markdown",
   "id": "direct-remainder",
   "metadata": {},
   "source": [
    "### Grouping"
   ]
  },
  {
   "cell_type": "markdown",
   "id": "million-halloween",
   "metadata": {},
   "source": [
    "We can use Vespa's [grouping](https://docs.vespa.ai/en/grouping.html) feature to compute the three news categories with the highest number of document counts:\n",
    "\n",
    "* news with 9115 articles\n",
    "\n",
    "* sports with 6765 articles\n",
    "\n",
    "* finance with 1886 articles"
   ]
  },
  {
   "cell_type": "code",
   "execution_count": 17,
   "id": "distant-pledge",
   "metadata": {},
   "outputs": [
    {
     "data": {
      "text/plain": [
       "{'id': 'group:root:0',\n",
       " 'relevance': 1.0,\n",
       " 'continuation': {'this': ''},\n",
       " 'children': [{'id': 'grouplist:category',\n",
       "   'relevance': 1.0,\n",
       "   'label': 'category',\n",
       "   'continuation': {'next': 'BGAAABEBGBC'},\n",
       "   'children': [{'id': 'group:string:news',\n",
       "     'relevance': 1.0,\n",
       "     'value': 'news',\n",
       "     'fields': {'count()': 9115}},\n",
       "    {'id': 'group:string:sports',\n",
       "     'relevance': 0.6666666666666666,\n",
       "     'value': 'sports',\n",
       "     'fields': {'count()': 6765}},\n",
       "    {'id': 'group:string:finance',\n",
       "     'relevance': 0.3333333333333333,\n",
       "     'value': 'finance',\n",
       "     'fields': {'count()': 1886}}]}]}"
      ]
     },
     "execution_count": 17,
     "metadata": {},
     "output_type": "execute_result"
    }
   ],
   "source": [
    "res = app.query(body={\"yql\" : \"select * from sources * where sddocname contains 'news' limit 0 | all(group(category) max(3) order(-count())each(output(count())));\"})\n",
    "res.hits[0]"
   ]
  },
  {
   "cell_type": "markdown",
   "id": "identical-spelling",
   "metadata": {},
   "source": [
    "## Use news popularity signal for ranking"
   ]
  },
  {
   "cell_type": "markdown",
   "id": "interior-employee",
   "metadata": {},
   "source": [
    "Vespa uses [nativeRank](https://docs.vespa.ai/en/nativerank.html) to compute relevance scores by default. We will create a new rank-profile that includes a popularity signal in our relevance score computation. "
   ]
  },
  {
   "cell_type": "code",
   "execution_count": 18,
   "id": "terminal-makeup",
   "metadata": {},
   "outputs": [],
   "source": [
    "from vespa.package import RankProfile, Function\n",
    "\n",
    "app_package.schema.add_rank_profile(\n",
    "    RankProfile(\n",
    "        name=\"popularity\",\n",
    "        inherits=\"default\",\n",
    "        functions=[\n",
    "            Function(\n",
    "                name=\"popularity\", \n",
    "                expression=\"if (attribute(impressions) > 0, attribute(clicks) / attribute(impressions), 0)\"\n",
    "            )\n",
    "        ], \n",
    "        first_phase=\"nativeRank(title, abstract) + 10 * popularity\"\n",
    "    )\n",
    ")"
   ]
  },
  {
   "cell_type": "markdown",
   "id": "vocal-viewer",
   "metadata": {},
   "source": [
    "Our new rank-profile will be called `popularity`. Here is a breakdown of what is included above:\n",
    "\n",
    "* inherits=\"default\"\n",
    "\n",
    "This configures Vespa to create a new rank profile named popularity, which inherits all the default rank-profile properties; only properties that are explicitly defined, or overridden, will differ from those of the default rank-profile.\n",
    "\n",
    "* function popularity\n",
    "\n",
    "This sets up a function that can be called from other expressions. This function calculates the number of clicks divided by impressions for indicating popularity. However, this isn’t really the best way of calculating this, as an article with a low number of impressions can score high on such a value, even though uncertainty is high. But it is a start :)\n",
    "\n",
    "* first-phase\n",
    "\n",
    "Relevance calculations in Vespa are two-phased. The calculations done in the first phase are performed on every single document matching your query. In contrast, the second phase calculations are only done on the top n documents as determined by the calculations done in the first phase. We are just going to use the first-phase for now.\n",
    "\n",
    "* expression: nativeRank + 10 * popularity\n",
    "\n",
    "This expression is used to rank documents. Here, the default ranking expression — the nativeRank of the default fieldset — is included to make the query relevant, while the second term calls the popularity function. The weighted sum of these two terms is the final relevance for each document. Note that the weight here, 10, is set by observation. A better approach would be to learn such values using machine learning, which we'll get back to in future posts."
   ]
  },
  {
   "cell_type": "markdown",
   "id": "narrow-assessment",
   "metadata": {},
   "source": [
    "### Redeploy the application"
   ]
  },
  {
   "cell_type": "markdown",
   "id": "prostate-hunger",
   "metadata": {},
   "source": [
    "Since we have changed the application package, we need to redeploy our application:"
   ]
  },
  {
   "cell_type": "code",
   "execution_count": 19,
   "id": "temporal-spank",
   "metadata": {},
   "outputs": [
    {
     "name": "stdout",
     "output_type": "stream",
     "text": [
      "Waiting for configuration server.\n",
      "Waiting for configuration server.\n",
      "Waiting for configuration server.\n",
      "Waiting for configuration server.\n",
      "Waiting for configuration server.\n",
      "Waiting for configuration server.\n",
      "Waiting for configuration server.\n",
      "Waiting for configuration server.\n",
      "Waiting for configuration server.\n",
      "Waiting for configuration server.\n",
      "Waiting for configuration server.\n",
      "Waiting for configuration server.\n",
      "Waiting for configuration server.\n",
      "Waiting for configuration server.\n",
      "Waiting for application status.\n",
      "Waiting for application status.\n",
      "Finished deployment.\n"
     ]
    }
   ],
   "source": [
    "app = vespa_docker.deploy(\n",
    "    application_package=app_package, \n",
    ")"
   ]
  },
  {
   "cell_type": "code",
   "execution_count": 20,
   "id": "hawaiian-heart",
   "metadata": {},
   "outputs": [
    {
     "data": {
      "text/plain": [
       "[\"Uploading application '/app/application' using http://localhost:19071/application/v2/tenant/default/session\",\n",
       " \"Session 3 for tenant 'default' created.\",\n",
       " 'Preparing session 3 using http://localhost:19071/application/v2/tenant/default/session/3/prepared',\n",
       " \"WARNING: Host named 'news' may not receive any config since it is not a canonical hostname. Disregard this warning when testing in a Docker container.\",\n",
       " \"Session 3 for tenant 'default' prepared.\",\n",
       " 'Activating session 3 using http://localhost:19071/application/v2/tenant/default/session/3/active',\n",
       " \"Session 3 for tenant 'default' activated.\",\n",
       " 'Checksum:   fa83365f9aacba5133026e09c3e42cea',\n",
       " 'Timestamp:  1615287349323',\n",
       " 'Generation: 3',\n",
       " '']"
      ]
     },
     "execution_count": 20,
     "metadata": {},
     "output_type": "execute_result"
    }
   ],
   "source": [
    "app.deployment_message"
   ]
  },
  {
   "cell_type": "markdown",
   "id": "golden-sudan",
   "metadata": {},
   "source": [
    "### Query using the new popularity signal"
   ]
  },
  {
   "cell_type": "markdown",
   "id": "hollow-valve",
   "metadata": {},
   "source": [
    "When the redeployment is complete, we can use it to rank the matched documents by using the `ranking` argument."
   ]
  },
  {
   "cell_type": "code",
   "execution_count": 22,
   "id": "confidential-glenn",
   "metadata": {},
   "outputs": [
    {
     "data": {
      "text/plain": [
       "{'id': 'id:news:news::N5870',\n",
       " 'relevance': 5.156596018746151,\n",
       " 'source': 'news_content',\n",
       " 'fields': {'sddocname': 'news',\n",
       "  'documentid': 'id:news:news::N5870',\n",
       "  'news_id': 'N5870',\n",
       "  'category': 'music',\n",
       "  'subcategory': 'musicnews',\n",
       "  'title': 'Country music group Alabama reschedules their Indy show until next October 2020',\n",
       "  'abstract': 'INDIANAPOLIS, Ind.   Fans of the highly acclaimed country music group Alabama, scheduled to play Bankers Life Fieldhouse Saturday night, will have to wait until next year to see the group. The group famous for such notable songs like \"If You\\'re Gonna Play in Texas\", \"Love In The First Degree\", and \"She and I\", made the announcement that their 50th Anniversary Tour is being rescheduled till ...',\n",
       "  'url': 'https://www.msn.com/en-us/music/musicnews/country-music-group-alabama-reschedules-their-indy-show-until-next-october-2020/ar-BBWB0d7?ocid=chopendata',\n",
       "  'date': 20191108,\n",
       "  'clicks': 1,\n",
       "  'impressions': 2}}"
      ]
     },
     "execution_count": 22,
     "metadata": {},
     "output_type": "execute_result"
    }
   ],
   "source": [
    "res = app.query(body={\n",
    "    \"yql\" : \"select * from sources * where default contains 'music';\", \n",
    "    \"ranking\" : \"popularity\"\n",
    "})\n",
    "res.hits[0]"
   ]
  }
 ],
 "metadata": {
  "kernelspec": {
   "display_name": "Python 3",
   "language": "python",
   "name": "python3"
  },
  "language_info": {
   "codemirror_mode": {
    "name": "ipython",
    "version": 3
   },
   "file_extension": ".py",
   "mimetype": "text/x-python",
   "name": "python",
   "nbconvert_exporter": "python",
   "pygments_lexer": "ipython3",
   "version": "3.9.1"
  }
 },
 "nbformat": 4,
 "nbformat_minor": 5
}
