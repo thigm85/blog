{
 "cells": [
  {
   "cell_type": "markdown",
   "metadata": {},
   "source": [
    "# pyvespa API\n",
    "\n",
    "> Simplification, embeddings and consistency\n",
    "\n",
    "- toc: true \n",
    "- badges: false\n",
    "- comments: true\n",
    "- categories: [pyvespa, embeddings]"
   ]
  },
  {
   "cell_type": "markdown",
   "metadata": {},
   "source": [
    "While experimenting with embeddings in pyvespa, I noticed that I could make significant improvements on the pyvespa API:\n",
    "\n",
    "* Simplify the API for the most common and basic usage (one `default` schema, one `default` query profile with `root` query profile type) while making it easy to configure more complex usage (multiple schemas, for example).\n",
    "\n",
    "* Create a unified approach to define and use embeddings in the applications.\n",
    "\n",
    "* Expose similar functionality to Applications not defined by the `pyvespa` API."
   ]
  },
  {
   "cell_type": "markdown",
   "metadata": {},
   "source": [
    "## Simpler API"
   ]
  },
  {
   "cell_type": "markdown",
   "metadata": {},
   "source": [
    "### Default Schema"
   ]
  },
  {
   "cell_type": "markdown",
   "metadata": {},
   "source": [
    "Before simplification:"
   ]
  },
  {
   "cell_type": "code",
   "execution_count": null,
   "metadata": {},
   "outputs": [],
   "source": [
    "from vespa.package import Document, Field, Schema, FieldSet, RankProfile, ApplicationPackage\n",
    "\n",
    "document = Document(\n",
    "    fields=[\n",
    "        Field(name = \"id\", type = \"string\", indexing = [\"attribute\", \"summary\"]),\n",
    "        Field(name = \"title\", type = \"string\", indexing = [\"index\", \"summary\"], index = \"enable-bm25\"),\n",
    "        Field(name = \"body\", type = \"string\", indexing = [\"index\", \"summary\"], index = \"enable-bm25\")        \n",
    "    ]\n",
    ")\n",
    "msmarco_schema = Schema(\n",
    "    name = \"msmarco\", \n",
    "    document = document, \n",
    "    fieldsets = [FieldSet(name = \"default\", fields = [\"title\", \"body\"])],\n",
    "    rank_profiles = [RankProfile(name = \"default\", first_phase = \"nativeRank(title, body)\")]\n",
    ")\n",
    "app_package = ApplicationPackage(name = \"msmarco\", schema=msmarco_schema)"
   ]
  },
  {
   "cell_type": "markdown",
   "metadata": {},
   "source": [
    "After simplification:"
   ]
  },
  {
   "cell_type": "code",
   "execution_count": null,
   "metadata": {},
   "outputs": [],
   "source": [
    "from vespa.package import Field, FieldSet, RankProfile, ApplicationPackage\n",
    "\n",
    "app_package = ApplicationPackage(name = \"msmarco\")\n",
    "\n",
    "app_package.schema.add_field(        \n",
    "    Field(name = \"id\", type = \"string\", indexing = [\"attribute\", \"summary\"]),\n",
    "    Field(name = \"title\", type = \"string\", indexing = [\"index\", \"summary\"], index = \"enable-bm25\"),\n",
    "    Field(name = \"body\", type = \"string\", indexing = [\"index\", \"summary\"], index = \"enable-bm25\")        \n",
    ")\n",
    "app_package.schema.add_field_set(FieldSet(name = \"default\", fields = [\"title\", \"body\"]))\n",
    "app_package.schema.add_rank_profile(RankProfile(name = \"default\", first_phase = \"nativeRank(title, body)\"))"
   ]
  },
  {
   "cell_type": "markdown",
   "metadata": {},
   "source": [
    "When required we can use a similar pattern to deal with multiple schemas use cases where the `.schema` attribute is short for `.schemas(\"default\")`"
   ]
  },
  {
   "cell_type": "code",
   "execution_count": null,
   "metadata": {},
   "outputs": [],
   "source": [
    "app_package.schemas(\"my_other_schema\").add_field(        \n",
    "    Field(name = \"id\", type = \"string\", indexing = [\"attribute\", \"summary\"]),\n",
    "    Field(name = \"user_name\", type = \"string\", indexing = [\"attribute\", \"summary\"]),\n",
    ")"
   ]
  },
  {
   "cell_type": "markdown",
   "metadata": {},
   "source": [
    "### Default query profile with root query profile type"
   ]
  },
  {
   "cell_type": "code",
   "execution_count": null,
   "metadata": {},
   "outputs": [],
   "source": []
  }
 ],
 "metadata": {
  "kernelspec": {
   "display_name": "Python 3",
   "language": "python",
   "name": "python3"
  },
  "language_info": {
   "codemirror_mode": {
    "name": "ipython",
    "version": 3
   },
   "file_extension": ".py",
   "mimetype": "text/x-python",
   "name": "python",
   "nbconvert_exporter": "python",
   "pygments_lexer": "ipython3",
   "version": "3.8.5"
  }
 },
 "nbformat": 4,
 "nbformat_minor": 4
}
