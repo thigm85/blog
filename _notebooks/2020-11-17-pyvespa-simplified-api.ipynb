{
 "cells": [
  {
   "cell_type": "markdown",
   "metadata": {},
   "source": [
    "# Proposal for a simplified pyvespa API\n",
    "\n",
    "> Simplification, embeddings and consistency\n",
    "\n",
    "- toc: true \n",
    "- badges: false\n",
    "- comments: true\n",
    "- categories: [pyvespa, embeddings]"
   ]
  },
  {
   "cell_type": "markdown",
   "metadata": {},
   "source": [
    "While experimenting with embeddings in pyvespa, I noticed that I could make significant improvements on the pyvespa API:\n",
    "\n",
    "* Simplify the API for the most common and basic usage (one `default` schema, one `default` query profile with `root` query profile type) while making it easy to configure more complex usage (multiple schemas, for example).\n",
    "\n",
    "* Create a unified approach to define and use embeddings in the applications.\n",
    "\n",
    "* Expose similar functionality to Applications not defined by the `pyvespa` API."
   ]
  },
  {
   "cell_type": "markdown",
   "metadata": {},
   "source": [
    "## Simpler API"
   ]
  },
  {
   "cell_type": "markdown",
   "metadata": {},
   "source": [
    "### Default Schema"
   ]
  },
  {
   "cell_type": "markdown",
   "metadata": {},
   "source": [
    "Before simplification:"
   ]
  },
  {
   "cell_type": "code",
   "execution_count": null,
   "metadata": {},
   "outputs": [],
   "source": [
    "from vespa.package import Document, Field, Schema, FieldSet, RankProfile, ApplicationPackage\n",
    "\n",
    "document = Document(\n",
    "    fields=[\n",
    "        Field(name = \"id\", type = \"string\", indexing = [\"attribute\", \"summary\"]),\n",
    "        Field(name = \"title\", type = \"string\", indexing = [\"index\", \"summary\"], index = \"enable-bm25\"),\n",
    "        Field(name = \"body\", type = \"string\", indexing = [\"index\", \"summary\"], index = \"enable-bm25\")        \n",
    "    ]\n",
    ")\n",
    "msmarco_schema = Schema(\n",
    "    name = \"msmarco\", \n",
    "    document = document, \n",
    "    fieldsets = [FieldSet(name = \"default\", fields = [\"title\", \"body\"])],\n",
    "    rank_profiles = [RankProfile(name = \"default\", first_phase = \"nativeRank(title, body)\")]\n",
    ")\n",
    "app_package = ApplicationPackage(name = \"msmarco\", schema=msmarco_schema)"
   ]
  },
  {
   "cell_type": "markdown",
   "metadata": {},
   "source": [
    "After simplification:"
   ]
  },
  {
   "cell_type": "code",
   "execution_count": null,
   "metadata": {},
   "outputs": [],
   "source": [
    "from vespa.package import Field, FieldSet, RankProfile, ApplicationPackage\n",
    "\n",
    "app_package = ApplicationPackage(name = \"msmarco\")\n",
    "\n",
    "app_package.schema.add_field(        \n",
    "    Field(name = \"id\", type = \"string\", indexing = [\"attribute\", \"summary\"]),\n",
    "    Field(name = \"title\", type = \"string\", indexing = [\"index\", \"summary\"], index = \"enable-bm25\"),\n",
    "    Field(name = \"body\", type = \"string\", indexing = [\"index\", \"summary\"], index = \"enable-bm25\")        \n",
    ")\n",
    "app_package.schema.add_field_set(FieldSet(name = \"default\", fields = [\"title\", \"body\"]))\n",
    "app_package.schema.add_rank_profile(RankProfile(name = \"default\", first_phase = \"nativeRank(title, body)\"))"
   ]
  },
  {
   "cell_type": "markdown",
   "metadata": {},
   "source": [
    "When required we can use a similar pattern to deal with multiple schemas use cases where the `.schema` attribute is short for `.schemas(\"default\")`"
   ]
  },
  {
   "cell_type": "code",
   "execution_count": null,
   "metadata": {},
   "outputs": [],
   "source": [
    "app_package.schemas(\"my_other_schema\").add_field(        \n",
    "    Field(name = \"id\", type = \"string\", indexing = [\"attribute\", \"summary\"]),\n",
    "    Field(name = \"user_name\", type = \"string\", indexing = [\"attribute\", \"summary\"]),\n",
    ")"
   ]
  },
  {
   "cell_type": "markdown",
   "metadata": {},
   "source": [
    "### Default query profile with root query profile type"
   ]
  },
  {
   "cell_type": "markdown",
   "metadata": {},
   "source": [
    "Example of what we want to accomplish:"
   ]
  },
  {
   "cell_type": "markdown",
   "metadata": {},
   "source": [
    "* query profile type"
   ]
  },
  {
   "cell_type": "code",
   "execution_count": null,
   "metadata": {},
   "outputs": [],
   "source": [
    "<query-profile-type id=\"root\">\n",
    "  <field name=\"ranking.features.query(tensor_bert)\" type=\"tensor&lt;float&gt;(x[768])\" />\n",
    "</query-profile-type>"
   ]
  },
  {
   "cell_type": "markdown",
   "metadata": {},
   "source": [
    "* query profile"
   ]
  },
  {
   "cell_type": "code",
   "execution_count": null,
   "metadata": {},
   "outputs": [],
   "source": [
    "<query-profile id=\"default\" type=\"root\">\n",
    "  <field name=\"maxHits\">1000</field>\n",
    "</query-profile>"
   ]
  },
  {
   "cell_type": "markdown",
   "metadata": {},
   "source": [
    "**Verbose API**:"
   ]
  },
  {
   "cell_type": "code",
   "execution_count": null,
   "metadata": {},
   "outputs": [],
   "source": [
    "query_profile_type = QueryProfileType(\n",
    "    id=\"root\", \n",
    "    fields = [\n",
    "        QueryTypeField(\n",
    "            name=\"ranking.features.query(tensor_bert)\",\n",
    "            type=\"tensor<float>(x[768])\"\n",
    "        )\n",
    "    ]\n",
    ")\n",
    "query_profile = QueryProfile(\n",
    "    id=\"default\", \n",
    "    type=\"root\", \n",
    "    fields=[QueryField(name=\"maxHits\", value=1000)]\n",
    ")\n",
    "\n",
    "app_package.add_query_profile_type(query_profile_type)\n",
    "app_package.add_query_profile(query_profile)"
   ]
  },
  {
   "cell_type": "markdown",
   "metadata": {},
   "source": [
    "**Simplified API**:"
   ]
  },
  {
   "cell_type": "code",
   "execution_count": null,
   "metadata": {},
   "outputs": [],
   "source": [
    "app_package.query_profile_type.add_field(        \n",
    "    QueryTypeField(\n",
    "        name=\"ranking.features.query(tensor_bert)\",\n",
    "        type=\"tensor<float>(x[768])\"\n",
    "    )\n",
    ")\n",
    "app_package.query_profile.add_field(\n",
    "    QueryField(name=\"maxHits\", value=1000)\n",
    ")"
   ]
  },
  {
   "cell_type": "markdown",
   "metadata": {},
   "source": [
    "When required we can use a similar pattern to deal with multiple profiles where `.query_profile` attribute is short for `.query_profiles(\"default\")`. Similarly for `.query_profile_type`."
   ]
  },
  {
   "cell_type": "markdown",
   "metadata": {},
   "source": [
    "## Embedding as doc/query representation"
   ]
  },
  {
   "cell_type": "markdown",
   "metadata": {},
   "source": [
    "### Create the application with the simplified API"
   ]
  },
  {
   "cell_type": "markdown",
   "metadata": {},
   "source": [
    "Lets see how we can use embeddings for document and query representation using the simplified API."
   ]
  },
  {
   "cell_type": "code",
   "execution_count": null,
   "metadata": {},
   "outputs": [],
   "source": [
    "app_package = ApplicationPackage(name = \"msmarco\")\n",
    "\n",
    "app_package.schema.add_field(        \n",
    "    Field(name = \"id\", type = \"string\", indexing = [\"attribute\", \"summary\"]),\n",
    "    Field(name = \"title\", type = \"string\", indexing = [\"index\", \"summary\"], index = \"enable-bm25\"),\n",
    "    Field(name = \"title_bert\", type = \"tensor<float>(x[768])\", indexing = [\"attribute\"])        \n",
    ")\n",
    "app_package.query_profile_type.add_field(        \n",
    "    QueryTypeField(\n",
    "        name=\"ranking.features.query(tensor_bert)\",\n",
    "        type=\"tensor<float>(x[768])\"\n",
    "    )\n",
    ")\n",
    "app_package.schema.add_rank_profile(\n",
    "    RankProfile(\n",
    "        name = \"bert_title\", \n",
    "        first_phase = \"sum(query(tensor_bert)*attribute(title_bert))\"\n",
    "    )\n",
    ")"
   ]
  },
  {
   "cell_type": "markdown",
   "metadata": {},
   "source": [
    "### Feeding"
   ]
  },
  {
   "cell_type": "markdown",
   "metadata": {},
   "source": [
    "It is annoying the need to specify `{\"values\": [...]}` for indexed tensors:"
   ]
  },
  {
   "cell_type": "code",
   "execution_count": null,
   "metadata": {},
   "outputs": [],
   "source": [
    "response = app.feed_data_point(\n",
    "    data_id = \"test_id\", \n",
    "    fields = {\n",
    "        \"id\": \"test_id\", \n",
    "        \"title\": \"this is a test title\", \n",
    "        \"title_bert\": {\n",
    "            \"values\": create_embedding(text=\"this is a test title\") # from string to list of floats\n",
    "        }\n",
    "    }\n",
    ")"
   ]
  },
  {
   "cell_type": "markdown",
   "metadata": {},
   "source": [
    "### Using embeddings on queries"
   ]
  },
  {
   "cell_type": "markdown",
   "metadata": {},
   "source": [
    "The ANN operator currently accepts an embedding function, and take care of converting query to embedding."
   ]
  },
  {
   "cell_type": "code",
   "execution_count": null,
   "metadata": {},
   "outputs": [],
   "source": [
    "results = app.query(\n",
    "    query=\"Where is my text?\", \n",
    "    query_model = Query(\n",
    "        match_phase=ANN(\n",
    "            doc_vector=\"title_bert\", \n",
    "            query_vector=\"tensor_bert\", \n",
    "            embedding_model=create_embedding, \n",
    "            hits=10, \n",
    "        ), \n",
    "        rank_profile=Ranking(name=\"bert_title\")\n",
    "    ),\n",
    ")"
   ]
  },
  {
   "cell_type": "markdown",
   "metadata": {},
   "source": [
    "But we need to manually do the conversion when not using an embedding friendly operator, such as term-based `OR`."
   ]
  },
  {
   "cell_type": "code",
   "execution_count": null,
   "metadata": {},
   "outputs": [],
   "source": [
    "other_args = {\n",
    "    \"ranking.features.query(tensor_bert)\": create_embedding(text=\"this is a test query\")\n",
    "}\n",
    "\n",
    "results = app.query(\n",
    "    query=\"Where is my text?\", \n",
    "    query_model = Query(\n",
    "        match_phase=OR(), \n",
    "        rank_profile=Ranking(name=\"default\")\n",
    "    ),\n",
    "    hits = 2,\n",
    "    **other_args\n",
    ")"
   ]
  },
  {
   "cell_type": "markdown",
   "metadata": {},
   "source": [
    "I think we should unify those two approaches by moving the embedding creation to the `Query` model."
   ]
  },
  {
   "cell_type": "code",
   "execution_count": null,
   "metadata": {},
   "outputs": [],
   "source": [
    "# term-based matching\n",
    "query_model = Query(\n",
    "    query_properties=[QueryRankingFeature(name=\"tensor_bert\", mapping=create_embedding)]\n",
    "    match_phase=OR(), \n",
    "    rank_profile=Ranking(name=\"default\")\n",
    ")\n",
    "\n",
    "# embedding-based matching\n",
    "query_model = Query(\n",
    "    query_properties=[QueryRankingFeature(name=\"tensor_bert\", mapping=create_embedding)]    \n",
    "    match_phase=ANN(\n",
    "        doc_vector=\"title_bert\", \n",
    "        query_vector=\"tensor_bert\", \n",
    "        hits=10, \n",
    "    ), \n",
    "    rank_profile=Ranking(name=\"bert_title\")\n",
    ")\n",
    "\n",
    "# same usage for both\n",
    "results = app.query(\n",
    "    query=\"Where is my text?\", \n",
    "    query_model=query_model\n",
    ")"
   ]
  }
 ],
 "metadata": {
  "kernelspec": {
   "display_name": "Python 3",
   "language": "python",
   "name": "python3"
  },
  "language_info": {
   "codemirror_mode": {
    "name": "ipython",
    "version": 3
   },
   "file_extension": ".py",
   "mimetype": "text/x-python",
   "name": "python",
   "nbconvert_exporter": "python",
   "pygments_lexer": "ipython3",
   "version": "3.8.5"
  }
 },
 "nbformat": 4,
 "nbformat_minor": 4
}
