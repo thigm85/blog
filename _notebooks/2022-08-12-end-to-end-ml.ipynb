{
 "cells": [
  {
   "cell_type": "markdown",
   "id": "88ca2194-9666-4b2a-8068-ab24623303d2",
   "metadata": {},
   "source": [
    "# End-to-end ML \n",
    "\n",
    "- toc: true \n",
    "- badges: true\n",
    "- comments: true\n",
    "- categories: [ML, MLOPS]"
   ]
  },
  {
   "cell_type": "markdown",
   "id": "52078f82-8981-4f09-aa5e-466617151d29",
   "metadata": {},
   "source": [
    "* [Full Stack Deep Learning 2022 course](https://fullstackdeeplearning.com/course/2022/)"
   ]
  }
 ],
 "metadata": {
  "kernelspec": {
   "display_name": "blog",
   "language": "python",
   "name": "blog"
  },
  "language_info": {
   "codemirror_mode": {
    "name": "ipython",
    "version": 3
   },
   "file_extension": ".py",
   "mimetype": "text/x-python",
   "name": "python",
   "nbconvert_exporter": "python",
   "pygments_lexer": "ipython3",
   "version": "3.8.13"
  }
 },
 "nbformat": 4,
 "nbformat_minor": 5
}
