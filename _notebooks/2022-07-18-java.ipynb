{
 "cells": [
  {
   "cell_type": "markdown",
   "id": "28805a07",
   "metadata": {},
   "source": [
    "# Notes on Java\n",
    "\n",
    "- toc: true \n",
    "- badges: true\n",
    "- comments: true\n",
    "- categories: [java]"
   ]
  },
  {
   "cell_type": "markdown",
   "id": "8574f490",
   "metadata": {},
   "source": [
    "## Printing "
   ]
  },
  {
   "cell_type": "markdown",
   "id": "04b1d1ad",
   "metadata": {},
   "source": [
    "```java\n",
    "System.out.print(\"Hello World\")\n",
    "System.out.println(\"Hello World\") // Adds new line character\n",
    "```"
   ]
  },
  {
   "cell_type": "markdown",
   "id": "b019d7d3",
   "metadata": {},
   "source": [
    "## Variable"
   ]
  },
  {
   "cell_type": "markdown",
   "id": "86237050",
   "metadata": {},
   "source": [
    "### Declaring variable"
   ]
  },
  {
   "cell_type": "markdown",
   "id": "a1f09c11",
   "metadata": {},
   "source": [
    "It has two parts that needs to be defined: setting the data type and the variable name."
   ]
  },
  {
   "cell_type": "markdown",
   "id": "fdbcb919",
   "metadata": {},
   "source": [
    "```java\n",
    "String my_variable;\n",
    "```"
   ]
  },
  {
   "cell_type": "markdown",
   "id": "ea4e88aa",
   "metadata": {},
   "source": [
    "* Java does not allow different variables to have the same name - regardless of data type.\n",
    "* Additionally, Java does not allow spaces in variable names - either user camelCase or snake_case to separate words.\n",
    "* Since Java variables are case sensitive, var and Var are different variables."
   ]
  },
  {
   "cell_type": "markdown",
   "id": "8ece040a",
   "metadata": {},
   "source": [
    "### Assigning variables"
   ]
  },
  {
   "cell_type": "markdown",
   "id": "d221daf0",
   "metadata": {},
   "source": [
    "We can either assign variables combined with the declaration, or assign or re-assign values after the declation step."
   ]
  },
  {
   "cell_type": "markdown",
   "id": "6f318991",
   "metadata": {},
   "source": [
    "```java\n",
    "int value;\n",
    "value = 5;\n",
    "int new_value = 10;\n",
    "```"
   ]
  },
  {
   "cell_type": "markdown",
   "id": "199d806d",
   "metadata": {},
   "source": [
    "### Rules for variable names"
   ]
  },
  {
   "cell_type": "markdown",
   "id": "77eb22e2",
   "metadata": {},
   "source": [
    "Here are the basic rules for variable names:\n",
    "\n",
    "1. Start with a letter, dollar sign or underscore\n",
    "2. Remainder of variable name is letters, numbers, or underscores\n",
    "3. Cannot use a Java keyword\n",
    "4. Variables are case sensitive"
   ]
  },
  {
   "cell_type": "markdown",
   "id": "f186251e",
   "metadata": {},
   "source": [
    "## Data Types"
   ]
  },
  {
   "cell_type": "markdown",
   "id": "6124f081",
   "metadata": {},
   "source": [
    "### Integers"
   ]
  },
  {
   "cell_type": "markdown",
   "id": "c49265f4",
   "metadata": {},
   "source": [
    "```java\n",
    "int number = 5000;\n",
    "```"
   ]
  },
  {
   "cell_type": "markdown",
   "id": "5fd5201d",
   "metadata": {},
   "source": [
    "### Floats and Double"
   ]
  },
  {
   "cell_type": "markdown",
   "id": "99d71f83",
   "metadata": {},
   "source": [
    "`float` uses 4 bytes and `double` uses 8 bytes."
   ]
  },
  {
   "cell_type": "markdown",
   "id": "d39896e6",
   "metadata": {},
   "source": [
    "```java\n",
    "double fraction = 0.5;\n",
    "```"
   ]
  },
  {
   "cell_type": "markdown",
   "id": "ab3fdd44",
   "metadata": {},
   "source": [
    "### Boolean"
   ]
  },
  {
   "cell_type": "markdown",
   "id": "e38059da",
   "metadata": {},
   "source": [
    "```java\n",
    "boolean thisIsTrue = true;\n",
    "boolean thisIsFalse = false;\n",
    "```"
   ]
  },
  {
   "cell_type": "markdown",
   "id": "9a934dd0",
   "metadata": {},
   "source": [
    "### Strings"
   ]
  },
  {
   "cell_type": "markdown",
   "id": "19562023",
   "metadata": {},
   "source": [
    "`String` variable value must be surrounded by quotation marks. *Single quotation mark does not work*. "
   ]
  },
  {
   "cell_type": "markdown",
   "id": "9aa9b323",
   "metadata": {},
   "source": [
    "```java\n",
    "String words = \"This is a string\";\n",
    "```"
   ]
  },
  {
   "cell_type": "markdown",
   "id": "fe777d89",
   "metadata": {},
   "source": [
    "Concatenate strings with `+` sign."
   ]
  },
  {
   "cell_type": "markdown",
   "id": "87911f8c",
   "metadata": {},
   "source": [
    "```java\n",
    "\n",
    "String variable = \"This is \" + \"a concatenated string.\";\n",
    "```"
   ]
  },
  {
   "cell_type": "markdown",
   "id": "6b18c9d0",
   "metadata": {},
   "source": [
    "### Type casting"
   ]
  },
  {
   "cell_type": "markdown",
   "id": "8e200557",
   "metadata": {},
   "source": [
    "```java\n",
    "// convert int to a double\n",
    "int a = 5;\n",
    "int b = 2:\n",
    "System.out.println((double) a / b) // cast variable a from type int to type double\n",
    "```"
   ]
  },
  {
   "cell_type": "markdown",
   "id": "23bb3739",
   "metadata": {},
   "source": [
    "```java\n",
    "// The result will be \"53\" because Java will convert 5 into a String\n",
    "int a = 5;\n",
    "String b = \"3\";\n",
    "System.out.println(a + b);\n",
    "```"
   ]
  },
  {
   "cell_type": "markdown",
   "id": "1e167516",
   "metadata": {},
   "source": [
    "```java\n",
    "// The result will be 8 because Integer.parseInt(b) will convert b from String to int\n",
    "int a = 5;\n",
    "String b = \"3\";\n",
    "System.out.println(a + Integer.parseInt(b));\n",
    "```"
   ]
  },
  {
   "cell_type": "markdown",
   "id": "81079e05",
   "metadata": {},
   "source": [
    "* Parse a String to a different type:\n",
    "    * `Integer.parseInt()`\n",
    "    * `Double.parseDouble()`\n",
    "    * `Boolean.parseBoolean()`\n",
    "* Convert a different type to a String    \n",
    "    * `String.valueOf()`"
   ]
  },
  {
   "cell_type": "markdown",
   "id": "69a5c07e",
   "metadata": {},
   "source": [
    "## Operators"
   ]
  },
  {
   "cell_type": "markdown",
   "id": "d0ef77eb",
   "metadata": {},
   "source": [
    "### Assignment operator"
   ]
  },
  {
   "cell_type": "markdown",
   "id": "b7fe89d2",
   "metadata": {},
   "source": [
    "* `=`: Assign value to a variable."
   ]
  },
  {
   "cell_type": "markdown",
   "id": "db7c6aab",
   "metadata": {},
   "source": [
    "### Arithmetic operators"
   ]
  },
  {
   "cell_type": "markdown",
   "id": "20e3a72f",
   "metadata": {},
   "source": [
    "* `+`: Addition operator\n",
    "* `-`: Subtraction operator\n",
    "* `a++`: Increment the variable `a` by 1. Decrement variable `a--`.\n",
    "* `a+=x`: Increment the variable `a` by x. Decrement variable a by x `a-=x`.\n",
    "* `/`: Division operator.\n",
    "* `a/=b`: `a = a / b`\n",
    "* Interger division: Division between two `int` returns and `int` by removing the decimal part.\n",
    "* `%`: Performs the division but returns the remainder \n",
    "* `*`: Performs multiplication\n",
    "* `a *= b`: `a = a * b`\n",
    "* Java uses the PEMDAS method for determining order of operations.\n",
    "    * P: Parentheses \n",
    "    * E: Exponents: powers and square roots\n",
    "    * MD: Multiplication and division - left to right\n",
    "    * AS: Addition and Subtraction - left to right"
   ]
  },
  {
   "cell_type": "markdown",
   "id": "8c56191e",
   "metadata": {},
   "source": [
    "### Boolean operators"
   ]
  },
  {
   "cell_type": "markdown",
   "id": "5ebf1d56",
   "metadata": {},
   "source": [
    "* `==`: Check if two values are equal\n",
    "* `!=`: Check if two values are not equal\n",
    "* `<` and `<=`: Less and less than or equal operator \n",
    "* `>` and `>=`: Greater and greater than or equal operator \n",
    "* `&&`: and operator\n",
    "* `||`: or operator\n",
    "* `!`: not operator\n",
    "* Short-circuting: If Java can determine the result of a boolean expression before evaluating the entire thing, it will stop and return the value.\n",
    "* When evaluating complex boolean expresssions involving arithmetic operators\n",
    "    * Evaluate all arithmetic operators according to PEMDAS\n",
    "    * Evaluate all boolean operators (order: parenthesis, not, and, or)"
   ]
  },
  {
   "cell_type": "markdown",
   "id": "a840c937",
   "metadata": {},
   "source": [
    "## Reference"
   ]
  },
  {
   "cell_type": "markdown",
   "id": "9034ffd9",
   "metadata": {},
   "source": [
    "* [Programming in Java: A Hands-on Introduction Specialization](https://www.coursera.org/specializations/hands-on-java)"
   ]
  }
 ],
 "metadata": {
  "kernelspec": {
   "display_name": "Python 3",
   "language": "python",
   "name": "python3"
  },
  "language_info": {
   "codemirror_mode": {
    "name": "ipython",
    "version": 3
   },
   "file_extension": ".py",
   "mimetype": "text/x-python",
   "name": "python",
   "nbconvert_exporter": "python",
   "pygments_lexer": "ipython3",
   "version": "3.9.13"
  }
 },
 "nbformat": 4,
 "nbformat_minor": 5
}
