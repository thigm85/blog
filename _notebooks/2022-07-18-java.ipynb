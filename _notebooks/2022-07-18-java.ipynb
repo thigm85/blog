{
 "cells": [
  {
   "cell_type": "markdown",
   "id": "28805a07",
   "metadata": {},
   "source": [
    "# Notes on Java\n",
    "\n",
    "- toc: true \n",
    "- badges: true\n",
    "- comments: true\n",
    "- categories: [java]"
   ]
  },
  {
   "cell_type": "markdown",
   "id": "8574f490",
   "metadata": {},
   "source": [
    "## Printing "
   ]
  },
  {
   "cell_type": "markdown",
   "id": "04b1d1ad",
   "metadata": {},
   "source": [
    "```java\n",
    "System.out.print(\"Hello World\")\n",
    "System.out.println(\"Hello World\") // Adds new line character\n",
    "```"
   ]
  },
  {
   "cell_type": "markdown",
   "id": "b019d7d3",
   "metadata": {},
   "source": [
    "## Variable"
   ]
  },
  {
   "cell_type": "markdown",
   "id": "86237050",
   "metadata": {},
   "source": [
    "### Declaring variable"
   ]
  },
  {
   "cell_type": "markdown",
   "id": "a1f09c11",
   "metadata": {},
   "source": [
    "It has two parts that needs to be defined: setting the data type and the variable name."
   ]
  },
  {
   "cell_type": "markdown",
   "id": "fdbcb919",
   "metadata": {},
   "source": [
    "```java\n",
    "String my_variable;\n",
    "```"
   ]
  },
  {
   "cell_type": "markdown",
   "id": "ea4e88aa",
   "metadata": {},
   "source": [
    "* Java does not allow different variables to have the same name - regardless of data type.\n",
    "* Additionally, Java does not allow spaces in variable names - either user camelCase or snake_case to separate words.\n",
    "* Since Java variables are case sensitive, var and Var are different variables."
   ]
  },
  {
   "cell_type": "markdown",
   "id": "8ece040a",
   "metadata": {},
   "source": [
    "### Assigning variables"
   ]
  },
  {
   "cell_type": "markdown",
   "id": "d221daf0",
   "metadata": {},
   "source": [
    "We can either assign variables combined with the declaration, or assign or re-assign values after the declation step."
   ]
  },
  {
   "cell_type": "markdown",
   "id": "6f318991",
   "metadata": {},
   "source": [
    "```java\n",
    "int value;\n",
    "value = 5;\n",
    "int new_value = 10;\n",
    "```"
   ]
  },
  {
   "cell_type": "markdown",
   "id": "199d806d",
   "metadata": {},
   "source": [
    "### Rules for variable names"
   ]
  },
  {
   "cell_type": "markdown",
   "id": "77eb22e2",
   "metadata": {},
   "source": [
    "Here are the basic rules for variable names:\n",
    "\n",
    "1. Start with a letter, dollar sign or underscore\n",
    "2. Remainder of variable name is letters, numbers, or underscores\n",
    "3. Cannot use a Java keyword\n",
    "4. Variables are case sensitive"
   ]
  },
  {
   "cell_type": "markdown",
   "id": "f186251e",
   "metadata": {},
   "source": [
    "## Data Types"
   ]
  },
  {
   "cell_type": "markdown",
   "id": "6124f081",
   "metadata": {},
   "source": [
    "### Integers"
   ]
  },
  {
   "cell_type": "markdown",
   "id": "c49265f4",
   "metadata": {},
   "source": [
    "```java\n",
    "int number = 5000;\n",
    "```"
   ]
  },
  {
   "cell_type": "markdown",
   "id": "5fd5201d",
   "metadata": {},
   "source": [
    "### Floats and Double"
   ]
  },
  {
   "cell_type": "markdown",
   "id": "99d71f83",
   "metadata": {},
   "source": [
    "`float` uses 4 bytes and `double` uses 8 bytes."
   ]
  },
  {
   "cell_type": "markdown",
   "id": "d39896e6",
   "metadata": {},
   "source": [
    "```java\n",
    "double fraction = 0.5;\n",
    "```"
   ]
  },
  {
   "cell_type": "markdown",
   "id": "ab3fdd44",
   "metadata": {},
   "source": [
    "### Boolean"
   ]
  },
  {
   "cell_type": "markdown",
   "id": "e38059da",
   "metadata": {},
   "source": [
    "```java\n",
    "boolean thisIsTrue = true;\n",
    "boolean thisIsFalse = false;\n",
    "```"
   ]
  },
  {
   "cell_type": "markdown",
   "id": "9a934dd0",
   "metadata": {},
   "source": [
    "### Strings"
   ]
  },
  {
   "cell_type": "markdown",
   "id": "19562023",
   "metadata": {},
   "source": [
    "`String` variable value must be surrounded by quotation marks. *Single quotation mark does not work*. "
   ]
  },
  {
   "cell_type": "markdown",
   "id": "9aa9b323",
   "metadata": {},
   "source": [
    "```java\n",
    "String words = \"This is a string\";\n",
    "```"
   ]
  },
  {
   "cell_type": "markdown",
   "id": "fe777d89",
   "metadata": {},
   "source": [
    "Concatenate strings with `+` sign."
   ]
  },
  {
   "cell_type": "markdown",
   "id": "87911f8c",
   "metadata": {},
   "source": [
    "```java\n",
    "\n",
    "String variable = \"This is \" + \"a concatenated string.\";\n",
    "```"
   ]
  },
  {
   "cell_type": "markdown",
   "id": "6b18c9d0",
   "metadata": {},
   "source": [
    "### Type casting"
   ]
  },
  {
   "cell_type": "markdown",
   "id": "8e200557",
   "metadata": {},
   "source": [
    "```java\n",
    "// convert int to a double\n",
    "int a = 5;\n",
    "int b = 2:\n",
    "System.out.println((double) a / b) // cast variable a from type int to type double\n",
    "```"
   ]
  },
  {
   "cell_type": "markdown",
   "id": "23bb3739",
   "metadata": {},
   "source": [
    "```java\n",
    "// The result will be \"53\" because Java will convert 5 into a String\n",
    "int a = 5;\n",
    "String b = \"3\";\n",
    "System.out.println(a + b);\n",
    "```"
   ]
  },
  {
   "cell_type": "markdown",
   "id": "1e167516",
   "metadata": {},
   "source": [
    "```java\n",
    "// The result will be 8 because Integer.parseInt(b) will convert b from String to int\n",
    "int a = 5;\n",
    "String b = \"3\";\n",
    "System.out.println(a + Integer.parseInt(b));\n",
    "```"
   ]
  },
  {
   "cell_type": "markdown",
   "id": "81079e05",
   "metadata": {},
   "source": [
    "* Parse a String to a different type:\n",
    "    * `Integer.parseInt()`\n",
    "    * `Double.parseDouble()`\n",
    "    * `Boolean.parseBoolean()`\n",
    "* Convert a different type to a String    \n",
    "    * `String.valueOf()`"
   ]
  },
  {
   "cell_type": "markdown",
   "id": "69a5c07e",
   "metadata": {},
   "source": [
    "## Operators"
   ]
  },
  {
   "cell_type": "markdown",
   "id": "d0ef77eb",
   "metadata": {},
   "source": [
    "### Assignment operator"
   ]
  },
  {
   "cell_type": "markdown",
   "id": "b7fe89d2",
   "metadata": {},
   "source": [
    "* `=`: Assign value to a variable."
   ]
  },
  {
   "cell_type": "markdown",
   "id": "db7c6aab",
   "metadata": {},
   "source": [
    "### Arithmetic operators"
   ]
  },
  {
   "cell_type": "markdown",
   "id": "20e3a72f",
   "metadata": {},
   "source": [
    "* `+`: Addition operator\n",
    "* `-`: Subtraction operator\n",
    "* `a++`: Increment the variable `a` by 1. Decrement variable `a--`.\n",
    "* `a+=x`: Increment the variable `a` by x. Decrement variable a by x `a-=x`.\n",
    "* `/`: Division operator.\n",
    "* `a/=b`: `a = a / b`\n",
    "* Interger division: Division between two `int` returns and `int` by removing the decimal part.\n",
    "* `%`: Performs the division but returns the remainder \n",
    "* `*`: Performs multiplication\n",
    "* `a *= b`: `a = a * b`\n",
    "* Java uses the PEMDAS method for determining order of operations.\n",
    "    * P: Parentheses \n",
    "    * E: Exponents: powers and square roots\n",
    "    * MD: Multiplication and division - left to right\n",
    "    * AS: Addition and Subtraction - left to right"
   ]
  },
  {
   "cell_type": "markdown",
   "id": "8c56191e",
   "metadata": {},
   "source": [
    "### Boolean operators"
   ]
  },
  {
   "cell_type": "markdown",
   "id": "5ebf1d56",
   "metadata": {},
   "source": [
    "* `==`: Check if two values are equal\n",
    "* `!=`: Check if two values are not equal\n",
    "* `<` and `<=`: Less and less than or equal operator \n",
    "* `>` and `>=`: Greater and greater than or equal operator \n",
    "* `&&`: and operator\n",
    "* `||`: or operator\n",
    "* `!`: not operator\n",
    "* Short-circuting: If Java can determine the result of a boolean expression before evaluating the entire thing, it will stop and return the value.\n",
    "* When evaluating complex boolean expresssions involving arithmetic operators\n",
    "    * Evaluate all arithmetic operators according to PEMDAS\n",
    "    * Evaluate all boolean operators (order: parenthesis, not, and, or)"
   ]
  },
  {
   "cell_type": "markdown",
   "id": "0f26a227",
   "metadata": {},
   "source": [
    "## Conditionals"
   ]
  },
  {
   "cell_type": "markdown",
   "id": "4f32e15d",
   "metadata": {},
   "source": [
    "### If statement"
   ]
  },
  {
   "cell_type": "markdown",
   "id": "c218b6d8",
   "metadata": {},
   "source": [
    "* If statements in Java must contain the following items:\n",
    "    * the keyword if\n",
    "    * a boolean expression in parentheses\n",
    "    * curly braces surrounding all lines of code that will run if the boolean expression is true\n",
    "    * It is best practice to also indent the lines of code inside the curly braces to visually differentiate them from the commands that will always run."
   ]
  },
  {
   "cell_type": "markdown",
   "id": "18cde3e6",
   "metadata": {},
   "source": [
    "```java\n",
    "// Example of if statement\n",
    "if(5 > 4) {\n",
    "  System.out.println(\"1st command if true\");\n",
    "  System.out.println(\"2nd command if true\");\n",
    "}   \n",
    "System.out.println(\"I will always print!\"); \n",
    "```"
   ]
  },
  {
   "cell_type": "markdown",
   "id": "1b82e945",
   "metadata": {},
   "source": [
    "```java\n",
    "// Example of if statement using a compound conditional statement\n",
    "int num = 16;\n",
    "\n",
    "if (num % 2 == 0 && num > 10) {\n",
    "    System.out.println(\"Even and greater than 10\");\n",
    "}\n",
    "```"
   ]
  },
  {
   "cell_type": "markdown",
   "id": "984bbbf2",
   "metadata": {},
   "source": [
    "### If Else statement"
   ]
  },
  {
   "cell_type": "markdown",
   "id": "aefa966e",
   "metadata": {},
   "source": [
    "```java\n",
    "// Example of if else statement\n",
    "if (5 > 4) {\n",
    "    System.out.println(\"The boolean expression is true\");\n",
    "}\n",
    "else {\n",
    "    System.out.println(\"The boolean expression is false\");\n",
    "}\n",
    "```"
   ]
  },
  {
   "cell_type": "markdown",
   "id": "f4efc6aa",
   "metadata": {},
   "source": [
    "### Nesting multiple if else statements"
   ]
  },
  {
   "cell_type": "markdown",
   "id": "22106abb",
   "metadata": {},
   "source": [
    "Nesting if else statements is more efficient than writing many if statements because nesting will interrupt the search as soon as one of the conditions is satisfied, while all the if statements are executed independent of conditions being satisfied."
   ]
  },
  {
   "cell_type": "markdown",
   "id": "cced5eb3",
   "metadata": {},
   "source": [
    "```java\n",
    "int grade = 62;\n",
    "if(grade < 60) {\n",
    "    System.out.println(\"F\"); }\n",
    "else if(grade < 70) {\n",
    "    System.out.println(\"D\"); }\n",
    "else if(grade < 80) {\n",
    "    System.out.println(\"C\"); }\n",
    "else if(grade < 90) {\n",
    "    System.out.println(\"B\"); }\n",
    "else if(grade <= 100) {\n",
    "    System.out.println(\"A\"); }\n",
    "```"
   ]
  },
  {
   "cell_type": "markdown",
   "id": "3c8283e4",
   "metadata": {},
   "source": [
    "### Switch case statement"
   ]
  },
  {
   "cell_type": "markdown",
   "id": "b003387d",
   "metadata": {},
   "source": [
    "* Here are the rules for writing a switch case statement:\n",
    "    * Start with `switch` followed by the variable that is going to be tested in parentheses `()`\n",
    "    * All of the cases are surrounded by curly braces `{}`\n",
    "    * Each case is followed by a value (numeric or String) and a colon `:`\n",
    "    * After each `:` write the code that should run if the variable is equal to that value\n",
    "    * After each section of code, include `break;`\n",
    "    * As the very last case, use `default:` and specify what should happen if none of the above cases are true"
   ]
  },
  {
   "cell_type": "markdown",
   "id": "4d00e02d",
   "metadata": {},
   "source": [
    "```java\n",
    "// Switch case example\n",
    "int dayOfWeek = 3;\n",
    "\n",
    "switch(dayOfWeek) {\n",
    "\n",
    "    case 1: System.out.print(\"Sunday\"); //only prints if dayOfWeek == 1\n",
    "                 break;\n",
    "    case 2: System.out.print(\"Monday\"); //only prints if dayOfWeek == 2\n",
    "                 break;\n",
    "    case 3: System.out.print(\"Tuesday\"); //only prints if dayOfWeek == 3\n",
    "                 break;\n",
    "    case 4: System.out.print(\"Wednesday\"); //only prints if dayOfWeek == 4\n",
    "                 break;\n",
    "    case 5: System.out.print(\"Thursday\"); //only prints if dayOfWeek == 5\n",
    "                 break;\n",
    "    case 6: System.out.print(\"Friday\"); //only prints if dayOfWeek == 6\n",
    "                 break;\n",
    "    case 7: System.out.print(\"Saturday\"); //only prints if dayOfWeek == 7\n",
    "                 break;\n",
    "    default : System.out.print(\"Invalid\"); //only prints if none of the above are true\n",
    "    \n",
    "}\n",
    "```"
   ]
  },
  {
   "cell_type": "markdown",
   "id": "881f1940",
   "metadata": {},
   "source": [
    "```java\n",
    "// Switch case example with same command accross multiple cases\n",
    "int grade = 62;\n",
    "int letterGrade = grade / 10;\n",
    "switch(letterGrade) {\n",
    "    case 10: case 9: System.out.print(\"A\"); \n",
    "                 break;\n",
    "    case 8: System.out.print(\"B\"); \n",
    "                 break;\n",
    "    case 7: System.out.print(\"C\"); \n",
    "                 break;\n",
    "    case 6: System.out.print(\"D\"); \n",
    "                 break;\n",
    "    default : System.out.print(\"F\");\n",
    "}\n",
    "```"
   ]
  },
  {
   "cell_type": "markdown",
   "id": "25e7452c",
   "metadata": {},
   "source": [
    "### Switch case vs If else"
   ]
  },
  {
   "cell_type": "markdown",
   "id": "3336ac92",
   "metadata": {},
   "source": [
    "* If Else is used for ranges - Switch Case is for values\n",
    "* If Else is used for handling multiple variables\n",
    "    * Switch case can only compare against values - not variables. \n",
    "* If Else is used for compound conditionals"
   ]
  },
  {
   "cell_type": "markdown",
   "id": "87a235f4",
   "metadata": {},
   "source": [
    "## Loops"
   ]
  },
  {
   "cell_type": "markdown",
   "id": "43b1665e",
   "metadata": {},
   "source": [
    "### For loops"
   ]
  },
  {
   "cell_type": "markdown",
   "id": "8b2e7fa2",
   "metadata": {},
   "source": [
    "```java\n",
    "for(int i = 0; i < 5; i++) {\n",
    "    System.out.println(\"Loop #\" + i);\n",
    "}\n",
    "```"
   ]
  },
  {
   "cell_type": "markdown",
   "id": "cfb88eb0",
   "metadata": {},
   "source": [
    "### While loops"
   ]
  },
  {
   "cell_type": "markdown",
   "id": "123a2a3e",
   "metadata": {},
   "source": [
    "* Same result implemented with for loop and while loop"
   ]
  },
  {
   "cell_type": "markdown",
   "id": "bb0f658a",
   "metadata": {},
   "source": [
    "```java\n",
    "// Example with for loop\n",
    "for (int i = 0; i < 5; i++) {\n",
    "  System.out.println(\"Loop#: \"+i);\n",
    "}\n",
    "\n",
    "// Same example with while loop\n",
    "int i = 0;\n",
    "while (i < 5) {\n",
    "  System.out.println(\"Loop# \"+i);\n",
    "  i++;\n",
    "}\n",
    "```"
   ]
  },
  {
   "cell_type": "markdown",
   "id": "34b31136",
   "metadata": {},
   "source": [
    "* When to use a `while` loop\n",
    "    * `while` loops are actually more useful when you are waiting for a certain event to occur but you don't know how many iterations it will take."
   ]
  },
  {
   "cell_type": "markdown",
   "id": "b8c18415",
   "metadata": {},
   "source": [
    "* Infinite loop with break statement"
   ]
  },
  {
   "cell_type": "markdown",
   "id": "f40ec402",
   "metadata": {},
   "source": [
    "```java\n",
    "while(true){\n",
    "  System.out.println(\"This is an infinite loop\");\n",
    "  int randNum = random.nextInt(100) + 1; // random integer between 1 and 100\n",
    "\n",
    "  if(randNum > 75){\n",
    "    System.out.println(\"The loop has ended\");\n",
    "    break; // stop and exit the loop\n",
    "  } // close if condition\n",
    "} // close while loop\n",
    "```"
   ]
  },
  {
   "cell_type": "markdown",
   "id": "9e8f0655",
   "metadata": {},
   "source": [
    "### Nested loops"
   ]
  },
  {
   "cell_type": "markdown",
   "id": "788547dd",
   "metadata": {},
   "source": [
    "```java\n",
    "// Nested loop example\n",
    "for(int row = 0; row < 10; row++){\n",
    "    for(int col = 0; col < 10; col++) {\n",
    "        System.out.print(\"#\");\n",
    "    }\n",
    "    System.out.println(\"\"); //adds new line\n",
    "}\n",
    "```"
   ]
  },
  {
   "cell_type": "markdown",
   "id": "7c6e62a8",
   "metadata": {},
   "source": [
    "## Exception handling"
   ]
  },
  {
   "cell_type": "markdown",
   "id": "6d631884",
   "metadata": {},
   "source": [
    "```java\n",
    "// Example using exception handling via try and catch\n",
    "double result = 0;\n",
    "double input;\n",
    "Scanner sc = new Scanner(System.in);\n",
    "\n",
    "while (true) {\n",
    "  System.out.print(\"Enter a number to add to sum. \");\n",
    "  System.out.println(\"Or enter a non-number to quit and calculate sum.\");\n",
    "  try {\n",
    "    input = Double.parseDouble(sc.next());\n",
    "    result = result + input;\n",
    "  }\n",
    "  catch (NumberFormatException ignore) {\n",
    "    System.out.println(\"Sum = \" + result);\n",
    "    break;\n",
    "  }  \n",
    "}\n",
    "\n",
    "sc.close();\n",
    "```"
   ]
  },
  {
   "cell_type": "markdown",
   "id": "dadb5041",
   "metadata": {},
   "source": [
    "## Scanner: User input"
   ]
  },
  {
   "cell_type": "markdown",
   "id": "6c91b828",
   "metadata": {},
   "source": [
    "```java\n",
    "// Example using user input with Scanner\n",
    "double result = 0;\n",
    "double input;\n",
    "Scanner sc = new Scanner(System.in);\n",
    "\n",
    "while (true) {\n",
    "  System.out.print(\"Enter a number to add to sum. \");\n",
    "  System.out.println(\"Or enter a non-number to quit and calculate sum.\");\n",
    "  try {\n",
    "    input = Double.parseDouble(sc.next());\n",
    "    result = result + input;\n",
    "  }\n",
    "  catch (NumberFormatException ignore) {\n",
    "    System.out.println(\"Sum = \" + result);\n",
    "    break;\n",
    "  }  \n",
    "}\n",
    "\n",
    "sc.close();\n",
    "```"
   ]
  },
  {
   "cell_type": "markdown",
   "id": "a840c937",
   "metadata": {},
   "source": [
    "## Reference"
   ]
  },
  {
   "cell_type": "markdown",
   "id": "9034ffd9",
   "metadata": {},
   "source": [
    "* [Programming in Java: A Hands-on Introduction Specialization](https://www.coursera.org/specializations/hands-on-java)"
   ]
  }
 ],
 "metadata": {
  "kernelspec": {
   "display_name": "Python 3",
   "language": "python",
   "name": "python3"
  },
  "language_info": {
   "codemirror_mode": {
    "name": "ipython",
    "version": 3
   },
   "file_extension": ".py",
   "mimetype": "text/x-python",
   "name": "python",
   "nbconvert_exporter": "python",
   "pygments_lexer": "ipython3",
   "version": "3.9.13"
  }
 },
 "nbformat": 4,
 "nbformat_minor": 5
}
