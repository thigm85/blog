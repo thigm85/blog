{
 "cells": [
  {
   "cell_type": "markdown",
   "id": "28805a07",
   "metadata": {},
   "source": [
    "# Notes on Java\n",
    "\n",
    "- toc: true \n",
    "- badges: true\n",
    "- comments: true\n",
    "- categories: [java]"
   ]
  },
  {
   "cell_type": "markdown",
   "id": "8574f490",
   "metadata": {},
   "source": [
    "## Printing "
   ]
  },
  {
   "cell_type": "markdown",
   "id": "04b1d1ad",
   "metadata": {},
   "source": [
    "```java\n",
    "System.out.print(\"Hello World\")\n",
    "System.out.println(\"Hello World\") // Adds new line character\n",
    "```"
   ]
  },
  {
   "cell_type": "markdown",
   "id": "b019d7d3",
   "metadata": {},
   "source": [
    "## Variable"
   ]
  },
  {
   "cell_type": "markdown",
   "id": "86237050",
   "metadata": {},
   "source": [
    "### Declaring variable"
   ]
  },
  {
   "cell_type": "markdown",
   "id": "a1f09c11",
   "metadata": {},
   "source": [
    "It has two parts that needs to be defined: setting the data type and the variable name."
   ]
  },
  {
   "cell_type": "markdown",
   "id": "fdbcb919",
   "metadata": {},
   "source": [
    "```java\n",
    "String my_variable;\n",
    "```"
   ]
  },
  {
   "cell_type": "markdown",
   "id": "ea4e88aa",
   "metadata": {},
   "source": [
    "* Java does not allow different variables to have the same name - regardless of data type.\n",
    "* Additionally, Java does not allow spaces in variable names - either user camelCase or snake_case to separate words.\n",
    "* Since Java variables are case sensitive, var and Var are different variables."
   ]
  },
  {
   "cell_type": "markdown",
   "id": "8ece040a",
   "metadata": {},
   "source": [
    "### Assigning variables"
   ]
  },
  {
   "cell_type": "markdown",
   "id": "d221daf0",
   "metadata": {},
   "source": [
    "We can either assign variables combined with the declaration, or assign or re-assign values after the declation step."
   ]
  },
  {
   "cell_type": "markdown",
   "id": "6f318991",
   "metadata": {},
   "source": [
    "```java\n",
    "int value;\n",
    "value = 5;\n",
    "int new_value = 10;\n",
    "```"
   ]
  },
  {
   "cell_type": "markdown",
   "id": "199d806d",
   "metadata": {},
   "source": [
    "### Rules for variable names"
   ]
  },
  {
   "cell_type": "markdown",
   "id": "77eb22e2",
   "metadata": {},
   "source": [
    "Here are the basic rules for variable names:\n",
    "\n",
    "1. Start with a letter, dollar sign or underscore\n",
    "2. Remainder of variable name is letters, numbers, or underscores\n",
    "3. Cannot use a Java keyword\n",
    "4. Variables are case sensitive"
   ]
  },
  {
   "cell_type": "markdown",
   "id": "f186251e",
   "metadata": {},
   "source": [
    "## Data Types"
   ]
  },
  {
   "cell_type": "markdown",
   "id": "6124f081",
   "metadata": {},
   "source": [
    "### Integers"
   ]
  },
  {
   "cell_type": "markdown",
   "id": "c49265f4",
   "metadata": {},
   "source": [
    "```java\n",
    "int number = 5000;\n",
    "```"
   ]
  },
  {
   "cell_type": "markdown",
   "id": "5fd5201d",
   "metadata": {},
   "source": [
    "### Floats and Double"
   ]
  },
  {
   "cell_type": "markdown",
   "id": "99d71f83",
   "metadata": {},
   "source": [
    "`float` uses 4 bytes and `double` uses 8 bytes."
   ]
  },
  {
   "cell_type": "markdown",
   "id": "d39896e6",
   "metadata": {},
   "source": [
    "```java\n",
    "double fraction = 0.5;\n",
    "```"
   ]
  },
  {
   "cell_type": "markdown",
   "id": "ab3fdd44",
   "metadata": {},
   "source": [
    "### Boolean"
   ]
  },
  {
   "cell_type": "markdown",
   "id": "e38059da",
   "metadata": {},
   "source": [
    "```java\n",
    "boolean thisIsTrue = true;\n",
    "boolean thisIsFalse = false;\n",
    "```"
   ]
  },
  {
   "cell_type": "markdown",
   "id": "9a934dd0",
   "metadata": {},
   "source": [
    "### Strings"
   ]
  },
  {
   "cell_type": "markdown",
   "id": "19562023",
   "metadata": {},
   "source": [
    "`String` variable value must be surrounded by quotation marks. *Single quotation mark does not work*. "
   ]
  },
  {
   "cell_type": "markdown",
   "id": "9aa9b323",
   "metadata": {},
   "source": [
    "```java\n",
    "String words = \"This is a string\";\n",
    "```"
   ]
  },
  {
   "cell_type": "markdown",
   "id": "fe777d89",
   "metadata": {},
   "source": [
    "Concatenate strings with `+` sign."
   ]
  },
  {
   "cell_type": "markdown",
   "id": "87911f8c",
   "metadata": {},
   "source": [
    "```java\n",
    "\n",
    "String variable = \"This is \" + \"a concatenated string.\";\n",
    "```"
   ]
  },
  {
   "cell_type": "markdown",
   "id": "a840c937",
   "metadata": {},
   "source": [
    "## Reference"
   ]
  },
  {
   "cell_type": "markdown",
   "id": "9034ffd9",
   "metadata": {},
   "source": [
    "* [Programming in Java: A Hands-on Introduction Specialization](https://www.coursera.org/specializations/hands-on-java)"
   ]
  }
 ],
 "metadata": {
  "kernelspec": {
   "display_name": "Python 3",
   "language": "python",
   "name": "python3"
  },
  "language_info": {
   "codemirror_mode": {
    "name": "ipython",
    "version": 3
   },
   "file_extension": ".py",
   "mimetype": "text/x-python",
   "name": "python",
   "nbconvert_exporter": "python",
   "pygments_lexer": "ipython3",
   "version": "3.9.13"
  }
 },
 "nbformat": 4,
 "nbformat_minor": 5
}
