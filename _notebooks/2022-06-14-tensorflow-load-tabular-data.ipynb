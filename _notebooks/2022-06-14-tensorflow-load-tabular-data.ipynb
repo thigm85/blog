{
 "cells": [
  {
   "cell_type": "markdown",
   "id": "involved-internship",
   "metadata": {},
   "source": [
    "# Load tabular data with TensorFlow\n",
    "> In-memory and out-of-memory tabular data loading with TensorFlow\n",
    "\n",
    "- toc: true \n",
    "- badges: true\n",
    "- comments: true\n",
    "- categories: [tensorflow, tabular_data, loading data]"
   ]
  },
  {
   "cell_type": "markdown",
   "id": "distinguished-africa",
   "metadata": {},
   "source": [
    "## Required packages"
   ]
  },
  {
   "cell_type": "code",
   "execution_count": 2,
   "id": "protected-easter",
   "metadata": {},
   "outputs": [],
   "source": [
    "import pandas as pd\n",
    "import numpy as np\n",
    "import tensorflow as tf"
   ]
  },
  {
   "cell_type": "markdown",
   "id": "trained-sweet",
   "metadata": {},
   "source": [
    "## In-memory data - numeric features"
   ]
  },
  {
   "cell_type": "markdown",
   "id": "activated-tower",
   "metadata": {},
   "source": [
    "### Load data with pandas"
   ]
  },
  {
   "cell_type": "markdown",
   "id": "alternate-blocking",
   "metadata": {},
   "source": [
    "For small datasets, we can load them into memory using a pandas DataFrame."
   ]
  },
  {
   "cell_type": "code",
   "execution_count": 3,
   "id": "spatial-laser",
   "metadata": {},
   "outputs": [
    {
     "data": {
      "text/html": [
       "<div>\n",
       "<style scoped>\n",
       "    .dataframe tbody tr th:only-of-type {\n",
       "        vertical-align: middle;\n",
       "    }\n",
       "\n",
       "    .dataframe tbody tr th {\n",
       "        vertical-align: top;\n",
       "    }\n",
       "\n",
       "    .dataframe thead th {\n",
       "        text-align: right;\n",
       "    }\n",
       "</style>\n",
       "<table border=\"1\" class=\"dataframe\">\n",
       "  <thead>\n",
       "    <tr style=\"text-align: right;\">\n",
       "      <th></th>\n",
       "      <th>Length</th>\n",
       "      <th>Diameter</th>\n",
       "      <th>Height</th>\n",
       "      <th>Whole weight</th>\n",
       "      <th>Shucked weight</th>\n",
       "      <th>Viscera weight</th>\n",
       "      <th>Shell weight</th>\n",
       "      <th>Age</th>\n",
       "    </tr>\n",
       "  </thead>\n",
       "  <tbody>\n",
       "    <tr>\n",
       "      <th>0</th>\n",
       "      <td>0.435</td>\n",
       "      <td>0.335</td>\n",
       "      <td>0.110</td>\n",
       "      <td>0.334</td>\n",
       "      <td>0.1355</td>\n",
       "      <td>0.0775</td>\n",
       "      <td>0.0965</td>\n",
       "      <td>7</td>\n",
       "    </tr>\n",
       "    <tr>\n",
       "      <th>1</th>\n",
       "      <td>0.585</td>\n",
       "      <td>0.450</td>\n",
       "      <td>0.125</td>\n",
       "      <td>0.874</td>\n",
       "      <td>0.3545</td>\n",
       "      <td>0.2075</td>\n",
       "      <td>0.2250</td>\n",
       "      <td>6</td>\n",
       "    </tr>\n",
       "    <tr>\n",
       "      <th>2</th>\n",
       "      <td>0.655</td>\n",
       "      <td>0.510</td>\n",
       "      <td>0.160</td>\n",
       "      <td>1.092</td>\n",
       "      <td>0.3960</td>\n",
       "      <td>0.2825</td>\n",
       "      <td>0.3700</td>\n",
       "      <td>14</td>\n",
       "    </tr>\n",
       "    <tr>\n",
       "      <th>3</th>\n",
       "      <td>0.545</td>\n",
       "      <td>0.425</td>\n",
       "      <td>0.125</td>\n",
       "      <td>0.768</td>\n",
       "      <td>0.2940</td>\n",
       "      <td>0.1495</td>\n",
       "      <td>0.2600</td>\n",
       "      <td>16</td>\n",
       "    </tr>\n",
       "    <tr>\n",
       "      <th>4</th>\n",
       "      <td>0.545</td>\n",
       "      <td>0.420</td>\n",
       "      <td>0.130</td>\n",
       "      <td>0.879</td>\n",
       "      <td>0.3740</td>\n",
       "      <td>0.1695</td>\n",
       "      <td>0.2300</td>\n",
       "      <td>13</td>\n",
       "    </tr>\n",
       "  </tbody>\n",
       "</table>\n",
       "</div>"
      ],
      "text/plain": [
       "   Length  Diameter  Height  Whole weight  Shucked weight  Viscera weight  \\\n",
       "0   0.435     0.335   0.110         0.334          0.1355          0.0775   \n",
       "1   0.585     0.450   0.125         0.874          0.3545          0.2075   \n",
       "2   0.655     0.510   0.160         1.092          0.3960          0.2825   \n",
       "3   0.545     0.425   0.125         0.768          0.2940          0.1495   \n",
       "4   0.545     0.420   0.130         0.879          0.3740          0.1695   \n",
       "\n",
       "   Shell weight  Age  \n",
       "0        0.0965    7  \n",
       "1        0.2250    6  \n",
       "2        0.3700   14  \n",
       "3        0.2600   16  \n",
       "4        0.2300   13  "
      ]
     },
     "execution_count": 3,
     "metadata": {},
     "output_type": "execute_result"
    }
   ],
   "source": [
    "abalone_train = pd.read_csv(\n",
    "    \"https://storage.googleapis.com/download.tensorflow.org/data/abalone_train.csv\",\n",
    "    names=[\"Length\", \"Diameter\", \"Height\", \"Whole weight\", \"Shucked weight\",\n",
    "           \"Viscera weight\", \"Shell weight\", \"Age\"])\n",
    "\n",
    "abalone_train.head()"
   ]
  },
  {
   "cell_type": "code",
   "execution_count": 4,
   "id": "stone-window",
   "metadata": {},
   "outputs": [
    {
     "data": {
      "text/plain": [
       "Length            float64\n",
       "Diameter          float64\n",
       "Height            float64\n",
       "Whole weight      float64\n",
       "Shucked weight    float64\n",
       "Viscera weight    float64\n",
       "Shell weight      float64\n",
       "Age                 int64\n",
       "dtype: object"
      ]
     },
     "execution_count": 4,
     "metadata": {},
     "output_type": "execute_result"
    }
   ],
   "source": [
    "abalone_train.dtypes"
   ]
  },
  {
   "cell_type": "markdown",
   "id": "tender-virtue",
   "metadata": {},
   "source": [
    "### Separate label and features"
   ]
  },
  {
   "cell_type": "code",
   "execution_count": 5,
   "id": "desperate-genius",
   "metadata": {},
   "outputs": [],
   "source": [
    "abalone_features = abalone_train.copy()\n",
    "abalone_label = abalone_features.pop(\"Age\")"
   ]
  },
  {
   "cell_type": "code",
   "execution_count": 6,
   "id": "conventional-lecture",
   "metadata": {},
   "outputs": [
    {
     "data": {
      "text/html": [
       "<div>\n",
       "<style scoped>\n",
       "    .dataframe tbody tr th:only-of-type {\n",
       "        vertical-align: middle;\n",
       "    }\n",
       "\n",
       "    .dataframe tbody tr th {\n",
       "        vertical-align: top;\n",
       "    }\n",
       "\n",
       "    .dataframe thead th {\n",
       "        text-align: right;\n",
       "    }\n",
       "</style>\n",
       "<table border=\"1\" class=\"dataframe\">\n",
       "  <thead>\n",
       "    <tr style=\"text-align: right;\">\n",
       "      <th></th>\n",
       "      <th>Length</th>\n",
       "      <th>Diameter</th>\n",
       "      <th>Height</th>\n",
       "      <th>Whole weight</th>\n",
       "      <th>Shucked weight</th>\n",
       "      <th>Viscera weight</th>\n",
       "      <th>Shell weight</th>\n",
       "    </tr>\n",
       "  </thead>\n",
       "  <tbody>\n",
       "    <tr>\n",
       "      <th>0</th>\n",
       "      <td>0.435</td>\n",
       "      <td>0.335</td>\n",
       "      <td>0.110</td>\n",
       "      <td>0.334</td>\n",
       "      <td>0.1355</td>\n",
       "      <td>0.0775</td>\n",
       "      <td>0.0965</td>\n",
       "    </tr>\n",
       "    <tr>\n",
       "      <th>1</th>\n",
       "      <td>0.585</td>\n",
       "      <td>0.450</td>\n",
       "      <td>0.125</td>\n",
       "      <td>0.874</td>\n",
       "      <td>0.3545</td>\n",
       "      <td>0.2075</td>\n",
       "      <td>0.2250</td>\n",
       "    </tr>\n",
       "    <tr>\n",
       "      <th>2</th>\n",
       "      <td>0.655</td>\n",
       "      <td>0.510</td>\n",
       "      <td>0.160</td>\n",
       "      <td>1.092</td>\n",
       "      <td>0.3960</td>\n",
       "      <td>0.2825</td>\n",
       "      <td>0.3700</td>\n",
       "    </tr>\n",
       "    <tr>\n",
       "      <th>3</th>\n",
       "      <td>0.545</td>\n",
       "      <td>0.425</td>\n",
       "      <td>0.125</td>\n",
       "      <td>0.768</td>\n",
       "      <td>0.2940</td>\n",
       "      <td>0.1495</td>\n",
       "      <td>0.2600</td>\n",
       "    </tr>\n",
       "    <tr>\n",
       "      <th>4</th>\n",
       "      <td>0.545</td>\n",
       "      <td>0.420</td>\n",
       "      <td>0.130</td>\n",
       "      <td>0.879</td>\n",
       "      <td>0.3740</td>\n",
       "      <td>0.1695</td>\n",
       "      <td>0.2300</td>\n",
       "    </tr>\n",
       "  </tbody>\n",
       "</table>\n",
       "</div>"
      ],
      "text/plain": [
       "   Length  Diameter  Height  Whole weight  Shucked weight  Viscera weight  \\\n",
       "0   0.435     0.335   0.110         0.334          0.1355          0.0775   \n",
       "1   0.585     0.450   0.125         0.874          0.3545          0.2075   \n",
       "2   0.655     0.510   0.160         1.092          0.3960          0.2825   \n",
       "3   0.545     0.425   0.125         0.768          0.2940          0.1495   \n",
       "4   0.545     0.420   0.130         0.879          0.3740          0.1695   \n",
       "\n",
       "   Shell weight  \n",
       "0        0.0965  \n",
       "1        0.2250  \n",
       "2        0.3700  \n",
       "3        0.2600  \n",
       "4        0.2300  "
      ]
     },
     "execution_count": 6,
     "metadata": {},
     "output_type": "execute_result"
    }
   ],
   "source": [
    "abalone_features.head()"
   ]
  },
  {
   "cell_type": "code",
   "execution_count": 7,
   "id": "considerable-cream",
   "metadata": {},
   "outputs": [
    {
     "data": {
      "text/plain": [
       "0     7\n",
       "1     6\n",
       "2    14\n",
       "3    16\n",
       "4    13\n",
       "Name: Age, dtype: int64"
      ]
     },
     "execution_count": 7,
     "metadata": {},
     "output_type": "execute_result"
    }
   ],
   "source": [
    "abalone_label.head()"
   ]
  },
  {
   "cell_type": "markdown",
   "id": "sensitive-necessity",
   "metadata": {},
   "source": [
    "### Numeric features as numpy array"
   ]
  },
  {
   "cell_type": "markdown",
   "id": "naval-beach",
   "metadata": {},
   "source": [
    "X and y can be used to fit a model."
   ]
  },
  {
   "cell_type": "code",
   "execution_count": 8,
   "id": "arbitrary-luxury",
   "metadata": {},
   "outputs": [],
   "source": [
    "X, y = np.array(abalone_features), abalone_label"
   ]
  },
  {
   "cell_type": "code",
   "execution_count": 9,
   "id": "convenient-timothy",
   "metadata": {},
   "outputs": [
    {
     "data": {
      "text/plain": [
       "array([[0.435 , 0.335 , 0.11  , ..., 0.1355, 0.0775, 0.0965],\n",
       "       [0.585 , 0.45  , 0.125 , ..., 0.3545, 0.2075, 0.225 ],\n",
       "       [0.655 , 0.51  , 0.16  , ..., 0.396 , 0.2825, 0.37  ],\n",
       "       ...,\n",
       "       [0.53  , 0.42  , 0.13  , ..., 0.3745, 0.167 , 0.249 ],\n",
       "       [0.395 , 0.315 , 0.105 , ..., 0.1185, 0.091 , 0.1195],\n",
       "       [0.45  , 0.355 , 0.12  , ..., 0.1145, 0.0665, 0.16  ]])"
      ]
     },
     "execution_count": 9,
     "metadata": {},
     "output_type": "execute_result"
    }
   ],
   "source": [
    "X"
   ]
  },
  {
   "cell_type": "code",
   "execution_count": 10,
   "id": "official-facing",
   "metadata": {},
   "outputs": [
    {
     "data": {
      "text/plain": [
       "0        7\n",
       "1        6\n",
       "2       14\n",
       "3       16\n",
       "4       13\n",
       "        ..\n",
       "3315    15\n",
       "3316    10\n",
       "3317    11\n",
       "3318    16\n",
       "3319    19\n",
       "Name: Age, Length: 3320, dtype: int64"
      ]
     },
     "execution_count": 10,
     "metadata": {},
     "output_type": "execute_result"
    }
   ],
   "source": [
    "y"
   ]
  },
  {
   "cell_type": "markdown",
   "id": "broke-arthritis",
   "metadata": {},
   "source": [
    "## In-memory data - mixed data types"
   ]
  },
  {
   "cell_type": "markdown",
   "id": "united-transfer",
   "metadata": {},
   "source": [
    "### Load data with pandas"
   ]
  },
  {
   "cell_type": "code",
   "execution_count": 11,
   "id": "precious-raleigh",
   "metadata": {},
   "outputs": [
    {
     "data": {
      "text/html": [
       "<div>\n",
       "<style scoped>\n",
       "    .dataframe tbody tr th:only-of-type {\n",
       "        vertical-align: middle;\n",
       "    }\n",
       "\n",
       "    .dataframe tbody tr th {\n",
       "        vertical-align: top;\n",
       "    }\n",
       "\n",
       "    .dataframe thead th {\n",
       "        text-align: right;\n",
       "    }\n",
       "</style>\n",
       "<table border=\"1\" class=\"dataframe\">\n",
       "  <thead>\n",
       "    <tr style=\"text-align: right;\">\n",
       "      <th></th>\n",
       "      <th>survived</th>\n",
       "      <th>sex</th>\n",
       "      <th>age</th>\n",
       "      <th>n_siblings_spouses</th>\n",
       "      <th>parch</th>\n",
       "      <th>fare</th>\n",
       "      <th>class</th>\n",
       "      <th>deck</th>\n",
       "      <th>embark_town</th>\n",
       "      <th>alone</th>\n",
       "    </tr>\n",
       "  </thead>\n",
       "  <tbody>\n",
       "    <tr>\n",
       "      <th>0</th>\n",
       "      <td>0</td>\n",
       "      <td>male</td>\n",
       "      <td>22.0</td>\n",
       "      <td>1</td>\n",
       "      <td>0</td>\n",
       "      <td>7.2500</td>\n",
       "      <td>Third</td>\n",
       "      <td>unknown</td>\n",
       "      <td>Southampton</td>\n",
       "      <td>n</td>\n",
       "    </tr>\n",
       "    <tr>\n",
       "      <th>1</th>\n",
       "      <td>1</td>\n",
       "      <td>female</td>\n",
       "      <td>38.0</td>\n",
       "      <td>1</td>\n",
       "      <td>0</td>\n",
       "      <td>71.2833</td>\n",
       "      <td>First</td>\n",
       "      <td>C</td>\n",
       "      <td>Cherbourg</td>\n",
       "      <td>n</td>\n",
       "    </tr>\n",
       "    <tr>\n",
       "      <th>2</th>\n",
       "      <td>1</td>\n",
       "      <td>female</td>\n",
       "      <td>26.0</td>\n",
       "      <td>0</td>\n",
       "      <td>0</td>\n",
       "      <td>7.9250</td>\n",
       "      <td>Third</td>\n",
       "      <td>unknown</td>\n",
       "      <td>Southampton</td>\n",
       "      <td>y</td>\n",
       "    </tr>\n",
       "    <tr>\n",
       "      <th>3</th>\n",
       "      <td>1</td>\n",
       "      <td>female</td>\n",
       "      <td>35.0</td>\n",
       "      <td>1</td>\n",
       "      <td>0</td>\n",
       "      <td>53.1000</td>\n",
       "      <td>First</td>\n",
       "      <td>C</td>\n",
       "      <td>Southampton</td>\n",
       "      <td>n</td>\n",
       "    </tr>\n",
       "    <tr>\n",
       "      <th>4</th>\n",
       "      <td>0</td>\n",
       "      <td>male</td>\n",
       "      <td>28.0</td>\n",
       "      <td>0</td>\n",
       "      <td>0</td>\n",
       "      <td>8.4583</td>\n",
       "      <td>Third</td>\n",
       "      <td>unknown</td>\n",
       "      <td>Queenstown</td>\n",
       "      <td>y</td>\n",
       "    </tr>\n",
       "  </tbody>\n",
       "</table>\n",
       "</div>"
      ],
      "text/plain": [
       "   survived     sex   age  n_siblings_spouses  parch     fare  class     deck  \\\n",
       "0         0    male  22.0                   1      0   7.2500  Third  unknown   \n",
       "1         1  female  38.0                   1      0  71.2833  First        C   \n",
       "2         1  female  26.0                   0      0   7.9250  Third  unknown   \n",
       "3         1  female  35.0                   1      0  53.1000  First        C   \n",
       "4         0    male  28.0                   0      0   8.4583  Third  unknown   \n",
       "\n",
       "   embark_town alone  \n",
       "0  Southampton     n  \n",
       "1    Cherbourg     n  \n",
       "2  Southampton     y  \n",
       "3  Southampton     n  \n",
       "4   Queenstown     y  "
      ]
     },
     "execution_count": 11,
     "metadata": {},
     "output_type": "execute_result"
    }
   ],
   "source": [
    "titanic = pd.read_csv(\"https://storage.googleapis.com/tf-datasets/titanic/train.csv\")\n",
    "titanic.head()"
   ]
  },
  {
   "cell_type": "code",
   "execution_count": 12,
   "id": "senior-morocco",
   "metadata": {},
   "outputs": [
    {
     "data": {
      "text/plain": [
       "survived                int64\n",
       "sex                    object\n",
       "age                   float64\n",
       "n_siblings_spouses      int64\n",
       "parch                   int64\n",
       "fare                  float64\n",
       "class                  object\n",
       "deck                   object\n",
       "embark_town            object\n",
       "alone                  object\n",
       "dtype: object"
      ]
     },
     "execution_count": 12,
     "metadata": {},
     "output_type": "execute_result"
    }
   ],
   "source": [
    "titanic.dtypes"
   ]
  },
  {
   "cell_type": "code",
   "execution_count": 13,
   "id": "beautiful-reward",
   "metadata": {},
   "outputs": [],
   "source": [
    "titanic_features = titanic.copy()\n",
    "titanic_label = titanic.pop(\"survived\")"
   ]
  },
  {
   "cell_type": "markdown",
   "id": "worthy-graduation",
   "metadata": {},
   "source": [
    "### Pre-process mixed type data"
   ]
  },
  {
   "cell_type": "markdown",
   "id": "related-ideal",
   "metadata": {},
   "source": [
    "Create a pre-processing model that can be used as part of a larger model. The pre-processing model can for example concatenate and normalize all numeric features of type `float64` and apply one-hot encoding to the categorical features of type `object`. See for example the pre-processing contained [here](https://www.tensorflow.org/tutorials/load_data/csv#mixed_data_types)."
   ]
  },
  {
   "cell_type": "markdown",
   "id": "silver-depth",
   "metadata": {},
   "source": [
    "titanic_preprocessing = tf.keras.Model(inputs, preprocessed_inputs_cat)"
   ]
  },
  {
   "cell_type": "markdown",
   "id": "altered-variation",
   "metadata": {},
   "source": [
    "Once the pre-processing layer is setup we can use a dict of features to the model as input to the pre-processing layer:"
   ]
  },
  {
   "cell_type": "markdown",
   "id": "involved-brisbane",
   "metadata": {},
   "source": [
    "### Parse pandas DataFrame to use as input"
   ]
  },
  {
   "cell_type": "code",
   "execution_count": 14,
   "id": "relative-training",
   "metadata": {},
   "outputs": [],
   "source": [
    "titanic_features_dict = {name: np.array(value) \n",
    "                         for name, value in titanic_features.items()}"
   ]
  },
  {
   "cell_type": "markdown",
   "id": "multiple-athletics",
   "metadata": {},
   "source": [
    "Show first row of the dict:"
   ]
  },
  {
   "cell_type": "code",
   "execution_count": 15,
   "id": "close-treatment",
   "metadata": {},
   "outputs": [
    {
     "data": {
      "text/plain": [
       "{'survived': array([0]),\n",
       " 'sex': array(['male'], dtype=object),\n",
       " 'age': array([22.]),\n",
       " 'n_siblings_spouses': array([1]),\n",
       " 'parch': array([0]),\n",
       " 'fare': array([7.25]),\n",
       " 'class': array(['Third'], dtype=object),\n",
       " 'deck': array(['unknown'], dtype=object),\n",
       " 'embark_town': array(['Southampton'], dtype=object),\n",
       " 'alone': array(['n'], dtype=object)}"
      ]
     },
     "execution_count": 15,
     "metadata": {},
     "output_type": "execute_result"
    }
   ],
   "source": [
    "{name: value[:1] for name, value in titanic_features_dict.items()}"
   ]
  },
  {
   "cell_type": "markdown",
   "id": "adolescent-blues",
   "metadata": {},
   "source": [
    "### tf.data.Dataset from in-memory data through from_tensor_slices"
   ]
  },
  {
   "cell_type": "code",
   "execution_count": 16,
   "id": "informational-discharge",
   "metadata": {},
   "outputs": [],
   "source": [
    "features_ds = tf.data.Dataset.from_tensor_slices(titanic_features_dict)"
   ]
  },
  {
   "cell_type": "markdown",
   "id": "convertible-riverside",
   "metadata": {},
   "source": [
    "Check first example:"
   ]
  },
  {
   "cell_type": "code",
   "execution_count": 17,
   "id": "nearby-accountability",
   "metadata": {},
   "outputs": [
    {
     "name": "stdout",
     "output_type": "stream",
     "text": [
      "survived: 0\n",
      "sex: b'male'\n",
      "age: 22.0\n",
      "n_siblings_spouses: 1\n",
      "parch: 0\n",
      "fare: 7.25\n",
      "class: b'Third'\n",
      "deck: b'unknown'\n",
      "embark_town: b'Southampton'\n",
      "alone: b'n'\n"
     ]
    }
   ],
   "source": [
    "for example in features_ds:\n",
    "    for name, value in example.items():\n",
    "        print(\"{}: {}\".format(name, value))\n",
    "    break"
   ]
  },
  {
   "cell_type": "markdown",
   "id": "atmospheric-glenn",
   "metadata": {},
   "source": [
    "The `from_tensor_slice` can handle any structure of nested dictionaries and tuples."
   ]
  },
  {
   "cell_type": "code",
   "execution_count": 18,
   "id": "binding-field",
   "metadata": {},
   "outputs": [],
   "source": [
    "titanic_ds = tf.data.Dataset.from_tensor_slices((titanic_features_dict, titanic_label))"
   ]
  },
  {
   "cell_type": "code",
   "execution_count": 19,
   "id": "disabled-study",
   "metadata": {},
   "outputs": [
    {
     "name": "stdout",
     "output_type": "stream",
     "text": [
      "survived: 0\n",
      "sex: b'male'\n",
      "age: 22.0\n",
      "n_siblings_spouses: 1\n",
      "parch: 0\n",
      "fare: 7.25\n",
      "class: b'Third'\n",
      "deck: b'unknown'\n",
      "embark_town: b'Southampton'\n",
      "alone: b'n'\n",
      "Target: 0\n"
     ]
    }
   ],
   "source": [
    "for feature, label in titanic_ds:\n",
    "    for name, value in feature.items():\n",
    "        print(\"{}: {}\".format(name, value))\n",
    "    print(\"Target: {}\".format(label))\n",
    "    break"
   ]
  },
  {
   "cell_type": "markdown",
   "id": "exciting-oxide",
   "metadata": {},
   "source": [
    "To train a model using this Dataset, you'll need to at least shuffle and batch the data."
   ]
  },
  {
   "cell_type": "code",
   "execution_count": 20,
   "id": "vital-austria",
   "metadata": {},
   "outputs": [],
   "source": [
    "titanic_batches = titanic_ds.shuffle(len(titanic_label)).batch(32)"
   ]
  },
  {
   "cell_type": "markdown",
   "id": "unavailable-shelf",
   "metadata": {},
   "source": [
    "`titanic_batches` can be used in fit functions instead of `X` and `y`."
   ]
  },
  {
   "cell_type": "markdown",
   "id": "hybrid-modern",
   "metadata": {},
   "source": [
    "## Create tf.data.Dataset from CSV file"
   ]
  },
  {
   "cell_type": "markdown",
   "id": "objective-graham",
   "metadata": {},
   "source": [
    "### Uncompressed file"
   ]
  },
  {
   "cell_type": "markdown",
   "id": "removable-bryan",
   "metadata": {},
   "source": [
    "We can create a tf.data.Dataset directly from a .csv file in case our data does not fit into memory."
   ]
  },
  {
   "cell_type": "code",
   "execution_count": 21,
   "id": "incorrect-looking",
   "metadata": {},
   "outputs": [],
   "source": [
    "titanic_file_path = tf.keras.utils.get_file(\n",
    "    \"train.csv\", \n",
    "    \"https://storage.googleapis.com/tf-datasets/titanic/train.csv\"\n",
    ")"
   ]
  },
  {
   "cell_type": "markdown",
   "id": "sacred-calvin",
   "metadata": {},
   "source": [
    "Download the dataset file:"
   ]
  },
  {
   "cell_type": "code",
   "execution_count": 22,
   "id": "normal-secret",
   "metadata": {},
   "outputs": [
    {
     "data": {
      "text/plain": [
       "'/Users/tmartins/.keras/datasets/train.csv'"
      ]
     },
     "execution_count": 22,
     "metadata": {},
     "output_type": "execute_result"
    }
   ],
   "source": [
    "titanic_file_path"
   ]
  },
  {
   "cell_type": "markdown",
   "id": "cheap-cancer",
   "metadata": {},
   "source": [
    "Create a tf.data.Dataset from the .csv file above:"
   ]
  },
  {
   "cell_type": "code",
   "execution_count": 23,
   "id": "several-bobby",
   "metadata": {},
   "outputs": [],
   "source": [
    "titanic_csv_ds = tf.data.experimental.make_csv_dataset(\n",
    "    titanic_file_path,\n",
    "    batch_size=5, # Artificially small to make examples easier to show.\n",
    "    label_name='survived',\n",
    "    num_epochs=1,\n",
    "    ignore_errors=True\n",
    ")"
   ]
  },
  {
   "cell_type": "markdown",
   "id": "intelligent-foundation",
   "metadata": {},
   "source": [
    "Take the first batch of data from the tf.data.Dataset:"
   ]
  },
  {
   "cell_type": "code",
   "execution_count": 24,
   "id": "abandoned-behavior",
   "metadata": {},
   "outputs": [
    {
     "name": "stdout",
     "output_type": "stream",
     "text": [
      "sex                 : [b'male' b'female' b'male' b'female' b'female']\n",
      "age                 : [43. 36. 50.  9. 44.]\n",
      "n_siblings_spouses  : [0 1 1 3 0]\n",
      "parch               : [0 0 0 2 0]\n",
      "fare                : [ 8.05   17.4    55.9    27.9    27.7208]\n",
      "class               : [b'Third' b'Third' b'First' b'Third' b'First']\n",
      "deck                : [b'unknown' b'unknown' b'E' b'unknown' b'B']\n",
      "embark_town         : [b'Southampton' b'Southampton' b'Southampton' b'Southampton' b'Cherbourg']\n",
      "alone               : [b'y' b'n' b'n' b'n' b'y']\n",
      "\n",
      "label               : [0 1 0 0 1]\n"
     ]
    }
   ],
   "source": [
    "for batch, label in titanic_csv_ds.take(1):\n",
    "    for key, value in batch.items():\n",
    "        print(f\"{key:20s}: {value}\")\n",
    "    print()\n",
    "    print(f\"{'label':20s}: {label}\")"
   ]
  },
  {
   "cell_type": "markdown",
   "id": "cardiovascular-collaboration",
   "metadata": {},
   "source": [
    "### Compressed file"
   ]
  },
  {
   "cell_type": "markdown",
   "id": "answering-valley",
   "metadata": {},
   "source": [
    "Download compressed file:"
   ]
  },
  {
   "cell_type": "code",
   "execution_count": 25,
   "id": "exposed-store",
   "metadata": {},
   "outputs": [],
   "source": [
    "traffic_volume_csv_gz = tf.keras.utils.get_file(\n",
    "    'Metro_Interstate_Traffic_Volume.csv.gz', \n",
    "    \"https://archive.ics.uci.edu/ml/machine-learning-databases/00492/Metro_Interstate_Traffic_Volume.csv.gz\",\n",
    "    cache_dir='.', \n",
    "    cache_subdir='traffic'\n",
    ")"
   ]
  },
  {
   "cell_type": "markdown",
   "id": "dimensional-vacuum",
   "metadata": {},
   "source": [
    "Setup `compression_type` argument to `\"GZIP\"``."
   ]
  },
  {
   "cell_type": "code",
   "execution_count": 26,
   "id": "dangerous-running",
   "metadata": {},
   "outputs": [],
   "source": [
    "traffic_volume_csv_gz_ds = tf.data.experimental.make_csv_dataset(\n",
    "    traffic_volume_csv_gz,\n",
    "    batch_size=256,\n",
    "    label_name='traffic_volume',\n",
    "    num_epochs=1,\n",
    "    compression_type=\"GZIP\"\n",
    ")"
   ]
  },
  {
   "cell_type": "markdown",
   "id": "norwegian-lobby",
   "metadata": {},
   "source": [
    "Take a peep at the first 5 values of each feature and label of the first batch."
   ]
  },
  {
   "cell_type": "code",
   "execution_count": 27,
   "id": "minus-armstrong",
   "metadata": {},
   "outputs": [
    {
     "name": "stdout",
     "output_type": "stream",
     "text": [
      "holiday             : [b'None' b'None' b'None' b'None' b'None']\n",
      "temp                : [296.68 294.37 275.68 270.68 275.74]\n",
      "rain_1h             : [0. 0. 0. 0. 0.]\n",
      "snow_1h             : [0. 0. 0. 0. 0.]\n",
      "clouds_all          : [ 0  0 90 75  1]\n",
      "weather_main        : [b'Clear' b'Clear' b'Clouds' b'Clouds' b'Clear']\n",
      "weather_description : [b'Sky is Clear' b'Sky is Clear' b'overcast clouds' b'broken clouds'\n",
      " b'sky is clear']\n",
      "date_time           : [b'2013-08-12 20:00:00' b'2013-08-08 13:00:00' b'2013-04-10 07:00:00'\n",
      " b'2013-01-08 04:00:00' b'2013-10-22 10:00:00']\n",
      "\n",
      "label               : [2805 5296 6812  758 4384]\n"
     ]
    }
   ],
   "source": [
    "for batch, label in traffic_volume_csv_gz_ds.take(1):\n",
    "    for key, value in batch.items():\n",
    "        print(f\"{key:20s}: {value[:5]}\")\n",
    "    print()\n",
    "    print(f\"{'label':20s}: {label[:5]}\")"
   ]
  },
  {
   "cell_type": "markdown",
   "id": "fundamental-disabled",
   "metadata": {},
   "source": [
    "### List of files"
   ]
  },
  {
   "cell_type": "markdown",
   "id": "authorized-lease",
   "metadata": {},
   "source": [
    "Download a list of files:"
   ]
  },
  {
   "cell_type": "code",
   "execution_count": 28,
   "id": "balanced-guarantee",
   "metadata": {},
   "outputs": [],
   "source": [
    "fonts_zip = tf.keras.utils.get_file(\n",
    "    'fonts.zip',  \"https://archive.ics.uci.edu/ml/machine-learning-databases/00417/fonts.zip\",\n",
    "    cache_dir='.', \n",
    "    cache_subdir='fonts',\n",
    "    extract=True\n",
    ")"
   ]
  },
  {
   "cell_type": "markdown",
   "id": "corrected-exchange",
   "metadata": {},
   "source": [
    "List files downloaded:"
   ]
  },
  {
   "cell_type": "code",
   "execution_count": 29,
   "id": "empirical-blair",
   "metadata": {},
   "outputs": [
    {
     "data": {
      "text/plain": [
       "['fonts/AGENCY.csv',\n",
       " 'fonts/ARIAL.csv',\n",
       " 'fonts/BAITI.csv',\n",
       " 'fonts/BANKGOTHIC.csv',\n",
       " 'fonts/BASKERVILLE.csv',\n",
       " 'fonts/BAUHAUS.csv',\n",
       " 'fonts/BELL.csv',\n",
       " 'fonts/BERLIN.csv',\n",
       " 'fonts/BERNARD.csv',\n",
       " 'fonts/BITSTREAMVERA.csv']"
      ]
     },
     "execution_count": 29,
     "metadata": {},
     "output_type": "execute_result"
    }
   ],
   "source": [
    "import pathlib\n",
    "\n",
    "font_csvs =  sorted(str(p) for p in pathlib.Path('fonts').glob(\"*.csv\"))\n",
    "font_csvs[:10]"
   ]
  },
  {
   "cell_type": "code",
   "execution_count": 30,
   "id": "atmospheric-sheep",
   "metadata": {},
   "outputs": [
    {
     "data": {
      "text/plain": [
       "153"
      ]
     },
     "execution_count": 30,
     "metadata": {},
     "output_type": "execute_result"
    }
   ],
   "source": [
    "len(font_csvs)"
   ]
  },
  {
   "cell_type": "markdown",
   "id": "warming-intake",
   "metadata": {},
   "source": [
    "Create a tf.data.Dataset from a list of files:"
   ]
  },
  {
   "cell_type": "code",
   "execution_count": 31,
   "id": "worthy-alexandria",
   "metadata": {},
   "outputs": [],
   "source": [
    "fonts_ds = tf.data.experimental.make_csv_dataset(\n",
    "    file_pattern = \"fonts/*.csv\",\n",
    "    batch_size=10, \n",
    "    num_epochs=1,\n",
    "    num_parallel_reads=20,\n",
    "    shuffle_buffer_size=10000\n",
    ")"
   ]
  },
  {
   "cell_type": "markdown",
   "id": "upset-arcade",
   "metadata": {},
   "source": [
    "Print features:"
   ]
  },
  {
   "cell_type": "code",
   "execution_count": 32,
   "id": "atmospheric-associate",
   "metadata": {},
   "outputs": [
    {
     "name": "stdout",
     "output_type": "stream",
     "text": [
      "font                : [b'BERNARD' b'JAVANESE' b'ONYX' b'MINGLIU' b'ELEPHANT' b'BANKGOTHIC'\n",
      " b'HANDPRINT' b'COMMERCIALSCRIPT' b'BERNARD' b'HARLOW']\n",
      "fontVariant         : [b'BERNARD MT CONDENSED' b'JAVANESE TEXT' b'ONYX' b'MINGLIU_HKSCS-EXTB'\n",
      " b'ELEPHANT' b'BANKGOTHIC MD BT' b'scanned' b'COMMERCIALSCRIPT BT'\n",
      " b'BERNARD MT CONDENSED' b'HARLOW SOLID ITALIC']\n",
      "m_label             : [176 219 103 195  72 186  54 100  68  97]\n",
      "strength            : [0.4 0.4 0.4 0.4 0.4 0.4 0.4 0.4 0.4 0.4]\n",
      "italic              : [0 1 1 1 0 0 0 1 0 0]\n",
      "orientation         : [0. 0. 0. 0. 0. 0. 0. 0. 0. 0.]\n",
      "m_top               : [33 42 46 21 37 43  0 38 33 54]\n",
      "m_left              : [23 32 18 19 23 24  0 24 20 23]\n",
      "originalH           : [21 63 48 57 49 17 20 39 53 25]\n",
      "originalW           : [21 52 34 44 61 24 20 51 34 30]\n",
      "h                   : [20 20 20 20 20 20 20 20 20 20]\n",
      "w                   : [20 20 20 20 20 20 20 20 20 20]\n",
      "r0c0                : [  1   1   1   1 105   1   1   1 255   1]\n",
      "r0c1                : [  1   1   1   1 178  86   1   1 255   1]\n",
      "r0c2                : [  1   1   1   1 255 255   1   1 255   1]\n",
      "r0c3                : [  1   1   1   1 255 255   1   1 255   1]\n",
      "...\n",
      "[total: 412 features]\n"
     ]
    }
   ],
   "source": [
    "for features in fonts_ds.take(1):\n",
    "    for i, (name, value) in enumerate(features.items()):\n",
    "        if i>15:\n",
    "            break\n",
    "        print(f\"{name:20s}: {value}\")\n",
    "    print('...')\n",
    "    print(f\"[total: {len(features)} features]\")"
   ]
  }
 ],
 "metadata": {
  "kernelspec": {
   "display_name": "Python 3",
   "language": "python",
   "name": "python3"
  },
  "language_info": {
   "codemirror_mode": {
    "name": "ipython",
    "version": 3
   },
   "file_extension": ".py",
   "mimetype": "text/x-python",
   "name": "python",
   "nbconvert_exporter": "python",
   "pygments_lexer": "ipython3",
   "version": "3.9.7"
  }
 },
 "nbformat": 4,
 "nbformat_minor": 5
}
