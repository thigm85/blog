{
 "cells": [
  {
   "cell_type": "markdown",
   "id": "8fedf2c2",
   "metadata": {},
   "source": [
    "# Interesting datasets for search engine applications\n",
    "> Search and recommendation\n",
    "\n",
    "- toc: true \n",
    "- badges: true\n",
    "- comments: true\n",
    "- categories: [dataset, search]"
   ]
  },
  {
   "cell_type": "markdown",
   "id": "675b4df5",
   "metadata": {},
   "source": [
    "* [Netflix Prize data](https://www.kaggle.com/datasets/netflix-inc/netflix-prize-data)\n",
    "* [H&M Personalized Fashion Recommendations](https://www.kaggle.com/competitions/h-and-m-personalized-fashion-recommendations/overview)\n",
    "* More ideas: Go to Kaggle -> Competitions -> type \"recommendation\" or \"search\""
   ]
  }
 ],
 "metadata": {
  "kernelspec": {
   "display_name": "Python 3",
   "language": "python",
   "name": "python3"
  },
  "language_info": {
   "codemirror_mode": {
    "name": "ipython",
    "version": 3
   },
   "file_extension": ".py",
   "mimetype": "text/x-python",
   "name": "python",
   "nbconvert_exporter": "python",
   "pygments_lexer": "ipython3",
   "version": "3.9.7"
  }
 },
 "nbformat": 4,
 "nbformat_minor": 5
}
