{
 "cells": [
  {
   "cell_type": "markdown",
   "metadata": {},
   "source": [
    "# Build a basic text search application from python with Vespa\n",
    "\n",
    "> Introducing pyvespa simplified API. Build Vespa application from python with few lines of code.\n",
    "\n",
    "- toc: true \n",
    "- badges: false\n",
    "- comments: true\n",
    "- categories: [vespa, pyvespa, cord19]"
   ]
  },
  {
   "cell_type": "markdown",
   "metadata": {},
   "source": [
    "This post will introduce you to the simplified `pyvespa` API that allows us to build a basic text search application from scratch with just a few code lines from python. Follow-up posts will add layers of complexity by incrementally building on top of the basic app described here."
   ]
  },
  {
   "cell_type": "markdown",
   "metadata": {},
   "source": [
    "`pyvespa` exposes a subset of [Vespa](https://vespa.ai/) API in python. The library’s primary goal is to allow for faster prototyping and facilitate Machine Learning experiments for Vespa applications. I have written about how we can use it to [connect and interact with running Vespa applications](https://towardsdatascience.com/how-to-connect-and-interact-with-search-applications-from-python-520118139f69) and [evaluate Vespa ranking functions from python](https://towardsdatascience.com/how-to-evaluate-vespa-ranking-functions-from-python-7749650f6e1a). This time, we focus on building and deploying applications from scratch."
   ]
  },
  {
   "cell_type": "markdown",
   "metadata": {},
   "source": [
    "## Install"
   ]
  },
  {
   "cell_type": "markdown",
   "metadata": {},
   "source": [
    "The pyvespa simplified API introduced here was released on version `0.2.0`"
   ]
  },
  {
   "cell_type": "markdown",
   "metadata": {},
   "source": [
    "`pip3 install pyvespa>=0.2.0`"
   ]
  },
  {
   "cell_type": "markdown",
   "metadata": {},
   "source": [
    "## Define the application"
   ]
  },
  {
   "cell_type": "markdown",
   "metadata": {},
   "source": [
    "As an example, we will build an application to search through [CORD19 sample data](https://ir.nist.gov/covidSubmit/data.html)."
   ]
  },
  {
   "cell_type": "markdown",
   "metadata": {},
   "source": [
    "### Create an application package"
   ]
  },
  {
   "cell_type": "markdown",
   "metadata": {},
   "source": [
    "The first step is to create a Vespa [ApplicationPackage](https://pyvespa.readthedocs.io/en/latest/reference-api.html#vespa.package.ApplicationPackage):"
   ]
  },
  {
   "cell_type": "code",
   "execution_count": 1,
   "metadata": {},
   "outputs": [],
   "source": [
    "from vespa.package import ApplicationPackage\n",
    "\n",
    "app_package = ApplicationPackage(name=\"cord19\")"
   ]
  },
  {
   "cell_type": "markdown",
   "metadata": {},
   "source": [
    "### Add fields to the Schema"
   ]
  },
  {
   "cell_type": "markdown",
   "metadata": {},
   "source": [
    "We can then add [fields](https://pyvespa.readthedocs.io/en/latest/reference-api.html#vespa.package.Field) to the application's [Schema](https://pyvespa.readthedocs.io/en/latest/reference-api.html#vespa.package.Schema) created by default in `app_package`."
   ]
  },
  {
   "cell_type": "code",
   "execution_count": 2,
   "metadata": {},
   "outputs": [],
   "source": [
    "from vespa.package import Field\n",
    "\n",
    "app_package.schema.add_fields(\n",
    "    Field(\n",
    "        name = \"cord_uid\", \n",
    "        type = \"string\", \n",
    "        indexing = [\"attribute\", \"summary\"]\n",
    "    ),\n",
    "    Field(\n",
    "        name = \"title\", \n",
    "        type = \"string\", \n",
    "        indexing = [\"index\", \"summary\"], \n",
    "        index = \"enable-bm25\"\n",
    "    ),\n",
    "    Field(\n",
    "        name = \"abstract\", \n",
    "        type = \"string\", \n",
    "        indexing = [\"index\", \"summary\"], \n",
    "        index = \"enable-bm25\"\n",
    "    )\n",
    ")"
   ]
  },
  {
   "cell_type": "markdown",
   "metadata": {},
   "source": [
    "* `cord_uid` will store the cord19 document ids, while `title` and `abstract` are self explanatory. \n",
    "\n",
    "* All the fields, in this case, are of type `string`. \n",
    "\n",
    "* Including `\"index\"` in the `indexing` list means that Vespa will create a searchable index for `title` and `abstract`. You can read more about which options is available for `indexing` in the [Vespa documentation](https://docs.vespa.ai/documentation/reference/schema-reference.html#indexing). \n",
    "\n",
    "* Setting `index = \"enable-bm25\"` makes Vespa pre-compute quantities to make it fast to compute the bm25 score. We will use BM25 to rank the documents retrieved."
   ]
  },
  {
   "cell_type": "markdown",
   "metadata": {},
   "source": [
    "### Search multiple fields when querying"
   ]
  },
  {
   "cell_type": "markdown",
   "metadata": {},
   "source": [
    "A [Fieldset](https://pyvespa.readthedocs.io/en/latest/reference-api.html#vespa.package.FieldSet) groups fields together for searching. For example, the `default` fieldset defined below groups `title` and `abstract` together."
   ]
  },
  {
   "cell_type": "code",
   "execution_count": 3,
   "metadata": {},
   "outputs": [],
   "source": [
    "from vespa.package import FieldSet\n",
    "\n",
    "app_package.schema.add_field_set(\n",
    "    FieldSet(name = \"default\", fields = [\"title\", \"abstract\"])\n",
    ")"
   ]
  },
  {
   "cell_type": "markdown",
   "metadata": {},
   "source": [
    "### Define how to rank the documents matched"
   ]
  },
  {
   "cell_type": "markdown",
   "metadata": {},
   "source": [
    "We can specify how to rank the matched documents by defining a [RankProfile](https://pyvespa.readthedocs.io/en/latest/reference-api.html#vespa.package.RankProfile). In this case, we defined the `bm25` rank profile that combines that BM25 scores computed over the `title` and `abstract` fields. "
   ]
  },
  {
   "cell_type": "code",
   "execution_count": 4,
   "metadata": {},
   "outputs": [],
   "source": [
    "from vespa.package import RankProfile\n",
    "\n",
    "app_package.schema.add_rank_profile(\n",
    "    RankProfile(\n",
    "        name = \"bm25\", \n",
    "        first_phase = \"bm25(title) + bm25(abstract)\"\n",
    "    )\n",
    ")"
   ]
  },
  {
   "cell_type": "markdown",
   "metadata": {},
   "source": [
    "## Deploy your application"
   ]
  },
  {
   "cell_type": "markdown",
   "metadata": {},
   "source": [
    "We have now defined a basic text search app containing relevant fields, a fieldset to group fields together, and a rank profile to rank matched documents. It is time to deploy our application. We can locally deploy our `app_package` using Docker without leaving the notebook, by creating an instance of [VespaDocker](https://pyvespa.readthedocs.io/en/latest/reference-api.html#vespa.package.VespaDocker), as shown below:"
   ]
  },
  {
   "cell_type": "code",
   "execution_count": 5,
   "metadata": {},
   "outputs": [
    {
     "name": "stdout",
     "output_type": "stream",
     "text": [
      "Waiting for configuration server.\n",
      "Waiting for configuration server.\n",
      "Waiting for configuration server.\n",
      "Waiting for configuration server.\n",
      "Waiting for configuration server.\n",
      "Waiting for configuration server.\n",
      "Waiting for application status.\n"
     ]
    }
   ],
   "source": [
    "from vespa.package import VespaDocker\n",
    "\n",
    "vespa_docker = VespaDocker(port=8080)\n",
    "\n",
    "app = vespa_docker.deploy(\n",
    "    application_package = app_package,\n",
    "    disk_folder=\"/Users/username/cord19_app\"\n",
    ")"
   ]
  },
  {
   "cell_type": "markdown",
   "metadata": {},
   "source": [
    "`app` now holds a [Vespa](https://pyvespa.readthedocs.io/en/latest/reference-api.html#vespa.application.Vespa) instance, which we are going to use to interact with our application. Congratulations, you now have a Vespa application up and running."
   ]
  },
  {
   "cell_type": "markdown",
   "metadata": {},
   "source": [
    "It is important to know that `pyvespa` simply provides a convenient API to define Vespa application packages from python. `vespa_docker.deploy` export Vespa configuration files to the `disk_folder` defined above. Going through those files is an excellent way to start learning about Vespa syntax."
   ]
  },
  {
   "cell_type": "markdown",
   "metadata": {},
   "source": [
    "## Feed some data"
   ]
  },
  {
   "cell_type": "markdown",
   "metadata": {},
   "source": [
    "Our first action after deploying a Vespa application is usually to feed some data to it. To make it easier to follow, we have prepared a `DataFrame` containing 100 rows and the `cord_uid`, `title`, and `abstract` columns required by our schema definition."
   ]
  },
  {
   "cell_type": "code",
   "execution_count": 15,
   "metadata": {},
   "outputs": [],
   "source": [
    "from pandas import read_csv\n",
    "\n",
    "parsed_feed = read_csv(\n",
    "    \"https://thigm85.github.io/data/cord19/parsed_feed_100.csv\"\n",
    ")"
   ]
  },
  {
   "cell_type": "code",
   "execution_count": 16,
   "metadata": {},
   "outputs": [
    {
     "data": {
      "text/html": [
       "<div>\n",
       "<style scoped>\n",
       "    .dataframe tbody tr th:only-of-type {\n",
       "        vertical-align: middle;\n",
       "    }\n",
       "\n",
       "    .dataframe tbody tr th {\n",
       "        vertical-align: top;\n",
       "    }\n",
       "\n",
       "    .dataframe thead th {\n",
       "        text-align: right;\n",
       "    }\n",
       "</style>\n",
       "<table border=\"1\" class=\"dataframe\">\n",
       "  <thead>\n",
       "    <tr style=\"text-align: right;\">\n",
       "      <th></th>\n",
       "      <th>cord_uid</th>\n",
       "      <th>title</th>\n",
       "      <th>abstract</th>\n",
       "    </tr>\n",
       "  </thead>\n",
       "  <tbody>\n",
       "    <tr>\n",
       "      <th>0</th>\n",
       "      <td>ug7v899j</td>\n",
       "      <td>Clinical features of culture-proven Mycoplasma...</td>\n",
       "      <td>OBJECTIVE: This retrospective chart review des...</td>\n",
       "    </tr>\n",
       "    <tr>\n",
       "      <th>1</th>\n",
       "      <td>02tnwd4m</td>\n",
       "      <td>Nitric oxide: a pro-inflammatory mediator in l...</td>\n",
       "      <td>Inflammatory diseases of the respiratory tract...</td>\n",
       "    </tr>\n",
       "    <tr>\n",
       "      <th>2</th>\n",
       "      <td>ejv2xln0</td>\n",
       "      <td>Surfactant protein-D and pulmonary host defense</td>\n",
       "      <td>Surfactant protein-D (SP-D) participates in th...</td>\n",
       "    </tr>\n",
       "    <tr>\n",
       "      <th>3</th>\n",
       "      <td>2b73a28n</td>\n",
       "      <td>Role of endothelin-1 in lung disease</td>\n",
       "      <td>Endothelin-1 (ET-1) is a 21 amino acid peptide...</td>\n",
       "    </tr>\n",
       "    <tr>\n",
       "      <th>4</th>\n",
       "      <td>9785vg6d</td>\n",
       "      <td>Gene expression in epithelial cells in respons...</td>\n",
       "      <td>Respiratory syncytial virus (RSV) and pneumoni...</td>\n",
       "    </tr>\n",
       "    <tr>\n",
       "      <th>...</th>\n",
       "      <td>...</td>\n",
       "      <td>...</td>\n",
       "      <td>...</td>\n",
       "    </tr>\n",
       "    <tr>\n",
       "      <th>95</th>\n",
       "      <td>63bos83o</td>\n",
       "      <td>Global Surveillance of Emerging Influenza Viru...</td>\n",
       "      <td>BACKGROUND: Effective influenza surveillance r...</td>\n",
       "    </tr>\n",
       "    <tr>\n",
       "      <th>96</th>\n",
       "      <td>hqc7u9w3</td>\n",
       "      <td>Transmission Parameters of the 2001 Foot and M...</td>\n",
       "      <td>Despite intensive ongoing research, key aspect...</td>\n",
       "    </tr>\n",
       "    <tr>\n",
       "      <th>97</th>\n",
       "      <td>87zt7lew</td>\n",
       "      <td>Efficient replication of pneumonia virus of mi...</td>\n",
       "      <td>Pneumonia virus of mice (PVM; family Paramyxov...</td>\n",
       "    </tr>\n",
       "    <tr>\n",
       "      <th>98</th>\n",
       "      <td>wgxt36jv</td>\n",
       "      <td>Designing and conducting tabletop exercises to...</td>\n",
       "      <td>BACKGROUND: Since 2001, state and local health...</td>\n",
       "    </tr>\n",
       "    <tr>\n",
       "      <th>99</th>\n",
       "      <td>qbldmef1</td>\n",
       "      <td>Transcript-level annotation of Affymetrix prob...</td>\n",
       "      <td>BACKGROUND: The wide use of Affymetrix microar...</td>\n",
       "    </tr>\n",
       "  </tbody>\n",
       "</table>\n",
       "<p>100 rows × 3 columns</p>\n",
       "</div>"
      ],
      "text/plain": [
       "    cord_uid                                              title  \\\n",
       "0   ug7v899j  Clinical features of culture-proven Mycoplasma...   \n",
       "1   02tnwd4m  Nitric oxide: a pro-inflammatory mediator in l...   \n",
       "2   ejv2xln0    Surfactant protein-D and pulmonary host defense   \n",
       "3   2b73a28n               Role of endothelin-1 in lung disease   \n",
       "4   9785vg6d  Gene expression in epithelial cells in respons...   \n",
       "..       ...                                                ...   \n",
       "95  63bos83o  Global Surveillance of Emerging Influenza Viru...   \n",
       "96  hqc7u9w3  Transmission Parameters of the 2001 Foot and M...   \n",
       "97  87zt7lew  Efficient replication of pneumonia virus of mi...   \n",
       "98  wgxt36jv  Designing and conducting tabletop exercises to...   \n",
       "99  qbldmef1  Transcript-level annotation of Affymetrix prob...   \n",
       "\n",
       "                                             abstract  \n",
       "0   OBJECTIVE: This retrospective chart review des...  \n",
       "1   Inflammatory diseases of the respiratory tract...  \n",
       "2   Surfactant protein-D (SP-D) participates in th...  \n",
       "3   Endothelin-1 (ET-1) is a 21 amino acid peptide...  \n",
       "4   Respiratory syncytial virus (RSV) and pneumoni...  \n",
       "..                                                ...  \n",
       "95  BACKGROUND: Effective influenza surveillance r...  \n",
       "96  Despite intensive ongoing research, key aspect...  \n",
       "97  Pneumonia virus of mice (PVM; family Paramyxov...  \n",
       "98  BACKGROUND: Since 2001, state and local health...  \n",
       "99  BACKGROUND: The wide use of Affymetrix microar...  \n",
       "\n",
       "[100 rows x 3 columns]"
      ]
     },
     "execution_count": 16,
     "metadata": {},
     "output_type": "execute_result"
    }
   ],
   "source": [
    "parsed_feed"
   ]
  },
  {
   "cell_type": "markdown",
   "metadata": {},
   "source": [
    "We can then iterate through the `DataFrame` above and feed each row by using the [app.feed_data_point](https://pyvespa.readthedocs.io/en/latest/reference-api.html#vespa.application.Vespa.feed_data_point) method: \n",
    "\n",
    "* The schema name is by default set to be equal to the application name, which is `cord19` in this case.\n",
    "\n",
    "* When feeding data to Vespa, we must have a unique id for each data point. We will use `cord_uid` here."
   ]
  },
  {
   "cell_type": "code",
   "execution_count": 17,
   "metadata": {},
   "outputs": [],
   "source": [
    "for idx, row in parsed_feed.iterrows():\n",
    "    fields = {\n",
    "        \"cord_uid\": str(row[\"cord_uid\"]),\n",
    "        \"title\": str(row[\"title\"]),\n",
    "        \"abstract\": str(row[\"abstract\"])\n",
    "    }\n",
    "    response = app.feed_data_point(\n",
    "        schema = \"cord19\",\n",
    "        data_id = str(row[\"cord_uid\"]),\n",
    "        fields = fields,\n",
    "    )"
   ]
  },
  {
   "cell_type": "markdown",
   "metadata": {},
   "source": [
    "You can also inspect the response to each request if desired."
   ]
  },
  {
   "cell_type": "code",
   "execution_count": 18,
   "metadata": {},
   "outputs": [
    {
     "data": {
      "text/plain": [
       "{'pathId': '/document/v1/cord19/cord19/docid/qbldmef1',\n",
       " 'id': 'id:cord19:cord19::qbldmef1'}"
      ]
     },
     "execution_count": 18,
     "metadata": {},
     "output_type": "execute_result"
    }
   ],
   "source": [
    "response.json()"
   ]
  },
  {
   "cell_type": "markdown",
   "metadata": {},
   "source": [
    "## Query your application"
   ]
  },
  {
   "cell_type": "markdown",
   "metadata": {},
   "source": [
    "With data fed, we can start to query our text search app. We can use the [Vespa Query language](https://docs.vespa.ai/en/query-language.html) directly by sending the required parameters to the body argument of the [app.query](https://pyvespa.readthedocs.io/en/latest/reference-api.html#vespa.application.Vespa.query) method."
   ]
  },
  {
   "cell_type": "code",
   "execution_count": 29,
   "metadata": {},
   "outputs": [],
   "source": [
    "query = {\n",
    "    'yql': 'select * from sources * where userQuery();',\n",
    "    'query': 'What is the role of endothelin-1',\n",
    "    'ranking': 'bm25',\n",
    "    'type': 'any',\n",
    "    'presentation.timing': True,\n",
    "    'hits': 3\n",
    "}"
   ]
  },
  {
   "cell_type": "code",
   "execution_count": 32,
   "metadata": {},
   "outputs": [
    {
     "data": {
      "text/plain": [
       "{'id': 'id:cord19:cord19::2b73a28n',\n",
       " 'relevance': 20.79338929607865,\n",
       " 'source': 'cord19_content',\n",
       " 'fields': {'sddocname': 'cord19',\n",
       "  'documentid': 'id:cord19:cord19::2b73a28n',\n",
       "  'cord_uid': '2b73a28n',\n",
       "  'title': 'Role of endothelin-1 in lung disease',\n",
       "  'abstract': 'Endothelin-1 (ET-1) is a 21 amino acid peptide with diverse biological activity that has been implicated in numerous diseases. ET-1 is a potent mitogen regulator of smooth muscle tone, and inflammatory mediator that may play a key role in diseases of the airways, pulmonary circulation, and inflammatory lung diseases, both acute and chronic. This review will focus on the biology of ET-1 and its role in lung disease.'}}"
      ]
     },
     "execution_count": 32,
     "metadata": {},
     "output_type": "execute_result"
    }
   ],
   "source": [
    "res = app.query(body=query)\n",
    "res.hits[0]"
   ]
  },
  {
   "cell_type": "markdown",
   "metadata": {},
   "source": [
    "We can also define the same query by using the [QueryModel](https://pyvespa.readthedocs.io/en/latest/reference-api.html#vespa.query.QueryModel) abstraction that allows us to specify how we want to match and rank our documents. In this case, we defined that we want to:\n",
    "\n",
    "* match our documents using the `OR` operator, which matches all the documents that share at least one term with the query.\n",
    "* rank the matched documents using the `bm25` rank profile defined in our application package."
   ]
  },
  {
   "cell_type": "code",
   "execution_count": 35,
   "metadata": {},
   "outputs": [
    {
     "data": {
      "text/plain": [
       "{'id': 'id:cord19:cord19::2b73a28n',\n",
       " 'relevance': 20.79338929607865,\n",
       " 'source': 'cord19_content',\n",
       " 'fields': {'sddocname': 'cord19',\n",
       "  'documentid': 'id:cord19:cord19::2b73a28n',\n",
       "  'cord_uid': '2b73a28n',\n",
       "  'title': 'Role of endothelin-1 in lung disease',\n",
       "  'abstract': 'Endothelin-1 (ET-1) is a 21 amino acid peptide with diverse biological activity that has been implicated in numerous diseases. ET-1 is a potent mitogen regulator of smooth muscle tone, and inflammatory mediator that may play a key role in diseases of the airways, pulmonary circulation, and inflammatory lung diseases, both acute and chronic. This review will focus on the biology of ET-1 and its role in lung disease.'}}"
      ]
     },
     "execution_count": 35,
     "metadata": {},
     "output_type": "execute_result"
    }
   ],
   "source": [
    "from vespa.query import QueryModel, RankProfile as Ranking, OR\n",
    "\n",
    "res = app.query(\n",
    "    query=\"What is the role of endothelin-1\", \n",
    "    query_model=QueryModel(\n",
    "        match_phase = OR(),\n",
    "        rank_profile = Ranking(name=\"bm25\")\n",
    "    )\n",
    "    \n",
    ")\n",
    "res.hits[0]"
   ]
  },
  {
   "cell_type": "markdown",
   "metadata": {},
   "source": [
    "Using the Vespa Query Language as in our first example gives you the full power and flexibility that Vespa can offer. In contrast, the QueryModel abstraction focuses on specific use cases and can be more useful for ML experiments, but this is a future post topic."
   ]
  }
 ],
 "metadata": {
  "kernelspec": {
   "display_name": "Python 3",
   "language": "python",
   "name": "python3"
  },
  "language_info": {
   "codemirror_mode": {
    "name": "ipython",
    "version": 3
   },
   "file_extension": ".py",
   "mimetype": "text/x-python",
   "name": "python",
   "nbconvert_exporter": "python",
   "pygments_lexer": "ipython3",
   "version": "3.9.1"
  }
 },
 "nbformat": 4,
 "nbformat_minor": 4
}
