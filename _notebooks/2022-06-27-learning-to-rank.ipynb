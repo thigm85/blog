{
 "cells": [
  {
   "cell_type": "markdown",
   "id": "035e0066",
   "metadata": {},
   "source": [
    "# Learning to Rank\n",
    "> Notes about learning to rank\n",
    "\n",
    "- toc: true \n",
    "- badges: true\n",
    "- comments: true\n",
    "- categories: [learning to rank]"
   ]
  },
  {
   "cell_type": "markdown",
   "id": "f9778db1",
   "metadata": {},
   "source": [
    "## Resources"
   ]
  },
  {
   "cell_type": "markdown",
   "id": "087839c7",
   "metadata": {},
   "source": [
    "* [PyTerrier LTR page](https://pyterrier.readthedocs.io/en/latest/ltr.html)\n",
    "* Set of [LTR notebooks](https://github.com/sophwats/learning-to-rank) from sophwatts"
   ]
  }
 ],
 "metadata": {
  "kernelspec": {
   "display_name": "Python 3",
   "language": "python",
   "name": "python3"
  },
  "language_info": {
   "codemirror_mode": {
    "name": "ipython",
    "version": 3
   },
   "file_extension": ".py",
   "mimetype": "text/x-python",
   "name": "python",
   "nbconvert_exporter": "python",
   "pygments_lexer": "ipython3",
   "version": "3.9.7"
  }
 },
 "nbformat": 4,
 "nbformat_minor": 5
}
