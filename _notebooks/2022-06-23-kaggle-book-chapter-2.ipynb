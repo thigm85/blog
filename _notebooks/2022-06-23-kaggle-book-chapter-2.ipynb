{
 "cells": [
  {
   "cell_type": "markdown",
   "id": "sorted-subscriber",
   "metadata": {},
   "source": [
    "# Chapter 2 - Organizing Data with Datasets\n",
    "> Notes about the book The Kaggle book\n",
    "\n",
    "- toc: true \n",
    "- badges: true\n",
    "- comments: true\n",
    "- categories: [book, kaggle, data science]"
   ]
  },
  {
   "cell_type": "markdown",
   "id": "surprising-subcommittee",
   "metadata": {},
   "source": [
    "## Setting up a dataset"
   ]
  },
  {
   "cell_type": "markdown",
   "id": "explicit-flesh",
   "metadata": {},
   "source": [
    "* It is possible to upload a dataset either privately or publicly.\n",
    "* It is possible to use \"Import a GitHub repository\" option to import a experimental library not yet available on Kaggle Notebooks."
   ]
  },
  {
   "cell_type": "markdown",
   "id": "legislative-machinery",
   "metadata": {},
   "source": [
    "## Gathering data"
   ]
  },
  {
   "cell_type": "markdown",
   "id": "chubby-bunny",
   "metadata": {},
   "source": [
    "* Interesting interview from [Larxel](https://www.kaggle.com/andrewmvd):\n",
    "    * On creating datasets:\n",
    "        * All in all, the process that I recommend starts with setting your purpose, breaking it down into objectives and topics, formulating questions to fulfil these topics, surveying possible sources of data, selecting and gathering, pre-processing, documenting, publishing, maintaining and supporting, and finally, improvement actions.\n",
    "    * On learning on Kaggle:\n",
    "        * Absorbing all the knowledge at the end of a competition\n",
    "        * Replication of winning solutions in finished competitions"
   ]
  },
  {
   "cell_type": "markdown",
   "id": "abroad-football",
   "metadata": {},
   "source": [
    "## Working with datasets"
   ]
  },
  {
   "cell_type": "markdown",
   "id": "fitted-insurance",
   "metadata": {},
   "source": [
    "* The easiest way to work with Kaggle datasets is by creating a notebook from the dataset webpage."
   ]
  },
  {
   "cell_type": "markdown",
   "id": "respected-theta",
   "metadata": {},
   "source": [
    "## Using Kaggle datasets in Google Colab"
   ]
  },
  {
   "cell_type": "markdown",
   "id": "former-customs",
   "metadata": {},
   "source": [
    "* This section contains a step-by-step to download Kaggle Datasets into Colab.\n",
    "    1. Download Kaggle API from your Kaggle account. Place it ~/.kaggle/kaggle.json\n",
    "    2. Create folder `Kaggle` on your GDrive and upload .json there.\n",
    "    3. Mount GDrive to your colab\n",
    "    ```\n",
    "    from google.colab import drive\n",
    "    drive.mount('/content/gdrive')\n",
    "    ```\n",
    "    4. Provide path to .json config\n",
    "    ```python\n",
    "    import os\n",
    "    # content/gdrive/My Drive/Kaggle is the path where kaggle.json is \n",
    "    # present in the Google Drive\n",
    "    os.environ['KAGGLE_CONFIG_DIR'] = \"/content/gdrive/My Drive/Kaggle\"\n",
    "    # change the working directory\n",
    "    %cd /content/gdrive/My Drive/Kaggle\n",
    "    \n",
    "    ```\n",
    "    5. Go to the dataset page and use the `copy API command`."
   ]
  }
 ],
 "metadata": {
  "kernelspec": {
   "display_name": "Python 3",
   "language": "python",
   "name": "python3"
  },
  "language_info": {
   "codemirror_mode": {
    "name": "ipython",
    "version": 3
   },
   "file_extension": ".py",
   "mimetype": "text/x-python",
   "name": "python",
   "nbconvert_exporter": "python",
   "pygments_lexer": "ipython3",
   "version": "3.9.7"
  }
 },
 "nbformat": 4,
 "nbformat_minor": 5
}
