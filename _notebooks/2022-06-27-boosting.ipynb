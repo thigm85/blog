{
 "cells": [
  {
   "cell_type": "markdown",
   "id": "ebb1739c",
   "metadata": {},
   "source": [
    "# Boosting\n",
    "> Notes about boosting\n",
    "\n",
    "- toc: true \n",
    "- badges: true\n",
    "- comments: true\n",
    "- categories: [lightgbm, xgboost, boosting]"
   ]
  },
  {
   "cell_type": "markdown",
   "id": "247ef820",
   "metadata": {},
   "source": [
    "## Resources"
   ]
  },
  {
   "cell_type": "markdown",
   "id": "5677f81e",
   "metadata": {},
   "source": [
    "* LightGBM\n",
    "    * [LightGBM Home page](https://lightgbm.readthedocs.io/en/latest/index.html) homepage\n",
    "    * [Understanding LightGBM Parameters (and How to Tune Them)](https://neptune.ai/blog/lightgbm-parameters-guide)   \n",
    "    * Optune LightGBM tuner\n",
    "        * [Blog post](https://medium.com/optuna/lightgbm-tuner-new-optuna-integration-for-hyperparameter-optimization-8b7095e99258)\n",
    "        * [Code](https://github.com/optuna/optuna-examples/blob/main/lightgbm/lightgbm_tuner_simple.py)\n",
    "    * [Kaggler’s Guide to LightGBM Hyperparameter Tuning with Optuna in 2021](https://towardsdatascience.com/kagglers-guide-to-lightgbm-hyperparameter-tuning-with-optuna-in-2021-ed048d9838b5)\n",
    "    * [LightGBM stackoverflow example](https://stackoverflow.com/a/67627169)\n",
    "* XGBoost\n",
    "    * [XGBoost Home page](https://xgboost.readthedocs.io/en/latest/index.html)\n",
    "* LightGBM/XGBoost comparison\n",
    "    * [XGBoost vs LightGBM: How Are They Different](https://neptune.ai/blog/xgboost-vs-lightgbm)\n",
    "    * Set of [LTR notebooks](https://github.com/sophwats/learning-to-rank) involving boosting from sophwatts    "
   ]
  }
 ],
 "metadata": {
  "kernelspec": {
   "display_name": "Python 3",
   "language": "python",
   "name": "python3"
  },
  "language_info": {
   "codemirror_mode": {
    "name": "ipython",
    "version": 3
   },
   "file_extension": ".py",
   "mimetype": "text/x-python",
   "name": "python",
   "nbconvert_exporter": "python",
   "pygments_lexer": "ipython3",
   "version": "3.9.7"
  }
 },
 "nbformat": 4,
 "nbformat_minor": 5
}
