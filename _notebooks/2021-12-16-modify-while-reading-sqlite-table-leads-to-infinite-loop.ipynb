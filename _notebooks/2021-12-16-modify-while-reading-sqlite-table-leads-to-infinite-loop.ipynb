{
 "cells": [
  {
   "cell_type": "markdown",
   "id": "raised-child",
   "metadata": {},
   "source": [
    "# Do not modify SQLite table while sequentially reading data \n",
    "> To avoid an infinite loop\n",
    "\n",
    "- toc: true \n",
    "- badges: true\n",
    "- comments: true\n",
    "- categories: [SQL, SQLite]"
   ]
  },
  {
   "cell_type": "markdown",
   "id": "sensitive-masters",
   "metadata": {},
   "source": [
    "I recently created an infinite loop by accident when trying to modify the content of rows that were being sequentially read from a SQLite table. I want to replicate the issue here with a minimal example."
   ]
  },
  {
   "cell_type": "markdown",
   "id": "directed-gauge",
   "metadata": {},
   "source": [
    "Create and connect to a SQLite database."
   ]
  },
  {
   "cell_type": "code",
   "execution_count": 2,
   "id": "wanted-harbor",
   "metadata": {},
   "outputs": [],
   "source": [
    "import os\n",
    "from sqlite3 import connect\n",
    "\n",
    "db_connection = connect(os.environ[\"DB_PATH\"])"
   ]
  },
  {
   "cell_type": "markdown",
   "id": "suburban-internet",
   "metadata": {},
   "source": [
    "Create a `test` table."
   ]
  },
  {
   "cell_type": "code",
   "execution_count": 3,
   "id": "durable-tokyo",
   "metadata": {},
   "outputs": [
    {
     "data": {
      "text/plain": [
       "<sqlite3.Cursor at 0x10d6ec420>"
      ]
     },
     "execution_count": 3,
     "metadata": {},
     "output_type": "execute_result"
    }
   ],
   "source": [
    "create_table_statement = \"\"\"CREATE TABLE IF NOT EXISTS test(\n",
    "    id TEXT NOT NULL PRIMARY KEY,\n",
    "    value INTEGER\n",
    ");\"\"\"\n",
    "\n",
    "cursor = db_connection.cursor()\n",
    "cursor.execute(create_table_statement)"
   ]
  },
  {
   "cell_type": "markdown",
   "id": "plastic-plenty",
   "metadata": {},
   "source": [
    "Check if the table was created."
   ]
  },
  {
   "cell_type": "code",
   "execution_count": 4,
   "id": "spanish-success",
   "metadata": {},
   "outputs": [],
   "source": [
    "cursor.execute(\"SELECT name FROM sqlite_master WHERE type='table';\")\n",
    "assert cursor.fetchall()[0][0] == \"test\""
   ]
  },
  {
   "cell_type": "markdown",
   "id": "basic-execution",
   "metadata": {},
   "source": [
    "Insert sample data."
   ]
  },
  {
   "cell_type": "code",
   "execution_count": 5,
   "id": "interpreted-circumstances",
   "metadata": {},
   "outputs": [],
   "source": [
    "inser_sql = \"INSERT OR REPLACE INTO test (id,value) VALUES (?,?)\"\n",
    "data = [(\"1\", 1), (\"2\", 2), (\"3\", 3)]\n",
    "\n",
    "for d in data:\n",
    "    cursor.execute(inser_sql, d)\n",
    "    db_connection.commit()"
   ]
  },
  {
   "cell_type": "markdown",
   "id": "absolute-portugal",
   "metadata": {},
   "source": [
    "Check if the sample data were sucessfully inserted."
   ]
  },
  {
   "cell_type": "code",
   "execution_count": 6,
   "id": "supposed-student",
   "metadata": {},
   "outputs": [
    {
     "data": {
      "text/html": [
       "<div>\n",
       "<style scoped>\n",
       "    .dataframe tbody tr th:only-of-type {\n",
       "        vertical-align: middle;\n",
       "    }\n",
       "\n",
       "    .dataframe tbody tr th {\n",
       "        vertical-align: top;\n",
       "    }\n",
       "\n",
       "    .dataframe thead th {\n",
       "        text-align: right;\n",
       "    }\n",
       "</style>\n",
       "<table border=\"1\" class=\"dataframe\">\n",
       "  <thead>\n",
       "    <tr style=\"text-align: right;\">\n",
       "      <th></th>\n",
       "      <th>id</th>\n",
       "      <th>value</th>\n",
       "    </tr>\n",
       "  </thead>\n",
       "  <tbody>\n",
       "    <tr>\n",
       "      <th>0</th>\n",
       "      <td>1</td>\n",
       "      <td>1</td>\n",
       "    </tr>\n",
       "    <tr>\n",
       "      <th>1</th>\n",
       "      <td>2</td>\n",
       "      <td>2</td>\n",
       "    </tr>\n",
       "    <tr>\n",
       "      <th>2</th>\n",
       "      <td>3</td>\n",
       "      <td>3</td>\n",
       "    </tr>\n",
       "  </tbody>\n",
       "</table>\n",
       "</div>"
      ],
      "text/plain": [
       "  id  value\n",
       "0  1      1\n",
       "1  2      2\n",
       "2  3      3"
      ]
     },
     "execution_count": 6,
     "metadata": {},
     "output_type": "execute_result"
    }
   ],
   "source": [
    "from pandas import read_sql_query\n",
    "\n",
    "read_sql_query(\"SELECT * FROM test\", db_connection)"
   ]
  },
  {
   "cell_type": "markdown",
   "id": "breeding-diameter",
   "metadata": {},
   "source": [
    "Loop from the data. Note that the loop here is finite."
   ]
  },
  {
   "cell_type": "code",
   "execution_count": 7,
   "id": "american-default",
   "metadata": {},
   "outputs": [
    {
     "name": "stdout",
     "output_type": "stream",
     "text": [
      "('1', 1)\n",
      "('2', 2)\n",
      "('3', 3)\n"
     ]
    }
   ],
   "source": [
    "for d in cursor.execute(\"SELECT * FROM test\"):\n",
    "    print(d)"
   ]
  },
  {
   "cell_type": "markdown",
   "id": "joined-break",
   "metadata": {},
   "source": [
    "Modify the table while looping through its data. This leads to an infinite loop and should be avoided."
   ]
  },
  {
   "cell_type": "code",
   "execution_count": 8,
   "id": "under-guide",
   "metadata": {},
   "outputs": [
    {
     "name": "stdout",
     "output_type": "stream",
     "text": [
      "('1', 1)\n",
      "('2', 2)\n",
      "('3', 3)\n",
      "('1', 2)\n",
      "('2', 3)\n",
      "('3', 4)\n",
      "('1', 3)\n",
      "('2', 4)\n"
     ]
    }
   ],
   "source": [
    "for idx, d in enumerate(cursor.execute(\"SELECT * FROM test\")):\n",
    "    new_cursor = db_connection.cursor()\n",
    "    new_cursor.execute(inser_sql, (d[0], d[1]+1))\n",
    "    db_connection.commit()\n",
    "    print(d)\n",
    "    if idx == 7:\n",
    "        break "
   ]
  },
  {
   "cell_type": "markdown",
   "id": "printable-toronto",
   "metadata": {},
   "source": [
    "Clean up environment"
   ]
  },
  {
   "cell_type": "code",
   "execution_count": 9,
   "id": "rocky-mandate",
   "metadata": {},
   "outputs": [],
   "source": [
    "os.remove(os.environ[\"DB_PATH\"])"
   ]
  }
 ],
 "metadata": {
  "kernelspec": {
   "display_name": "Python 3",
   "language": "python",
   "name": "python3"
  },
  "language_info": {
   "codemirror_mode": {
    "name": "ipython",
    "version": 3
   },
   "file_extension": ".py",
   "mimetype": "text/x-python",
   "name": "python",
   "nbconvert_exporter": "python",
   "pygments_lexer": "ipython3",
   "version": "3.9.7"
  }
 },
 "nbformat": 4,
 "nbformat_minor": 5
}
