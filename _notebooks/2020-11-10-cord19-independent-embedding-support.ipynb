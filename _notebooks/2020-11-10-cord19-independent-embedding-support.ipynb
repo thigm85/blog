{
 "cells": [
  {
   "cell_type": "markdown",
   "metadata": {},
   "source": [
    "## Basic cord19 app - without embeddings"
   ]
  },
  {
   "cell_type": "code",
   "execution_count": null,
   "metadata": {},
   "outputs": [],
   "source": [
    "from vespa.package import Document, Field, Schema, FieldSet, RankProfile, ApplicationPackage\n",
    "\n",
    "document = Document(\n",
    "    fields=[\n",
    "        Field(name = \"cord_uid\", type = \"string\", indexing = [\"attribute\", \"summary\"]),\n",
    "        Field(name = \"title\", type = \"string\", indexing = [\"index\", \"summary\"], index = \"enable-bm25\"),\n",
    "    ]\n",
    ")\n",
    "\n",
    "msmarco_schema = Schema(\n",
    "    name = \"cord19\",\n",
    "    document = document,\n",
    "    fieldsets = [FieldSet(name = \"default\", fields = [\"title\"])],\n",
    "    rank_profiles = [RankProfile(name = \"default\", first_phase = \"nativeRank(title)\")]\n",
    ")\n",
    "\n",
    "app_package = ApplicationPackage(name = \"cord19\", schema=msmarco_schema)"
   ]
  },
  {
   "cell_type": "markdown",
   "metadata": {},
   "source": [
    "## Summary of what we need to have in place"
   ]
  },
  {
   "cell_type": "markdown",
   "metadata": {},
   "source": [
    "### Tensor field"
   ]
  },
  {
   "cell_type": "markdown",
   "metadata": {},
   "source": [
    "Include a field in the document schema:"
   ]
  },
  {
   "cell_type": "code",
   "execution_count": null,
   "metadata": {},
   "outputs": [],
   "source": [
    "field title_bert type tensor<float>(x[768]) {\n",
    "    indexing: attribute\n",
    "}"
   ]
  },
  {
   "cell_type": "markdown",
   "metadata": {},
   "source": [
    "The current API allow us to specify a Tensor field like the above with:"
   ]
  },
  {
   "cell_type": "code",
   "execution_count": null,
   "metadata": {},
   "outputs": [],
   "source": [
    "Field(name = \"title_bert\", type = \"tensor<float>(x[768])\", indexing = [\"attribute\"])"
   ]
  },
  {
   "cell_type": "markdown",
   "metadata": {},
   "source": [
    "### Query profile"
   ]
  },
  {
   "cell_type": "markdown",
   "metadata": {},
   "source": [
    "Include the query profile"
   ]
  },
  {
   "cell_type": "code",
   "execution_count": null,
   "metadata": {},
   "outputs": [],
   "source": [
    "<query-profile id=\"default\" type=\"root\">\n",
    "  <field name=\"maxHits\">1000</field>\n",
    "</query-profile>"
   ]
  },
  {
   "cell_type": "markdown",
   "metadata": {},
   "source": [
    "Include query profile type"
   ]
  },
  {
   "cell_type": "code",
   "execution_count": null,
   "metadata": {},
   "outputs": [],
   "source": [
    "<query-profile-type id=\"root\">\n",
    "  <field name=\"ranking.features.query(tensor_bert)\" type=\"tensor&lt;float&gt;(x[768])\" />\n",
    "</query-profile-type>"
   ]
  },
  {
   "cell_type": "markdown",
   "metadata": {},
   "source": [
    "**Proposed API**:"
   ]
  },
  {
   "cell_type": "code",
   "execution_count": null,
   "metadata": {},
   "outputs": [],
   "source": [
    "query_profile_type = QueryProfileType(\n",
    "    id=\"root\", \n",
    "    fields = [\n",
    "        QueryTypeField(\n",
    "            name=\"ranking.features.query(tensor_bert)\",\n",
    "            type=\"tensor&lt;float&gt;(x[768])\"\n",
    "        )\n",
    "    ]\n",
    ")\n",
    "query_profile = QueryProfile(\n",
    "    id=\"default\", \n",
    "    type=query_profile_type, \n",
    "    fields=[QueryField(name=\"maxHits\", value=1000)]\n",
    ")"
   ]
  },
  {
   "cell_type": "markdown",
   "metadata": {},
   "source": [
    "However, we can include \"default\" query profile and \"root\" query profile type by default, leading to a much simpler API to simply modify those if needed."
   ]
  },
  {
   "cell_type": "code",
   "execution_count": null,
   "metadata": {},
   "outputs": [],
   "source": [
    "app_package.add_query_type_field(\n",
    "    name=\"ranking.features.query(tensor_bert)\",\n",
    "    type=\"tensor<float>(x[768])\"\n",
    ")"
   ]
  },
  {
   "cell_type": "markdown",
   "metadata": {},
   "source": [
    "### Use embeddings on an expression"
   ]
  },
  {
   "cell_type": "markdown",
   "metadata": {},
   "source": [
    "Use query and document vector in a rank-profile"
   ]
  },
  {
   "cell_type": "code",
   "execution_count": null,
   "metadata": {},
   "outputs": [],
   "source": [
    "rank-profile bert_title_body_all inherits default {\n",
    "    first-phase {\n",
    "        expression: sum(query(tensor_bert)*attribute(title_bert))\n",
    "    }\n",
    "}"
   ]
  },
  {
   "cell_type": "markdown",
   "metadata": {},
   "source": [
    "The current API allow us to specify the rank-profile above with:"
   ]
  },
  {
   "cell_type": "code",
   "execution_count": null,
   "metadata": {},
   "outputs": [],
   "source": [
    "RankProfile(\n",
    "    name = \"bert_title\", \n",
    "    inherits=\"default\", \n",
    "    first_phase = \"sum(query(tensor_bert)*attribute(title_bert))\"\n",
    ")"
   ]
  },
  {
   "cell_type": "markdown",
   "metadata": {},
   "source": [
    "### Feed document tensors"
   ]
  },
  {
   "cell_type": "markdown",
   "metadata": {},
   "source": [
    "Syntax to feed tensor values"
   ]
  },
  {
   "cell_type": "code",
   "execution_count": null,
   "metadata": {},
   "outputs": [],
   "source": [
    "\"tensorfield\": {\n",
    "    \"values\": [ 2.0, 3.0, 5.0, 7.0 ]\n",
    "}"
   ]
  },
  {
   "cell_type": "markdown",
   "metadata": {},
   "source": [
    "### Query using embeddings"
   ]
  },
  {
   "cell_type": "code",
   "execution_count": null,
   "metadata": {},
   "outputs": [],
   "source": [
    "{\n",
    "  \"yql\": ...,\n",
    "  \"ranking.features.query(tensor_bert)\": \"[0.013267785266013195, -0.021684982513878254, ..., -0.007751454443551412]\",\n",
    "  ...\n",
    "}"
   ]
  },
  {
   "cell_type": "markdown",
   "metadata": {},
   "source": [
    "### Generate embeddings to test the approach"
   ]
  },
  {
   "cell_type": "code",
   "execution_count": 9,
   "metadata": {},
   "outputs": [],
   "source": [
    "import numpy as np\n",
    "from sentence_transformers import SentenceTransformer\n",
    "\n",
    "model = SentenceTransformer(\"bert-base-nli-mean-tokens\")\n",
    "\n",
    "def create_document_embedding(text, model, normalize=True):\n",
    "    vector = model.encode([text])[0].tolist()\n",
    "    if normalize:\n",
    "        norm = np.linalg.norm(vector)\n",
    "        if norm > 0.0:\n",
    "            vector = vector / norm\n",
    "    return vector.tolist()"
   ]
  },
  {
   "cell_type": "code",
   "execution_count": 10,
   "metadata": {},
   "outputs": [],
   "source": [
    "embedding = create_document_embedding(text=\"this is a text\", model = model)"
   ]
  },
  {
   "cell_type": "markdown",
   "metadata": {},
   "source": [
    "## cord19 app with embeddings"
   ]
  },
  {
   "cell_type": "code",
   "execution_count": null,
   "metadata": {},
   "outputs": [],
   "source": [
    "from vespa.package import Document, Field, Schema, FieldSet, RankProfile, ApplicationPackage\n",
    "\n",
    "document = Document(\n",
    "    fields=[\n",
    "        Field(name = \"cord_uid\", type = \"string\", indexing = [\"attribute\", \"summary\"]),\n",
    "        Field(name = \"title\", type = \"string\", indexing = [\"index\", \"summary\"], index = \"enable-bm25\"),\n",
    "        Field(name = \"title_bert\", type = \"tensor<float>(x[768])\", indexing = [\"attribute\"])\n",
    "    ]\n",
    ")\n",
    "msmarco_schema = Schema(\n",
    "    name = \"cord19\",\n",
    "    document = document,\n",
    "    fieldsets = [FieldSet(name = \"default\", fields = [\"title\"])],\n",
    "    rank_profiles = [\n",
    "        RankProfile(name = \"default\", first_phase = \"nativeRank(title)\"),\n",
    "        RankProfile(\n",
    "            name = \"bert_title\", \n",
    "            inherits=\"default\", \n",
    "            first_phase = \"sum(query(tensor_bert)*attribute(title_bert))\"\n",
    "        )\n",
    "    ]\n",
    ")\n",
    "app_package = ApplicationPackage(\n",
    "    name = \"cord19\", \n",
    "    schema=msmarco_schema,\n",
    "    query_profile=query_profile\n",
    "\n",
    "app_package.add_query_profile_type_field(\n",
    "    name=\"ranking.features.query(tensor_bert)\",\n",
    "    type=\"tensor<float>(x[768])\"\n",
    ")    "
   ]
  }
 ],
 "metadata": {
  "kernelspec": {
   "display_name": "Python 3",
   "language": "python",
   "name": "python3"
  },
  "language_info": {
   "codemirror_mode": {
    "name": "ipython",
    "version": 3
   },
   "file_extension": ".py",
   "mimetype": "text/x-python",
   "name": "python",
   "nbconvert_exporter": "python",
   "pygments_lexer": "ipython3",
   "version": "3.8.5"
  }
 },
 "nbformat": 4,
 "nbformat_minor": 4
}
