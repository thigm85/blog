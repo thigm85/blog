{
 "cells": [
  {
   "cell_type": "markdown",
   "id": "precise-crawford",
   "metadata": {},
   "source": [
    "## Download the data"
   ]
  },
  {
   "cell_type": "code",
   "execution_count": 3,
   "id": "balanced-scout",
   "metadata": {},
   "outputs": [
    {
     "name": "stdout",
     "output_type": "stream",
     "text": [
      "--2021-02-11 22:22:47--  http://snap.stanford.edu/data/amazon/productGraph/image_features/categoryFiles/image_features_Clothing_Shoes_and_Jewelry.b\n",
      "Resolving snap.stanford.edu (snap.stanford.edu)... 171.64.75.80\n",
      "Connecting to snap.stanford.edu (snap.stanford.edu)|171.64.75.80|:80... connected.\n",
      "HTTP request sent, awaiting response... 206 Partial Content\n",
      "Length: 24495439374 (23G), 500269078 (477M) remaining [text/plain]\n",
      "Saving to: ‘image_features_Clothing_Shoes_and_Jewelry.b’\n",
      "\n",
      "image_features_Clot 100%[+++++++++++++++++++>]  22.81G   759KB/s    in 3m 33s  \n",
      "\n",
      "2021-02-11 22:26:21 (2.23 MB/s) - ‘image_features_Clothing_Shoes_and_Jewelry.b’ saved [24495439374/24495439374]\n",
      "\n",
      "272M\tmeta_Clothing_Shoes_and_Jewelry.json.gz\n",
      " 23G\timage_features_Clothing_Shoes_and_Jewelry.b\n"
     ]
    }
   ],
   "source": [
    "fname_products = \"meta_Clothing_Shoes_and_Jewelry.json.gz\"\n",
    "fname_vectors = \"image_features_Clothing_Shoes_and_Jewelry.b\"\n",
    "\n",
    "#!wget -nc http://snap.stanford.edu/data/amazon/productGraph/categoryFiles/{fname_products}\n",
    "!wget -c http://snap.stanford.edu/data/amazon/productGraph/image_features/categoryFiles/{fname_vectors}\n",
    "\n",
    "!du -hs meta_Clothing_Shoes_and_Jewelry.json.gz\n",
    "!du -hs image_features_Clothing_Shoes_and_Jewelry.b"
   ]
  },
  {
   "cell_type": "markdown",
   "id": "guilty-ideal",
   "metadata": {},
   "source": [
    "## Explore the data"
   ]
  },
  {
   "cell_type": "markdown",
   "id": "actual-system",
   "metadata": {},
   "source": [
    "Import required libraries"
   ]
  },
  {
   "cell_type": "code",
   "execution_count": null,
   "id": "handed-trace",
   "metadata": {},
   "outputs": [],
   "source": [
    "%load_ext autoreload\n",
    "%autoreload 2\n",
    "%matplotlib inline\n",
    "from amazonutils import *\n",
    "from itertools import islice\n",
    "from tqdm import tqdm\n",
    "from pprint import pprint, pformat\n",
    "from IPython.display import Image, display, Markdown, Code, HTML\n",
    "import matplotlib.pyplot as plt\n",
    "import numpy as np\n",
    "import json"
   ]
  },
  {
   "cell_type": "markdown",
   "id": "existing-choice",
   "metadata": {},
   "source": [
    "Iterate over the metadata for a few products"
   ]
  },
  {
   "cell_type": "code",
   "execution_count": null,
   "id": "psychological-mainland",
   "metadata": {},
   "outputs": [],
   "source": [
    "for p in islice(iter_products(fname_products), 5, 8):\n",
    "  d = {k:v for (k,v) in p.items() if k not in {'related', 'description'}}\n",
    "  pprint(d)\n",
    "  display(Image(p['imUrl'], width=128, height=128))"
   ]
  },
  {
   "cell_type": "markdown",
   "id": "cheap-revelation",
   "metadata": {},
   "source": [
    "Lets see the first three values of the 4096 floats image vectors:"
   ]
  },
  {
   "cell_type": "code",
   "execution_count": null,
   "id": "announced-desert",
   "metadata": {},
   "outputs": [],
   "source": [
    "for (asin, vec) in islice(iter_vectors(fname_vectors), 3):\n",
    "  print(asin, len(vec), vec[:3])"
   ]
  },
  {
   "cell_type": "markdown",
   "id": "approximate-spray",
   "metadata": {},
   "source": [
    "Reduce vector dimensionality:"
   ]
  },
  {
   "cell_type": "code",
   "execution_count": null,
   "id": "uniform-column",
   "metadata": {},
   "outputs": [],
   "source": [
    "vector_dims = 256\n",
    "reduced = iter_vectors_reduced(fname_vectors, dims=vector_dims, samples=10000)\n",
    "\n",
    "for (asin, vec) in islice(reduced(fname_vectors), 3):\n",
    "  print(asin, len(vec), vec[:3])\n",
    "\n",
    "sample = np.array([v for (_, v) in islice(reduced(fname_vectors), 20000)])\n",
    "plt.title(\"Shape: %s, mean: %.3f\" % (sample.shape, sample.mean()))\n",
    "plt.hist(np.ravel(sample), bins=40, log=True)\n",
    "plt.show()"
   ]
  },
  {
   "cell_type": "markdown",
   "id": "radical-johns",
   "metadata": {},
   "source": [
    "## Create Vespa Application Package"
   ]
  },
  {
   "cell_type": "markdown",
   "id": "juvenile-employment",
   "metadata": {},
   "source": [
    "Create an ApplicationPackage instance to hold all relevant info about our search application."
   ]
  },
  {
   "cell_type": "code",
   "execution_count": null,
   "id": "immune-advocate",
   "metadata": {},
   "outputs": [],
   "source": [
    "from vespa.package import ApplicationPackage, Field\n",
    "\n",
    "app_package = ApplicationPackage(name = \"product_search\")"
   ]
  },
  {
   "cell_type": "code",
   "execution_count": null,
   "id": "starting-whale",
   "metadata": {},
   "outputs": [],
   "source": [
    "\n",
    "app_package.schema.add_fields(        \n",
    "    Field(name = \"asin\", type = \"string\", indexing = [\"attribute\", \"summary\"]),\n",
    "    Field(name = \"title\", type = \"string\", indexing = [\"index\", \"summary\"], index = \"enable-bm25\"),\n",
    "    Field(name = \"description\", type = \"string\", indexing = [\"index\", \"summary\"], index = \"enable-bm25\"),\n",
    "    Field(name = \"price\", type = \"float\", indexing = [\"attribute\", \"summary\"]),\n",
    "    Field(name = \"image_vector\", type = \"tensor<float>(x[4096])\", indexing = [\"attribute\"]),\n",
    "    Field(name = \"reduced_image_vector\", type = \"tensor<float>(x[256])\", indexing = [\"attribute\"]),\n",
    ")"
   ]
  },
  {
   "cell_type": "markdown",
   "id": "afraid-february",
   "metadata": {},
   "source": [
    "## Deploy your application"
   ]
  },
  {
   "cell_type": "code",
   "execution_count": null,
   "id": "atlantic-torture",
   "metadata": {},
   "outputs": [],
   "source": [
    "from vespa.package import VespaDocker\n",
    "\n",
    "vespa_docker = VespaDocker(port=8089)\n",
    "\n",
    "app = vespa_docker.deploy(\n",
    "    application_package = app_package,\n",
    "    disk_folder=disk_folder # include the desired absolute path here\n",
    ")"
   ]
  },
  {
   "cell_type": "markdown",
   "id": "apart-inquiry",
   "metadata": {},
   "source": [
    "## Feed data to your application"
   ]
  },
  {
   "cell_type": "code",
   "execution_count": null,
   "id": "featured-agriculture",
   "metadata": {},
   "outputs": [],
   "source": []
  }
 ],
 "metadata": {
  "kernelspec": {
   "display_name": "Python 3",
   "language": "python",
   "name": "python3"
  },
  "language_info": {
   "codemirror_mode": {
    "name": "ipython",
    "version": 3
   },
   "file_extension": ".py",
   "mimetype": "text/x-python",
   "name": "python",
   "nbconvert_exporter": "python",
   "pygments_lexer": "ipython3",
   "version": "3.9.1"
  }
 },
 "nbformat": 4,
 "nbformat_minor": 5
}
