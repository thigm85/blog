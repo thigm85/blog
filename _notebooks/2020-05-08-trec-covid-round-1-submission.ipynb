{
 "cells": [
  {
   "cell_type": "markdown",
   "metadata": {},
   "source": [
    "# \"Vespa submission to round 1 of TREC-COVID\"\n",
    "> \"Reproducing the submission with Vespa python API\"\n",
    "\n",
    "- toc: false \n",
    "- badges: true\n",
    "- comments: true\n",
    "- categories: [COVID-19, vespa]\n",
    "- image: images/coronavirus.jpg\n"
   ]
  },
  {
   "cell_type": "code",
   "execution_count": 1,
   "metadata": {},
   "outputs": [],
   "source": [
    "# hide\n",
    "%load_ext autoreload\n",
    "%autoreload 2"
   ]
  },
  {
   "cell_type": "markdown",
   "metadata": {},
   "source": [
    "This piece will reproduce a possible round 1 TREC-COVID submission generated with the [cord19.vespa.ai](cord19.vespa.ai) application. "
   ]
  },
  {
   "cell_type": "markdown",
   "metadata": {},
   "source": [
    "![](images/coronavirus.jpg)"
   ]
  },
  {
   "cell_type": "markdown",
   "metadata": {},
   "source": [
    "## Vespa"
   ]
  },
  {
   "cell_type": "markdown",
   "metadata": {},
   "source": [
    "Connect to the [CORD-19 Vespa](https://cord19.vespa.ai/) API."
   ]
  },
  {
   "cell_type": "code",
   "execution_count": 2,
   "metadata": {},
   "outputs": [],
   "source": [
    "from vespa.application import Vespa\n",
    "\n",
    "app = Vespa(url = \"https://api.cord19.vespa.ai\")"
   ]
  },
  {
   "cell_type": "markdown",
   "metadata": {},
   "source": [
    "Define the query model used for the submission."
   ]
  },
  {
   "cell_type": "code",
   "execution_count": 3,
   "metadata": {},
   "outputs": [],
   "source": [
    "from vespa.query import Query, OR, RankProfile\n",
    "\n",
    "query_model = Query(\n",
    "    match_phase = OR(),\n",
    "    rank_profile = RankProfile(name=\"bm25t5\")\n",
    ")"
   ]
  },
  {
   "cell_type": "markdown",
   "metadata": {},
   "source": [
    "## Submission"
   ]
  },
  {
   "cell_type": "markdown",
   "metadata": {},
   "source": [
    "Load the topics provided by the organizers."
   ]
  },
  {
   "cell_type": "code",
   "execution_count": 4,
   "metadata": {},
   "outputs": [],
   "source": [
    "import requests\n",
    "import json\n",
    "\n",
    "topics = json.loads(requests.get(\"https://thigm85.github.io/data/covid19/topics-annotated.json\").text)"
   ]
  },
  {
   "cell_type": "markdown",
   "metadata": {},
   "source": [
    "Generate the submissions by querying the Vespa application, and organizing the results according to the TREC output format. We only return 2 hits for each request as an example. Feel free to change that to 1000 when generating your own submmission."
   ]
  },
  {
   "cell_type": "code",
   "execution_count": 5,
   "metadata": {},
   "outputs": [],
   "source": [
    "from pandas import DataFrame\n",
    "\n",
    "submission = []\n",
    "for t in topics:\n",
    "    id = t['id']\n",
    "    question = t['question']\n",
    "    query = t['query']\n",
    "    narrative = t['narrative']\n",
    "\n",
    "    query = question + ' ' + query + ' ' + narrative \n",
    "    result = app.query(\n",
    "          query=query, \n",
    "          query_model=query_model, \n",
    "          hits = 2, \n",
    "          model = {'defaultIndex': 'allt5'}, \n",
    "          summary = 'default',\n",
    "          timeout = '15s',\n",
    "          collapsefield = 'cord_uid',\n",
    "          bolding = 'false'\n",
    "      )\n",
    "\n",
    "    i = 0\n",
    "    for h in result['root']['children']:\n",
    "        i+=1       \n",
    "        submission.append(\n",
    "            {\"topicid\": id,\n",
    "             \"Q0\": \"Q0\",\n",
    "             \"docid\": h[\"fields\"].get('cord_uid'),\n",
    "             \"rank\": i,\n",
    "             \"score\": h['relevance'],\n",
    "             \"run-tag\": query_model.rank_profile.name\n",
    "            })\n",
    "\n",
    "submission = DataFrame.from_records(submission)"
   ]
  },
  {
   "cell_type": "code",
   "execution_count": 6,
   "metadata": {},
   "outputs": [
    {
     "data": {
      "text/html": [
       "<div>\n",
       "<style scoped>\n",
       "    .dataframe tbody tr th:only-of-type {\n",
       "        vertical-align: middle;\n",
       "    }\n",
       "\n",
       "    .dataframe tbody tr th {\n",
       "        vertical-align: top;\n",
       "    }\n",
       "\n",
       "    .dataframe thead th {\n",
       "        text-align: right;\n",
       "    }\n",
       "</style>\n",
       "<table border=\"1\" class=\"dataframe\">\n",
       "  <thead>\n",
       "    <tr style=\"text-align: right;\">\n",
       "      <th></th>\n",
       "      <th>topicid</th>\n",
       "      <th>Q0</th>\n",
       "      <th>docid</th>\n",
       "      <th>rank</th>\n",
       "      <th>score</th>\n",
       "      <th>run-tag</th>\n",
       "    </tr>\n",
       "  </thead>\n",
       "  <tbody>\n",
       "    <tr>\n",
       "      <th>0</th>\n",
       "      <td>1</td>\n",
       "      <td>Q0</td>\n",
       "      <td>lfndq85x</td>\n",
       "      <td>1</td>\n",
       "      <td>70.993937</td>\n",
       "      <td>bm25t5</td>\n",
       "    </tr>\n",
       "    <tr>\n",
       "      <th>1</th>\n",
       "      <td>1</td>\n",
       "      <td>Q0</td>\n",
       "      <td>z14rf85c</td>\n",
       "      <td>2</td>\n",
       "      <td>70.613335</td>\n",
       "      <td>bm25t5</td>\n",
       "    </tr>\n",
       "    <tr>\n",
       "      <th>2</th>\n",
       "      <td>2</td>\n",
       "      <td>Q0</td>\n",
       "      <td>exqza1kg</td>\n",
       "      <td>1</td>\n",
       "      <td>92.731966</td>\n",
       "      <td>bm25t5</td>\n",
       "    </tr>\n",
       "    <tr>\n",
       "      <th>3</th>\n",
       "      <td>2</td>\n",
       "      <td>Q0</td>\n",
       "      <td>r9scxa76</td>\n",
       "      <td>2</td>\n",
       "      <td>88.443326</td>\n",
       "      <td>bm25t5</td>\n",
       "    </tr>\n",
       "    <tr>\n",
       "      <th>4</th>\n",
       "      <td>3</td>\n",
       "      <td>Q0</td>\n",
       "      <td>rq5nqm92</td>\n",
       "      <td>1</td>\n",
       "      <td>80.897894</td>\n",
       "      <td>bm25t5</td>\n",
       "    </tr>\n",
       "    <tr>\n",
       "      <th>...</th>\n",
       "      <td>...</td>\n",
       "      <td>...</td>\n",
       "      <td>...</td>\n",
       "      <td>...</td>\n",
       "      <td>...</td>\n",
       "      <td>...</td>\n",
       "    </tr>\n",
       "    <tr>\n",
       "      <th>65</th>\n",
       "      <td>33</td>\n",
       "      <td>Q0</td>\n",
       "      <td>79yna07e</td>\n",
       "      <td>2</td>\n",
       "      <td>96.310245</td>\n",
       "      <td>bm25t5</td>\n",
       "    </tr>\n",
       "    <tr>\n",
       "      <th>66</th>\n",
       "      <td>34</td>\n",
       "      <td>Q0</td>\n",
       "      <td>gd5btv69</td>\n",
       "      <td>1</td>\n",
       "      <td>81.606707</td>\n",
       "      <td>bm25t5</td>\n",
       "    </tr>\n",
       "    <tr>\n",
       "      <th>67</th>\n",
       "      <td>34</td>\n",
       "      <td>Q0</td>\n",
       "      <td>8p9d1c9k</td>\n",
       "      <td>2</td>\n",
       "      <td>76.193660</td>\n",
       "      <td>bm25t5</td>\n",
       "    </tr>\n",
       "    <tr>\n",
       "      <th>68</th>\n",
       "      <td>35</td>\n",
       "      <td>Q0</td>\n",
       "      <td>6xkm2j0f</td>\n",
       "      <td>1</td>\n",
       "      <td>109.850018</td>\n",
       "      <td>bm25t5</td>\n",
       "    </tr>\n",
       "    <tr>\n",
       "      <th>69</th>\n",
       "      <td>35</td>\n",
       "      <td>Q0</td>\n",
       "      <td>vaeyoxv7</td>\n",
       "      <td>2</td>\n",
       "      <td>107.736848</td>\n",
       "      <td>bm25t5</td>\n",
       "    </tr>\n",
       "  </tbody>\n",
       "</table>\n",
       "<p>70 rows × 6 columns</p>\n",
       "</div>"
      ],
      "text/plain": [
       "   topicid  Q0     docid  rank       score run-tag\n",
       "0        1  Q0  lfndq85x     1   70.993937  bm25t5\n",
       "1        1  Q0  z14rf85c     2   70.613335  bm25t5\n",
       "2        2  Q0  exqza1kg     1   92.731966  bm25t5\n",
       "3        2  Q0  r9scxa76     2   88.443326  bm25t5\n",
       "4        3  Q0  rq5nqm92     1   80.897894  bm25t5\n",
       "..     ...  ..       ...   ...         ...     ...\n",
       "65      33  Q0  79yna07e     2   96.310245  bm25t5\n",
       "66      34  Q0  gd5btv69     1   81.606707  bm25t5\n",
       "67      34  Q0  8p9d1c9k     2   76.193660  bm25t5\n",
       "68      35  Q0  6xkm2j0f     1  109.850018  bm25t5\n",
       "69      35  Q0  vaeyoxv7     2  107.736848  bm25t5\n",
       "\n",
       "[70 rows x 6 columns]"
      ]
     },
     "execution_count": 6,
     "metadata": {},
     "output_type": "execute_result"
    }
   ],
   "source": [
    "submission"
   ]
  }
 ],
 "metadata": {
  "kernelspec": {
   "display_name": "vespa",
   "language": "python",
   "name": "vespa"
  },
  "language_info": {
   "codemirror_mode": {
    "name": "ipython",
    "version": 3
   },
   "file_extension": ".py",
   "mimetype": "text/x-python",
   "name": "python",
   "nbconvert_exporter": "python",
   "pygments_lexer": "ipython3",
   "version": "3.7.7"
  }
 },
 "nbformat": 4,
 "nbformat_minor": 2
}
