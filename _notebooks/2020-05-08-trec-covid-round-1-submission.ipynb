{
 "cells": [
  {
   "cell_type": "markdown",
   "metadata": {},
   "source": [
    "# \"TREC-COVID round 1 submission\"\n",
    "> \"Reproducing the submission with Vespa python API\"\n",
    "\n",
    "- toc: true \n",
    "- badges: true\n",
    "- comments: true\n",
    "- categories: [COVID-19, vespa]\n",
    "#- image: images/diagram.png # display image on social networks when sharing the URL\n"
   ]
  },
  {
   "cell_type": "code",
   "execution_count": 1,
   "metadata": {},
   "outputs": [],
   "source": [
    "# hide\n",
    "%load_ext autoreload\n",
    "%autoreload 2"
   ]
  },
  {
   "cell_type": "markdown",
   "metadata": {},
   "source": [
    "## Vespa"
   ]
  },
  {
   "cell_type": "markdown",
   "metadata": {},
   "source": [
    "Connect to the [CORD-19 Vespa](https://cord19.vespa.ai/) API."
   ]
  },
  {
   "cell_type": "code",
   "execution_count": 2,
   "metadata": {},
   "outputs": [],
   "source": [
    "from vespa.application import Vespa\n",
    "\n",
    "app = Vespa(url = \"https://api.cord19.vespa.ai\")"
   ]
  },
  {
   "cell_type": "markdown",
   "metadata": {},
   "source": [
    "Define the query model used for the submission."
   ]
  },
  {
   "cell_type": "code",
   "execution_count": 3,
   "metadata": {},
   "outputs": [],
   "source": [
    "from vespa.query import Query, OR, RankProfile\n",
    "\n",
    "query_model = Query(\n",
    "    match_phase = OR(),\n",
    "    rank_profile = RankProfile(name=\"bm25t5\")\n",
    ")"
   ]
  },
  {
   "cell_type": "markdown",
   "metadata": {},
   "source": [
    "## Submission"
   ]
  },
  {
   "cell_type": "markdown",
   "metadata": {},
   "source": [
    "Load the topics provided by the organizers."
   ]
  },
  {
   "cell_type": "code",
   "execution_count": 4,
   "metadata": {},
   "outputs": [],
   "source": [
    "import requests\n",
    "import json\n",
    "\n",
    "topics = json.loads(requests.get(\"https://thigm85.github.io/data/covid19/topics-annotated.json\").text)"
   ]
  },
  {
   "cell_type": "markdown",
   "metadata": {},
   "source": [
    "Generate the submissions by querying the Vespa application,"
   ]
  },
  {
   "cell_type": "markdown",
   "metadata": {},
   "source": [
    "**TODO**: \n",
    "\n",
    "- Include ranking.softtimeout.enable = 'false' on RankProfile?\n",
    "- Do we need all the arguments currently on app.query?\n",
    "- Set hits to 1000\n",
    "- Find why I don't get any cord_uid"
   ]
  },
  {
   "cell_type": "code",
   "execution_count": 10,
   "metadata": {},
   "outputs": [],
   "source": [
    "from pandas import DataFrame\n",
    "\n",
    "submission = []\n",
    "for t in topics:\n",
    "    id = t['id']\n",
    "    question = t['question']\n",
    "    query = t['query']\n",
    "    narrative = t['narrative']\n",
    "\n",
    "    query = question + ' ' + query + ' ' + narrative \n",
    "    result = app.query(\n",
    "          query=query, \n",
    "          query_model=query_model, \n",
    "          hits = 2, \n",
    "          model = {'defaultIndex': 'allt5'}, \n",
    "          summary = 'default',\n",
    "          timeout = '15s',\n",
    "          collapsefield = 'cord_uid',\n",
    "          bolding = 'false'\n",
    "      )\n",
    "\n",
    "    i = 0\n",
    "    for h in result['root']['children']:\n",
    "        i+=1       \n",
    "        submission.append(\n",
    "            {\"topicid\": id,\n",
    "             \"Q0\": \"Q0\",\n",
    "             \"docid\": h.get('cord_uid'),\n",
    "             \"rank\": i,\n",
    "             \"score\": h['relevance'],\n",
    "             \"run-tag\": query_model.rank_profile.name\n",
    "            })\n",
    "\n",
    "submission = DataFrame.from_records(submission)"
   ]
  },
  {
   "cell_type": "code",
   "execution_count": 11,
   "metadata": {},
   "outputs": [
    {
     "data": {
      "text/html": [
       "<div>\n",
       "<style scoped>\n",
       "    .dataframe tbody tr th:only-of-type {\n",
       "        vertical-align: middle;\n",
       "    }\n",
       "\n",
       "    .dataframe tbody tr th {\n",
       "        vertical-align: top;\n",
       "    }\n",
       "\n",
       "    .dataframe thead th {\n",
       "        text-align: right;\n",
       "    }\n",
       "</style>\n",
       "<table border=\"1\" class=\"dataframe\">\n",
       "  <thead>\n",
       "    <tr style=\"text-align: right;\">\n",
       "      <th></th>\n",
       "      <th>topicid</th>\n",
       "      <th>Q0</th>\n",
       "      <th>docid</th>\n",
       "      <th>rank</th>\n",
       "      <th>score</th>\n",
       "      <th>run-tag</th>\n",
       "    </tr>\n",
       "  </thead>\n",
       "  <tbody>\n",
       "    <tr>\n",
       "      <th>0</th>\n",
       "      <td>1</td>\n",
       "      <td>Q0</td>\n",
       "      <td>None</td>\n",
       "      <td>1</td>\n",
       "      <td>69.748002</td>\n",
       "      <td>bm25t5</td>\n",
       "    </tr>\n",
       "    <tr>\n",
       "      <th>1</th>\n",
       "      <td>1</td>\n",
       "      <td>Q0</td>\n",
       "      <td>None</td>\n",
       "      <td>2</td>\n",
       "      <td>65.733267</td>\n",
       "      <td>bm25t5</td>\n",
       "    </tr>\n",
       "    <tr>\n",
       "      <th>2</th>\n",
       "      <td>2</td>\n",
       "      <td>Q0</td>\n",
       "      <td>None</td>\n",
       "      <td>1</td>\n",
       "      <td>90.335492</td>\n",
       "      <td>bm25t5</td>\n",
       "    </tr>\n",
       "    <tr>\n",
       "      <th>3</th>\n",
       "      <td>2</td>\n",
       "      <td>Q0</td>\n",
       "      <td>None</td>\n",
       "      <td>2</td>\n",
       "      <td>85.744186</td>\n",
       "      <td>bm25t5</td>\n",
       "    </tr>\n",
       "    <tr>\n",
       "      <th>4</th>\n",
       "      <td>3</td>\n",
       "      <td>Q0</td>\n",
       "      <td>None</td>\n",
       "      <td>1</td>\n",
       "      <td>80.218932</td>\n",
       "      <td>bm25t5</td>\n",
       "    </tr>\n",
       "    <tr>\n",
       "      <th>...</th>\n",
       "      <td>...</td>\n",
       "      <td>...</td>\n",
       "      <td>...</td>\n",
       "      <td>...</td>\n",
       "      <td>...</td>\n",
       "      <td>...</td>\n",
       "    </tr>\n",
       "    <tr>\n",
       "      <th>65</th>\n",
       "      <td>33</td>\n",
       "      <td>Q0</td>\n",
       "      <td>None</td>\n",
       "      <td>2</td>\n",
       "      <td>93.861975</td>\n",
       "      <td>bm25t5</td>\n",
       "    </tr>\n",
       "    <tr>\n",
       "      <th>66</th>\n",
       "      <td>34</td>\n",
       "      <td>Q0</td>\n",
       "      <td>None</td>\n",
       "      <td>1</td>\n",
       "      <td>80.500815</td>\n",
       "      <td>bm25t5</td>\n",
       "    </tr>\n",
       "    <tr>\n",
       "      <th>67</th>\n",
       "      <td>34</td>\n",
       "      <td>Q0</td>\n",
       "      <td>None</td>\n",
       "      <td>2</td>\n",
       "      <td>77.159716</td>\n",
       "      <td>bm25t5</td>\n",
       "    </tr>\n",
       "    <tr>\n",
       "      <th>68</th>\n",
       "      <td>35</td>\n",
       "      <td>Q0</td>\n",
       "      <td>None</td>\n",
       "      <td>1</td>\n",
       "      <td>108.192795</td>\n",
       "      <td>bm25t5</td>\n",
       "    </tr>\n",
       "    <tr>\n",
       "      <th>69</th>\n",
       "      <td>35</td>\n",
       "      <td>Q0</td>\n",
       "      <td>None</td>\n",
       "      <td>2</td>\n",
       "      <td>107.701644</td>\n",
       "      <td>bm25t5</td>\n",
       "    </tr>\n",
       "  </tbody>\n",
       "</table>\n",
       "<p>70 rows × 6 columns</p>\n",
       "</div>"
      ],
      "text/plain": [
       "   topicid  Q0 docid  rank       score run-tag\n",
       "0        1  Q0  None     1   69.748002  bm25t5\n",
       "1        1  Q0  None     2   65.733267  bm25t5\n",
       "2        2  Q0  None     1   90.335492  bm25t5\n",
       "3        2  Q0  None     2   85.744186  bm25t5\n",
       "4        3  Q0  None     1   80.218932  bm25t5\n",
       "..     ...  ..   ...   ...         ...     ...\n",
       "65      33  Q0  None     2   93.861975  bm25t5\n",
       "66      34  Q0  None     1   80.500815  bm25t5\n",
       "67      34  Q0  None     2   77.159716  bm25t5\n",
       "68      35  Q0  None     1  108.192795  bm25t5\n",
       "69      35  Q0  None     2  107.701644  bm25t5\n",
       "\n",
       "[70 rows x 6 columns]"
      ]
     },
     "execution_count": 11,
     "metadata": {},
     "output_type": "execute_result"
    }
   ],
   "source": [
    "submission"
   ]
  }
 ],
 "metadata": {
  "kernelspec": {
   "display_name": "vespa",
   "language": "python",
   "name": "vespa"
  },
  "language_info": {
   "codemirror_mode": {
    "name": "ipython",
    "version": 3
   },
   "file_extension": ".py",
   "mimetype": "text/x-python",
   "name": "python",
   "nbconvert_exporter": "python",
   "pygments_lexer": "ipython3",
   "version": "3.7.7"
  }
 },
 "nbformat": 4,
 "nbformat_minor": 2
}
