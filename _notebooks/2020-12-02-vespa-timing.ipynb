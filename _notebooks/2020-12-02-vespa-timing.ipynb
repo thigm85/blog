{
 "cells": [
  {
   "cell_type": "markdown",
   "metadata": {},
   "source": [
    "# Timing Vespa queries\n",
    "\n",
    "> Disconsidering network and other non-search related costs\n",
    "\n",
    "- toc: true \n",
    "- badges: false\n",
    "- comments: true\n",
    "- categories: [vespa, pyvespa]"
   ]
  },
  {
   "cell_type": "markdown",
   "metadata": {},
   "source": [
    "When comparing different query models, we might want to compute the time difference between them. Doing that from the outside is tricky because it is hard to separate network and other non-search related costs out of the final numbers."
   ]
  },
  {
   "cell_type": "markdown",
   "metadata": {},
   "source": [
    "Luckily we can accomplish this by setting `presentation.timing` equal to `true` in the request body. Without relying on `pyvespa` API, we can add the keyword parameter `presentation.timing` in the `app.query` call."
   ]
  },
  {
   "cell_type": "code",
   "execution_count": 17,
   "metadata": {},
   "outputs": [
    {
     "data": {
      "text/plain": [
       "{'querytime': 0.01,\n",
       " 'summaryfetchtime': 0.002,\n",
       " 'searchtime': 0.013000000000000001}"
      ]
     },
     "execution_count": 17,
     "metadata": {},
     "output_type": "execute_result"
    }
   ],
   "source": [
    "from vespa.application import Vespa\n",
    "from vespa.query import Query, RankProfile, OR\n",
    "\n",
    "app = Vespa(url = \"https://api.cord19.vespa.ai\")\n",
    "\n",
    "result = app.query(\n",
    "    query=\"what is covid?\",\n",
    "    query_model=Query(\n",
    "        match_phase=OR(),\n",
    "        rank_profile=RankProfile(name=\"bm25\")\n",
    "    ),\n",
    "    **{\"presentation.timing\": \"true\"}\n",
    ")\n",
    "\n",
    "result.json['timing']"
   ]
  },
  {
   "cell_type": "markdown",
   "metadata": {},
   "source": [
    "Such a useful feature could be part of the `pyvespa` API:"
   ]
  },
  {
   "cell_type": "code",
   "execution_count": null,
   "metadata": {},
   "outputs": [],
   "source": [
    "result = app.query(\n",
    "    query=\"what is covid?\",\n",
    "    query_model=Query(\n",
    "        match_phase=OR(),\n",
    "        rank_profile=RankProfile(name=\"bm25\")\n",
    "    ),\n",
    "    timing=True\n",
    ")"
   ]
  }
 ],
 "metadata": {
  "kernelspec": {
   "display_name": "Python 3",
   "language": "python",
   "name": "python3"
  },
  "language_info": {
   "codemirror_mode": {
    "name": "ipython",
    "version": 3
   },
   "file_extension": ".py",
   "mimetype": "text/x-python",
   "name": "python",
   "nbconvert_exporter": "python",
   "pygments_lexer": "ipython3",
   "version": "3.8.5"
  }
 },
 "nbformat": 4,
 "nbformat_minor": 4
}
