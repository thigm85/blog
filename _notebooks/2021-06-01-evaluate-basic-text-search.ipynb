{
 "cells": [
  {
   "cell_type": "markdown",
   "metadata": {},
   "source": [
    "# Evaluate text search experiments from python with Vespa\n",
    "\n",
    "> Define and compare Query Models with pyvespa API.\n",
    "\n",
    "- toc: true \n",
    "- badges: false\n",
    "- comments: true\n",
    "- categories: [vespa, pyvespa, cord19, evaluation]"
   ]
  },
  {
   "cell_type": "code",
   "execution_count": null,
   "metadata": {},
   "outputs": [],
   "source": [
    "from vespa.package import ApplicationPackage, Field, FieldSet, RankProfile\n",
    "\n",
    "app_package = ApplicationPackage(name=\"cord19\")\n",
    "app_package.schema.add_fields(\n",
    "    Field(\n",
    "        name = \"cord_uid\", \n",
    "        type = \"string\", \n",
    "        indexing = [\"attribute\", \"summary\"]\n",
    "    ),\n",
    "    Field(\n",
    "        name = \"title\", \n",
    "        type = \"string\", \n",
    "        indexing = [\"index\", \"summary\"], \n",
    "        index = \"enable-bm25\"\n",
    "    ),\n",
    "    Field(\n",
    "        name = \"abstract\", \n",
    "        type = \"string\", \n",
    "        indexing = [\"index\", \"summary\"], \n",
    "        index = \"enable-bm25\"\n",
    "    )\n",
    ")\n",
    "app_package.schema.add_field_set(\n",
    "    FieldSet(name = \"default\", fields = [\"title\", \"abstract\"])\n",
    ")\n",
    "app_package.schema.add_rank_profile(\n",
    "    RankProfile(\n",
    "        name = \"bm25\", \n",
    "        first_phase = \"bm25(title) + bm25(abstract)\"\n",
    "    )\n",
    ")\n"
   ]
  },
  {
   "cell_type": "code",
   "execution_count": null,
   "metadata": {},
   "outputs": [],
   "source": [
    "from vespa.package import VespaDocker\n",
    "\n",
    "vespa_docker = VespaDocker(port=8080, disk_folder=\"/Users/tmartins/sample_app\")\n",
    "app = vespa_docker.deploy(\n",
    "    application_package = app_package,\n",
    ")"
   ]
  },
  {
   "cell_type": "code",
   "execution_count": null,
   "metadata": {},
   "outputs": [],
   "source": [
    "from pandas import read_csv\n",
    "\n",
    "parsed_feed = read_csv(\n",
    "    \"https://thigm85.github.io/data/cord19/parsed_feed_100.csv\"\n",
    ")"
   ]
  },
  {
   "cell_type": "code",
   "execution_count": null,
   "metadata": {},
   "outputs": [],
   "source": [
    "for idx, row in parsed_feed.iterrows():\n",
    "    fields = {\n",
    "        \"cord_uid\": str(row[\"cord_uid\"]),\n",
    "        \"title\": str(row[\"title\"]),\n",
    "        \"abstract\": str(row[\"abstract\"])\n",
    "    }\n",
    "    response = app.feed_data_point(\n",
    "        schema = \"cord19\",\n",
    "        data_id = str(row[\"cord_uid\"]),\n",
    "        fields = fields,\n",
    "    )"
   ]
  },
  {
   "cell_type": "code",
   "execution_count": null,
   "metadata": {},
   "outputs": [],
   "source": [
    "query = {\n",
    "    'yql': 'select * from sources * where userQuery();',\n",
    "    'query': 'What is the role of endothelin-1',\n",
    "    'ranking': 'bm25',\n",
    "    'type': 'any',\n",
    "    'presentation.timing': True,\n",
    "    'hits': 3\n",
    "}\n",
    "res = app.query(body=query)\n",
    "res.hits[0]"
   ]
  },
  {
   "cell_type": "code",
   "execution_count": null,
   "metadata": {},
   "outputs": [],
   "source": [
    "from vespa.query import QueryModel, RankProfile as Ranking, OR\n",
    "\n",
    "res = app.query(\n",
    "    query=\"What is the role of endothelin-1\", \n",
    "    query_model=QueryModel(\n",
    "        match_phase = OR(),\n",
    "        rank_profile = Ranking(name=\"bm25\")\n",
    "    )\n",
    "    \n",
    ")\n",
    "res.hits[0]"
   ]
  },
  {
   "cell_type": "markdown",
   "metadata": {},
   "source": [
    "------"
   ]
  },
  {
   "cell_type": "markdown",
   "metadata": {},
   "source": [
    "In this post we will show how to use the [pyvespa](https://pyvespa.readthedocs.io/en/latest/index.html) API to define and compare search engine experiments based on the text search app we built in [the first part](https://blog.vespa.ai/build-basic-text-search-app-from-python-with-vespa/) of this tutorial series. We will continue to use the [CORD19 sample data](https://ir.nist.gov/covidSubmit/data.html) that were used to feed the search app in the first tutorial. IT IS ASSUMED THAT ..."
   ]
  },
  {
   "cell_type": "code",
   "execution_count": null,
   "metadata": {},
   "outputs": [],
   "source": []
  },
  {
   "cell_type": "code",
   "execution_count": null,
   "metadata": {},
   "outputs": [],
   "source": []
  },
  {
   "cell_type": "code",
   "execution_count": null,
   "metadata": {},
   "outputs": [],
   "source": []
  },
  {
   "cell_type": "markdown",
   "metadata": {},
   "source": [
    "-----"
   ]
  }
 ],
 "metadata": {
  "kernelspec": {
   "display_name": "Python 3",
   "language": "python",
   "name": "python3"
  },
  "language_info": {
   "codemirror_mode": {
    "name": "ipython",
    "version": 3
   },
   "file_extension": ".py",
   "mimetype": "text/x-python",
   "name": "python",
   "nbconvert_exporter": "python",
   "pygments_lexer": "ipython3",
   "version": "3.9.1"
  }
 },
 "nbformat": 4,
 "nbformat_minor": 4
}
