{
 "cells": [
  {
   "cell_type": "code",
   "execution_count": 3,
   "id": "comic-carrier",
   "metadata": {},
   "outputs": [],
   "source": [
    "%config Completer.use_jedi = False"
   ]
  },
  {
   "cell_type": "markdown",
   "id": "trained-birth",
   "metadata": {},
   "source": [
    "## Build the application"
   ]
  },
  {
   "cell_type": "code",
   "execution_count": null,
   "id": "accessory-consistency",
   "metadata": {},
   "outputs": [],
   "source": [
    "from vespa.package import Document, Field\n",
    "\n",
    "context_document = Document(\n",
    "    fields=[\n",
    "        Field(name=\"questions\", type=\"array<int>\", indexing=[\"summary\", \"attribute\"]),\n",
    "        Field(name=\"dataset\", type=\"string\", indexing=[\"summary\", \"attribute\"]),\n",
    "        Field(name=\"context_id\", type=\"int\", indexing=[\"summary\", \"attribute\"]),        \n",
    "        Field(name=\"text\", type=\"string\", indexing=[\"summary\", \"index\"], index=\"enable-bm25\"),                \n",
    "    ]\n",
    ")"
   ]
  },
  {
   "cell_type": "code",
   "execution_count": null,
   "id": "naughty-better",
   "metadata": {},
   "outputs": [],
   "source": [
    "from vespa.package import Schema, FieldSet, RankProfile\n",
    "\n",
    "context_schema = Schema(\n",
    "    name=\"context\",\n",
    "    document=context_document, \n",
    "    fieldsets=[FieldSet(name=\"default\", fields=[\"text\"])], \n",
    "    rank_profiles=[\n",
    "        RankProfile(name=\"bm25\", inherits=\"default\", first_phase=\"bm25(text)\"), \n",
    "        RankProfile(name=\"nativeRank\", inherits=\"default\", first_phase=\"nativeRank(text)\")]\n",
    ")"
   ]
  },
  {
   "cell_type": "code",
   "execution_count": null,
   "id": "sacred-usage",
   "metadata": {},
   "outputs": [],
   "source": [
    "from vespa.package import HNSW\n",
    "\n",
    "sentence_document = Document(\n",
    "    inherits=\"context\", \n",
    "    fields=[\n",
    "        Field(\n",
    "            name=\"sentence_embedding\", \n",
    "            type=\"tensor<float>(x[512])\", \n",
    "            indexing=[\"attribute\", \"index\"], \n",
    "            ann=HNSW(\n",
    "                distance_metric=\"euclidean\", \n",
    "                max_links_per_node=16, \n",
    "                neighbors_to_explore_at_insert=500\n",
    "            )\n",
    "        )\n",
    "    ]\n",
    ")"
   ]
  },
  {
   "cell_type": "code",
   "execution_count": null,
   "id": "painted-banner",
   "metadata": {},
   "outputs": [],
   "source": [
    "sentence_schema = Schema(\n",
    "    name=\"sentence\", \n",
    "    document=sentence_document, \n",
    "    fieldsets=[FieldSet(name=\"default\", fields=[\"text\"])], \n",
    "    rank_profiles=[\n",
    "        RankProfile(\n",
    "            name=\"semantic-similarity\", \n",
    "            inherits=\"default\", \n",
    "            first_phase=\"closeness(sentence_embedding)\"\n",
    "        ),\n",
    "        RankProfile(\n",
    "            name=\"bm25\", \n",
    "            inherits=\"default\", \n",
    "            first_phase=\"bm25(text)\"\n",
    "        ),\n",
    "        RankProfile(\n",
    "            name=\"bm25-semantic-similarity\", \n",
    "            inherits=\"default\", \n",
    "            first_phase=\"bm25(text) + closeness(sentence_embedding)\"\n",
    "        )\n",
    "    ]\n",
    ")"
   ]
  },
  {
   "cell_type": "code",
   "execution_count": null,
   "id": "involved-specific",
   "metadata": {},
   "outputs": [],
   "source": [
    "from vespa.package import ApplicationPackage, QueryProfile, QueryProfileType, QueryTypeField\n",
    "\n",
    "app_package = ApplicationPackage(\n",
    "    name=\"qa\", \n",
    "    schema=[context_schema, sentence_schema], \n",
    "    query_profile=QueryProfile(),\n",
    "    query_profile_type=QueryProfileType(\n",
    "        fields=[\n",
    "            QueryTypeField(\n",
    "                name=\"ranking.features.query(query_embedding)\", \n",
    "                type=\"tensor<float>(x[512])\"\n",
    "            )\n",
    "        ]\n",
    "    )\n",
    ")"
   ]
  },
  {
   "cell_type": "code",
   "execution_count": null,
   "id": "handy-choir",
   "metadata": {},
   "outputs": [],
   "source": [
    "from vespa.package import VespaDocker\n",
    "\n",
    "vespa_docker = VespaDocker(\n",
    "    port=8081, \n",
    "    container_memory=\"8G\", \n",
    "    disk_folder=\"/Users/tmartins/qa_app\" # requires absolute path\n",
    ")\n",
    "app = vespa_docker.deploy(application_package=app_package)"
   ]
  },
  {
   "cell_type": "markdown",
   "id": "bored-grill",
   "metadata": {},
   "source": [
    "## Feed sentence data"
   ]
  },
  {
   "cell_type": "code",
   "execution_count": 1,
   "id": "convertible-stress",
   "metadata": {},
   "outputs": [],
   "source": [
    "from vespa.application import Vespa\n",
    "\n",
    "app = Vespa(url = \"http://localhost\", port = 8081)"
   ]
  },
  {
   "cell_type": "code",
   "execution_count": 2,
   "id": "running-burst",
   "metadata": {},
   "outputs": [],
   "source": [
    "import requests, json\n",
    "\n",
    "context_data = json.loads(\n",
    "    requests.get(\"https://data.vespa.oath.cloud/blog/qa/qa_squad_context_data.json\").text\n",
    ")"
   ]
  },
  {
   "cell_type": "code",
   "execution_count": null,
   "id": "collected-guarantee",
   "metadata": {},
   "outputs": [],
   "source": [
    "import time\n",
    "start_time = time.time()\n",
    "for context in context_data:\n",
    "    app.feed_data_point(schema=\"context\", data_id=context[\"context_id\"], fields=context)\n",
    "print(\"--- %s seconds ---\" % (time.time() - start_time))"
   ]
  },
  {
   "cell_type": "code",
   "execution_count": null,
   "id": "patient-berlin",
   "metadata": {},
   "outputs": [],
   "source": [
    "batch = [{\"id\": x[\"context_id\"], \"fields\": x} for x in context_data]"
   ]
  },
  {
   "cell_type": "code",
   "execution_count": null,
   "id": "antique-rider",
   "metadata": {},
   "outputs": [],
   "source": [
    "import time\n",
    "start_time = time.time()\n",
    "res = app.feed_batch(schema = \"context\", batch=batch)\n",
    "print(\"--- %s seconds ---\" % (time.time() - start_time))"
   ]
  },
  {
   "cell_type": "code",
   "execution_count": null,
   "id": "classical-still",
   "metadata": {},
   "outputs": [],
   "source": [
    "res"
   ]
  },
  {
   "cell_type": "code",
   "execution_count": null,
   "id": "recent-fence",
   "metadata": {},
   "outputs": [],
   "source": [
    "from vespa.application import VespaAsync\n",
    "import time\n",
    "\n",
    "start_time = time.time()\n",
    "async with VespaAsync(app) as async_app:\n",
    "    await async_app.feed_batch(schema= \"context\", batch=batch)\n",
    "print(\"--- %s seconds ---\" % (time.time() - start_time))"
   ]
  },
  {
   "cell_type": "code",
   "execution_count": null,
   "id": "funny-lightweight",
   "metadata": {},
   "outputs": [],
   "source": [
    "import time\n",
    "start_time = time.time()\n",
    "res = app.feed_batch(schema = \"context\", batch=batch, asynchronous=True)\n",
    "print(\"--- %s seconds ---\" % (time.time() - start_time))\n",
    "res"
   ]
  },
  {
   "cell_type": "code",
   "execution_count": null,
   "id": "passing-marker",
   "metadata": {},
   "outputs": [],
   "source": [
    "import time\n",
    "start_time = time.time()\n",
    "res = await app.feed_batch(schema = \"context\", batch=batch, asynchronous=True)\n",
    "print(\"--- %s seconds ---\" % (time.time() - start_time))"
   ]
  },
  {
   "cell_type": "markdown",
   "id": "bearing-mustang",
   "metadata": {},
   "source": [
    "## Output equivalence "
   ]
  },
  {
   "cell_type": "markdown",
   "id": "conceptual-authority",
   "metadata": {},
   "source": [
    "Suggestion creating a unified object called VespaResponse containing json, status_code, url and operation_type (feed, get, update, delete)"
   ]
  },
  {
   "cell_type": "markdown",
   "id": "casual-stroke",
   "metadata": {},
   "source": [
    "### Feed"
   ]
  },
  {
   "cell_type": "code",
   "execution_count": 12,
   "id": "extreme-cathedral",
   "metadata": {},
   "outputs": [],
   "source": [
    "from vespa.application import VespaAsync\n",
    "\n",
    "async with VespaAsync(app) as async_app:\n",
    "    res_feed_async = await async_app.feed_data_point(schema=\"context\", data_id=context_data[0][\"context_id\"], fields=context_data[0])"
   ]
  },
  {
   "cell_type": "code",
   "execution_count": 19,
   "id": "buried-tongue",
   "metadata": {},
   "outputs": [
    {
     "data": {
      "text/plain": [
       "{'pathId': '/document/v1/context/context/docid/0',\n",
       " 'id': 'id:context:context::0'}"
      ]
     },
     "execution_count": 19,
     "metadata": {},
     "output_type": "execute_result"
    }
   ],
   "source": [
    "await res_feed_async.json()"
   ]
  },
  {
   "cell_type": "code",
   "execution_count": 18,
   "id": "disturbed-sixth",
   "metadata": {},
   "outputs": [
    {
     "data": {
      "text/plain": [
       "200"
      ]
     },
     "execution_count": 18,
     "metadata": {},
     "output_type": "execute_result"
    }
   ],
   "source": [
    "res_feed_async.status"
   ]
  },
  {
   "cell_type": "code",
   "execution_count": 22,
   "id": "hourly-multiple",
   "metadata": {},
   "outputs": [
    {
     "data": {
      "text/plain": [
       "'http://localhost:8081/document/v1/context/context/docid/0'"
      ]
     },
     "execution_count": 22,
     "metadata": {},
     "output_type": "execute_result"
    }
   ],
   "source": [
    "str(res_feed_async.url)"
   ]
  },
  {
   "cell_type": "code",
   "execution_count": 46,
   "id": "secondary-empty",
   "metadata": {},
   "outputs": [
    {
     "data": {
      "text/plain": [
       "RequestInfo(url=URL('http://localhost:8081/document/v1/context/context/docid/0'), method='POST', headers=<CIMultiDictProxy('Host': 'localhost:8081', 'Accept': '*/*', 'Accept-Encoding': 'gzip, deflate', 'User-Agent': 'Python/3.9 aiohttp/3.7.4.post0', 'Content-Length': '788', 'Content-Type': 'application/json')>, real_url=URL('http://localhost:8081/document/v1/context/context/docid/0'))"
      ]
     },
     "execution_count": 46,
     "metadata": {},
     "output_type": "execute_result"
    }
   ],
   "source": [
    "res_feed_async.request_info"
   ]
  },
  {
   "cell_type": "code",
   "execution_count": 14,
   "id": "strange-india",
   "metadata": {},
   "outputs": [],
   "source": [
    "res_feed_sync = app.feed_data_point(schema=\"context\", data_id=context_data[0][\"context_id\"], fields=context_data[0])"
   ]
  },
  {
   "cell_type": "code",
   "execution_count": 16,
   "id": "miniature-dylan",
   "metadata": {},
   "outputs": [
    {
     "data": {
      "text/plain": [
       "{'pathId': '/document/v1/context/context/docid/0',\n",
       " 'id': 'id:context:context::0'}"
      ]
     },
     "execution_count": 16,
     "metadata": {},
     "output_type": "execute_result"
    }
   ],
   "source": [
    "res_feed_sync.json()"
   ]
  },
  {
   "cell_type": "code",
   "execution_count": 17,
   "id": "bacterial-exhibit",
   "metadata": {},
   "outputs": [
    {
     "data": {
      "text/plain": [
       "200"
      ]
     },
     "execution_count": 17,
     "metadata": {},
     "output_type": "execute_result"
    }
   ],
   "source": [
    "res_feed_sync.status_code"
   ]
  },
  {
   "cell_type": "code",
   "execution_count": 20,
   "id": "terminal-northern",
   "metadata": {},
   "outputs": [
    {
     "data": {
      "text/plain": [
       "'http://localhost:8081/document/v1/context/context/docid/0'"
      ]
     },
     "execution_count": 20,
     "metadata": {},
     "output_type": "execute_result"
    }
   ],
   "source": [
    "res_feed_sync.url"
   ]
  },
  {
   "cell_type": "markdown",
   "id": "floppy-disability",
   "metadata": {},
   "source": [
    "### Get"
   ]
  },
  {
   "cell_type": "code",
   "execution_count": 26,
   "id": "contrary-there",
   "metadata": {},
   "outputs": [],
   "source": [
    "res_get_sync = app.get_data(schema=\"context\", data_id=\"0\")"
   ]
  },
  {
   "cell_type": "code",
   "execution_count": 28,
   "id": "eastern-release",
   "metadata": {},
   "outputs": [
    {
     "data": {
      "text/plain": [
       "{'pathId': '/document/v1/context/context/docid/0',\n",
       " 'id': 'id:context:context::0',\n",
       " 'fields': {'text': 'Architecturally, the school has a Catholic character. Atop the Main Building\\'s gold dome is a golden statue of the Virgin Mary. Immediately in front of the Main Building and facing it, is a copper statue of Christ with arms upraised with the legend \"Venite Ad Me Omnes\". Next to the Main Building is the Basilica of the Sacred Heart. Immediately behind the basilica is the Grotto, a Marian place of prayer and reflection. It is a replica of the grotto at Lourdes, France where the Virgin Mary reputedly appeared to Saint Bernadette Soubirous in 1858. At the end of the main drive (and in a direct line that connects through 3 statues and the Gold Dome), is a simple, modern stone statue of Mary.',\n",
       "  'dataset': 'squad',\n",
       "  'context_id': 0,\n",
       "  'questions': [0, 1, 2, 3, 4]}}"
      ]
     },
     "execution_count": 28,
     "metadata": {},
     "output_type": "execute_result"
    }
   ],
   "source": [
    "res_get_sync.json()"
   ]
  },
  {
   "cell_type": "code",
   "execution_count": 29,
   "id": "welcome-stroke",
   "metadata": {},
   "outputs": [
    {
     "data": {
      "text/plain": [
       "200"
      ]
     },
     "execution_count": 29,
     "metadata": {},
     "output_type": "execute_result"
    }
   ],
   "source": [
    "res_get_sync.status_code"
   ]
  },
  {
   "cell_type": "code",
   "execution_count": 30,
   "id": "ranging-impact",
   "metadata": {},
   "outputs": [
    {
     "data": {
      "text/plain": [
       "'http://localhost:8081/document/v1/context/context/docid/0'"
      ]
     },
     "execution_count": 30,
     "metadata": {},
     "output_type": "execute_result"
    }
   ],
   "source": [
    "res_get_sync.url"
   ]
  },
  {
   "cell_type": "code",
   "execution_count": 35,
   "id": "forward-figure",
   "metadata": {},
   "outputs": [],
   "source": [
    "async with app.asyncio() as async_app:\n",
    "    res_get_async = await async_app.get_data(schema=\"context\", data_id=\"0\")"
   ]
  },
  {
   "cell_type": "code",
   "execution_count": 36,
   "id": "associate-drive",
   "metadata": {},
   "outputs": [
    {
     "data": {
      "text/plain": [
       "200"
      ]
     },
     "execution_count": 36,
     "metadata": {},
     "output_type": "execute_result"
    }
   ],
   "source": [
    "res_get_async.status"
   ]
  },
  {
   "cell_type": "code",
   "execution_count": 38,
   "id": "voluntary-statistics",
   "metadata": {},
   "outputs": [
    {
     "data": {
      "text/plain": [
       "'http://localhost:8081/document/v1/context/context/docid/0'"
      ]
     },
     "execution_count": 38,
     "metadata": {},
     "output_type": "execute_result"
    }
   ],
   "source": [
    "str(res_get_async.url)"
   ]
  },
  {
   "cell_type": "code",
   "execution_count": 40,
   "id": "caring-planning",
   "metadata": {},
   "outputs": [
    {
     "data": {
      "text/plain": [
       "{'pathId': '/document/v1/context/context/docid/0',\n",
       " 'id': 'id:context:context::0',\n",
       " 'fields': {'text': 'Architecturally, the school has a Catholic character. Atop the Main Building\\'s gold dome is a golden statue of the Virgin Mary. Immediately in front of the Main Building and facing it, is a copper statue of Christ with arms upraised with the legend \"Venite Ad Me Omnes\". Next to the Main Building is the Basilica of the Sacred Heart. Immediately behind the basilica is the Grotto, a Marian place of prayer and reflection. It is a replica of the grotto at Lourdes, France where the Virgin Mary reputedly appeared to Saint Bernadette Soubirous in 1858. At the end of the main drive (and in a direct line that connects through 3 statues and the Gold Dome), is a simple, modern stone statue of Mary.',\n",
       "  'dataset': 'squad',\n",
       "  'context_id': 0,\n",
       "  'questions': [0, 1, 2, 3, 4]}}"
      ]
     },
     "execution_count": 40,
     "metadata": {},
     "output_type": "execute_result"
    }
   ],
   "source": [
    "await res_get_async.json()"
   ]
  },
  {
   "cell_type": "markdown",
   "id": "atomic-liberal",
   "metadata": {},
   "source": [
    "### Update"
   ]
  },
  {
   "cell_type": "code",
   "execution_count": 41,
   "id": "voluntary-bracket",
   "metadata": {},
   "outputs": [],
   "source": [
    "res_update_sync = app.update_data(schema=\"context\", data_id=\"0\", fields=context_data[0])"
   ]
  },
  {
   "cell_type": "code",
   "execution_count": 42,
   "id": "second-norfolk",
   "metadata": {},
   "outputs": [
    {
     "data": {
      "text/plain": [
       "200"
      ]
     },
     "execution_count": 42,
     "metadata": {},
     "output_type": "execute_result"
    }
   ],
   "source": [
    "res_update_sync.status_code"
   ]
  },
  {
   "cell_type": "code",
   "execution_count": 43,
   "id": "manufactured-special",
   "metadata": {},
   "outputs": [
    {
     "data": {
      "text/plain": [
       "'http://localhost:8081/document/v1/context/context/docid/0?create=false'"
      ]
     },
     "execution_count": 43,
     "metadata": {},
     "output_type": "execute_result"
    }
   ],
   "source": [
    "res_update_sync.url"
   ]
  },
  {
   "cell_type": "code",
   "execution_count": 44,
   "id": "caroline-dominant",
   "metadata": {},
   "outputs": [
    {
     "data": {
      "text/plain": [
       "{'pathId': '/document/v1/context/context/docid/0',\n",
       " 'id': 'id:context:context::0'}"
      ]
     },
     "execution_count": 44,
     "metadata": {},
     "output_type": "execute_result"
    }
   ],
   "source": [
    "res_update_sync.json()"
   ]
  },
  {
   "cell_type": "code",
   "execution_count": 48,
   "id": "activated-grounds",
   "metadata": {},
   "outputs": [
    {
     "name": "stderr",
     "output_type": "stream",
     "text": [
      "<ipython-input-48-7008b94ffb5e>:2: RuntimeWarning: coroutine 'VespaAsync.update_data' was never awaited\n",
      "  res_update_async = await async_app.update_data(schema=\"context\", data_id=\"0\", fields=context_data[0])\n",
      "RuntimeWarning: Enable tracemalloc to get the object allocation traceback\n"
     ]
    }
   ],
   "source": [
    "async with app.asyncio() as async_app:\n",
    "    res_update_async = await async_app.update_data(schema=\"context\", data_id=\"0\", fields=context_data[0])"
   ]
  },
  {
   "cell_type": "code",
   "execution_count": 49,
   "id": "vietnamese-bracelet",
   "metadata": {},
   "outputs": [
    {
     "data": {
      "text/plain": [
       "200"
      ]
     },
     "execution_count": 49,
     "metadata": {},
     "output_type": "execute_result"
    }
   ],
   "source": [
    "res_update_async.status"
   ]
  },
  {
   "cell_type": "code",
   "execution_count": 51,
   "id": "departmental-aurora",
   "metadata": {},
   "outputs": [
    {
     "data": {
      "text/plain": [
       "'http://localhost:8081/document/v1/context/context/docid/0?create=false'"
      ]
     },
     "execution_count": 51,
     "metadata": {},
     "output_type": "execute_result"
    }
   ],
   "source": [
    "str(res_update_async.url)"
   ]
  },
  {
   "cell_type": "code",
   "execution_count": 53,
   "id": "rational-corner",
   "metadata": {},
   "outputs": [
    {
     "data": {
      "text/plain": [
       "{'pathId': '/document/v1/context/context/docid/0',\n",
       " 'id': 'id:context:context::0'}"
      ]
     },
     "execution_count": 53,
     "metadata": {},
     "output_type": "execute_result"
    }
   ],
   "source": [
    "await res_update_async.json()"
   ]
  },
  {
   "cell_type": "markdown",
   "id": "hindu-infection",
   "metadata": {},
   "source": [
    "### Delete"
   ]
  },
  {
   "cell_type": "code",
   "execution_count": 54,
   "id": "phantom-barcelona",
   "metadata": {},
   "outputs": [],
   "source": [
    "res_delete_sync = app.delete_data(schema=\"context\", data_id=\"0\")"
   ]
  },
  {
   "cell_type": "code",
   "execution_count": 55,
   "id": "romance-actor",
   "metadata": {},
   "outputs": [
    {
     "data": {
      "text/plain": [
       "200"
      ]
     },
     "execution_count": 55,
     "metadata": {},
     "output_type": "execute_result"
    }
   ],
   "source": [
    "res_delete_sync.status_code"
   ]
  },
  {
   "cell_type": "code",
   "execution_count": 56,
   "id": "educational-vegetarian",
   "metadata": {},
   "outputs": [
    {
     "data": {
      "text/plain": [
       "'http://localhost:8081/document/v1/context/context/docid/0'"
      ]
     },
     "execution_count": 56,
     "metadata": {},
     "output_type": "execute_result"
    }
   ],
   "source": [
    "res_delete_sync.url"
   ]
  },
  {
   "cell_type": "code",
   "execution_count": 57,
   "id": "introductory-practice",
   "metadata": {},
   "outputs": [
    {
     "data": {
      "text/plain": [
       "{'pathId': '/document/v1/context/context/docid/0',\n",
       " 'id': 'id:context:context::0'}"
      ]
     },
     "execution_count": 57,
     "metadata": {},
     "output_type": "execute_result"
    }
   ],
   "source": [
    "res_delete_sync.json()"
   ]
  },
  {
   "cell_type": "code",
   "execution_count": 58,
   "id": "promotional-thread",
   "metadata": {},
   "outputs": [],
   "source": [
    "async with app.asyncio() as async_app:\n",
    "    res_delete_async = await async_app.delete_data(schema=\"context\", data_id=\"0\")"
   ]
  },
  {
   "cell_type": "code",
   "execution_count": 59,
   "id": "dedicated-parent",
   "metadata": {},
   "outputs": [
    {
     "data": {
      "text/plain": [
       "200"
      ]
     },
     "execution_count": 59,
     "metadata": {},
     "output_type": "execute_result"
    }
   ],
   "source": [
    "res_delete_async.status"
   ]
  },
  {
   "cell_type": "code",
   "execution_count": 61,
   "id": "invalid-motion",
   "metadata": {},
   "outputs": [
    {
     "data": {
      "text/plain": [
       "'http://localhost:8081/document/v1/context/context/docid/0'"
      ]
     },
     "execution_count": 61,
     "metadata": {},
     "output_type": "execute_result"
    }
   ],
   "source": [
    "str(res_delete_async.url)"
   ]
  },
  {
   "cell_type": "code",
   "execution_count": 64,
   "id": "inclusive-difficulty",
   "metadata": {},
   "outputs": [
    {
     "data": {
      "text/plain": [
       "{'pathId': '/document/v1/context/context/docid/0',\n",
       " 'id': 'id:context:context::0'}"
      ]
     },
     "execution_count": 64,
     "metadata": {},
     "output_type": "execute_result"
    }
   ],
   "source": [
    "await res_delete_async.json()"
   ]
  },
  {
   "cell_type": "markdown",
   "id": "interested-prisoner",
   "metadata": {},
   "source": [
    "### Query"
   ]
  },
  {
   "cell_type": "code",
   "execution_count": 74,
   "id": "hollywood-lighter",
   "metadata": {},
   "outputs": [],
   "source": [
    "from vespa.query import QueryModel\n",
    "\n",
    "res_query_sync = app.query(query=\"this is a test\", query_model=QueryModel())"
   ]
  },
  {
   "cell_type": "code",
   "execution_count": 76,
   "id": "worthy-argentina",
   "metadata": {},
   "outputs": [
    {
     "data": {
      "text/plain": [
       "{'root': {'id': 'toplevel',\n",
       "  'relevance': 1.0,\n",
       "  'fields': {'totalCount': 62},\n",
       "  'coverage': {'coverage': 100,\n",
       "   'documents': 18895,\n",
       "   'full': True,\n",
       "   'nodes': 2,\n",
       "   'results': 2,\n",
       "   'resultsFull': 2},\n",
       "  'children': [{'id': 'id:context:context::14450',\n",
       "    'relevance': 0.2856235721334474,\n",
       "    'source': 'qa_content',\n",
       "    'fields': {'sddocname': 'context',\n",
       "     'documentid': 'id:context:context::14450',\n",
       "     'questions': [66541, 66542, 66543, 66544, 66545],\n",
       "     'dataset': 'squad',\n",
       "     'context_id': 14450,\n",
       "     'text': 'Load testing is primarily concerned with testing that the system can continue to operate under a specific load, whether that be large quantities of data or a large number of users. This is generally referred to as software scalability. The related load testing activity of when performed as a non-functional activity is often referred to as endurance testing. Volume testing is a way to test software functions even when certain components (for example a file or database) increase radically in size. Stress testing is a way to test reliability under unexpected or rare workloads. Stability testing (often referred to as load or endurance testing) checks to see if the software can continuously function well in or above an acceptable period.'}},\n",
       "   {'id': 'id:context:context::14443',\n",
       "    'relevance': 0.28039265119219015,\n",
       "    'source': 'qa_content',\n",
       "    'fields': {'sddocname': 'context',\n",
       "     'documentid': 'id:context:context::14443',\n",
       "     'questions': [66514, 66515, 66516, 66517],\n",
       "     'dataset': 'squad',\n",
       "     'context_id': 14443,\n",
       "     'text': 'Unit testing is a software development process that involves synchronized application of a broad spectrum of defect prevention and detection strategies in order to reduce software development risks, time, and costs. It is performed by the software developer or engineer during the construction phase of the software development lifecycle. Rather than replace traditional QA focuses, it augments it. Unit testing aims to eliminate construction errors before code is promoted to QA; this strategy is intended to increase the quality of the resulting software as well as the efficiency of the overall development and QA process.'}},\n",
       "   {'id': 'id:context:context::14451',\n",
       "    'relevance': 0.28039265119219015,\n",
       "    'source': 'qa_content',\n",
       "    'fields': {'sddocname': 'context',\n",
       "     'documentid': 'id:context:context::14451',\n",
       "     'questions': [66546, 66547, 66548],\n",
       "     'dataset': 'squad',\n",
       "     'context_id': 14451,\n",
       "     'text': 'Development Testing is a software development process that involves synchronized application of a broad spectrum of defect prevention and detection strategies in order to reduce software development risks, time, and costs. It is performed by the software developer or engineer during the construction phase of the software development lifecycle. Rather than replace traditional QA focuses, it augments it. Development Testing aims to eliminate construction errors before code is promoted to QA; this strategy is intended to increase the quality of the resulting software as well as the efficiency of the overall development and QA process.'}},\n",
       "   {'id': 'id:context:context::18782',\n",
       "    'relevance': 0.24109360556955636,\n",
       "    'source': 'qa_content',\n",
       "    'fields': {'sddocname': 'context',\n",
       "     'documentid': 'id:context:context::18782',\n",
       "     'questions': [86871, 86872, 86873, 86874, 86875],\n",
       "     'dataset': 'squad',\n",
       "     'context_id': 18782,\n",
       "     'text': 'Microbiological culture is a principal tool used to diagnose infectious disease. In a microbial culture, a growth medium is provided for a specific agent. A sample taken from potentially diseased tissue or fluid is then tested for the presence of an infectious agent able to grow within that medium. Most pathogenic bacteria are easily grown on nutrient agar, a form of solid medium that supplies carbohydrates and proteins necessary for growth of a bacterium, along with copious amounts of water. A single bacterium will grow into a visible mound on the surface of the plate called a colony, which may be separated from other colonies or melded together into a \"lawn\". The size, color, shape and form of a colony is characteristic of the bacterial species, its specific genetic makeup (its strain), and the environment that supports its growth. Other ingredients are often added to the plate to aid in identification. Plates may contain substances that permit the growth of some bacteria and not others, or that change color in response to certain bacteria and not others. Bacteriological plates such as these are commonly used in the clinical identification of infectious bacterium. Microbial culture may also be used in the identification of viruses: the medium in this case being cells grown in culture that the virus can infect, and then alter or kill. In the case of viral identification, a region of dead cells results from viral growth, and is called a \"plaque\". Eukaryotic parasites may also be grown in culture as a means of identifying a particular agent.'}},\n",
       "   {'id': 'id:context:context::14432',\n",
       "    'relevance': 0.23491917863190326,\n",
       "    'source': 'qa_content',\n",
       "    'fields': {'sddocname': 'context',\n",
       "     'documentid': 'id:context:context::14432',\n",
       "     'questions': [66479, 66480, 66481],\n",
       "     'dataset': 'squad',\n",
       "     'context_id': 14432,\n",
       "     'text': 'A fundamental problem with software testing is that testing under all combinations of inputs and preconditions (initial state) is not feasible, even with a simple product.:17-18 This means that the number of defects in a software product can be very large and defects that occur infrequently are difficult to find in testing. More significantly, non-functional dimensions of quality (how it is supposed to be versus what it is supposed to do)—usability, scalability, performance, compatibility, reliability—can be highly subjective; something that constitutes sufficient value to one person may be intolerable to another.'}},\n",
       "   {'id': 'id:context:context::14453',\n",
       "    'relevance': 0.2285331793479952,\n",
       "    'source': 'qa_content',\n",
       "    'fields': {'sddocname': 'context',\n",
       "     'documentid': 'id:context:context::14453',\n",
       "     'questions': [66552, 66553, 66554],\n",
       "     'dataset': 'squad',\n",
       "     'context_id': 14453,\n",
       "     'text': 'Bottom Up Testing is an approach to integrated testing where the lowest level components (modules, procedures, and functions) are tested first, then integrated and used to facilitate the testing of higher level components. After the integration testing of lower level integrated modules, the next level of modules will be formed and can be used for integration testing. The process is repeated until the components at the top of the hierarchy are tested. This approach is helpful only when all or most of the modules of the same development level are ready.[citation needed] This method also helps to determine the levels of software developed and makes it easier to report testing progress in the form of a percentage.[citation needed]'}},\n",
       "   {'id': 'id:context:context::12405',\n",
       "    'relevance': 0.2270088447356198,\n",
       "    'source': 'qa_content',\n",
       "    'fields': {'sddocname': 'context',\n",
       "     'documentid': 'id:context:context::12405',\n",
       "     'questions': [57586, 57587, 57588, 57589, 57590],\n",
       "     'dataset': 'squad',\n",
       "     'context_id': 12405,\n",
       "     'text': 'Original master discs are created by lathe-cutting: a lathe is used to cut a modulated groove into a blank record. The blank records for cutting used to be cooked up, as needed, by the cutting engineer, using what Robert K. Morrison describes as a \"metallic soap,\" containing lead litharge, ozokerite, barium sulfate, montan wax, stearin and paraffin, among other ingredients. Cut \"wax\" sound discs would be placed in a vacuum chamber and gold-sputtered to make them electrically conductive for use as mandrels in an electroforming bath, where pressing stamper parts were made. Later, the French company Pyral invented a ready-made blank disc having a thin nitro-cellulose lacquer coating (approximately 7 mils thickness on both sides) that was applied to an aluminum substrate. Lacquer cuts result in an immediately playable, or processable, master record. If vinyl pressings are wanted, the still-unplayed sound disc is used as a mandrel for electroforming nickel records that are used for manufacturing pressing stampers. The electroformed nickel records are mechanically separated from their respective mandrels. This is done with relative ease because no actual \"plating\" of the mandrel occurs in the type of electrodeposition known as electroforming, unlike with electroplating, in which the adhesion of the new phase of metal is chemical and relatively permanent. The one-molecule-thick coating of silver (that was sprayed onto the processed lacquer sound disc in order to make its surface electrically conductive) reverse-plates onto the nickel record\\'s face. This negative impression disc (having ridges in place of grooves) is known as a nickel master, \"matrix\" or \"father.\" The \"father\" is then used as a mandrel to electroform a positive disc known as a \"mother\". Many mothers can be grown on a single \"father\" before ridges deteriorate beyond effective use. The \"mothers\" are then used as mandrels for electroforming more negative discs known as \"sons\". Each \"mother\" can be used to make many \"sons\" before deteriorating. The \"sons\" are then converted into \"stampers\" by center-punching a spindle hole (which was lost from the lacquer sound disc during initial electroforming of the \"father\"), and by custom-forming the target pressing profile. This allows them to be placed in the dies of the target (make and model) record press and, by center-roughing, to facilitate the adhesion of the label, which gets stuck onto the vinyl pressing without any glue. In this way, several million vinyl discs can be produced from a single lacquer sound disc. When only a few hundred discs are required, instead of electroforming a \"son\" (for each side), the \"father\" is removed of its silver and converted into a stamper. Production by this latter method, known as the \"two-step-process\" (as it does not entail creation of \"sons\" but does involve creation of \"mothers,\" which are used for test playing and kept as \"safeties\" for electroforming future \"sons\") is limited to a few hundred vinyl pressings. The pressing count can increase if the stamper holds out and the quality of the vinyl is high. The \"sons\" made during a \"three-step\" electroforming make better stampers since they don\\'t require silver removal (which reduces some high fidelity because of etching erasing part of the smallest groove modulations) and also because they have a stronger metal structure than \"fathers\".'}},\n",
       "   {'id': 'id:context:context::13622',\n",
       "    'relevance': 0.22031489231834037,\n",
       "    'source': 'qa_content',\n",
       "    'fields': {'sddocname': 'context',\n",
       "     'documentid': 'id:context:context::13622',\n",
       "     'questions': [62861, 62862, 62863, 62864, 62865],\n",
       "     'dataset': 'squad',\n",
       "     'context_id': 13622,\n",
       "     'text': \"Spirometry is recommended to aid in diagnosis and management. It is the single best test for asthma. If the FEV1 measured by this technique improves more than 12% following administration of a bronchodilator such as salbutamol, this is supportive of the diagnosis. It however may be normal in those with a history of mild asthma, not currently acting up. As caffeine is a bronchodilator in people with asthma, the use of caffeine before a lung function test may interfere with the results. Single-breath diffusing capacity can help differentiate asthma from COPD. It is reasonable to perform spirometry every one or two years to follow how well a person's asthma is controlled.\"}},\n",
       "   {'id': 'id:context:context::9538',\n",
       "    'relevance': 0.21875417922126777,\n",
       "    'source': 'qa_content',\n",
       "    'fields': {'sddocname': 'context',\n",
       "     'documentid': 'id:context:context::9538',\n",
       "     'questions': [44426, 44427, 44428, 44429, 44430, 44431, 44432],\n",
       "     'dataset': 'squad',\n",
       "     'context_id': 9538,\n",
       "     'text': 'A second biotechnology district is being planned for the median strip on Frontage Road, on land cleared for the never-built Route 34 extension. As of late 2009, a Pfizer drug-testing clinic, a medical laboratory building serving Yale – New Haven Hospital, and a mixed-use structure containing parking, housing and office space, have been constructed on this corridor. A former SNET telephone building at 300 George Street is being converted into lab space, and has been so far quite successful in attracting biotechnology and medical firms.'}},\n",
       "   {'id': 'id:context:context::14445',\n",
       "    'relevance': 0.211877198029359,\n",
       "    'source': 'qa_content',\n",
       "    'fields': {'sddocname': 'context',\n",
       "     'documentid': 'id:context:context::14445',\n",
       "     'questions': [66522, 66523, 66524],\n",
       "     'dataset': 'squad',\n",
       "     'context_id': 14445,\n",
       "     'text': 'Operational Acceptance is used to conduct operational readiness (pre-release) of a product, service or system as part of a quality management system. OAT is a common type of non-functional software testing, used mainly in software development and software maintenance projects. This type of testing focuses on the operational readiness of the system to be supported, and/or to become part of the production environment. Hence, it is also known as operational readiness testing (ORT) or Operations readiness and assurance (OR&A) testing. Functional testing within OAT is limited to those tests which are required to verify the non-functional aspects of the system.'}}]}}"
      ]
     },
     "execution_count": 76,
     "metadata": {},
     "output_type": "execute_result"
    }
   ],
   "source": [
    "res_query_sync.json"
   ]
  },
  {
   "cell_type": "code",
   "execution_count": 77,
   "id": "nervous-language",
   "metadata": {},
   "outputs": [],
   "source": [
    "async with app.asyncio() as async_app:\n",
    "    res_query_async = await async_app.query(query=\"this is a test\", query_model=QueryModel())"
   ]
  },
  {
   "cell_type": "code",
   "execution_count": 78,
   "id": "behavioral-target",
   "metadata": {},
   "outputs": [
    {
     "data": {
      "text/plain": [
       "{'root': {'id': 'toplevel',\n",
       "  'relevance': 1.0,\n",
       "  'fields': {'totalCount': 62},\n",
       "  'coverage': {'coverage': 100,\n",
       "   'documents': 18895,\n",
       "   'full': True,\n",
       "   'nodes': 2,\n",
       "   'results': 2,\n",
       "   'resultsFull': 2},\n",
       "  'children': [{'id': 'id:context:context::14450',\n",
       "    'relevance': 0.2856235721334474,\n",
       "    'source': 'qa_content',\n",
       "    'fields': {'sddocname': 'context',\n",
       "     'documentid': 'id:context:context::14450',\n",
       "     'questions': [66541, 66542, 66543, 66544, 66545],\n",
       "     'dataset': 'squad',\n",
       "     'context_id': 14450,\n",
       "     'text': 'Load testing is primarily concerned with testing that the system can continue to operate under a specific load, whether that be large quantities of data or a large number of users. This is generally referred to as software scalability. The related load testing activity of when performed as a non-functional activity is often referred to as endurance testing. Volume testing is a way to test software functions even when certain components (for example a file or database) increase radically in size. Stress testing is a way to test reliability under unexpected or rare workloads. Stability testing (often referred to as load or endurance testing) checks to see if the software can continuously function well in or above an acceptable period.'}},\n",
       "   {'id': 'id:context:context::14443',\n",
       "    'relevance': 0.28039265119219015,\n",
       "    'source': 'qa_content',\n",
       "    'fields': {'sddocname': 'context',\n",
       "     'documentid': 'id:context:context::14443',\n",
       "     'questions': [66514, 66515, 66516, 66517],\n",
       "     'dataset': 'squad',\n",
       "     'context_id': 14443,\n",
       "     'text': 'Unit testing is a software development process that involves synchronized application of a broad spectrum of defect prevention and detection strategies in order to reduce software development risks, time, and costs. It is performed by the software developer or engineer during the construction phase of the software development lifecycle. Rather than replace traditional QA focuses, it augments it. Unit testing aims to eliminate construction errors before code is promoted to QA; this strategy is intended to increase the quality of the resulting software as well as the efficiency of the overall development and QA process.'}},\n",
       "   {'id': 'id:context:context::14451',\n",
       "    'relevance': 0.28039265119219015,\n",
       "    'source': 'qa_content',\n",
       "    'fields': {'sddocname': 'context',\n",
       "     'documentid': 'id:context:context::14451',\n",
       "     'questions': [66546, 66547, 66548],\n",
       "     'dataset': 'squad',\n",
       "     'context_id': 14451,\n",
       "     'text': 'Development Testing is a software development process that involves synchronized application of a broad spectrum of defect prevention and detection strategies in order to reduce software development risks, time, and costs. It is performed by the software developer or engineer during the construction phase of the software development lifecycle. Rather than replace traditional QA focuses, it augments it. Development Testing aims to eliminate construction errors before code is promoted to QA; this strategy is intended to increase the quality of the resulting software as well as the efficiency of the overall development and QA process.'}},\n",
       "   {'id': 'id:context:context::18782',\n",
       "    'relevance': 0.24109360556955636,\n",
       "    'source': 'qa_content',\n",
       "    'fields': {'sddocname': 'context',\n",
       "     'documentid': 'id:context:context::18782',\n",
       "     'questions': [86871, 86872, 86873, 86874, 86875],\n",
       "     'dataset': 'squad',\n",
       "     'context_id': 18782,\n",
       "     'text': 'Microbiological culture is a principal tool used to diagnose infectious disease. In a microbial culture, a growth medium is provided for a specific agent. A sample taken from potentially diseased tissue or fluid is then tested for the presence of an infectious agent able to grow within that medium. Most pathogenic bacteria are easily grown on nutrient agar, a form of solid medium that supplies carbohydrates and proteins necessary for growth of a bacterium, along with copious amounts of water. A single bacterium will grow into a visible mound on the surface of the plate called a colony, which may be separated from other colonies or melded together into a \"lawn\". The size, color, shape and form of a colony is characteristic of the bacterial species, its specific genetic makeup (its strain), and the environment that supports its growth. Other ingredients are often added to the plate to aid in identification. Plates may contain substances that permit the growth of some bacteria and not others, or that change color in response to certain bacteria and not others. Bacteriological plates such as these are commonly used in the clinical identification of infectious bacterium. Microbial culture may also be used in the identification of viruses: the medium in this case being cells grown in culture that the virus can infect, and then alter or kill. In the case of viral identification, a region of dead cells results from viral growth, and is called a \"plaque\". Eukaryotic parasites may also be grown in culture as a means of identifying a particular agent.'}},\n",
       "   {'id': 'id:context:context::14432',\n",
       "    'relevance': 0.23491917863190326,\n",
       "    'source': 'qa_content',\n",
       "    'fields': {'sddocname': 'context',\n",
       "     'documentid': 'id:context:context::14432',\n",
       "     'questions': [66479, 66480, 66481],\n",
       "     'dataset': 'squad',\n",
       "     'context_id': 14432,\n",
       "     'text': 'A fundamental problem with software testing is that testing under all combinations of inputs and preconditions (initial state) is not feasible, even with a simple product.:17-18 This means that the number of defects in a software product can be very large and defects that occur infrequently are difficult to find in testing. More significantly, non-functional dimensions of quality (how it is supposed to be versus what it is supposed to do)—usability, scalability, performance, compatibility, reliability—can be highly subjective; something that constitutes sufficient value to one person may be intolerable to another.'}},\n",
       "   {'id': 'id:context:context::14453',\n",
       "    'relevance': 0.2285331793479952,\n",
       "    'source': 'qa_content',\n",
       "    'fields': {'sddocname': 'context',\n",
       "     'documentid': 'id:context:context::14453',\n",
       "     'questions': [66552, 66553, 66554],\n",
       "     'dataset': 'squad',\n",
       "     'context_id': 14453,\n",
       "     'text': 'Bottom Up Testing is an approach to integrated testing where the lowest level components (modules, procedures, and functions) are tested first, then integrated and used to facilitate the testing of higher level components. After the integration testing of lower level integrated modules, the next level of modules will be formed and can be used for integration testing. The process is repeated until the components at the top of the hierarchy are tested. This approach is helpful only when all or most of the modules of the same development level are ready.[citation needed] This method also helps to determine the levels of software developed and makes it easier to report testing progress in the form of a percentage.[citation needed]'}},\n",
       "   {'id': 'id:context:context::12405',\n",
       "    'relevance': 0.2270088447356198,\n",
       "    'source': 'qa_content',\n",
       "    'fields': {'sddocname': 'context',\n",
       "     'documentid': 'id:context:context::12405',\n",
       "     'questions': [57586, 57587, 57588, 57589, 57590],\n",
       "     'dataset': 'squad',\n",
       "     'context_id': 12405,\n",
       "     'text': 'Original master discs are created by lathe-cutting: a lathe is used to cut a modulated groove into a blank record. The blank records for cutting used to be cooked up, as needed, by the cutting engineer, using what Robert K. Morrison describes as a \"metallic soap,\" containing lead litharge, ozokerite, barium sulfate, montan wax, stearin and paraffin, among other ingredients. Cut \"wax\" sound discs would be placed in a vacuum chamber and gold-sputtered to make them electrically conductive for use as mandrels in an electroforming bath, where pressing stamper parts were made. Later, the French company Pyral invented a ready-made blank disc having a thin nitro-cellulose lacquer coating (approximately 7 mils thickness on both sides) that was applied to an aluminum substrate. Lacquer cuts result in an immediately playable, or processable, master record. If vinyl pressings are wanted, the still-unplayed sound disc is used as a mandrel for electroforming nickel records that are used for manufacturing pressing stampers. The electroformed nickel records are mechanically separated from their respective mandrels. This is done with relative ease because no actual \"plating\" of the mandrel occurs in the type of electrodeposition known as electroforming, unlike with electroplating, in which the adhesion of the new phase of metal is chemical and relatively permanent. The one-molecule-thick coating of silver (that was sprayed onto the processed lacquer sound disc in order to make its surface electrically conductive) reverse-plates onto the nickel record\\'s face. This negative impression disc (having ridges in place of grooves) is known as a nickel master, \"matrix\" or \"father.\" The \"father\" is then used as a mandrel to electroform a positive disc known as a \"mother\". Many mothers can be grown on a single \"father\" before ridges deteriorate beyond effective use. The \"mothers\" are then used as mandrels for electroforming more negative discs known as \"sons\". Each \"mother\" can be used to make many \"sons\" before deteriorating. The \"sons\" are then converted into \"stampers\" by center-punching a spindle hole (which was lost from the lacquer sound disc during initial electroforming of the \"father\"), and by custom-forming the target pressing profile. This allows them to be placed in the dies of the target (make and model) record press and, by center-roughing, to facilitate the adhesion of the label, which gets stuck onto the vinyl pressing without any glue. In this way, several million vinyl discs can be produced from a single lacquer sound disc. When only a few hundred discs are required, instead of electroforming a \"son\" (for each side), the \"father\" is removed of its silver and converted into a stamper. Production by this latter method, known as the \"two-step-process\" (as it does not entail creation of \"sons\" but does involve creation of \"mothers,\" which are used for test playing and kept as \"safeties\" for electroforming future \"sons\") is limited to a few hundred vinyl pressings. The pressing count can increase if the stamper holds out and the quality of the vinyl is high. The \"sons\" made during a \"three-step\" electroforming make better stampers since they don\\'t require silver removal (which reduces some high fidelity because of etching erasing part of the smallest groove modulations) and also because they have a stronger metal structure than \"fathers\".'}},\n",
       "   {'id': 'id:context:context::13622',\n",
       "    'relevance': 0.22031489231834037,\n",
       "    'source': 'qa_content',\n",
       "    'fields': {'sddocname': 'context',\n",
       "     'documentid': 'id:context:context::13622',\n",
       "     'questions': [62861, 62862, 62863, 62864, 62865],\n",
       "     'dataset': 'squad',\n",
       "     'context_id': 13622,\n",
       "     'text': \"Spirometry is recommended to aid in diagnosis and management. It is the single best test for asthma. If the FEV1 measured by this technique improves more than 12% following administration of a bronchodilator such as salbutamol, this is supportive of the diagnosis. It however may be normal in those with a history of mild asthma, not currently acting up. As caffeine is a bronchodilator in people with asthma, the use of caffeine before a lung function test may interfere with the results. Single-breath diffusing capacity can help differentiate asthma from COPD. It is reasonable to perform spirometry every one or two years to follow how well a person's asthma is controlled.\"}},\n",
       "   {'id': 'id:context:context::9538',\n",
       "    'relevance': 0.21875417922126777,\n",
       "    'source': 'qa_content',\n",
       "    'fields': {'sddocname': 'context',\n",
       "     'documentid': 'id:context:context::9538',\n",
       "     'questions': [44426, 44427, 44428, 44429, 44430, 44431, 44432],\n",
       "     'dataset': 'squad',\n",
       "     'context_id': 9538,\n",
       "     'text': 'A second biotechnology district is being planned for the median strip on Frontage Road, on land cleared for the never-built Route 34 extension. As of late 2009, a Pfizer drug-testing clinic, a medical laboratory building serving Yale – New Haven Hospital, and a mixed-use structure containing parking, housing and office space, have been constructed on this corridor. A former SNET telephone building at 300 George Street is being converted into lab space, and has been so far quite successful in attracting biotechnology and medical firms.'}},\n",
       "   {'id': 'id:context:context::14445',\n",
       "    'relevance': 0.211877198029359,\n",
       "    'source': 'qa_content',\n",
       "    'fields': {'sddocname': 'context',\n",
       "     'documentid': 'id:context:context::14445',\n",
       "     'questions': [66522, 66523, 66524],\n",
       "     'dataset': 'squad',\n",
       "     'context_id': 14445,\n",
       "     'text': 'Operational Acceptance is used to conduct operational readiness (pre-release) of a product, service or system as part of a quality management system. OAT is a common type of non-functional software testing, used mainly in software development and software maintenance projects. This type of testing focuses on the operational readiness of the system to be supported, and/or to become part of the production environment. Hence, it is also known as operational readiness testing (ORT) or Operations readiness and assurance (OR&A) testing. Functional testing within OAT is limited to those tests which are required to verify the non-functional aspects of the system.'}}]}}"
      ]
     },
     "execution_count": 78,
     "metadata": {},
     "output_type": "execute_result"
    }
   ],
   "source": [
    "res_query_async.json"
   ]
  }
 ],
 "metadata": {
  "kernelspec": {
   "display_name": "Python 3",
   "language": "python",
   "name": "python3"
  },
  "language_info": {
   "codemirror_mode": {
    "name": "ipython",
    "version": 3
   },
   "file_extension": ".py",
   "mimetype": "text/x-python",
   "name": "python",
   "nbconvert_exporter": "python",
   "pygments_lexer": "ipython3",
   "version": "3.9.1"
  }
 },
 "nbformat": 4,
 "nbformat_minor": 5
}
