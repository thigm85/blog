{
 "cells": [
  {
   "cell_type": "code",
   "execution_count": null,
   "id": "comic-carrier",
   "metadata": {},
   "outputs": [],
   "source": [
    "%config Completer.use_jedi = False"
   ]
  },
  {
   "cell_type": "markdown",
   "id": "trained-birth",
   "metadata": {},
   "source": [
    "## Build the application"
   ]
  },
  {
   "cell_type": "code",
   "execution_count": null,
   "id": "accessory-consistency",
   "metadata": {},
   "outputs": [],
   "source": [
    "from vespa.package import Document, Field\n",
    "\n",
    "context_document = Document(\n",
    "    fields=[\n",
    "        Field(name=\"questions\", type=\"array<int>\", indexing=[\"summary\", \"attribute\"]),\n",
    "        Field(name=\"dataset\", type=\"string\", indexing=[\"summary\", \"attribute\"]),\n",
    "        Field(name=\"context_id\", type=\"int\", indexing=[\"summary\", \"attribute\"]),        \n",
    "        Field(name=\"text\", type=\"string\", indexing=[\"summary\", \"index\"], index=\"enable-bm25\"),                \n",
    "    ]\n",
    ")"
   ]
  },
  {
   "cell_type": "code",
   "execution_count": null,
   "id": "naughty-better",
   "metadata": {},
   "outputs": [],
   "source": [
    "from vespa.package import Schema, FieldSet, RankProfile\n",
    "\n",
    "context_schema = Schema(\n",
    "    name=\"context\",\n",
    "    document=context_document, \n",
    "    fieldsets=[FieldSet(name=\"default\", fields=[\"text\"])], \n",
    "    rank_profiles=[\n",
    "        RankProfile(name=\"bm25\", inherits=\"default\", first_phase=\"bm25(text)\"), \n",
    "        RankProfile(name=\"nativeRank\", inherits=\"default\", first_phase=\"nativeRank(text)\")]\n",
    ")"
   ]
  },
  {
   "cell_type": "code",
   "execution_count": null,
   "id": "sacred-usage",
   "metadata": {},
   "outputs": [],
   "source": [
    "from vespa.package import HNSW\n",
    "\n",
    "sentence_document = Document(\n",
    "    inherits=\"context\", \n",
    "    fields=[\n",
    "        Field(\n",
    "            name=\"sentence_embedding\", \n",
    "            type=\"tensor<float>(x[512])\", \n",
    "            indexing=[\"attribute\", \"index\"], \n",
    "            ann=HNSW(\n",
    "                distance_metric=\"euclidean\", \n",
    "                max_links_per_node=16, \n",
    "                neighbors_to_explore_at_insert=500\n",
    "            )\n",
    "        )\n",
    "    ]\n",
    ")"
   ]
  },
  {
   "cell_type": "code",
   "execution_count": null,
   "id": "painted-banner",
   "metadata": {},
   "outputs": [],
   "source": [
    "sentence_schema = Schema(\n",
    "    name=\"sentence\", \n",
    "    document=sentence_document, \n",
    "    fieldsets=[FieldSet(name=\"default\", fields=[\"text\"])], \n",
    "    rank_profiles=[\n",
    "        RankProfile(\n",
    "            name=\"semantic-similarity\", \n",
    "            inherits=\"default\", \n",
    "            first_phase=\"closeness(sentence_embedding)\"\n",
    "        ),\n",
    "        RankProfile(\n",
    "            name=\"bm25\", \n",
    "            inherits=\"default\", \n",
    "            first_phase=\"bm25(text)\"\n",
    "        ),\n",
    "        RankProfile(\n",
    "            name=\"bm25-semantic-similarity\", \n",
    "            inherits=\"default\", \n",
    "            first_phase=\"bm25(text) + closeness(sentence_embedding)\"\n",
    "        )\n",
    "    ]\n",
    ")"
   ]
  },
  {
   "cell_type": "code",
   "execution_count": null,
   "id": "involved-specific",
   "metadata": {},
   "outputs": [],
   "source": [
    "from vespa.package import ApplicationPackage, QueryProfile, QueryProfileType, QueryTypeField\n",
    "\n",
    "app_package = ApplicationPackage(\n",
    "    name=\"qa\", \n",
    "    schema=[context_schema, sentence_schema], \n",
    "    query_profile=QueryProfile(),\n",
    "    query_profile_type=QueryProfileType(\n",
    "        fields=[\n",
    "            QueryTypeField(\n",
    "                name=\"ranking.features.query(query_embedding)\", \n",
    "                type=\"tensor<float>(x[512])\"\n",
    "            )\n",
    "        ]\n",
    "    )\n",
    ")"
   ]
  },
  {
   "cell_type": "code",
   "execution_count": null,
   "id": "handy-choir",
   "metadata": {},
   "outputs": [],
   "source": [
    "from vespa.package import VespaDocker\n",
    "\n",
    "vespa_docker = VespaDocker(\n",
    "    port=8081, \n",
    "    container_memory=\"8G\", \n",
    "    disk_folder=\"/Users/tmartins/qa_app\" # requires absolute path\n",
    ")\n",
    "app = vespa_docker.deploy(application_package=app_package)"
   ]
  },
  {
   "cell_type": "markdown",
   "id": "bored-grill",
   "metadata": {},
   "source": [
    "## Feed sentence data"
   ]
  },
  {
   "cell_type": "code",
   "execution_count": null,
   "id": "convertible-stress",
   "metadata": {},
   "outputs": [],
   "source": [
    "from vespa.application import Vespa\n",
    "\n",
    "app = Vespa(url = \"http://localhost\", port = 8081)"
   ]
  },
  {
   "cell_type": "code",
   "execution_count": null,
   "id": "running-burst",
   "metadata": {},
   "outputs": [],
   "source": [
    "import requests, json\n",
    "\n",
    "context_data = json.loads(\n",
    "    requests.get(\"https://data.vespa.oath.cloud/blog/qa/qa_squad_context_data.json\").text\n",
    ")"
   ]
  },
  {
   "cell_type": "code",
   "execution_count": null,
   "id": "collected-guarantee",
   "metadata": {},
   "outputs": [],
   "source": [
    "import time\n",
    "start_time = time.time()\n",
    "for context in context_data:\n",
    "    app.feed_data_point(schema=\"context\", data_id=context[\"context_id\"], fields=context)\n",
    "print(\"--- %s seconds ---\" % (time.time() - start_time))"
   ]
  },
  {
   "cell_type": "code",
   "execution_count": null,
   "id": "patient-berlin",
   "metadata": {},
   "outputs": [],
   "source": [
    "batch = [{\"id\": x[\"context_id\"], \"fields\": x} for x in context_data]"
   ]
  },
  {
   "cell_type": "code",
   "execution_count": null,
   "id": "antique-rider",
   "metadata": {},
   "outputs": [],
   "source": [
    "import time\n",
    "start_time = time.time()\n",
    "res = app.feed_batch(schema = \"context\", batch=batch)\n",
    "print(\"--- %s seconds ---\" % (time.time() - start_time))"
   ]
  },
  {
   "cell_type": "code",
   "execution_count": null,
   "id": "classical-still",
   "metadata": {},
   "outputs": [],
   "source": [
    "res"
   ]
  },
  {
   "cell_type": "code",
   "execution_count": null,
   "id": "recent-fence",
   "metadata": {},
   "outputs": [],
   "source": [
    "from vespa.application import VespaAsync\n",
    "import time\n",
    "\n",
    "start_time = time.time()\n",
    "async with VespaAsync(app) as async_app:\n",
    "    await async_app.feed_batch(schema= \"context\", batch=batch)\n",
    "print(\"--- %s seconds ---\" % (time.time() - start_time))"
   ]
  },
  {
   "cell_type": "code",
   "execution_count": null,
   "id": "funny-lightweight",
   "metadata": {},
   "outputs": [],
   "source": [
    "import time\n",
    "start_time = time.time()\n",
    "res = app.feed_batch(schema = \"context\", batch=batch, asynchronous=True)\n",
    "print(\"--- %s seconds ---\" % (time.time() - start_time))\n",
    "res"
   ]
  },
  {
   "cell_type": "code",
   "execution_count": null,
   "id": "passing-marker",
   "metadata": {},
   "outputs": [],
   "source": [
    "import time\n",
    "start_time = time.time()\n",
    "res = await app.feed_batch(schema = \"context\", batch=batch, asynchronous=True)\n",
    "print(\"--- %s seconds ---\" % (time.time() - start_time))"
   ]
  },
  {
   "cell_type": "code",
   "execution_count": null,
   "id": "textile-parliament",
   "metadata": {},
   "outputs": [],
   "source": []
  }
 ],
 "metadata": {
  "kernelspec": {
   "display_name": "Python 3",
   "language": "python",
   "name": "python3"
  },
  "language_info": {
   "codemirror_mode": {
    "name": "ipython",
    "version": 3
   },
   "file_extension": ".py",
   "mimetype": "text/x-python",
   "name": "python",
   "nbconvert_exporter": "python",
   "pygments_lexer": "ipython3",
   "version": "3.9.1"
  }
 },
 "nbformat": 4,
 "nbformat_minor": 5
}
