{
 "cells": [
  {
   "cell_type": "code",
   "execution_count": 1,
   "id": "comic-carrier",
   "metadata": {},
   "outputs": [],
   "source": [
    "%config Completer.use_jedi = False"
   ]
  },
  {
   "cell_type": "markdown",
   "id": "trained-birth",
   "metadata": {},
   "source": [
    "## Build the application"
   ]
  },
  {
   "cell_type": "code",
   "execution_count": null,
   "id": "accessory-consistency",
   "metadata": {},
   "outputs": [],
   "source": [
    "from vespa.package import Document, Field\n",
    "\n",
    "context_document = Document(\n",
    "    fields=[\n",
    "        Field(name=\"questions\", type=\"array<int>\", indexing=[\"summary\", \"attribute\"]),\n",
    "        Field(name=\"dataset\", type=\"string\", indexing=[\"summary\", \"attribute\"]),\n",
    "        Field(name=\"context_id\", type=\"int\", indexing=[\"summary\", \"attribute\"]),        \n",
    "        Field(name=\"text\", type=\"string\", indexing=[\"summary\", \"index\"], index=\"enable-bm25\"),                \n",
    "    ]\n",
    ")"
   ]
  },
  {
   "cell_type": "code",
   "execution_count": null,
   "id": "naughty-better",
   "metadata": {},
   "outputs": [],
   "source": [
    "from vespa.package import Schema, FieldSet, RankProfile\n",
    "\n",
    "context_schema = Schema(\n",
    "    name=\"context\",\n",
    "    document=context_document, \n",
    "    fieldsets=[FieldSet(name=\"default\", fields=[\"text\"])], \n",
    "    rank_profiles=[\n",
    "        RankProfile(name=\"bm25\", inherits=\"default\", first_phase=\"bm25(text)\"), \n",
    "        RankProfile(name=\"nativeRank\", inherits=\"default\", first_phase=\"nativeRank(text)\")]\n",
    ")"
   ]
  },
  {
   "cell_type": "code",
   "execution_count": null,
   "id": "sacred-usage",
   "metadata": {},
   "outputs": [],
   "source": [
    "from vespa.package import HNSW\n",
    "\n",
    "sentence_document = Document(\n",
    "    inherits=\"context\", \n",
    "    fields=[\n",
    "        Field(\n",
    "            name=\"sentence_embedding\", \n",
    "            type=\"tensor<float>(x[512])\", \n",
    "            indexing=[\"attribute\", \"index\"], \n",
    "            ann=HNSW(\n",
    "                distance_metric=\"euclidean\", \n",
    "                max_links_per_node=16, \n",
    "                neighbors_to_explore_at_insert=500\n",
    "            )\n",
    "        )\n",
    "    ]\n",
    ")"
   ]
  },
  {
   "cell_type": "code",
   "execution_count": null,
   "id": "painted-banner",
   "metadata": {},
   "outputs": [],
   "source": [
    "sentence_schema = Schema(\n",
    "    name=\"sentence\", \n",
    "    document=sentence_document, \n",
    "    fieldsets=[FieldSet(name=\"default\", fields=[\"text\"])], \n",
    "    rank_profiles=[\n",
    "        RankProfile(\n",
    "            name=\"semantic-similarity\", \n",
    "            inherits=\"default\", \n",
    "            first_phase=\"closeness(sentence_embedding)\"\n",
    "        ),\n",
    "        RankProfile(\n",
    "            name=\"bm25\", \n",
    "            inherits=\"default\", \n",
    "            first_phase=\"bm25(text)\"\n",
    "        ),\n",
    "        RankProfile(\n",
    "            name=\"bm25-semantic-similarity\", \n",
    "            inherits=\"default\", \n",
    "            first_phase=\"bm25(text) + closeness(sentence_embedding)\"\n",
    "        )\n",
    "    ]\n",
    ")"
   ]
  },
  {
   "cell_type": "code",
   "execution_count": null,
   "id": "involved-specific",
   "metadata": {},
   "outputs": [],
   "source": [
    "from vespa.package import ApplicationPackage, QueryProfile, QueryProfileType, QueryTypeField\n",
    "\n",
    "app_package = ApplicationPackage(\n",
    "    name=\"qa\", \n",
    "    schema=[context_schema, sentence_schema], \n",
    "    query_profile=QueryProfile(),\n",
    "    query_profile_type=QueryProfileType(\n",
    "        fields=[\n",
    "            QueryTypeField(\n",
    "                name=\"ranking.features.query(query_embedding)\", \n",
    "                type=\"tensor<float>(x[512])\"\n",
    "            )\n",
    "        ]\n",
    "    )\n",
    ")"
   ]
  },
  {
   "cell_type": "code",
   "execution_count": null,
   "id": "handy-choir",
   "metadata": {},
   "outputs": [],
   "source": [
    "from vespa.package import VespaDocker\n",
    "\n",
    "vespa_docker = VespaDocker(\n",
    "    port=8081, \n",
    "    container_memory=\"8G\", \n",
    "    disk_folder=\"/Users/tmartins/qa_app\" # requires absolute path\n",
    ")\n",
    "app = vespa_docker.deploy(application_package=app_package)"
   ]
  },
  {
   "cell_type": "markdown",
   "id": "bored-grill",
   "metadata": {},
   "source": [
    "## Feed sentence data"
   ]
  },
  {
   "cell_type": "code",
   "execution_count": 2,
   "id": "convertible-stress",
   "metadata": {},
   "outputs": [],
   "source": [
    "from vespa.application import Vespa\n",
    "\n",
    "app = Vespa(url = \"http://localhost\", port = 8081)"
   ]
  },
  {
   "cell_type": "code",
   "execution_count": 3,
   "id": "running-burst",
   "metadata": {},
   "outputs": [],
   "source": [
    "import requests, json\n",
    "\n",
    "context_data = json.loads(\n",
    "    requests.get(\"https://data.vespa.oath.cloud/blog/qa/qa_squad_context_data.json\").text\n",
    ")"
   ]
  },
  {
   "cell_type": "code",
   "execution_count": null,
   "id": "collected-guarantee",
   "metadata": {},
   "outputs": [],
   "source": [
    "import time\n",
    "start_time = time.time()\n",
    "for context in context_data:\n",
    "    app.feed_data_point(schema=\"context\", data_id=context[\"context_id\"], fields=context)\n",
    "print(\"--- %s seconds ---\" % (time.time() - start_time))"
   ]
  },
  {
   "cell_type": "code",
   "execution_count": 4,
   "id": "patient-berlin",
   "metadata": {},
   "outputs": [],
   "source": [
    "batch = [{\"id\": x[\"context_id\"], \"fields\": x} for x in context_data]"
   ]
  },
  {
   "cell_type": "code",
   "execution_count": null,
   "id": "antique-rider",
   "metadata": {},
   "outputs": [],
   "source": [
    "import time\n",
    "start_time = time.time()\n",
    "res = app.feed_batch(schema = \"context\", batch=batch)\n",
    "print(\"--- %s seconds ---\" % (time.time() - start_time))"
   ]
  },
  {
   "cell_type": "code",
   "execution_count": null,
   "id": "classical-still",
   "metadata": {},
   "outputs": [],
   "source": [
    "res"
   ]
  },
  {
   "cell_type": "code",
   "execution_count": null,
   "id": "recent-fence",
   "metadata": {},
   "outputs": [],
   "source": [
    "from vespa.application import VespaAsync\n",
    "import time\n",
    "\n",
    "start_time = time.time()\n",
    "async with VespaAsync(app) as async_app:\n",
    "    await async_app.feed_batch(schema= \"context\", batch=batch)\n",
    "print(\"--- %s seconds ---\" % (time.time() - start_time))"
   ]
  },
  {
   "cell_type": "code",
   "execution_count": 5,
   "id": "funny-lightweight",
   "metadata": {},
   "outputs": [
    {
     "name": "stdout",
     "output_type": "stream",
     "text": [
      "--- 8.797645568847656e-05 seconds ---\n"
     ]
    },
    {
     "data": {
      "text/plain": [
       "<coroutine object Vespa._feed_batch_async at 0x149a9a440>"
      ]
     },
     "execution_count": 5,
     "metadata": {},
     "output_type": "execute_result"
    }
   ],
   "source": [
    "import time\n",
    "start_time = time.time()\n",
    "res = app.feed_batch(schema = \"context\", batch=batch, asynchronous=True)\n",
    "print(\"--- %s seconds ---\" % (time.time() - start_time))\n",
    "res"
   ]
  },
  {
   "cell_type": "code",
   "execution_count": 7,
   "id": "funky-tuition",
   "metadata": {},
   "outputs": [],
   "source": [
    "import asyncio\n",
    "\n",
    "loop = asyncio.get_running_loop()"
   ]
  },
  {
   "cell_type": "code",
   "execution_count": 18,
   "id": "historic-yeast",
   "metadata": {},
   "outputs": [],
   "source": [
    "task = loop.create_task(res)"
   ]
  },
  {
   "cell_type": "code",
   "execution_count": 26,
   "id": "minute-national",
   "metadata": {},
   "outputs": [
    {
     "ename": "RuntimeError",
     "evalue": "cannot reuse already awaited coroutine",
     "output_type": "error",
     "traceback": [
      "\u001b[0;31m---------------------------------------------------------------------------\u001b[0m",
      "\u001b[0;31mRuntimeError\u001b[0m                              Traceback (most recent call last)",
      "\u001b[0;32m<ipython-input-26-753967b63670>\u001b[0m in \u001b[0;36m<module>\u001b[0;34m\u001b[0m\n\u001b[0;32m----> 1\u001b[0;31m \u001b[0mtask\u001b[0m\u001b[0;34m.\u001b[0m\u001b[0mresult\u001b[0m\u001b[0;34m(\u001b[0m\u001b[0;34m)\u001b[0m\u001b[0;34m\u001b[0m\u001b[0;34m\u001b[0m\u001b[0m\n\u001b[0m",
      "\u001b[0;31mRuntimeError\u001b[0m: cannot reuse already awaited coroutine"
     ]
    }
   ],
   "source": [
    "task.result()"
   ]
  },
  {
   "cell_type": "code",
   "execution_count": null,
   "id": "passing-marker",
   "metadata": {},
   "outputs": [],
   "source": [
    "import time\n",
    "start_time = time.time()\n",
    "res = await app.feed_batch(schema = \"context\", batch=batch, asynchronous=True)\n",
    "print(\"--- %s seconds ---\" % (time.time() - start_time))"
   ]
  },
  {
   "cell_type": "markdown",
   "id": "bearing-mustang",
   "metadata": {},
   "source": [
    "## Output equivalence "
   ]
  },
  {
   "cell_type": "markdown",
   "id": "conceptual-authority",
   "metadata": {},
   "source": [
    "Suggestion creating a unified object called VespaResponse containing json, status_code, url and operation_type (feed, get, update, delete)"
   ]
  },
  {
   "cell_type": "markdown",
   "id": "casual-stroke",
   "metadata": {},
   "source": [
    "### Feed"
   ]
  },
  {
   "cell_type": "code",
   "execution_count": null,
   "id": "extreme-cathedral",
   "metadata": {},
   "outputs": [],
   "source": [
    "from vespa.application import VespaAsync\n",
    "\n",
    "async with VespaAsync(app) as async_app:\n",
    "    res_feed_async = await async_app.feed_data_point(schema=\"context\", data_id=context_data[0][\"context_id\"], fields=context_data[0])"
   ]
  },
  {
   "cell_type": "code",
   "execution_count": null,
   "id": "buried-tongue",
   "metadata": {},
   "outputs": [],
   "source": [
    "await res_feed_async.json()"
   ]
  },
  {
   "cell_type": "code",
   "execution_count": null,
   "id": "disturbed-sixth",
   "metadata": {},
   "outputs": [],
   "source": [
    "res_feed_async.status"
   ]
  },
  {
   "cell_type": "code",
   "execution_count": null,
   "id": "hourly-multiple",
   "metadata": {},
   "outputs": [],
   "source": [
    "str(res_feed_async.url)"
   ]
  },
  {
   "cell_type": "code",
   "execution_count": null,
   "id": "secondary-empty",
   "metadata": {},
   "outputs": [],
   "source": [
    "res_feed_async.request_info"
   ]
  },
  {
   "cell_type": "code",
   "execution_count": null,
   "id": "strange-india",
   "metadata": {},
   "outputs": [],
   "source": [
    "res_feed_sync = app.feed_data_point(schema=\"context\", data_id=context_data[0][\"context_id\"], fields=context_data[0])"
   ]
  },
  {
   "cell_type": "code",
   "execution_count": null,
   "id": "miniature-dylan",
   "metadata": {},
   "outputs": [],
   "source": [
    "res_feed_sync.json()"
   ]
  },
  {
   "cell_type": "code",
   "execution_count": null,
   "id": "bacterial-exhibit",
   "metadata": {},
   "outputs": [],
   "source": [
    "res_feed_sync.status_code"
   ]
  },
  {
   "cell_type": "code",
   "execution_count": null,
   "id": "terminal-northern",
   "metadata": {},
   "outputs": [],
   "source": [
    "res_feed_sync.url"
   ]
  },
  {
   "cell_type": "markdown",
   "id": "floppy-disability",
   "metadata": {},
   "source": [
    "### Get"
   ]
  },
  {
   "cell_type": "code",
   "execution_count": null,
   "id": "contrary-there",
   "metadata": {},
   "outputs": [],
   "source": [
    "res_get_sync = app.get_data(schema=\"context\", data_id=\"0\")"
   ]
  },
  {
   "cell_type": "code",
   "execution_count": null,
   "id": "eastern-release",
   "metadata": {},
   "outputs": [],
   "source": [
    "res_get_sync.json()"
   ]
  },
  {
   "cell_type": "code",
   "execution_count": null,
   "id": "welcome-stroke",
   "metadata": {},
   "outputs": [],
   "source": [
    "res_get_sync.status_code"
   ]
  },
  {
   "cell_type": "code",
   "execution_count": null,
   "id": "ranging-impact",
   "metadata": {},
   "outputs": [],
   "source": [
    "res_get_sync.url"
   ]
  },
  {
   "cell_type": "code",
   "execution_count": null,
   "id": "forward-figure",
   "metadata": {},
   "outputs": [],
   "source": [
    "async with app.asyncio() as async_app:\n",
    "    res_get_async = await async_app.get_data(schema=\"context\", data_id=\"0\")"
   ]
  },
  {
   "cell_type": "code",
   "execution_count": null,
   "id": "associate-drive",
   "metadata": {},
   "outputs": [],
   "source": [
    "res_get_async.status"
   ]
  },
  {
   "cell_type": "code",
   "execution_count": null,
   "id": "voluntary-statistics",
   "metadata": {},
   "outputs": [],
   "source": [
    "str(res_get_async.url)"
   ]
  },
  {
   "cell_type": "code",
   "execution_count": null,
   "id": "caring-planning",
   "metadata": {},
   "outputs": [],
   "source": [
    "await res_get_async.json()"
   ]
  },
  {
   "cell_type": "markdown",
   "id": "atomic-liberal",
   "metadata": {},
   "source": [
    "### Update"
   ]
  },
  {
   "cell_type": "code",
   "execution_count": null,
   "id": "voluntary-bracket",
   "metadata": {},
   "outputs": [],
   "source": [
    "res_update_sync = app.update_data(schema=\"context\", data_id=\"0\", fields=context_data[0])"
   ]
  },
  {
   "cell_type": "code",
   "execution_count": null,
   "id": "second-norfolk",
   "metadata": {},
   "outputs": [],
   "source": [
    "res_update_sync.status_code"
   ]
  },
  {
   "cell_type": "code",
   "execution_count": null,
   "id": "manufactured-special",
   "metadata": {},
   "outputs": [],
   "source": [
    "res_update_sync.url"
   ]
  },
  {
   "cell_type": "code",
   "execution_count": null,
   "id": "caroline-dominant",
   "metadata": {},
   "outputs": [],
   "source": [
    "res_update_sync.json()"
   ]
  },
  {
   "cell_type": "code",
   "execution_count": null,
   "id": "activated-grounds",
   "metadata": {},
   "outputs": [],
   "source": [
    "async with app.asyncio() as async_app:\n",
    "    res_update_async = await async_app.update_data(schema=\"context\", data_id=\"0\", fields=context_data[0])"
   ]
  },
  {
   "cell_type": "code",
   "execution_count": null,
   "id": "vietnamese-bracelet",
   "metadata": {},
   "outputs": [],
   "source": [
    "res_update_async.status"
   ]
  },
  {
   "cell_type": "code",
   "execution_count": null,
   "id": "departmental-aurora",
   "metadata": {},
   "outputs": [],
   "source": [
    "str(res_update_async.url)"
   ]
  },
  {
   "cell_type": "code",
   "execution_count": null,
   "id": "rational-corner",
   "metadata": {},
   "outputs": [],
   "source": [
    "await res_update_async.json()"
   ]
  },
  {
   "cell_type": "markdown",
   "id": "hindu-infection",
   "metadata": {},
   "source": [
    "### Delete"
   ]
  },
  {
   "cell_type": "code",
   "execution_count": null,
   "id": "phantom-barcelona",
   "metadata": {},
   "outputs": [],
   "source": [
    "res_delete_sync = app.delete_data(schema=\"context\", data_id=\"0\")"
   ]
  },
  {
   "cell_type": "code",
   "execution_count": null,
   "id": "romance-actor",
   "metadata": {},
   "outputs": [],
   "source": [
    "res_delete_sync.status_code"
   ]
  },
  {
   "cell_type": "code",
   "execution_count": null,
   "id": "educational-vegetarian",
   "metadata": {},
   "outputs": [],
   "source": [
    "res_delete_sync.url"
   ]
  },
  {
   "cell_type": "code",
   "execution_count": null,
   "id": "introductory-practice",
   "metadata": {},
   "outputs": [],
   "source": [
    "res_delete_sync.json()"
   ]
  },
  {
   "cell_type": "code",
   "execution_count": null,
   "id": "promotional-thread",
   "metadata": {},
   "outputs": [],
   "source": [
    "async with app.asyncio() as async_app:\n",
    "    res_delete_async = await async_app.delete_data(schema=\"context\", data_id=\"0\")"
   ]
  },
  {
   "cell_type": "code",
   "execution_count": null,
   "id": "dedicated-parent",
   "metadata": {},
   "outputs": [],
   "source": [
    "res_delete_async.status"
   ]
  },
  {
   "cell_type": "code",
   "execution_count": null,
   "id": "invalid-motion",
   "metadata": {},
   "outputs": [],
   "source": [
    "str(res_delete_async.url)"
   ]
  },
  {
   "cell_type": "code",
   "execution_count": null,
   "id": "inclusive-difficulty",
   "metadata": {},
   "outputs": [],
   "source": [
    "await res_delete_async.json()"
   ]
  },
  {
   "cell_type": "markdown",
   "id": "interested-prisoner",
   "metadata": {},
   "source": [
    "### Query"
   ]
  },
  {
   "cell_type": "code",
   "execution_count": null,
   "id": "hollywood-lighter",
   "metadata": {},
   "outputs": [],
   "source": [
    "from vespa.query import QueryModel\n",
    "\n",
    "res_query_sync = app.query(query=\"this is a test\", query_model=QueryModel())"
   ]
  },
  {
   "cell_type": "code",
   "execution_count": null,
   "id": "worthy-argentina",
   "metadata": {},
   "outputs": [],
   "source": [
    "res_query_sync.json"
   ]
  },
  {
   "cell_type": "code",
   "execution_count": null,
   "id": "nervous-language",
   "metadata": {},
   "outputs": [],
   "source": [
    "async with app.asyncio() as async_app:\n",
    "    res_query_async = await async_app.query(query=\"this is a test\", query_model=QueryModel())"
   ]
  },
  {
   "cell_type": "code",
   "execution_count": null,
   "id": "behavioral-target",
   "metadata": {},
   "outputs": [],
   "source": [
    "res_query_async.json"
   ]
  }
 ],
 "metadata": {
  "kernelspec": {
   "display_name": "Python 3",
   "language": "python",
   "name": "python3"
  },
  "language_info": {
   "codemirror_mode": {
    "name": "ipython",
    "version": 3
   },
   "file_extension": ".py",
   "mimetype": "text/x-python",
   "name": "python",
   "nbconvert_exporter": "python",
   "pygments_lexer": "ipython3",
   "version": "3.9.1"
  }
 },
 "nbformat": 4,
 "nbformat_minor": 5
}
