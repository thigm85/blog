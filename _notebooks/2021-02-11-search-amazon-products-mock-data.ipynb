{
 "cells": [
  {
   "cell_type": "code",
   "execution_count": null,
   "id": "foreign-enemy",
   "metadata": {},
   "outputs": [],
   "source": [
    "%config Completer.use_jedi = False"
   ]
  },
  {
   "cell_type": "markdown",
   "id": "completed-reflection",
   "metadata": {},
   "source": [
    "## Mock data"
   ]
  },
  {
   "cell_type": "markdown",
   "id": "caroline-eating",
   "metadata": {},
   "source": [
    "Mock data to speed up development. Replace this mock data with the actual parsed dataset."
   ]
  },
  {
   "cell_type": "code",
   "execution_count": 1,
   "id": "dental-implementation",
   "metadata": {},
   "outputs": [],
   "source": [
    "from random import random, seed\n",
    "seed(345)\n",
    "\n",
    "product_data = [\n",
    "    {\"asin\": \"1\", \n",
    "     \"title\": \"watch\", \n",
    "     \"description\": \"to check the time\", \n",
    "     \"price\": 120.35, \n",
    "     \"image_vector\": {\"values\": [random() for x in range(4096)]},\n",
    "     \"reduced_image_vector\": {\"values\": [random() for x in range(256)]},\n",
    "    },\n",
    "    {\"asin\": \"2\", \n",
    "     \"title\": \"chair\", \n",
    "     \"description\": \"object to seat\", \n",
    "     \"price\": 39.90, \n",
    "     \"image_vector\": {\"values\": [random() for x in range(4096)]},\n",
    "     \"reduced_image_vector\": {\"values\": [random() for x in range(256)]},\n",
    "    },\n",
    "    {\"asin\": \"3\", \n",
    "     \"title\": \"table\", \n",
    "     \"description\": \"to eat dinner on\", \n",
    "     \"price\": 52.85, \n",
    "     \"image_vector\": {\"values\": [random() for x in range(4096)]},\n",
    "     \"reduced_image_vector\": {\"values\": [random() for x in range(256)]},\n",
    "    },\n",
    "]"
   ]
  },
  {
   "cell_type": "markdown",
   "id": "accepted-journalism",
   "metadata": {},
   "source": [
    "## Install pyvespa"
   ]
  },
  {
   "cell_type": "markdown",
   "id": "equipped-values",
   "metadata": {},
   "source": [
    "`pip3 install pyvespa`"
   ]
  },
  {
   "cell_type": "markdown",
   "id": "criminal-blink",
   "metadata": {},
   "source": [
    "## Create Vespa Application Package"
   ]
  },
  {
   "cell_type": "markdown",
   "id": "favorite-knowing",
   "metadata": {},
   "source": [
    "Create an ApplicationPackage instance to hold all relevant info about our search application."
   ]
  },
  {
   "cell_type": "code",
   "execution_count": 2,
   "id": "caroline-system",
   "metadata": {},
   "outputs": [],
   "source": [
    "from vespa.package import ApplicationPackage, Field\n",
    "\n",
    "app_package = ApplicationPackage(name = \"product_search\")"
   ]
  },
  {
   "cell_type": "markdown",
   "id": "polar-velvet",
   "metadata": {},
   "source": [
    "Add relevant fields to the application schema. Note that Vespa has native support for tensor."
   ]
  },
  {
   "cell_type": "code",
   "execution_count": 3,
   "id": "hourly-toddler",
   "metadata": {},
   "outputs": [],
   "source": [
    "from vespa.package import Field, HNSW\n",
    "\n",
    "app_package.schema.add_fields(        \n",
    "    Field(name = \"asin\", type = \"string\", indexing = [\"attribute\", \"summary\"]),\n",
    "    Field(name = \"title\", type = \"string\", indexing = [\"index\", \"summary\"], index = \"enable-bm25\"),\n",
    "    Field(name = \"description\", type = \"string\", indexing = [\"index\", \"summary\"], index = \"enable-bm25\"),\n",
    "    Field(name = \"price\", type = \"float\", indexing = [\"attribute\", \"summary\"]),\n",
    "    Field(name = \"image_vector\", type = \"tensor<float>(x[4096])\", indexing = [\"attribute\"]),\n",
    "    Field(name = \"reduced_image_vector\", type = \"tensor<float>(x[256])\", indexing = [\"attribute\"], \n",
    "          ann=HNSW(\n",
    "              distance_metric=\"euclidean\",\n",
    "              max_links_per_node=16,\n",
    "              neighbors_to_explore_at_insert=200,\n",
    "          ))\n",
    ")"
   ]
  },
  {
   "cell_type": "markdown",
   "id": "round-hormone",
   "metadata": {},
   "source": [
    "When performing vector search, we want to send a vector as a query, so we need to let Vespa know what to expect by adding a query type field."
   ]
  },
  {
   "cell_type": "code",
   "execution_count": null,
   "id": "administrative-mathematics",
   "metadata": {},
   "outputs": [],
   "source": [
    "from vespa.package import QueryTypeField\n",
    "\n",
    "app_package.query_profile_type.add_fields(\n",
    "    QueryTypeField(name=\"ranking.features.query(reduced_image_vector)\", type=\"tensor<float>(x[256])\")\n",
    ")"
   ]
  },
  {
   "cell_type": "markdown",
   "id": "going-afghanistan",
   "metadata": {},
   "source": [
    "Enable term-matching search over multiple fields (title and description) by default:"
   ]
  },
  {
   "cell_type": "code",
   "execution_count": null,
   "id": "convertible-nursing",
   "metadata": {},
   "outputs": [],
   "source": [
    "from vespa.package import FieldSet\n",
    "\n",
    "app_package.schema.add_field_set(\n",
    "    FieldSet(name = \"default\", fields = [\"title\", \"description\"])\n",
    ")"
   ]
  },
  {
   "cell_type": "markdown",
   "id": "eight-component",
   "metadata": {},
   "source": [
    "Create a rank profile based on BM25 to rank documents based on term-matching criteria."
   ]
  },
  {
   "cell_type": "code",
   "execution_count": null,
   "id": "annual-breast",
   "metadata": {},
   "outputs": [],
   "source": [
    "from vespa.package import RankProfile\n",
    "\n",
    "app_package.schema.add_rank_profile(\n",
    "    RankProfile(name = \"bm25\", first_phase = \"bm25(title) + bm25(description)\")\n",
    ")"
   ]
  },
  {
   "cell_type": "markdown",
   "id": "specified-poland",
   "metadata": {},
   "source": [
    "Create a rank profile based on the dot-product of the query and document `reduced_image_vector` to rank documents based on vector-based search."
   ]
  },
  {
   "cell_type": "code",
   "execution_count": null,
   "id": "magnetic-undergraduate",
   "metadata": {},
   "outputs": [],
   "source": [
    "app_package.schema.add_rank_profile(\n",
    "    RankProfile(\n",
    "        name = \"dot_product\", \n",
    "        first_phase = \"sum(query(reduced_image_vector)*attribute(reduced_image_vector))\")\n",
    ")"
   ]
  },
  {
   "cell_type": "markdown",
   "id": "rising-webster",
   "metadata": {},
   "source": [
    "## Deploy your application"
   ]
  },
  {
   "cell_type": "code",
   "execution_count": null,
   "id": "ceramic-gregory",
   "metadata": {},
   "outputs": [],
   "source": [
    "from vespa.package import VespaDocker\n",
    "\n",
    "vespa_docker = VespaDocker(port=8080)\n",
    "\n",
    "app = vespa_docker.deploy(\n",
    "    application_package = app_package,\n",
    "    disk_folder=\"/Users/tmartins/product_search\" # include the desired absolute path here\n",
    ")"
   ]
  },
  {
   "cell_type": "code",
   "execution_count": null,
   "id": "fresh-fever",
   "metadata": {},
   "outputs": [],
   "source": [
    "app.deployment_message"
   ]
  },
  {
   "cell_type": "markdown",
   "id": "alike-deadline",
   "metadata": {},
   "source": [
    "## Feed data to your application"
   ]
  },
  {
   "cell_type": "code",
   "execution_count": null,
   "id": "incorporate-wrapping",
   "metadata": {},
   "outputs": [],
   "source": [
    "for data in product_data:\n",
    "    app.feed_data_point(schema = \"product_search\", data_id=data[\"asin\"], fields=data)"
   ]
  },
  {
   "cell_type": "markdown",
   "id": "orange-lender",
   "metadata": {},
   "source": [
    "## Search"
   ]
  },
  {
   "cell_type": "markdown",
   "id": "consistent-official",
   "metadata": {},
   "source": [
    "`pyvespa` introduce the concept of `QueryModel` that allow us to combine different ways to match and rank documents under a unified framework. It enable us to perform term-based, vector-based and hybrid search through a convenient interface."
   ]
  },
  {
   "cell_type": "markdown",
   "id": "genetic-neighbor",
   "metadata": {},
   "source": [
    "### term-based search"
   ]
  },
  {
   "cell_type": "markdown",
   "id": "expanded-chicken",
   "metadata": {},
   "source": [
    "The following query model instructs Vespa to match any document that share at least one term with the query (`OR` operator) and rank the documents according to the `bm25` query profile we defined in our application package."
   ]
  },
  {
   "cell_type": "code",
   "execution_count": null,
   "id": "responsible-cameroon",
   "metadata": {},
   "outputs": [],
   "source": [
    "from vespa.query import QueryModel, OR, RankProfile as Ranking\n",
    "\n",
    "or_model = QueryModel(\n",
    "    match_phase=OR(), \n",
    "    rank_profile=Ranking(name=\"bm25\")\n",
    ")"
   ]
  },
  {
   "cell_type": "markdown",
   "id": "timely-qatar",
   "metadata": {},
   "source": [
    "After the query model is defined, all that is left to do is to search:"
   ]
  },
  {
   "cell_type": "code",
   "execution_count": null,
   "id": "satisfactory-composition",
   "metadata": {},
   "outputs": [],
   "source": [
    "res = app.query(\n",
    "    query=\"men's watch\", \n",
    "    query_model=or_model\n",
    ")\n",
    "res.hits"
   ]
  },
  {
   "cell_type": "markdown",
   "id": "senior-bangladesh",
   "metadata": {},
   "source": [
    "If we are not happy with the `OR` operator we can easily experiment with the more strict `AND` operator, that match only documents that share all the query terms, or the `WeakWand` operator, that provides a provides a trade-off between speed and number of documents matched."
   ]
  },
  {
   "cell_type": "code",
   "execution_count": null,
   "id": "acute-finding",
   "metadata": {},
   "outputs": [],
   "source": [
    "from vespa.query import AND, WeakAnd\n",
    "\n",
    "and_model = QueryModel(\n",
    "    match_phase=AND(), \n",
    "    rank_profile=Ranking(name=\"bm25\")\n",
    ")\n",
    "\n",
    "weak_and_model = QueryModel(\n",
    "    match_phase=WeakAnd(field=\"default\", hits=1000), \n",
    "    rank_profile=Ranking(name=\"bm25\")\n",
    ")"
   ]
  },
  {
   "cell_type": "markdown",
   "id": "optional-vessel",
   "metadata": {},
   "source": [
    "### vector-based search"
   ]
  },
  {
   "cell_type": "markdown",
   "id": "balanced-decline",
   "metadata": {},
   "source": [
    "We can also perform a vector-based search by using approximate nearest neighbor (`ANN` operator) between the query and document vectors that we defined in out application package and then rank by the dot-product of those vectors."
   ]
  },
  {
   "cell_type": "code",
   "execution_count": null,
   "id": "smart-fleet",
   "metadata": {},
   "outputs": [],
   "source": [
    "from vespa.query import ANN, QueryRankingFeature\n",
    "\n",
    "nn_model = QueryModel(\n",
    "    match_phase=ANN(\n",
    "        doc_vector=\"reduced_image_vector\", \n",
    "        query_vector=\"reduced_image_vector\", \n",
    "        hits = 1000,\n",
    "        label = \"nn\"\n",
    "    ),\n",
    "    rank_profile=Ranking(name=\"dot_product\")\n",
    ")"
   ]
  },
  {
   "cell_type": "markdown",
   "id": "pointed-identifier",
   "metadata": {},
   "source": [
    "Instead of sending a `query` string, we send the value of the query vector by specifying the `QueryRankingFeature` as a query property."
   ]
  },
  {
   "cell_type": "code",
   "execution_count": null,
   "id": "exact-wrapping",
   "metadata": {},
   "outputs": [],
   "source": [
    "vector_to_search = product_data[0][\"reduced_image_vector\"][\"values\"]\n",
    "\n",
    "res = app.query(\n",
    "    query_properties=[QueryRankingFeature(name=\"reduced_image_vector\", value=vector_to_search)],\n",
    "    query_model=nn_model,\n",
    ")\n",
    "res.hits"
   ]
  },
  {
   "cell_type": "markdown",
   "id": "sixth-buffalo",
   "metadata": {},
   "source": [
    "### hybrid search"
   ]
  },
  {
   "cell_type": "markdown",
   "id": "flexible-export",
   "metadata": {},
   "source": [
    "Performing a hybrid search is as simple as specifying the `Union` of a term-based operator (e.g. `OR`) and a vector-based operator (e.g. `ANN`)."
   ]
  },
  {
   "cell_type": "code",
   "execution_count": null,
   "id": "muslim-lawsuit",
   "metadata": {},
   "outputs": [],
   "source": [
    "from vespa.query import Union\n",
    "\n",
    "hybrid_model = QueryModel(\n",
    "    match_phase=Union(\n",
    "        OR(),\n",
    "        ANN(\n",
    "            doc_vector=\"reduced_image_vector\", \n",
    "            query_vector=\"reduced_image_vector\", \n",
    "            hits = 1000,\n",
    "            label = \"nn\"\n",
    "        )\n",
    "    ),\n",
    "    rank_profile=Ranking(name=\"dot_product\")\n",
    ")"
   ]
  },
  {
   "cell_type": "code",
   "execution_count": null,
   "id": "numeric-terror",
   "metadata": {},
   "outputs": [],
   "source": [
    "res = app.query(\n",
    "    query=\"men's watch\",\n",
    "    query_properties=[QueryRankingFeature(name=\"reduced_image_vector\", value=vector_to_search)],\n",
    "    query_model=hybrid_model,\n",
    ")\n",
    "res.hits"
   ]
  },
  {
   "cell_type": "code",
   "execution_count": null,
   "id": "brutal-wilson",
   "metadata": {},
   "outputs": [],
   "source": []
  }
 ],
 "metadata": {
  "kernelspec": {
   "display_name": "Python 3",
   "language": "python",
   "name": "python3"
  },
  "language_info": {
   "codemirror_mode": {
    "name": "ipython",
    "version": 3
   },
   "file_extension": ".py",
   "mimetype": "text/x-python",
   "name": "python",
   "nbconvert_exporter": "python",
   "pygments_lexer": "ipython3",
   "version": "3.9.1"
  }
 },
 "nbformat": 4,
 "nbformat_minor": 5
}
